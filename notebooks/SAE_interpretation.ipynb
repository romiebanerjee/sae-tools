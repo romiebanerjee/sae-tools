{
  "nbformat": 4,
  "nbformat_minor": 0,
  "metadata": {
    "colab": {
      "provenance": [],
      "machine_shape": "hm",
      "authorship_tag": "ABX9TyNsXZAwzyXXT8cVZvdZaYwF",
      "include_colab_link": true
    },
    "kernelspec": {
      "name": "python3",
      "display_name": "Python 3"
    },
    "language_info": {
      "name": "python"
    },
    "widgets": {
      "application/vnd.jupyter.widget-state+json": {
        "c2c88e9a6a9c48cf84a84ba01584808f": {
          "model_module": "@jupyter-widgets/controls",
          "model_name": "HBoxModel",
          "model_module_version": "1.5.0",
          "state": {
            "_dom_classes": [],
            "_model_module": "@jupyter-widgets/controls",
            "_model_module_version": "1.5.0",
            "_model_name": "HBoxModel",
            "_view_count": null,
            "_view_module": "@jupyter-widgets/controls",
            "_view_module_version": "1.5.0",
            "_view_name": "HBoxView",
            "box_style": "",
            "children": [
              "IPY_MODEL_3e8536118f3543308029b44d80c64a5b",
              "IPY_MODEL_de98442fbdf7465fa882de8cd19fe92b",
              "IPY_MODEL_7d521fea7e934ee9bce0a94f6dd201ee"
            ],
            "layout": "IPY_MODEL_1be8037922334454b3fda65a75183b49"
          }
        },
        "3e8536118f3543308029b44d80c64a5b": {
          "model_module": "@jupyter-widgets/controls",
          "model_name": "HTMLModel",
          "model_module_version": "1.5.0",
          "state": {
            "_dom_classes": [],
            "_model_module": "@jupyter-widgets/controls",
            "_model_module_version": "1.5.0",
            "_model_name": "HTMLModel",
            "_view_count": null,
            "_view_module": "@jupyter-widgets/controls",
            "_view_module_version": "1.5.0",
            "_view_name": "HTMLView",
            "description": "",
            "description_tooltip": null,
            "layout": "IPY_MODEL_8aa9ef4b0c494955a88b6c2d6bb3e74a",
            "placeholder": "​",
            "style": "IPY_MODEL_b1a038606e5e4c3a95731023d0c3ae90",
            "value": "config.json: 100%"
          }
        },
        "de98442fbdf7465fa882de8cd19fe92b": {
          "model_module": "@jupyter-widgets/controls",
          "model_name": "FloatProgressModel",
          "model_module_version": "1.5.0",
          "state": {
            "_dom_classes": [],
            "_model_module": "@jupyter-widgets/controls",
            "_model_module_version": "1.5.0",
            "_model_name": "FloatProgressModel",
            "_view_count": null,
            "_view_module": "@jupyter-widgets/controls",
            "_view_module_version": "1.5.0",
            "_view_name": "ProgressView",
            "bar_style": "success",
            "description": "",
            "description_tooltip": null,
            "layout": "IPY_MODEL_b2b9636142e448ddac4fb6de46215c5d",
            "max": 665,
            "min": 0,
            "orientation": "horizontal",
            "style": "IPY_MODEL_e498e1d2860c4c54a42085f0fb8fc7f3",
            "value": 665
          }
        },
        "7d521fea7e934ee9bce0a94f6dd201ee": {
          "model_module": "@jupyter-widgets/controls",
          "model_name": "HTMLModel",
          "model_module_version": "1.5.0",
          "state": {
            "_dom_classes": [],
            "_model_module": "@jupyter-widgets/controls",
            "_model_module_version": "1.5.0",
            "_model_name": "HTMLModel",
            "_view_count": null,
            "_view_module": "@jupyter-widgets/controls",
            "_view_module_version": "1.5.0",
            "_view_name": "HTMLView",
            "description": "",
            "description_tooltip": null,
            "layout": "IPY_MODEL_166e4c2251fd4d3d90cab04788738b04",
            "placeholder": "​",
            "style": "IPY_MODEL_6bdcd145976c47c7b87b2dad2df065e4",
            "value": " 665/665 [00:00&lt;00:00, 54.1kB/s]"
          }
        },
        "1be8037922334454b3fda65a75183b49": {
          "model_module": "@jupyter-widgets/base",
          "model_name": "LayoutModel",
          "model_module_version": "1.2.0",
          "state": {
            "_model_module": "@jupyter-widgets/base",
            "_model_module_version": "1.2.0",
            "_model_name": "LayoutModel",
            "_view_count": null,
            "_view_module": "@jupyter-widgets/base",
            "_view_module_version": "1.2.0",
            "_view_name": "LayoutView",
            "align_content": null,
            "align_items": null,
            "align_self": null,
            "border": null,
            "bottom": null,
            "display": null,
            "flex": null,
            "flex_flow": null,
            "grid_area": null,
            "grid_auto_columns": null,
            "grid_auto_flow": null,
            "grid_auto_rows": null,
            "grid_column": null,
            "grid_gap": null,
            "grid_row": null,
            "grid_template_areas": null,
            "grid_template_columns": null,
            "grid_template_rows": null,
            "height": null,
            "justify_content": null,
            "justify_items": null,
            "left": null,
            "margin": null,
            "max_height": null,
            "max_width": null,
            "min_height": null,
            "min_width": null,
            "object_fit": null,
            "object_position": null,
            "order": null,
            "overflow": null,
            "overflow_x": null,
            "overflow_y": null,
            "padding": null,
            "right": null,
            "top": null,
            "visibility": null,
            "width": null
          }
        },
        "8aa9ef4b0c494955a88b6c2d6bb3e74a": {
          "model_module": "@jupyter-widgets/base",
          "model_name": "LayoutModel",
          "model_module_version": "1.2.0",
          "state": {
            "_model_module": "@jupyter-widgets/base",
            "_model_module_version": "1.2.0",
            "_model_name": "LayoutModel",
            "_view_count": null,
            "_view_module": "@jupyter-widgets/base",
            "_view_module_version": "1.2.0",
            "_view_name": "LayoutView",
            "align_content": null,
            "align_items": null,
            "align_self": null,
            "border": null,
            "bottom": null,
            "display": null,
            "flex": null,
            "flex_flow": null,
            "grid_area": null,
            "grid_auto_columns": null,
            "grid_auto_flow": null,
            "grid_auto_rows": null,
            "grid_column": null,
            "grid_gap": null,
            "grid_row": null,
            "grid_template_areas": null,
            "grid_template_columns": null,
            "grid_template_rows": null,
            "height": null,
            "justify_content": null,
            "justify_items": null,
            "left": null,
            "margin": null,
            "max_height": null,
            "max_width": null,
            "min_height": null,
            "min_width": null,
            "object_fit": null,
            "object_position": null,
            "order": null,
            "overflow": null,
            "overflow_x": null,
            "overflow_y": null,
            "padding": null,
            "right": null,
            "top": null,
            "visibility": null,
            "width": null
          }
        },
        "b1a038606e5e4c3a95731023d0c3ae90": {
          "model_module": "@jupyter-widgets/controls",
          "model_name": "DescriptionStyleModel",
          "model_module_version": "1.5.0",
          "state": {
            "_model_module": "@jupyter-widgets/controls",
            "_model_module_version": "1.5.0",
            "_model_name": "DescriptionStyleModel",
            "_view_count": null,
            "_view_module": "@jupyter-widgets/base",
            "_view_module_version": "1.2.0",
            "_view_name": "StyleView",
            "description_width": ""
          }
        },
        "b2b9636142e448ddac4fb6de46215c5d": {
          "model_module": "@jupyter-widgets/base",
          "model_name": "LayoutModel",
          "model_module_version": "1.2.0",
          "state": {
            "_model_module": "@jupyter-widgets/base",
            "_model_module_version": "1.2.0",
            "_model_name": "LayoutModel",
            "_view_count": null,
            "_view_module": "@jupyter-widgets/base",
            "_view_module_version": "1.2.0",
            "_view_name": "LayoutView",
            "align_content": null,
            "align_items": null,
            "align_self": null,
            "border": null,
            "bottom": null,
            "display": null,
            "flex": null,
            "flex_flow": null,
            "grid_area": null,
            "grid_auto_columns": null,
            "grid_auto_flow": null,
            "grid_auto_rows": null,
            "grid_column": null,
            "grid_gap": null,
            "grid_row": null,
            "grid_template_areas": null,
            "grid_template_columns": null,
            "grid_template_rows": null,
            "height": null,
            "justify_content": null,
            "justify_items": null,
            "left": null,
            "margin": null,
            "max_height": null,
            "max_width": null,
            "min_height": null,
            "min_width": null,
            "object_fit": null,
            "object_position": null,
            "order": null,
            "overflow": null,
            "overflow_x": null,
            "overflow_y": null,
            "padding": null,
            "right": null,
            "top": null,
            "visibility": null,
            "width": null
          }
        },
        "e498e1d2860c4c54a42085f0fb8fc7f3": {
          "model_module": "@jupyter-widgets/controls",
          "model_name": "ProgressStyleModel",
          "model_module_version": "1.5.0",
          "state": {
            "_model_module": "@jupyter-widgets/controls",
            "_model_module_version": "1.5.0",
            "_model_name": "ProgressStyleModel",
            "_view_count": null,
            "_view_module": "@jupyter-widgets/base",
            "_view_module_version": "1.2.0",
            "_view_name": "StyleView",
            "bar_color": null,
            "description_width": ""
          }
        },
        "166e4c2251fd4d3d90cab04788738b04": {
          "model_module": "@jupyter-widgets/base",
          "model_name": "LayoutModel",
          "model_module_version": "1.2.0",
          "state": {
            "_model_module": "@jupyter-widgets/base",
            "_model_module_version": "1.2.0",
            "_model_name": "LayoutModel",
            "_view_count": null,
            "_view_module": "@jupyter-widgets/base",
            "_view_module_version": "1.2.0",
            "_view_name": "LayoutView",
            "align_content": null,
            "align_items": null,
            "align_self": null,
            "border": null,
            "bottom": null,
            "display": null,
            "flex": null,
            "flex_flow": null,
            "grid_area": null,
            "grid_auto_columns": null,
            "grid_auto_flow": null,
            "grid_auto_rows": null,
            "grid_column": null,
            "grid_gap": null,
            "grid_row": null,
            "grid_template_areas": null,
            "grid_template_columns": null,
            "grid_template_rows": null,
            "height": null,
            "justify_content": null,
            "justify_items": null,
            "left": null,
            "margin": null,
            "max_height": null,
            "max_width": null,
            "min_height": null,
            "min_width": null,
            "object_fit": null,
            "object_position": null,
            "order": null,
            "overflow": null,
            "overflow_x": null,
            "overflow_y": null,
            "padding": null,
            "right": null,
            "top": null,
            "visibility": null,
            "width": null
          }
        },
        "6bdcd145976c47c7b87b2dad2df065e4": {
          "model_module": "@jupyter-widgets/controls",
          "model_name": "DescriptionStyleModel",
          "model_module_version": "1.5.0",
          "state": {
            "_model_module": "@jupyter-widgets/controls",
            "_model_module_version": "1.5.0",
            "_model_name": "DescriptionStyleModel",
            "_view_count": null,
            "_view_module": "@jupyter-widgets/base",
            "_view_module_version": "1.2.0",
            "_view_name": "StyleView",
            "description_width": ""
          }
        },
        "51fdff2e5865440dbf2596434c6b1ddf": {
          "model_module": "@jupyter-widgets/controls",
          "model_name": "HBoxModel",
          "model_module_version": "1.5.0",
          "state": {
            "_dom_classes": [],
            "_model_module": "@jupyter-widgets/controls",
            "_model_module_version": "1.5.0",
            "_model_name": "HBoxModel",
            "_view_count": null,
            "_view_module": "@jupyter-widgets/controls",
            "_view_module_version": "1.5.0",
            "_view_name": "HBoxView",
            "box_style": "",
            "children": [
              "IPY_MODEL_482686b07c89433e9d48a270c6183e67",
              "IPY_MODEL_d8d7da90a3ee41c6b4a2aa6dd97376b4",
              "IPY_MODEL_123a29f05ee84f08a104b9d394ffbdfc"
            ],
            "layout": "IPY_MODEL_ba931854f5af43fabfb35aea6e407d4b"
          }
        },
        "482686b07c89433e9d48a270c6183e67": {
          "model_module": "@jupyter-widgets/controls",
          "model_name": "HTMLModel",
          "model_module_version": "1.5.0",
          "state": {
            "_dom_classes": [],
            "_model_module": "@jupyter-widgets/controls",
            "_model_module_version": "1.5.0",
            "_model_name": "HTMLModel",
            "_view_count": null,
            "_view_module": "@jupyter-widgets/controls",
            "_view_module_version": "1.5.0",
            "_view_name": "HTMLView",
            "description": "",
            "description_tooltip": null,
            "layout": "IPY_MODEL_5f12182e578c4bbe81bb61502f2c1536",
            "placeholder": "​",
            "style": "IPY_MODEL_d5eae66af9014aed8410c172daf155b3",
            "value": "model.safetensors: 100%"
          }
        },
        "d8d7da90a3ee41c6b4a2aa6dd97376b4": {
          "model_module": "@jupyter-widgets/controls",
          "model_name": "FloatProgressModel",
          "model_module_version": "1.5.0",
          "state": {
            "_dom_classes": [],
            "_model_module": "@jupyter-widgets/controls",
            "_model_module_version": "1.5.0",
            "_model_name": "FloatProgressModel",
            "_view_count": null,
            "_view_module": "@jupyter-widgets/controls",
            "_view_module_version": "1.5.0",
            "_view_name": "ProgressView",
            "bar_style": "success",
            "description": "",
            "description_tooltip": null,
            "layout": "IPY_MODEL_e5ea393c7e8c44d88183e7461521c91b",
            "max": 548105171,
            "min": 0,
            "orientation": "horizontal",
            "style": "IPY_MODEL_b140df1d96f143ea96345cafabe94a55",
            "value": 548105171
          }
        },
        "123a29f05ee84f08a104b9d394ffbdfc": {
          "model_module": "@jupyter-widgets/controls",
          "model_name": "HTMLModel",
          "model_module_version": "1.5.0",
          "state": {
            "_dom_classes": [],
            "_model_module": "@jupyter-widgets/controls",
            "_model_module_version": "1.5.0",
            "_model_name": "HTMLModel",
            "_view_count": null,
            "_view_module": "@jupyter-widgets/controls",
            "_view_module_version": "1.5.0",
            "_view_name": "HTMLView",
            "description": "",
            "description_tooltip": null,
            "layout": "IPY_MODEL_d58c32fcd1874eefb5c3329777874540",
            "placeholder": "​",
            "style": "IPY_MODEL_338dc874cd0a402599c548fc706533d2",
            "value": " 548M/548M [00:02&lt;00:00, 429MB/s]"
          }
        },
        "ba931854f5af43fabfb35aea6e407d4b": {
          "model_module": "@jupyter-widgets/base",
          "model_name": "LayoutModel",
          "model_module_version": "1.2.0",
          "state": {
            "_model_module": "@jupyter-widgets/base",
            "_model_module_version": "1.2.0",
            "_model_name": "LayoutModel",
            "_view_count": null,
            "_view_module": "@jupyter-widgets/base",
            "_view_module_version": "1.2.0",
            "_view_name": "LayoutView",
            "align_content": null,
            "align_items": null,
            "align_self": null,
            "border": null,
            "bottom": null,
            "display": null,
            "flex": null,
            "flex_flow": null,
            "grid_area": null,
            "grid_auto_columns": null,
            "grid_auto_flow": null,
            "grid_auto_rows": null,
            "grid_column": null,
            "grid_gap": null,
            "grid_row": null,
            "grid_template_areas": null,
            "grid_template_columns": null,
            "grid_template_rows": null,
            "height": null,
            "justify_content": null,
            "justify_items": null,
            "left": null,
            "margin": null,
            "max_height": null,
            "max_width": null,
            "min_height": null,
            "min_width": null,
            "object_fit": null,
            "object_position": null,
            "order": null,
            "overflow": null,
            "overflow_x": null,
            "overflow_y": null,
            "padding": null,
            "right": null,
            "top": null,
            "visibility": null,
            "width": null
          }
        },
        "5f12182e578c4bbe81bb61502f2c1536": {
          "model_module": "@jupyter-widgets/base",
          "model_name": "LayoutModel",
          "model_module_version": "1.2.0",
          "state": {
            "_model_module": "@jupyter-widgets/base",
            "_model_module_version": "1.2.0",
            "_model_name": "LayoutModel",
            "_view_count": null,
            "_view_module": "@jupyter-widgets/base",
            "_view_module_version": "1.2.0",
            "_view_name": "LayoutView",
            "align_content": null,
            "align_items": null,
            "align_self": null,
            "border": null,
            "bottom": null,
            "display": null,
            "flex": null,
            "flex_flow": null,
            "grid_area": null,
            "grid_auto_columns": null,
            "grid_auto_flow": null,
            "grid_auto_rows": null,
            "grid_column": null,
            "grid_gap": null,
            "grid_row": null,
            "grid_template_areas": null,
            "grid_template_columns": null,
            "grid_template_rows": null,
            "height": null,
            "justify_content": null,
            "justify_items": null,
            "left": null,
            "margin": null,
            "max_height": null,
            "max_width": null,
            "min_height": null,
            "min_width": null,
            "object_fit": null,
            "object_position": null,
            "order": null,
            "overflow": null,
            "overflow_x": null,
            "overflow_y": null,
            "padding": null,
            "right": null,
            "top": null,
            "visibility": null,
            "width": null
          }
        },
        "d5eae66af9014aed8410c172daf155b3": {
          "model_module": "@jupyter-widgets/controls",
          "model_name": "DescriptionStyleModel",
          "model_module_version": "1.5.0",
          "state": {
            "_model_module": "@jupyter-widgets/controls",
            "_model_module_version": "1.5.0",
            "_model_name": "DescriptionStyleModel",
            "_view_count": null,
            "_view_module": "@jupyter-widgets/base",
            "_view_module_version": "1.2.0",
            "_view_name": "StyleView",
            "description_width": ""
          }
        },
        "e5ea393c7e8c44d88183e7461521c91b": {
          "model_module": "@jupyter-widgets/base",
          "model_name": "LayoutModel",
          "model_module_version": "1.2.0",
          "state": {
            "_model_module": "@jupyter-widgets/base",
            "_model_module_version": "1.2.0",
            "_model_name": "LayoutModel",
            "_view_count": null,
            "_view_module": "@jupyter-widgets/base",
            "_view_module_version": "1.2.0",
            "_view_name": "LayoutView",
            "align_content": null,
            "align_items": null,
            "align_self": null,
            "border": null,
            "bottom": null,
            "display": null,
            "flex": null,
            "flex_flow": null,
            "grid_area": null,
            "grid_auto_columns": null,
            "grid_auto_flow": null,
            "grid_auto_rows": null,
            "grid_column": null,
            "grid_gap": null,
            "grid_row": null,
            "grid_template_areas": null,
            "grid_template_columns": null,
            "grid_template_rows": null,
            "height": null,
            "justify_content": null,
            "justify_items": null,
            "left": null,
            "margin": null,
            "max_height": null,
            "max_width": null,
            "min_height": null,
            "min_width": null,
            "object_fit": null,
            "object_position": null,
            "order": null,
            "overflow": null,
            "overflow_x": null,
            "overflow_y": null,
            "padding": null,
            "right": null,
            "top": null,
            "visibility": null,
            "width": null
          }
        },
        "b140df1d96f143ea96345cafabe94a55": {
          "model_module": "@jupyter-widgets/controls",
          "model_name": "ProgressStyleModel",
          "model_module_version": "1.5.0",
          "state": {
            "_model_module": "@jupyter-widgets/controls",
            "_model_module_version": "1.5.0",
            "_model_name": "ProgressStyleModel",
            "_view_count": null,
            "_view_module": "@jupyter-widgets/base",
            "_view_module_version": "1.2.0",
            "_view_name": "StyleView",
            "bar_color": null,
            "description_width": ""
          }
        },
        "d58c32fcd1874eefb5c3329777874540": {
          "model_module": "@jupyter-widgets/base",
          "model_name": "LayoutModel",
          "model_module_version": "1.2.0",
          "state": {
            "_model_module": "@jupyter-widgets/base",
            "_model_module_version": "1.2.0",
            "_model_name": "LayoutModel",
            "_view_count": null,
            "_view_module": "@jupyter-widgets/base",
            "_view_module_version": "1.2.0",
            "_view_name": "LayoutView",
            "align_content": null,
            "align_items": null,
            "align_self": null,
            "border": null,
            "bottom": null,
            "display": null,
            "flex": null,
            "flex_flow": null,
            "grid_area": null,
            "grid_auto_columns": null,
            "grid_auto_flow": null,
            "grid_auto_rows": null,
            "grid_column": null,
            "grid_gap": null,
            "grid_row": null,
            "grid_template_areas": null,
            "grid_template_columns": null,
            "grid_template_rows": null,
            "height": null,
            "justify_content": null,
            "justify_items": null,
            "left": null,
            "margin": null,
            "max_height": null,
            "max_width": null,
            "min_height": null,
            "min_width": null,
            "object_fit": null,
            "object_position": null,
            "order": null,
            "overflow": null,
            "overflow_x": null,
            "overflow_y": null,
            "padding": null,
            "right": null,
            "top": null,
            "visibility": null,
            "width": null
          }
        },
        "338dc874cd0a402599c548fc706533d2": {
          "model_module": "@jupyter-widgets/controls",
          "model_name": "DescriptionStyleModel",
          "model_module_version": "1.5.0",
          "state": {
            "_model_module": "@jupyter-widgets/controls",
            "_model_module_version": "1.5.0",
            "_model_name": "DescriptionStyleModel",
            "_view_count": null,
            "_view_module": "@jupyter-widgets/base",
            "_view_module_version": "1.2.0",
            "_view_name": "StyleView",
            "description_width": ""
          }
        },
        "5ba3b88fdf5642d7ac3d51f82e440d99": {
          "model_module": "@jupyter-widgets/controls",
          "model_name": "HBoxModel",
          "model_module_version": "1.5.0",
          "state": {
            "_dom_classes": [],
            "_model_module": "@jupyter-widgets/controls",
            "_model_module_version": "1.5.0",
            "_model_name": "HBoxModel",
            "_view_count": null,
            "_view_module": "@jupyter-widgets/controls",
            "_view_module_version": "1.5.0",
            "_view_name": "HBoxView",
            "box_style": "",
            "children": [
              "IPY_MODEL_0b361e09159346bd9c78e0a77ef8b2f2",
              "IPY_MODEL_958340b5762947408cea05561d9660ec",
              "IPY_MODEL_f7b00204efba49f2b352a07925b6d900"
            ],
            "layout": "IPY_MODEL_72dc6423ac3941f1b9c81adae7041791"
          }
        },
        "0b361e09159346bd9c78e0a77ef8b2f2": {
          "model_module": "@jupyter-widgets/controls",
          "model_name": "HTMLModel",
          "model_module_version": "1.5.0",
          "state": {
            "_dom_classes": [],
            "_model_module": "@jupyter-widgets/controls",
            "_model_module_version": "1.5.0",
            "_model_name": "HTMLModel",
            "_view_count": null,
            "_view_module": "@jupyter-widgets/controls",
            "_view_module_version": "1.5.0",
            "_view_name": "HTMLView",
            "description": "",
            "description_tooltip": null,
            "layout": "IPY_MODEL_114158eb4c354e71865dabd8d7b0e466",
            "placeholder": "​",
            "style": "IPY_MODEL_0fe61715545d46d5b316b3790364a8b4",
            "value": "generation_config.json: 100%"
          }
        },
        "958340b5762947408cea05561d9660ec": {
          "model_module": "@jupyter-widgets/controls",
          "model_name": "FloatProgressModel",
          "model_module_version": "1.5.0",
          "state": {
            "_dom_classes": [],
            "_model_module": "@jupyter-widgets/controls",
            "_model_module_version": "1.5.0",
            "_model_name": "FloatProgressModel",
            "_view_count": null,
            "_view_module": "@jupyter-widgets/controls",
            "_view_module_version": "1.5.0",
            "_view_name": "ProgressView",
            "bar_style": "success",
            "description": "",
            "description_tooltip": null,
            "layout": "IPY_MODEL_332f35e352794d848ef479e2a17bab08",
            "max": 124,
            "min": 0,
            "orientation": "horizontal",
            "style": "IPY_MODEL_bfc801cdbb244948ada1bb26477fd135",
            "value": 124
          }
        },
        "f7b00204efba49f2b352a07925b6d900": {
          "model_module": "@jupyter-widgets/controls",
          "model_name": "HTMLModel",
          "model_module_version": "1.5.0",
          "state": {
            "_dom_classes": [],
            "_model_module": "@jupyter-widgets/controls",
            "_model_module_version": "1.5.0",
            "_model_name": "HTMLModel",
            "_view_count": null,
            "_view_module": "@jupyter-widgets/controls",
            "_view_module_version": "1.5.0",
            "_view_name": "HTMLView",
            "description": "",
            "description_tooltip": null,
            "layout": "IPY_MODEL_c09553bfa2bd4a8e97bc72e8e36bc8a8",
            "placeholder": "​",
            "style": "IPY_MODEL_ae8452c3d45b4d5bb24e6ce98f8cd98c",
            "value": " 124/124 [00:00&lt;00:00, 9.76kB/s]"
          }
        },
        "72dc6423ac3941f1b9c81adae7041791": {
          "model_module": "@jupyter-widgets/base",
          "model_name": "LayoutModel",
          "model_module_version": "1.2.0",
          "state": {
            "_model_module": "@jupyter-widgets/base",
            "_model_module_version": "1.2.0",
            "_model_name": "LayoutModel",
            "_view_count": null,
            "_view_module": "@jupyter-widgets/base",
            "_view_module_version": "1.2.0",
            "_view_name": "LayoutView",
            "align_content": null,
            "align_items": null,
            "align_self": null,
            "border": null,
            "bottom": null,
            "display": null,
            "flex": null,
            "flex_flow": null,
            "grid_area": null,
            "grid_auto_columns": null,
            "grid_auto_flow": null,
            "grid_auto_rows": null,
            "grid_column": null,
            "grid_gap": null,
            "grid_row": null,
            "grid_template_areas": null,
            "grid_template_columns": null,
            "grid_template_rows": null,
            "height": null,
            "justify_content": null,
            "justify_items": null,
            "left": null,
            "margin": null,
            "max_height": null,
            "max_width": null,
            "min_height": null,
            "min_width": null,
            "object_fit": null,
            "object_position": null,
            "order": null,
            "overflow": null,
            "overflow_x": null,
            "overflow_y": null,
            "padding": null,
            "right": null,
            "top": null,
            "visibility": null,
            "width": null
          }
        },
        "114158eb4c354e71865dabd8d7b0e466": {
          "model_module": "@jupyter-widgets/base",
          "model_name": "LayoutModel",
          "model_module_version": "1.2.0",
          "state": {
            "_model_module": "@jupyter-widgets/base",
            "_model_module_version": "1.2.0",
            "_model_name": "LayoutModel",
            "_view_count": null,
            "_view_module": "@jupyter-widgets/base",
            "_view_module_version": "1.2.0",
            "_view_name": "LayoutView",
            "align_content": null,
            "align_items": null,
            "align_self": null,
            "border": null,
            "bottom": null,
            "display": null,
            "flex": null,
            "flex_flow": null,
            "grid_area": null,
            "grid_auto_columns": null,
            "grid_auto_flow": null,
            "grid_auto_rows": null,
            "grid_column": null,
            "grid_gap": null,
            "grid_row": null,
            "grid_template_areas": null,
            "grid_template_columns": null,
            "grid_template_rows": null,
            "height": null,
            "justify_content": null,
            "justify_items": null,
            "left": null,
            "margin": null,
            "max_height": null,
            "max_width": null,
            "min_height": null,
            "min_width": null,
            "object_fit": null,
            "object_position": null,
            "order": null,
            "overflow": null,
            "overflow_x": null,
            "overflow_y": null,
            "padding": null,
            "right": null,
            "top": null,
            "visibility": null,
            "width": null
          }
        },
        "0fe61715545d46d5b316b3790364a8b4": {
          "model_module": "@jupyter-widgets/controls",
          "model_name": "DescriptionStyleModel",
          "model_module_version": "1.5.0",
          "state": {
            "_model_module": "@jupyter-widgets/controls",
            "_model_module_version": "1.5.0",
            "_model_name": "DescriptionStyleModel",
            "_view_count": null,
            "_view_module": "@jupyter-widgets/base",
            "_view_module_version": "1.2.0",
            "_view_name": "StyleView",
            "description_width": ""
          }
        },
        "332f35e352794d848ef479e2a17bab08": {
          "model_module": "@jupyter-widgets/base",
          "model_name": "LayoutModel",
          "model_module_version": "1.2.0",
          "state": {
            "_model_module": "@jupyter-widgets/base",
            "_model_module_version": "1.2.0",
            "_model_name": "LayoutModel",
            "_view_count": null,
            "_view_module": "@jupyter-widgets/base",
            "_view_module_version": "1.2.0",
            "_view_name": "LayoutView",
            "align_content": null,
            "align_items": null,
            "align_self": null,
            "border": null,
            "bottom": null,
            "display": null,
            "flex": null,
            "flex_flow": null,
            "grid_area": null,
            "grid_auto_columns": null,
            "grid_auto_flow": null,
            "grid_auto_rows": null,
            "grid_column": null,
            "grid_gap": null,
            "grid_row": null,
            "grid_template_areas": null,
            "grid_template_columns": null,
            "grid_template_rows": null,
            "height": null,
            "justify_content": null,
            "justify_items": null,
            "left": null,
            "margin": null,
            "max_height": null,
            "max_width": null,
            "min_height": null,
            "min_width": null,
            "object_fit": null,
            "object_position": null,
            "order": null,
            "overflow": null,
            "overflow_x": null,
            "overflow_y": null,
            "padding": null,
            "right": null,
            "top": null,
            "visibility": null,
            "width": null
          }
        },
        "bfc801cdbb244948ada1bb26477fd135": {
          "model_module": "@jupyter-widgets/controls",
          "model_name": "ProgressStyleModel",
          "model_module_version": "1.5.0",
          "state": {
            "_model_module": "@jupyter-widgets/controls",
            "_model_module_version": "1.5.0",
            "_model_name": "ProgressStyleModel",
            "_view_count": null,
            "_view_module": "@jupyter-widgets/base",
            "_view_module_version": "1.2.0",
            "_view_name": "StyleView",
            "bar_color": null,
            "description_width": ""
          }
        },
        "c09553bfa2bd4a8e97bc72e8e36bc8a8": {
          "model_module": "@jupyter-widgets/base",
          "model_name": "LayoutModel",
          "model_module_version": "1.2.0",
          "state": {
            "_model_module": "@jupyter-widgets/base",
            "_model_module_version": "1.2.0",
            "_model_name": "LayoutModel",
            "_view_count": null,
            "_view_module": "@jupyter-widgets/base",
            "_view_module_version": "1.2.0",
            "_view_name": "LayoutView",
            "align_content": null,
            "align_items": null,
            "align_self": null,
            "border": null,
            "bottom": null,
            "display": null,
            "flex": null,
            "flex_flow": null,
            "grid_area": null,
            "grid_auto_columns": null,
            "grid_auto_flow": null,
            "grid_auto_rows": null,
            "grid_column": null,
            "grid_gap": null,
            "grid_row": null,
            "grid_template_areas": null,
            "grid_template_columns": null,
            "grid_template_rows": null,
            "height": null,
            "justify_content": null,
            "justify_items": null,
            "left": null,
            "margin": null,
            "max_height": null,
            "max_width": null,
            "min_height": null,
            "min_width": null,
            "object_fit": null,
            "object_position": null,
            "order": null,
            "overflow": null,
            "overflow_x": null,
            "overflow_y": null,
            "padding": null,
            "right": null,
            "top": null,
            "visibility": null,
            "width": null
          }
        },
        "ae8452c3d45b4d5bb24e6ce98f8cd98c": {
          "model_module": "@jupyter-widgets/controls",
          "model_name": "DescriptionStyleModel",
          "model_module_version": "1.5.0",
          "state": {
            "_model_module": "@jupyter-widgets/controls",
            "_model_module_version": "1.5.0",
            "_model_name": "DescriptionStyleModel",
            "_view_count": null,
            "_view_module": "@jupyter-widgets/base",
            "_view_module_version": "1.2.0",
            "_view_name": "StyleView",
            "description_width": ""
          }
        },
        "c160ad10cfe94a3cb1666363492bddf2": {
          "model_module": "@jupyter-widgets/controls",
          "model_name": "HBoxModel",
          "model_module_version": "1.5.0",
          "state": {
            "_dom_classes": [],
            "_model_module": "@jupyter-widgets/controls",
            "_model_module_version": "1.5.0",
            "_model_name": "HBoxModel",
            "_view_count": null,
            "_view_module": "@jupyter-widgets/controls",
            "_view_module_version": "1.5.0",
            "_view_name": "HBoxView",
            "box_style": "",
            "children": [
              "IPY_MODEL_b75d530a466946bdb70570c56be77ec0",
              "IPY_MODEL_2aa4ead83f1a453596d195b26bf99007",
              "IPY_MODEL_e7d906f0c4a34054b679486be99b0ddf"
            ],
            "layout": "IPY_MODEL_657c5665376349ca8d1be8530b40e5e9"
          }
        },
        "b75d530a466946bdb70570c56be77ec0": {
          "model_module": "@jupyter-widgets/controls",
          "model_name": "HTMLModel",
          "model_module_version": "1.5.0",
          "state": {
            "_dom_classes": [],
            "_model_module": "@jupyter-widgets/controls",
            "_model_module_version": "1.5.0",
            "_model_name": "HTMLModel",
            "_view_count": null,
            "_view_module": "@jupyter-widgets/controls",
            "_view_module_version": "1.5.0",
            "_view_name": "HTMLView",
            "description": "",
            "description_tooltip": null,
            "layout": "IPY_MODEL_63dff5a2ee854d6aac359e5e284ebdb3",
            "placeholder": "​",
            "style": "IPY_MODEL_4244404943f84d199f6884bb5f8c69c5",
            "value": "tokenizer_config.json: 100%"
          }
        },
        "2aa4ead83f1a453596d195b26bf99007": {
          "model_module": "@jupyter-widgets/controls",
          "model_name": "FloatProgressModel",
          "model_module_version": "1.5.0",
          "state": {
            "_dom_classes": [],
            "_model_module": "@jupyter-widgets/controls",
            "_model_module_version": "1.5.0",
            "_model_name": "FloatProgressModel",
            "_view_count": null,
            "_view_module": "@jupyter-widgets/controls",
            "_view_module_version": "1.5.0",
            "_view_name": "ProgressView",
            "bar_style": "success",
            "description": "",
            "description_tooltip": null,
            "layout": "IPY_MODEL_fb0767931ee34970a5556eea6fa2f74e",
            "max": 26,
            "min": 0,
            "orientation": "horizontal",
            "style": "IPY_MODEL_cadb92aa2c0049a383a4ea238b4a3ab4",
            "value": 26
          }
        },
        "e7d906f0c4a34054b679486be99b0ddf": {
          "model_module": "@jupyter-widgets/controls",
          "model_name": "HTMLModel",
          "model_module_version": "1.5.0",
          "state": {
            "_dom_classes": [],
            "_model_module": "@jupyter-widgets/controls",
            "_model_module_version": "1.5.0",
            "_model_name": "HTMLModel",
            "_view_count": null,
            "_view_module": "@jupyter-widgets/controls",
            "_view_module_version": "1.5.0",
            "_view_name": "HTMLView",
            "description": "",
            "description_tooltip": null,
            "layout": "IPY_MODEL_10c1eb8cdfc44671868b8051970025b7",
            "placeholder": "​",
            "style": "IPY_MODEL_3d4af2c551b7403394de1382c3416f08",
            "value": " 26.0/26.0 [00:00&lt;00:00, 2.11kB/s]"
          }
        },
        "657c5665376349ca8d1be8530b40e5e9": {
          "model_module": "@jupyter-widgets/base",
          "model_name": "LayoutModel",
          "model_module_version": "1.2.0",
          "state": {
            "_model_module": "@jupyter-widgets/base",
            "_model_module_version": "1.2.0",
            "_model_name": "LayoutModel",
            "_view_count": null,
            "_view_module": "@jupyter-widgets/base",
            "_view_module_version": "1.2.0",
            "_view_name": "LayoutView",
            "align_content": null,
            "align_items": null,
            "align_self": null,
            "border": null,
            "bottom": null,
            "display": null,
            "flex": null,
            "flex_flow": null,
            "grid_area": null,
            "grid_auto_columns": null,
            "grid_auto_flow": null,
            "grid_auto_rows": null,
            "grid_column": null,
            "grid_gap": null,
            "grid_row": null,
            "grid_template_areas": null,
            "grid_template_columns": null,
            "grid_template_rows": null,
            "height": null,
            "justify_content": null,
            "justify_items": null,
            "left": null,
            "margin": null,
            "max_height": null,
            "max_width": null,
            "min_height": null,
            "min_width": null,
            "object_fit": null,
            "object_position": null,
            "order": null,
            "overflow": null,
            "overflow_x": null,
            "overflow_y": null,
            "padding": null,
            "right": null,
            "top": null,
            "visibility": null,
            "width": null
          }
        },
        "63dff5a2ee854d6aac359e5e284ebdb3": {
          "model_module": "@jupyter-widgets/base",
          "model_name": "LayoutModel",
          "model_module_version": "1.2.0",
          "state": {
            "_model_module": "@jupyter-widgets/base",
            "_model_module_version": "1.2.0",
            "_model_name": "LayoutModel",
            "_view_count": null,
            "_view_module": "@jupyter-widgets/base",
            "_view_module_version": "1.2.0",
            "_view_name": "LayoutView",
            "align_content": null,
            "align_items": null,
            "align_self": null,
            "border": null,
            "bottom": null,
            "display": null,
            "flex": null,
            "flex_flow": null,
            "grid_area": null,
            "grid_auto_columns": null,
            "grid_auto_flow": null,
            "grid_auto_rows": null,
            "grid_column": null,
            "grid_gap": null,
            "grid_row": null,
            "grid_template_areas": null,
            "grid_template_columns": null,
            "grid_template_rows": null,
            "height": null,
            "justify_content": null,
            "justify_items": null,
            "left": null,
            "margin": null,
            "max_height": null,
            "max_width": null,
            "min_height": null,
            "min_width": null,
            "object_fit": null,
            "object_position": null,
            "order": null,
            "overflow": null,
            "overflow_x": null,
            "overflow_y": null,
            "padding": null,
            "right": null,
            "top": null,
            "visibility": null,
            "width": null
          }
        },
        "4244404943f84d199f6884bb5f8c69c5": {
          "model_module": "@jupyter-widgets/controls",
          "model_name": "DescriptionStyleModel",
          "model_module_version": "1.5.0",
          "state": {
            "_model_module": "@jupyter-widgets/controls",
            "_model_module_version": "1.5.0",
            "_model_name": "DescriptionStyleModel",
            "_view_count": null,
            "_view_module": "@jupyter-widgets/base",
            "_view_module_version": "1.2.0",
            "_view_name": "StyleView",
            "description_width": ""
          }
        },
        "fb0767931ee34970a5556eea6fa2f74e": {
          "model_module": "@jupyter-widgets/base",
          "model_name": "LayoutModel",
          "model_module_version": "1.2.0",
          "state": {
            "_model_module": "@jupyter-widgets/base",
            "_model_module_version": "1.2.0",
            "_model_name": "LayoutModel",
            "_view_count": null,
            "_view_module": "@jupyter-widgets/base",
            "_view_module_version": "1.2.0",
            "_view_name": "LayoutView",
            "align_content": null,
            "align_items": null,
            "align_self": null,
            "border": null,
            "bottom": null,
            "display": null,
            "flex": null,
            "flex_flow": null,
            "grid_area": null,
            "grid_auto_columns": null,
            "grid_auto_flow": null,
            "grid_auto_rows": null,
            "grid_column": null,
            "grid_gap": null,
            "grid_row": null,
            "grid_template_areas": null,
            "grid_template_columns": null,
            "grid_template_rows": null,
            "height": null,
            "justify_content": null,
            "justify_items": null,
            "left": null,
            "margin": null,
            "max_height": null,
            "max_width": null,
            "min_height": null,
            "min_width": null,
            "object_fit": null,
            "object_position": null,
            "order": null,
            "overflow": null,
            "overflow_x": null,
            "overflow_y": null,
            "padding": null,
            "right": null,
            "top": null,
            "visibility": null,
            "width": null
          }
        },
        "cadb92aa2c0049a383a4ea238b4a3ab4": {
          "model_module": "@jupyter-widgets/controls",
          "model_name": "ProgressStyleModel",
          "model_module_version": "1.5.0",
          "state": {
            "_model_module": "@jupyter-widgets/controls",
            "_model_module_version": "1.5.0",
            "_model_name": "ProgressStyleModel",
            "_view_count": null,
            "_view_module": "@jupyter-widgets/base",
            "_view_module_version": "1.2.0",
            "_view_name": "StyleView",
            "bar_color": null,
            "description_width": ""
          }
        },
        "10c1eb8cdfc44671868b8051970025b7": {
          "model_module": "@jupyter-widgets/base",
          "model_name": "LayoutModel",
          "model_module_version": "1.2.0",
          "state": {
            "_model_module": "@jupyter-widgets/base",
            "_model_module_version": "1.2.0",
            "_model_name": "LayoutModel",
            "_view_count": null,
            "_view_module": "@jupyter-widgets/base",
            "_view_module_version": "1.2.0",
            "_view_name": "LayoutView",
            "align_content": null,
            "align_items": null,
            "align_self": null,
            "border": null,
            "bottom": null,
            "display": null,
            "flex": null,
            "flex_flow": null,
            "grid_area": null,
            "grid_auto_columns": null,
            "grid_auto_flow": null,
            "grid_auto_rows": null,
            "grid_column": null,
            "grid_gap": null,
            "grid_row": null,
            "grid_template_areas": null,
            "grid_template_columns": null,
            "grid_template_rows": null,
            "height": null,
            "justify_content": null,
            "justify_items": null,
            "left": null,
            "margin": null,
            "max_height": null,
            "max_width": null,
            "min_height": null,
            "min_width": null,
            "object_fit": null,
            "object_position": null,
            "order": null,
            "overflow": null,
            "overflow_x": null,
            "overflow_y": null,
            "padding": null,
            "right": null,
            "top": null,
            "visibility": null,
            "width": null
          }
        },
        "3d4af2c551b7403394de1382c3416f08": {
          "model_module": "@jupyter-widgets/controls",
          "model_name": "DescriptionStyleModel",
          "model_module_version": "1.5.0",
          "state": {
            "_model_module": "@jupyter-widgets/controls",
            "_model_module_version": "1.5.0",
            "_model_name": "DescriptionStyleModel",
            "_view_count": null,
            "_view_module": "@jupyter-widgets/base",
            "_view_module_version": "1.2.0",
            "_view_name": "StyleView",
            "description_width": ""
          }
        },
        "3b7af23e6e814773b5213900a11365cd": {
          "model_module": "@jupyter-widgets/controls",
          "model_name": "HBoxModel",
          "model_module_version": "1.5.0",
          "state": {
            "_dom_classes": [],
            "_model_module": "@jupyter-widgets/controls",
            "_model_module_version": "1.5.0",
            "_model_name": "HBoxModel",
            "_view_count": null,
            "_view_module": "@jupyter-widgets/controls",
            "_view_module_version": "1.5.0",
            "_view_name": "HBoxView",
            "box_style": "",
            "children": [
              "IPY_MODEL_e7b9da4613084603a7d946acb7f9f9ea",
              "IPY_MODEL_56e0f37182454a2b9380ede4f141bc18",
              "IPY_MODEL_10be10d49b8b4251890686863872c6a9"
            ],
            "layout": "IPY_MODEL_41141e7be09a4cc49785537ad0253966"
          }
        },
        "e7b9da4613084603a7d946acb7f9f9ea": {
          "model_module": "@jupyter-widgets/controls",
          "model_name": "HTMLModel",
          "model_module_version": "1.5.0",
          "state": {
            "_dom_classes": [],
            "_model_module": "@jupyter-widgets/controls",
            "_model_module_version": "1.5.0",
            "_model_name": "HTMLModel",
            "_view_count": null,
            "_view_module": "@jupyter-widgets/controls",
            "_view_module_version": "1.5.0",
            "_view_name": "HTMLView",
            "description": "",
            "description_tooltip": null,
            "layout": "IPY_MODEL_b05628a41b77418bb2f02f07cb259df7",
            "placeholder": "​",
            "style": "IPY_MODEL_f96cc61bbf214951b19164799ccde2f2",
            "value": "vocab.json: 100%"
          }
        },
        "56e0f37182454a2b9380ede4f141bc18": {
          "model_module": "@jupyter-widgets/controls",
          "model_name": "FloatProgressModel",
          "model_module_version": "1.5.0",
          "state": {
            "_dom_classes": [],
            "_model_module": "@jupyter-widgets/controls",
            "_model_module_version": "1.5.0",
            "_model_name": "FloatProgressModel",
            "_view_count": null,
            "_view_module": "@jupyter-widgets/controls",
            "_view_module_version": "1.5.0",
            "_view_name": "ProgressView",
            "bar_style": "success",
            "description": "",
            "description_tooltip": null,
            "layout": "IPY_MODEL_5baed0d3c04241f58052b52cc31b94d9",
            "max": 1042301,
            "min": 0,
            "orientation": "horizontal",
            "style": "IPY_MODEL_7720653435b44beeb5e8af798ad1c736",
            "value": 1042301
          }
        },
        "10be10d49b8b4251890686863872c6a9": {
          "model_module": "@jupyter-widgets/controls",
          "model_name": "HTMLModel",
          "model_module_version": "1.5.0",
          "state": {
            "_dom_classes": [],
            "_model_module": "@jupyter-widgets/controls",
            "_model_module_version": "1.5.0",
            "_model_name": "HTMLModel",
            "_view_count": null,
            "_view_module": "@jupyter-widgets/controls",
            "_view_module_version": "1.5.0",
            "_view_name": "HTMLView",
            "description": "",
            "description_tooltip": null,
            "layout": "IPY_MODEL_888b09814d4e490aba9586b44e8c65bd",
            "placeholder": "​",
            "style": "IPY_MODEL_5611373e165e4d12ad319589ed31d1a3",
            "value": " 1.04M/1.04M [00:00&lt;00:00, 4.22MB/s]"
          }
        },
        "41141e7be09a4cc49785537ad0253966": {
          "model_module": "@jupyter-widgets/base",
          "model_name": "LayoutModel",
          "model_module_version": "1.2.0",
          "state": {
            "_model_module": "@jupyter-widgets/base",
            "_model_module_version": "1.2.0",
            "_model_name": "LayoutModel",
            "_view_count": null,
            "_view_module": "@jupyter-widgets/base",
            "_view_module_version": "1.2.0",
            "_view_name": "LayoutView",
            "align_content": null,
            "align_items": null,
            "align_self": null,
            "border": null,
            "bottom": null,
            "display": null,
            "flex": null,
            "flex_flow": null,
            "grid_area": null,
            "grid_auto_columns": null,
            "grid_auto_flow": null,
            "grid_auto_rows": null,
            "grid_column": null,
            "grid_gap": null,
            "grid_row": null,
            "grid_template_areas": null,
            "grid_template_columns": null,
            "grid_template_rows": null,
            "height": null,
            "justify_content": null,
            "justify_items": null,
            "left": null,
            "margin": null,
            "max_height": null,
            "max_width": null,
            "min_height": null,
            "min_width": null,
            "object_fit": null,
            "object_position": null,
            "order": null,
            "overflow": null,
            "overflow_x": null,
            "overflow_y": null,
            "padding": null,
            "right": null,
            "top": null,
            "visibility": null,
            "width": null
          }
        },
        "b05628a41b77418bb2f02f07cb259df7": {
          "model_module": "@jupyter-widgets/base",
          "model_name": "LayoutModel",
          "model_module_version": "1.2.0",
          "state": {
            "_model_module": "@jupyter-widgets/base",
            "_model_module_version": "1.2.0",
            "_model_name": "LayoutModel",
            "_view_count": null,
            "_view_module": "@jupyter-widgets/base",
            "_view_module_version": "1.2.0",
            "_view_name": "LayoutView",
            "align_content": null,
            "align_items": null,
            "align_self": null,
            "border": null,
            "bottom": null,
            "display": null,
            "flex": null,
            "flex_flow": null,
            "grid_area": null,
            "grid_auto_columns": null,
            "grid_auto_flow": null,
            "grid_auto_rows": null,
            "grid_column": null,
            "grid_gap": null,
            "grid_row": null,
            "grid_template_areas": null,
            "grid_template_columns": null,
            "grid_template_rows": null,
            "height": null,
            "justify_content": null,
            "justify_items": null,
            "left": null,
            "margin": null,
            "max_height": null,
            "max_width": null,
            "min_height": null,
            "min_width": null,
            "object_fit": null,
            "object_position": null,
            "order": null,
            "overflow": null,
            "overflow_x": null,
            "overflow_y": null,
            "padding": null,
            "right": null,
            "top": null,
            "visibility": null,
            "width": null
          }
        },
        "f96cc61bbf214951b19164799ccde2f2": {
          "model_module": "@jupyter-widgets/controls",
          "model_name": "DescriptionStyleModel",
          "model_module_version": "1.5.0",
          "state": {
            "_model_module": "@jupyter-widgets/controls",
            "_model_module_version": "1.5.0",
            "_model_name": "DescriptionStyleModel",
            "_view_count": null,
            "_view_module": "@jupyter-widgets/base",
            "_view_module_version": "1.2.0",
            "_view_name": "StyleView",
            "description_width": ""
          }
        },
        "5baed0d3c04241f58052b52cc31b94d9": {
          "model_module": "@jupyter-widgets/base",
          "model_name": "LayoutModel",
          "model_module_version": "1.2.0",
          "state": {
            "_model_module": "@jupyter-widgets/base",
            "_model_module_version": "1.2.0",
            "_model_name": "LayoutModel",
            "_view_count": null,
            "_view_module": "@jupyter-widgets/base",
            "_view_module_version": "1.2.0",
            "_view_name": "LayoutView",
            "align_content": null,
            "align_items": null,
            "align_self": null,
            "border": null,
            "bottom": null,
            "display": null,
            "flex": null,
            "flex_flow": null,
            "grid_area": null,
            "grid_auto_columns": null,
            "grid_auto_flow": null,
            "grid_auto_rows": null,
            "grid_column": null,
            "grid_gap": null,
            "grid_row": null,
            "grid_template_areas": null,
            "grid_template_columns": null,
            "grid_template_rows": null,
            "height": null,
            "justify_content": null,
            "justify_items": null,
            "left": null,
            "margin": null,
            "max_height": null,
            "max_width": null,
            "min_height": null,
            "min_width": null,
            "object_fit": null,
            "object_position": null,
            "order": null,
            "overflow": null,
            "overflow_x": null,
            "overflow_y": null,
            "padding": null,
            "right": null,
            "top": null,
            "visibility": null,
            "width": null
          }
        },
        "7720653435b44beeb5e8af798ad1c736": {
          "model_module": "@jupyter-widgets/controls",
          "model_name": "ProgressStyleModel",
          "model_module_version": "1.5.0",
          "state": {
            "_model_module": "@jupyter-widgets/controls",
            "_model_module_version": "1.5.0",
            "_model_name": "ProgressStyleModel",
            "_view_count": null,
            "_view_module": "@jupyter-widgets/base",
            "_view_module_version": "1.2.0",
            "_view_name": "StyleView",
            "bar_color": null,
            "description_width": ""
          }
        },
        "888b09814d4e490aba9586b44e8c65bd": {
          "model_module": "@jupyter-widgets/base",
          "model_name": "LayoutModel",
          "model_module_version": "1.2.0",
          "state": {
            "_model_module": "@jupyter-widgets/base",
            "_model_module_version": "1.2.0",
            "_model_name": "LayoutModel",
            "_view_count": null,
            "_view_module": "@jupyter-widgets/base",
            "_view_module_version": "1.2.0",
            "_view_name": "LayoutView",
            "align_content": null,
            "align_items": null,
            "align_self": null,
            "border": null,
            "bottom": null,
            "display": null,
            "flex": null,
            "flex_flow": null,
            "grid_area": null,
            "grid_auto_columns": null,
            "grid_auto_flow": null,
            "grid_auto_rows": null,
            "grid_column": null,
            "grid_gap": null,
            "grid_row": null,
            "grid_template_areas": null,
            "grid_template_columns": null,
            "grid_template_rows": null,
            "height": null,
            "justify_content": null,
            "justify_items": null,
            "left": null,
            "margin": null,
            "max_height": null,
            "max_width": null,
            "min_height": null,
            "min_width": null,
            "object_fit": null,
            "object_position": null,
            "order": null,
            "overflow": null,
            "overflow_x": null,
            "overflow_y": null,
            "padding": null,
            "right": null,
            "top": null,
            "visibility": null,
            "width": null
          }
        },
        "5611373e165e4d12ad319589ed31d1a3": {
          "model_module": "@jupyter-widgets/controls",
          "model_name": "DescriptionStyleModel",
          "model_module_version": "1.5.0",
          "state": {
            "_model_module": "@jupyter-widgets/controls",
            "_model_module_version": "1.5.0",
            "_model_name": "DescriptionStyleModel",
            "_view_count": null,
            "_view_module": "@jupyter-widgets/base",
            "_view_module_version": "1.2.0",
            "_view_name": "StyleView",
            "description_width": ""
          }
        },
        "5032aeb50cfb4b88ad75ac1703205e40": {
          "model_module": "@jupyter-widgets/controls",
          "model_name": "HBoxModel",
          "model_module_version": "1.5.0",
          "state": {
            "_dom_classes": [],
            "_model_module": "@jupyter-widgets/controls",
            "_model_module_version": "1.5.0",
            "_model_name": "HBoxModel",
            "_view_count": null,
            "_view_module": "@jupyter-widgets/controls",
            "_view_module_version": "1.5.0",
            "_view_name": "HBoxView",
            "box_style": "",
            "children": [
              "IPY_MODEL_5844fbf6c20f4a468ade767cb2fabc83",
              "IPY_MODEL_ce2d9f8472544c4a8601a3807c716a28",
              "IPY_MODEL_8059c28db18446209019664fd00dcd0b"
            ],
            "layout": "IPY_MODEL_ed3c6c006dd44054bea48af260264f1c"
          }
        },
        "5844fbf6c20f4a468ade767cb2fabc83": {
          "model_module": "@jupyter-widgets/controls",
          "model_name": "HTMLModel",
          "model_module_version": "1.5.0",
          "state": {
            "_dom_classes": [],
            "_model_module": "@jupyter-widgets/controls",
            "_model_module_version": "1.5.0",
            "_model_name": "HTMLModel",
            "_view_count": null,
            "_view_module": "@jupyter-widgets/controls",
            "_view_module_version": "1.5.0",
            "_view_name": "HTMLView",
            "description": "",
            "description_tooltip": null,
            "layout": "IPY_MODEL_db986093a0ba4ded8d40d48d68993543",
            "placeholder": "​",
            "style": "IPY_MODEL_9881e92f7d55471a8363c7932885b026",
            "value": "merges.txt: 100%"
          }
        },
        "ce2d9f8472544c4a8601a3807c716a28": {
          "model_module": "@jupyter-widgets/controls",
          "model_name": "FloatProgressModel",
          "model_module_version": "1.5.0",
          "state": {
            "_dom_classes": [],
            "_model_module": "@jupyter-widgets/controls",
            "_model_module_version": "1.5.0",
            "_model_name": "FloatProgressModel",
            "_view_count": null,
            "_view_module": "@jupyter-widgets/controls",
            "_view_module_version": "1.5.0",
            "_view_name": "ProgressView",
            "bar_style": "success",
            "description": "",
            "description_tooltip": null,
            "layout": "IPY_MODEL_f4aceb04771a45859b7161ea0db844e2",
            "max": 456318,
            "min": 0,
            "orientation": "horizontal",
            "style": "IPY_MODEL_7887b522cc5c486a975c0b5a7d6d8fa6",
            "value": 456318
          }
        },
        "8059c28db18446209019664fd00dcd0b": {
          "model_module": "@jupyter-widgets/controls",
          "model_name": "HTMLModel",
          "model_module_version": "1.5.0",
          "state": {
            "_dom_classes": [],
            "_model_module": "@jupyter-widgets/controls",
            "_model_module_version": "1.5.0",
            "_model_name": "HTMLModel",
            "_view_count": null,
            "_view_module": "@jupyter-widgets/controls",
            "_view_module_version": "1.5.0",
            "_view_name": "HTMLView",
            "description": "",
            "description_tooltip": null,
            "layout": "IPY_MODEL_24bf0c794c9c4b8eb687490d3a5904ba",
            "placeholder": "​",
            "style": "IPY_MODEL_0e25a997a2a044c4a1624b49c095423b",
            "value": " 456k/456k [00:00&lt;00:00, 2.84MB/s]"
          }
        },
        "ed3c6c006dd44054bea48af260264f1c": {
          "model_module": "@jupyter-widgets/base",
          "model_name": "LayoutModel",
          "model_module_version": "1.2.0",
          "state": {
            "_model_module": "@jupyter-widgets/base",
            "_model_module_version": "1.2.0",
            "_model_name": "LayoutModel",
            "_view_count": null,
            "_view_module": "@jupyter-widgets/base",
            "_view_module_version": "1.2.0",
            "_view_name": "LayoutView",
            "align_content": null,
            "align_items": null,
            "align_self": null,
            "border": null,
            "bottom": null,
            "display": null,
            "flex": null,
            "flex_flow": null,
            "grid_area": null,
            "grid_auto_columns": null,
            "grid_auto_flow": null,
            "grid_auto_rows": null,
            "grid_column": null,
            "grid_gap": null,
            "grid_row": null,
            "grid_template_areas": null,
            "grid_template_columns": null,
            "grid_template_rows": null,
            "height": null,
            "justify_content": null,
            "justify_items": null,
            "left": null,
            "margin": null,
            "max_height": null,
            "max_width": null,
            "min_height": null,
            "min_width": null,
            "object_fit": null,
            "object_position": null,
            "order": null,
            "overflow": null,
            "overflow_x": null,
            "overflow_y": null,
            "padding": null,
            "right": null,
            "top": null,
            "visibility": null,
            "width": null
          }
        },
        "db986093a0ba4ded8d40d48d68993543": {
          "model_module": "@jupyter-widgets/base",
          "model_name": "LayoutModel",
          "model_module_version": "1.2.0",
          "state": {
            "_model_module": "@jupyter-widgets/base",
            "_model_module_version": "1.2.0",
            "_model_name": "LayoutModel",
            "_view_count": null,
            "_view_module": "@jupyter-widgets/base",
            "_view_module_version": "1.2.0",
            "_view_name": "LayoutView",
            "align_content": null,
            "align_items": null,
            "align_self": null,
            "border": null,
            "bottom": null,
            "display": null,
            "flex": null,
            "flex_flow": null,
            "grid_area": null,
            "grid_auto_columns": null,
            "grid_auto_flow": null,
            "grid_auto_rows": null,
            "grid_column": null,
            "grid_gap": null,
            "grid_row": null,
            "grid_template_areas": null,
            "grid_template_columns": null,
            "grid_template_rows": null,
            "height": null,
            "justify_content": null,
            "justify_items": null,
            "left": null,
            "margin": null,
            "max_height": null,
            "max_width": null,
            "min_height": null,
            "min_width": null,
            "object_fit": null,
            "object_position": null,
            "order": null,
            "overflow": null,
            "overflow_x": null,
            "overflow_y": null,
            "padding": null,
            "right": null,
            "top": null,
            "visibility": null,
            "width": null
          }
        },
        "9881e92f7d55471a8363c7932885b026": {
          "model_module": "@jupyter-widgets/controls",
          "model_name": "DescriptionStyleModel",
          "model_module_version": "1.5.0",
          "state": {
            "_model_module": "@jupyter-widgets/controls",
            "_model_module_version": "1.5.0",
            "_model_name": "DescriptionStyleModel",
            "_view_count": null,
            "_view_module": "@jupyter-widgets/base",
            "_view_module_version": "1.2.0",
            "_view_name": "StyleView",
            "description_width": ""
          }
        },
        "f4aceb04771a45859b7161ea0db844e2": {
          "model_module": "@jupyter-widgets/base",
          "model_name": "LayoutModel",
          "model_module_version": "1.2.0",
          "state": {
            "_model_module": "@jupyter-widgets/base",
            "_model_module_version": "1.2.0",
            "_model_name": "LayoutModel",
            "_view_count": null,
            "_view_module": "@jupyter-widgets/base",
            "_view_module_version": "1.2.0",
            "_view_name": "LayoutView",
            "align_content": null,
            "align_items": null,
            "align_self": null,
            "border": null,
            "bottom": null,
            "display": null,
            "flex": null,
            "flex_flow": null,
            "grid_area": null,
            "grid_auto_columns": null,
            "grid_auto_flow": null,
            "grid_auto_rows": null,
            "grid_column": null,
            "grid_gap": null,
            "grid_row": null,
            "grid_template_areas": null,
            "grid_template_columns": null,
            "grid_template_rows": null,
            "height": null,
            "justify_content": null,
            "justify_items": null,
            "left": null,
            "margin": null,
            "max_height": null,
            "max_width": null,
            "min_height": null,
            "min_width": null,
            "object_fit": null,
            "object_position": null,
            "order": null,
            "overflow": null,
            "overflow_x": null,
            "overflow_y": null,
            "padding": null,
            "right": null,
            "top": null,
            "visibility": null,
            "width": null
          }
        },
        "7887b522cc5c486a975c0b5a7d6d8fa6": {
          "model_module": "@jupyter-widgets/controls",
          "model_name": "ProgressStyleModel",
          "model_module_version": "1.5.0",
          "state": {
            "_model_module": "@jupyter-widgets/controls",
            "_model_module_version": "1.5.0",
            "_model_name": "ProgressStyleModel",
            "_view_count": null,
            "_view_module": "@jupyter-widgets/base",
            "_view_module_version": "1.2.0",
            "_view_name": "StyleView",
            "bar_color": null,
            "description_width": ""
          }
        },
        "24bf0c794c9c4b8eb687490d3a5904ba": {
          "model_module": "@jupyter-widgets/base",
          "model_name": "LayoutModel",
          "model_module_version": "1.2.0",
          "state": {
            "_model_module": "@jupyter-widgets/base",
            "_model_module_version": "1.2.0",
            "_model_name": "LayoutModel",
            "_view_count": null,
            "_view_module": "@jupyter-widgets/base",
            "_view_module_version": "1.2.0",
            "_view_name": "LayoutView",
            "align_content": null,
            "align_items": null,
            "align_self": null,
            "border": null,
            "bottom": null,
            "display": null,
            "flex": null,
            "flex_flow": null,
            "grid_area": null,
            "grid_auto_columns": null,
            "grid_auto_flow": null,
            "grid_auto_rows": null,
            "grid_column": null,
            "grid_gap": null,
            "grid_row": null,
            "grid_template_areas": null,
            "grid_template_columns": null,
            "grid_template_rows": null,
            "height": null,
            "justify_content": null,
            "justify_items": null,
            "left": null,
            "margin": null,
            "max_height": null,
            "max_width": null,
            "min_height": null,
            "min_width": null,
            "object_fit": null,
            "object_position": null,
            "order": null,
            "overflow": null,
            "overflow_x": null,
            "overflow_y": null,
            "padding": null,
            "right": null,
            "top": null,
            "visibility": null,
            "width": null
          }
        },
        "0e25a997a2a044c4a1624b49c095423b": {
          "model_module": "@jupyter-widgets/controls",
          "model_name": "DescriptionStyleModel",
          "model_module_version": "1.5.0",
          "state": {
            "_model_module": "@jupyter-widgets/controls",
            "_model_module_version": "1.5.0",
            "_model_name": "DescriptionStyleModel",
            "_view_count": null,
            "_view_module": "@jupyter-widgets/base",
            "_view_module_version": "1.2.0",
            "_view_name": "StyleView",
            "description_width": ""
          }
        },
        "5bb1e809796f49518803a64f18ca5004": {
          "model_module": "@jupyter-widgets/controls",
          "model_name": "HBoxModel",
          "model_module_version": "1.5.0",
          "state": {
            "_dom_classes": [],
            "_model_module": "@jupyter-widgets/controls",
            "_model_module_version": "1.5.0",
            "_model_name": "HBoxModel",
            "_view_count": null,
            "_view_module": "@jupyter-widgets/controls",
            "_view_module_version": "1.5.0",
            "_view_name": "HBoxView",
            "box_style": "",
            "children": [
              "IPY_MODEL_aa89fbbb8ec241e4aa027c7b333eb176",
              "IPY_MODEL_ae073820e75e409c85d104a92116181a",
              "IPY_MODEL_1ba333a31e2045d08c7277fb537e6ff9"
            ],
            "layout": "IPY_MODEL_e704b306688c41a9b7f8338ac2f71059"
          }
        },
        "aa89fbbb8ec241e4aa027c7b333eb176": {
          "model_module": "@jupyter-widgets/controls",
          "model_name": "HTMLModel",
          "model_module_version": "1.5.0",
          "state": {
            "_dom_classes": [],
            "_model_module": "@jupyter-widgets/controls",
            "_model_module_version": "1.5.0",
            "_model_name": "HTMLModel",
            "_view_count": null,
            "_view_module": "@jupyter-widgets/controls",
            "_view_module_version": "1.5.0",
            "_view_name": "HTMLView",
            "description": "",
            "description_tooltip": null,
            "layout": "IPY_MODEL_d870633bc4fe4a9782a6b6274bb1c86b",
            "placeholder": "​",
            "style": "IPY_MODEL_1261fa8eb6b64e19aee5df5e57c45e35",
            "value": "tokenizer.json: 100%"
          }
        },
        "ae073820e75e409c85d104a92116181a": {
          "model_module": "@jupyter-widgets/controls",
          "model_name": "FloatProgressModel",
          "model_module_version": "1.5.0",
          "state": {
            "_dom_classes": [],
            "_model_module": "@jupyter-widgets/controls",
            "_model_module_version": "1.5.0",
            "_model_name": "FloatProgressModel",
            "_view_count": null,
            "_view_module": "@jupyter-widgets/controls",
            "_view_module_version": "1.5.0",
            "_view_name": "ProgressView",
            "bar_style": "success",
            "description": "",
            "description_tooltip": null,
            "layout": "IPY_MODEL_4ab832583c294475985623a9e97e3c40",
            "max": 1355256,
            "min": 0,
            "orientation": "horizontal",
            "style": "IPY_MODEL_f3802c7b326d40f3b1c0fe42fabe00fb",
            "value": 1355256
          }
        },
        "1ba333a31e2045d08c7277fb537e6ff9": {
          "model_module": "@jupyter-widgets/controls",
          "model_name": "HTMLModel",
          "model_module_version": "1.5.0",
          "state": {
            "_dom_classes": [],
            "_model_module": "@jupyter-widgets/controls",
            "_model_module_version": "1.5.0",
            "_model_name": "HTMLModel",
            "_view_count": null,
            "_view_module": "@jupyter-widgets/controls",
            "_view_module_version": "1.5.0",
            "_view_name": "HTMLView",
            "description": "",
            "description_tooltip": null,
            "layout": "IPY_MODEL_88dbe78ed68a4b83949f4db221d45967",
            "placeholder": "​",
            "style": "IPY_MODEL_3241e5eda8de4f6eb570a40631b8d9d2",
            "value": " 1.36M/1.36M [00:00&lt;00:00, 4.14MB/s]"
          }
        },
        "e704b306688c41a9b7f8338ac2f71059": {
          "model_module": "@jupyter-widgets/base",
          "model_name": "LayoutModel",
          "model_module_version": "1.2.0",
          "state": {
            "_model_module": "@jupyter-widgets/base",
            "_model_module_version": "1.2.0",
            "_model_name": "LayoutModel",
            "_view_count": null,
            "_view_module": "@jupyter-widgets/base",
            "_view_module_version": "1.2.0",
            "_view_name": "LayoutView",
            "align_content": null,
            "align_items": null,
            "align_self": null,
            "border": null,
            "bottom": null,
            "display": null,
            "flex": null,
            "flex_flow": null,
            "grid_area": null,
            "grid_auto_columns": null,
            "grid_auto_flow": null,
            "grid_auto_rows": null,
            "grid_column": null,
            "grid_gap": null,
            "grid_row": null,
            "grid_template_areas": null,
            "grid_template_columns": null,
            "grid_template_rows": null,
            "height": null,
            "justify_content": null,
            "justify_items": null,
            "left": null,
            "margin": null,
            "max_height": null,
            "max_width": null,
            "min_height": null,
            "min_width": null,
            "object_fit": null,
            "object_position": null,
            "order": null,
            "overflow": null,
            "overflow_x": null,
            "overflow_y": null,
            "padding": null,
            "right": null,
            "top": null,
            "visibility": null,
            "width": null
          }
        },
        "d870633bc4fe4a9782a6b6274bb1c86b": {
          "model_module": "@jupyter-widgets/base",
          "model_name": "LayoutModel",
          "model_module_version": "1.2.0",
          "state": {
            "_model_module": "@jupyter-widgets/base",
            "_model_module_version": "1.2.0",
            "_model_name": "LayoutModel",
            "_view_count": null,
            "_view_module": "@jupyter-widgets/base",
            "_view_module_version": "1.2.0",
            "_view_name": "LayoutView",
            "align_content": null,
            "align_items": null,
            "align_self": null,
            "border": null,
            "bottom": null,
            "display": null,
            "flex": null,
            "flex_flow": null,
            "grid_area": null,
            "grid_auto_columns": null,
            "grid_auto_flow": null,
            "grid_auto_rows": null,
            "grid_column": null,
            "grid_gap": null,
            "grid_row": null,
            "grid_template_areas": null,
            "grid_template_columns": null,
            "grid_template_rows": null,
            "height": null,
            "justify_content": null,
            "justify_items": null,
            "left": null,
            "margin": null,
            "max_height": null,
            "max_width": null,
            "min_height": null,
            "min_width": null,
            "object_fit": null,
            "object_position": null,
            "order": null,
            "overflow": null,
            "overflow_x": null,
            "overflow_y": null,
            "padding": null,
            "right": null,
            "top": null,
            "visibility": null,
            "width": null
          }
        },
        "1261fa8eb6b64e19aee5df5e57c45e35": {
          "model_module": "@jupyter-widgets/controls",
          "model_name": "DescriptionStyleModel",
          "model_module_version": "1.5.0",
          "state": {
            "_model_module": "@jupyter-widgets/controls",
            "_model_module_version": "1.5.0",
            "_model_name": "DescriptionStyleModel",
            "_view_count": null,
            "_view_module": "@jupyter-widgets/base",
            "_view_module_version": "1.2.0",
            "_view_name": "StyleView",
            "description_width": ""
          }
        },
        "4ab832583c294475985623a9e97e3c40": {
          "model_module": "@jupyter-widgets/base",
          "model_name": "LayoutModel",
          "model_module_version": "1.2.0",
          "state": {
            "_model_module": "@jupyter-widgets/base",
            "_model_module_version": "1.2.0",
            "_model_name": "LayoutModel",
            "_view_count": null,
            "_view_module": "@jupyter-widgets/base",
            "_view_module_version": "1.2.0",
            "_view_name": "LayoutView",
            "align_content": null,
            "align_items": null,
            "align_self": null,
            "border": null,
            "bottom": null,
            "display": null,
            "flex": null,
            "flex_flow": null,
            "grid_area": null,
            "grid_auto_columns": null,
            "grid_auto_flow": null,
            "grid_auto_rows": null,
            "grid_column": null,
            "grid_gap": null,
            "grid_row": null,
            "grid_template_areas": null,
            "grid_template_columns": null,
            "grid_template_rows": null,
            "height": null,
            "justify_content": null,
            "justify_items": null,
            "left": null,
            "margin": null,
            "max_height": null,
            "max_width": null,
            "min_height": null,
            "min_width": null,
            "object_fit": null,
            "object_position": null,
            "order": null,
            "overflow": null,
            "overflow_x": null,
            "overflow_y": null,
            "padding": null,
            "right": null,
            "top": null,
            "visibility": null,
            "width": null
          }
        },
        "f3802c7b326d40f3b1c0fe42fabe00fb": {
          "model_module": "@jupyter-widgets/controls",
          "model_name": "ProgressStyleModel",
          "model_module_version": "1.5.0",
          "state": {
            "_model_module": "@jupyter-widgets/controls",
            "_model_module_version": "1.5.0",
            "_model_name": "ProgressStyleModel",
            "_view_count": null,
            "_view_module": "@jupyter-widgets/base",
            "_view_module_version": "1.2.0",
            "_view_name": "StyleView",
            "bar_color": null,
            "description_width": ""
          }
        },
        "88dbe78ed68a4b83949f4db221d45967": {
          "model_module": "@jupyter-widgets/base",
          "model_name": "LayoutModel",
          "model_module_version": "1.2.0",
          "state": {
            "_model_module": "@jupyter-widgets/base",
            "_model_module_version": "1.2.0",
            "_model_name": "LayoutModel",
            "_view_count": null,
            "_view_module": "@jupyter-widgets/base",
            "_view_module_version": "1.2.0",
            "_view_name": "LayoutView",
            "align_content": null,
            "align_items": null,
            "align_self": null,
            "border": null,
            "bottom": null,
            "display": null,
            "flex": null,
            "flex_flow": null,
            "grid_area": null,
            "grid_auto_columns": null,
            "grid_auto_flow": null,
            "grid_auto_rows": null,
            "grid_column": null,
            "grid_gap": null,
            "grid_row": null,
            "grid_template_areas": null,
            "grid_template_columns": null,
            "grid_template_rows": null,
            "height": null,
            "justify_content": null,
            "justify_items": null,
            "left": null,
            "margin": null,
            "max_height": null,
            "max_width": null,
            "min_height": null,
            "min_width": null,
            "object_fit": null,
            "object_position": null,
            "order": null,
            "overflow": null,
            "overflow_x": null,
            "overflow_y": null,
            "padding": null,
            "right": null,
            "top": null,
            "visibility": null,
            "width": null
          }
        },
        "3241e5eda8de4f6eb570a40631b8d9d2": {
          "model_module": "@jupyter-widgets/controls",
          "model_name": "DescriptionStyleModel",
          "model_module_version": "1.5.0",
          "state": {
            "_model_module": "@jupyter-widgets/controls",
            "_model_module_version": "1.5.0",
            "_model_name": "DescriptionStyleModel",
            "_view_count": null,
            "_view_module": "@jupyter-widgets/base",
            "_view_module_version": "1.2.0",
            "_view_name": "StyleView",
            "description_width": ""
          }
        }
      }
    }
  },
  "cells": [
    {
      "cell_type": "markdown",
      "metadata": {
        "id": "view-in-github",
        "colab_type": "text"
      },
      "source": [
        "<a href=\"https://colab.research.google.com/github/romiebanerjee/sae-tools/blob/master/notebooks/SAE_interpretation.ipynb\" target=\"_parent\"><img src=\"https://colab.research.google.com/assets/colab-badge.svg\" alt=\"Open In Colab\"/></a>"
      ]
    },
    {
      "cell_type": "code",
      "source": [
        "# !pip install transformer_lens"
      ],
      "metadata": {
        "collapsed": true,
        "id": "jj7YeDCLxUMC"
      },
      "execution_count": 1,
      "outputs": []
    },
    {
      "cell_type": "code",
      "execution_count": 2,
      "metadata": {
        "id": "g-69gmzSwvqi",
        "colab": {
          "base_uri": "https://localhost:8080/"
        },
        "outputId": "2ac6f697-4edd-4443-e459-f9f874e50d01"
      },
      "outputs": [
        {
          "output_type": "stream",
          "name": "stdout",
          "text": [
            "Using device:  cpu\n"
          ]
        }
      ],
      "source": [
        "import numpy as np\n",
        "import matplotlib.pyplot as plt\n",
        "import torch\n",
        "import blobfile as bf\n",
        "\n",
        "device = torch.device(\"cuda\" if torch.cuda.is_available() else \"cpu\")\n",
        "print(\"Using device: \", device)"
      ]
    },
    {
      "cell_type": "code",
      "source": [
        "!git clone https://github.com/romiebanerjee/sae-tools.git\n",
        "%cd sae-tools\n",
        "import sparse_autoencoder as sae"
      ],
      "metadata": {
        "colab": {
          "base_uri": "https://localhost:8080/"
        },
        "id": "pF2cRw6m24wR",
        "outputId": "470e6c0c-aeaa-4028-a739-47caadca7aad"
      },
      "execution_count": 3,
      "outputs": [
        {
          "output_type": "stream",
          "name": "stdout",
          "text": [
            "fatal: destination path 'sae-tools' already exists and is not an empty directory.\n",
            "/content/sae-tools\n"
          ]
        }
      ]
    },
    {
      "cell_type": "code",
      "source": [
        "import transformer_lens"
      ],
      "metadata": {
        "id": "b_W4NcQHxWt1"
      },
      "execution_count": 4,
      "outputs": []
    },
    {
      "cell_type": "code",
      "source": [
        "model = transformer_lens.HookedTransformer.from_pretrained(\"gpt2\", center_writing_weights=False).to(device)\n"
      ],
      "metadata": {
        "colab": {
          "base_uri": "https://localhost:8080/",
          "height": 380,
          "referenced_widgets": [
            "c2c88e9a6a9c48cf84a84ba01584808f",
            "3e8536118f3543308029b44d80c64a5b",
            "de98442fbdf7465fa882de8cd19fe92b",
            "7d521fea7e934ee9bce0a94f6dd201ee",
            "1be8037922334454b3fda65a75183b49",
            "8aa9ef4b0c494955a88b6c2d6bb3e74a",
            "b1a038606e5e4c3a95731023d0c3ae90",
            "b2b9636142e448ddac4fb6de46215c5d",
            "e498e1d2860c4c54a42085f0fb8fc7f3",
            "166e4c2251fd4d3d90cab04788738b04",
            "6bdcd145976c47c7b87b2dad2df065e4",
            "51fdff2e5865440dbf2596434c6b1ddf",
            "482686b07c89433e9d48a270c6183e67",
            "d8d7da90a3ee41c6b4a2aa6dd97376b4",
            "123a29f05ee84f08a104b9d394ffbdfc",
            "ba931854f5af43fabfb35aea6e407d4b",
            "5f12182e578c4bbe81bb61502f2c1536",
            "d5eae66af9014aed8410c172daf155b3",
            "e5ea393c7e8c44d88183e7461521c91b",
            "b140df1d96f143ea96345cafabe94a55",
            "d58c32fcd1874eefb5c3329777874540",
            "338dc874cd0a402599c548fc706533d2",
            "5ba3b88fdf5642d7ac3d51f82e440d99",
            "0b361e09159346bd9c78e0a77ef8b2f2",
            "958340b5762947408cea05561d9660ec",
            "f7b00204efba49f2b352a07925b6d900",
            "72dc6423ac3941f1b9c81adae7041791",
            "114158eb4c354e71865dabd8d7b0e466",
            "0fe61715545d46d5b316b3790364a8b4",
            "332f35e352794d848ef479e2a17bab08",
            "bfc801cdbb244948ada1bb26477fd135",
            "c09553bfa2bd4a8e97bc72e8e36bc8a8",
            "ae8452c3d45b4d5bb24e6ce98f8cd98c",
            "c160ad10cfe94a3cb1666363492bddf2",
            "b75d530a466946bdb70570c56be77ec0",
            "2aa4ead83f1a453596d195b26bf99007",
            "e7d906f0c4a34054b679486be99b0ddf",
            "657c5665376349ca8d1be8530b40e5e9",
            "63dff5a2ee854d6aac359e5e284ebdb3",
            "4244404943f84d199f6884bb5f8c69c5",
            "fb0767931ee34970a5556eea6fa2f74e",
            "cadb92aa2c0049a383a4ea238b4a3ab4",
            "10c1eb8cdfc44671868b8051970025b7",
            "3d4af2c551b7403394de1382c3416f08",
            "3b7af23e6e814773b5213900a11365cd",
            "e7b9da4613084603a7d946acb7f9f9ea",
            "56e0f37182454a2b9380ede4f141bc18",
            "10be10d49b8b4251890686863872c6a9",
            "41141e7be09a4cc49785537ad0253966",
            "b05628a41b77418bb2f02f07cb259df7",
            "f96cc61bbf214951b19164799ccde2f2",
            "5baed0d3c04241f58052b52cc31b94d9",
            "7720653435b44beeb5e8af798ad1c736",
            "888b09814d4e490aba9586b44e8c65bd",
            "5611373e165e4d12ad319589ed31d1a3",
            "5032aeb50cfb4b88ad75ac1703205e40",
            "5844fbf6c20f4a468ade767cb2fabc83",
            "ce2d9f8472544c4a8601a3807c716a28",
            "8059c28db18446209019664fd00dcd0b",
            "ed3c6c006dd44054bea48af260264f1c",
            "db986093a0ba4ded8d40d48d68993543",
            "9881e92f7d55471a8363c7932885b026",
            "f4aceb04771a45859b7161ea0db844e2",
            "7887b522cc5c486a975c0b5a7d6d8fa6",
            "24bf0c794c9c4b8eb687490d3a5904ba",
            "0e25a997a2a044c4a1624b49c095423b",
            "5bb1e809796f49518803a64f18ca5004",
            "aa89fbbb8ec241e4aa027c7b333eb176",
            "ae073820e75e409c85d104a92116181a",
            "1ba333a31e2045d08c7277fb537e6ff9",
            "e704b306688c41a9b7f8338ac2f71059",
            "d870633bc4fe4a9782a6b6274bb1c86b",
            "1261fa8eb6b64e19aee5df5e57c45e35",
            "4ab832583c294475985623a9e97e3c40",
            "f3802c7b326d40f3b1c0fe42fabe00fb",
            "88dbe78ed68a4b83949f4db221d45967",
            "3241e5eda8de4f6eb570a40631b8d9d2"
          ]
        },
        "id": "JkW4M1Qlx71t",
        "outputId": "96b43b75-e4ad-49a9-a1de-89e874183ac3"
      },
      "execution_count": 5,
      "outputs": [
        {
          "output_type": "stream",
          "name": "stderr",
          "text": [
            "/usr/local/lib/python3.11/dist-packages/huggingface_hub/utils/_auth.py:94: UserWarning: \n",
            "The secret `HF_TOKEN` does not exist in your Colab secrets.\n",
            "To authenticate with the Hugging Face Hub, create a token in your settings tab (https://huggingface.co/settings/tokens), set it as secret in your Google Colab and restart your session.\n",
            "You will be able to reuse this secret in all of your notebooks.\n",
            "Please note that authentication is recommended but still optional to access public models or datasets.\n",
            "  warnings.warn(\n"
          ]
        },
        {
          "output_type": "display_data",
          "data": {
            "text/plain": [
              "config.json:   0%|          | 0.00/665 [00:00<?, ?B/s]"
            ],
            "application/vnd.jupyter.widget-view+json": {
              "version_major": 2,
              "version_minor": 0,
              "model_id": "c2c88e9a6a9c48cf84a84ba01584808f"
            }
          },
          "metadata": {}
        },
        {
          "output_type": "display_data",
          "data": {
            "text/plain": [
              "model.safetensors:   0%|          | 0.00/548M [00:00<?, ?B/s]"
            ],
            "application/vnd.jupyter.widget-view+json": {
              "version_major": 2,
              "version_minor": 0,
              "model_id": "51fdff2e5865440dbf2596434c6b1ddf"
            }
          },
          "metadata": {}
        },
        {
          "output_type": "display_data",
          "data": {
            "text/plain": [
              "generation_config.json:   0%|          | 0.00/124 [00:00<?, ?B/s]"
            ],
            "application/vnd.jupyter.widget-view+json": {
              "version_major": 2,
              "version_minor": 0,
              "model_id": "5ba3b88fdf5642d7ac3d51f82e440d99"
            }
          },
          "metadata": {}
        },
        {
          "output_type": "display_data",
          "data": {
            "text/plain": [
              "tokenizer_config.json:   0%|          | 0.00/26.0 [00:00<?, ?B/s]"
            ],
            "application/vnd.jupyter.widget-view+json": {
              "version_major": 2,
              "version_minor": 0,
              "model_id": "c160ad10cfe94a3cb1666363492bddf2"
            }
          },
          "metadata": {}
        },
        {
          "output_type": "display_data",
          "data": {
            "text/plain": [
              "vocab.json:   0%|          | 0.00/1.04M [00:00<?, ?B/s]"
            ],
            "application/vnd.jupyter.widget-view+json": {
              "version_major": 2,
              "version_minor": 0,
              "model_id": "3b7af23e6e814773b5213900a11365cd"
            }
          },
          "metadata": {}
        },
        {
          "output_type": "display_data",
          "data": {
            "text/plain": [
              "merges.txt:   0%|          | 0.00/456k [00:00<?, ?B/s]"
            ],
            "application/vnd.jupyter.widget-view+json": {
              "version_major": 2,
              "version_minor": 0,
              "model_id": "5032aeb50cfb4b88ad75ac1703205e40"
            }
          },
          "metadata": {}
        },
        {
          "output_type": "display_data",
          "data": {
            "text/plain": [
              "tokenizer.json:   0%|          | 0.00/1.36M [00:00<?, ?B/s]"
            ],
            "application/vnd.jupyter.widget-view+json": {
              "version_major": 2,
              "version_minor": 0,
              "model_id": "5bb1e809796f49518803a64f18ca5004"
            }
          },
          "metadata": {}
        },
        {
          "output_type": "stream",
          "name": "stdout",
          "text": [
            "Loaded pretrained model gpt2 into HookedTransformer\n",
            "Moving model to device:  cpu\n"
          ]
        }
      ]
    },
    {
      "cell_type": "code",
      "source": [
        "def get_layer_name(location: str, layer_index:int):\n",
        "    transformer_lens_loc = {\n",
        "        \"mlp_post_act\": f\"blocks.{layer_index}.mlp.hook_post\",\n",
        "        \"resid_delta_attn\": f\"blocks.{layer_index}.hook_attn_out\",\n",
        "        \"resid_post_attn\": f\"blocks.{layer_index}.hook_resid_mid\",\n",
        "        \"resid_delta_mlp\": f\"blocks.{layer_index}.hook_mlp_out\",\n",
        "        \"resid_post_mlp\": f\"blocks.{layer_index}.hook_resid_post\",\n",
        "    }[location]\n",
        "\n",
        "    return transformer_lens_loc"
      ],
      "metadata": {
        "id": "LA4gd0Xg01Xd"
      },
      "execution_count": 6,
      "outputs": []
    },
    {
      "cell_type": "code",
      "source": [
        "## download gpt-2 SAE weights from Openai\n",
        "layer_index = 10\n",
        "location = \"resid_post_mlp\"\n",
        "\n",
        "with bf.BlobFile(sae.paths.v5_128k(location, layer_index), mode=\"rb\") as f:\n",
        "    print(f\"fetching weights for sae at {get_layer_name(location, layer_index)} from {sae.paths.v5_128k(location, layer_index)}\")\n",
        "    state_dict = torch.load(f)"
      ],
      "metadata": {
        "colab": {
          "base_uri": "https://localhost:8080/"
        },
        "id": "aj9lCrqw2sy_",
        "outputId": "a5d25a6c-ac12-4759-9b6c-30e62066f115"
      },
      "execution_count": 7,
      "outputs": [
        {
          "output_type": "stream",
          "name": "stdout",
          "text": [
            "fetching weights for sae at blocks.10.hook_resid_post from az://openaipublic/sparse-autoencoder/gpt2-small/resid_post_mlp_v5_128k/autoencoders/10.pt\n"
          ]
        }
      ]
    },
    {
      "cell_type": "code",
      "source": [
        "import requests\n",
        "\n",
        "# Download Frankenstein from Project Gutenberg\n",
        "url = \"https://www.gutenberg.org/files/84/84-0.txt\"  # Frankenstein's permanent URL\n",
        "response = requests.get(url)\n",
        "\n",
        "# Save to a file\n",
        "with open(\"frankenstein.txt\", \"w\", encoding=\"utf-8\") as f:\n",
        "    f.write(response.text)"
      ],
      "metadata": {
        "id": "u8UVPLc4Aa-z"
      },
      "execution_count": 8,
      "outputs": []
    },
    {
      "cell_type": "code",
      "source": [
        "# Load the entire file into a string\n",
        "with open('frankenstein.txt', 'r', encoding='utf-8') as file:\n",
        "    text = file.read()  # Entire content as a single string\n",
        "#split into smaller strings\n",
        "import re\n",
        "sentences = re.split(r'(?<=[.!?\\n])\\s+', text)\n",
        "print(len(sentences))"
      ],
      "metadata": {
        "collapsed": true,
        "id": "-U6kGuPAC9i4",
        "colab": {
          "base_uri": "https://localhost:8080/"
        },
        "outputId": "4f2e5d1d-179d-4165-97b6-4eb40fab420c"
      },
      "execution_count": 9,
      "outputs": [
        {
          "output_type": "stream",
          "name": "stdout",
          "text": [
            "3446\n"
          ]
        }
      ]
    },
    {
      "cell_type": "code",
      "source": [
        "# model.to_tokens(sentences)\n",
        "batch_tokens = model.tokenizer(sentences, padding=True, return_tensors=\"pt\")['input_ids']\n",
        "batch_masks = model.tokenizer(sentences, padding=True, return_tensors=\"pt\")['attention_mask']\n",
        "print(batch_tokens.shape)\n",
        "print(batch_masks.shape)\n",
        "\n",
        "def random_row_indices(tensor, r):\n",
        "    R = tensor.size(0)\n",
        "    # Generate random indices without replacement\n",
        "    rand_indices = torch.randperm(R)[:r]\n",
        "    return rand_indices\n",
        "\n",
        "rand_indices = random_row_indices(batch_tokens, 100)\n",
        "\n",
        "batch_tokens = batch_tokens[rand_indices]\n",
        "batch_masks = batch_masks[rand_indices]\n",
        "\n",
        "print(batch_tokens.shape)\n",
        "print(batch_masks.shape)\n"
      ],
      "metadata": {
        "collapsed": true,
        "id": "wI-DnjoWF5Si",
        "colab": {
          "base_uri": "https://localhost:8080/"
        },
        "outputId": "403f6410-03c1-4a75-ecd6-9db69bdc8f95"
      },
      "execution_count": 120,
      "outputs": [
        {
          "output_type": "stream",
          "name": "stdout",
          "text": [
            "torch.Size([3446, 212])\n",
            "torch.Size([3446, 212])\n",
            "torch.Size([100, 212])\n",
            "torch.Size([100, 212])\n"
          ]
        }
      ]
    },
    {
      "cell_type": "code",
      "source": [
        "for i,r in enumerate(rand_indices):\n",
        "  print(i, sentences[r])"
      ],
      "metadata": {
        "colab": {
          "base_uri": "https://localhost:8080/"
        },
        "id": "QXys3Wf3xwkc",
        "outputId": "5b09e719-d826-40e6-fc5b-95e0cf277f31"
      },
      "execution_count": 153,
      "outputs": [
        {
          "output_type": "stream",
          "name": "stdout",
          "text": [
            "0 He has already had one or two little _wives,_ but Louisa Biron\n",
            "is his favourite, a pretty little girl of five years of age.\n",
            "1 My lieutenant, for instance, is a man of wonderful courage\n",
            "and enterprise; he is madly desirous of glory, or rather, to word my phrase\n",
            "more characteristically, of advancement in his profession.\n",
            "2 “I thank you, Walton,” he said, “for your kind intentions towards so\n",
            "miserable a wretch; but when you speak of new ties and fresh\n",
            "affections, think you that any can replace those who are gone?\n",
            "3 We left Oxford with regret and proceeded to Matlock, which was our next\n",
            "place of rest.\n",
            "4 The past appeared to me in the light of a frightful dream;\n",
            "yet the vessel in which I was, the wind that blew me from the detested\n",
            "shore of Ireland, and the sea which surrounded me, told me too forcibly\n",
            "that I was deceived by no vision and that Clerval, my friend and dearest\n",
            "companion, had fallen a victim to me and the monster of my creation.\n",
            "5 “‘I am about to undertake that task; and it is on that account that I\n",
            "feel so many overwhelming terrors.\n",
            "6 The thunder ceased; but the rain still\n",
            "continued, and the scene was enveloped in an impenetrable darkness.\n",
            "7 Fiend that thou art!\n",
            "8 My present situation was one in which all voluntary thought was\n",
            "swallowed up and lost.\n",
            "9 Clerval spent the last\n",
            "evening with us.\n",
            "10 Peace, peace!\n",
            "11 What was I?\n",
            "12 I burned with rage to\n",
            "pursue the murderer of my peace and precipitate him into the ocean.\n",
            "13 Justine shook her head mournfully.\n",
            "14 “D—n\n",
            "the fellow!” cried he; “why, M.\n",
            "15 On you it rests,\n",
            "whether I quit for ever the neighbourhood of man and lead a harmless\n",
            "life, or become the scourge of your fellow creatures and the author of\n",
            "your own speedy ruin.”\n",
            "\n",
            "16 You were attached to each other from your\n",
            "earliest infancy; you studied together, and appeared, in dispositions and\n",
            "tastes, entirely suited to one another.\n",
            "17 “The next morning Felix went out to his work, and after the usual\n",
            "occupations of Agatha were finished, the Arabian sat at the feet of the\n",
            "old man, and taking his guitar, played some airs so entrancingly\n",
            "beautiful that they at once drew tears of sorrow and delight from my\n",
            "eyes.\n",
            "18 Oh!\n",
            "19 His voice seemed suffocated, and my first impulses, which had suggested to\n",
            "me the duty of obeying the dying request of my friend in destroying his\n",
            "enemy, were now suspended by a mixture of curiosity and compassion.\n",
            "20 Blasted as thou wert, my agony was still superior to\n",
            "thine, for the bitter sting of remorse will not cease to rankle in my\n",
            "wounds until death shall close them for ever.\n",
            "21 His words had a strange effect upon me.\n",
            "22 Observe how fast we move\n",
            "along and how the clouds, which sometimes obscure and sometimes rise\n",
            "above the dome of Mont Blanc, render this scene of beauty still more\n",
            "interesting.\n",
            "23 I was\n",
            "nourished with high thoughts of honour and devotion.\n",
            "24 I would have made a pilgrimage to the highest peak of the\n",
            "Andes, could I, when there, have precipitated him to their base.\n",
            "25 But the fresh air and\n",
            "bright sun seldom failed to restore me to some degree of composure, and\n",
            "on my return I met the salutations of my friends with a readier smile\n",
            "and a more cheerful heart.\n",
            "26 Kirwin is a magistrate,\n",
            "and you are to give an account of the death of a gentleman who was\n",
            "found murdered here last night.”\n",
            "\n",
            "27 What must have been his feelings?\n",
            "28 My spirit\n",
            "will sleep in peace, or if it thinks, it will not surely think thus.\n",
            "29 The materials at present within my command hardly appeared\n",
            "adequate to so arduous an undertaking, but I doubted not that I should\n",
            "ultimately succeed.\n",
            "30 My duties towards the beings of my own species had greater claims to\n",
            "my attention because they included a greater proportion of happiness or\n",
            "misery.\n",
            "31 How I\n",
            "have lived I hardly know; many times have I stretched my failing limbs upon\n",
            "the sandy plain and prayed for death.\n",
            "32 I shall ascend my funeral pile triumphantly and\n",
            "exult in the agony of the torturing flames.\n",
            "33 My journey had been my own suggestion, and Elizabeth\n",
            "therefore acquiesced, but she was filled with disquiet at the idea of\n",
            "my suffering, away from her, the inroads of misery and grief.\n",
            "34 The peasants were\n",
            "shut up in their hovels, and only a few of the most hardy ventured forth to\n",
            "seize the animals whom starvation had forced from their hiding-places to\n",
            "seek for prey.\n",
            "35 But a blight had\n",
            "come over my existence, and I only visited these people for the sake of\n",
            "the information they might give me on the subject in which my interest\n",
            "was so terribly profound.\n",
            "36 Saying this, he suddenly quitted me, fearful, perhaps, of any change in\n",
            "my sentiments.\n",
            "37 The wounded deer dragging its fainting\n",
            "limbs to some untrodden brake, there to gaze upon the arrow which had\n",
            "pierced it, and to die, was but a type of me.\n",
            "38 Learn from me, dear lady, to submit in patience to\n",
            "the will of heaven!”\n",
            "\n",
            "39 September 7th.\n",
            "40 We feel, conceive, or reason; laugh or weep,\n",
            "\n",
            "41 I confess that neither the structure of languages,\n",
            "nor the code of governments, nor the politics of various states\n",
            "possessed attractions for me.\n",
            "42 I abhorred the face of man.\n",
            "43 “Have you,” he\n",
            "said, “really spent your time in studying such nonsense?”\n",
            "\n",
            "44 In the meantime I took every precaution to defend my person in case the\n",
            "fiend should openly attack me.\n",
            "45 “A few days after, the Turk entered his daughter’s apartment and told\n",
            "her hastily that he had reason to believe that his residence at Leghorn\n",
            "had been divulged and that he should speedily be delivered up to the\n",
            "French government; he had consequently hired a vessel to convey him to\n",
            "Constantinople, for which city he should sail in a few hours.\n",
            "46 They were for ever ardent and craving; still\n",
            "I desired love and fellowship, and I was still spurned.\n",
            "47 Kirwin charged himself with every\n",
            "care of collecting witnesses and arranging my defence.\n",
            "48 My affection for my guest increases every day.\n",
            "49 It was about five in the morning when I entered my father’s house.\n",
            "50 What do you intend to do?”\n",
            "\n",
            "51 Chapter 20\n",
            "\n",
            "52 Is this gentle and lovely being lost\n",
            "for ever?\n",
            "53 Fear overcame me; I\n",
            "dared no advance, dreading a thousand nameless evils that made me tremble,\n",
            "although I was unable to define them.\n",
            "54 Even\n",
            "where the affections are not strongly moved by any superior excellence,\n",
            "the companions of our childhood always possess a certain power over our\n",
            "minds which hardly any later friend can obtain.\n",
            "55 “What a noble fellow!” you will exclaim.\n",
            "56 “These thoughts exhilarated me and led me to apply with fresh ardour to\n",
            "the acquiring the art of language.\n",
            "57 Finding the door open, I entered.\n",
            "58 The cup of life was poisoned for ever, and\n",
            "although the sun shone upon me, as upon the happy and gay of heart, I\n",
            "saw around me nothing but a dense and frightful darkness, penetrated by\n",
            "no light but the glimmer of two eyes that glared upon me.\n",
            "59 I confessed, that I might\n",
            "obtain absolution; but now that falsehood lies heavier at my heart than\n",
            "all my other sins.\n",
            "60 My person was hideous and my stature gigantic.\n",
            "61 Such is my journal of what relates to this strange occurrence up to the\n",
            "present day.\n",
            "62 “I commit my cause to the justice of my judges, yet I see no room for\n",
            "hope.\n",
            "63 I wish you could see him; he is very tall of his age, with\n",
            "sweet laughing blue eyes, dark eyelashes, and curling hair.\n",
            "64 How ill you are!\n",
            "65 The youth\n",
            "and his companion had each of them several names, but the old man had only\n",
            "one, which was _father._ The girl was called _sister_ or\n",
            "_Agatha,_ and the youth _Felix, brother,_ or _son_.\n",
            "66 And could not such words from her whom I fondly prized before every\n",
            "other gift of fortune suffice to chase away the fiend that lurked in my\n",
            "heart?\n",
            "67 Agatha fainted, and Safie, unable to attend to her\n",
            "friend, rushed out of the cottage.\n",
            "68 “I am happy to remark, my dear son, that you have resumed your former\n",
            "pleasures and seem to be returning to yourself.\n",
            "69 Alas!\n",
            "70 They know our\n",
            "infantine dispositions, which, however they may be afterwards modified,\n",
            "are never eradicated; and they can judge of our actions with more\n",
            "certain conclusions as to the integrity of our motives.\n",
            "71 “The hour of my irresolution is past, and the period of your power is\n",
            "arrived.\n",
            "72 I will melt the stony\n",
            "hearts of your enemies by my tears and prayers.\n",
            "73 I arrived at Geneva.\n",
            "74 I feel exquisite pleasure in dwelling on the recollections of childhood,\n",
            "before misfortune had tainted my mind and changed its bright visions of\n",
            "extensive usefulness into gloomy and narrow reflections upon self.\n",
            "75 The very winds whispered in soothing\n",
            "accents, and maternal Nature bade me weep no more.\n",
            "76 It was after my return from one of these rambles that my father,\n",
            "calling me aside, thus addressed me,\n",
            "\n",
            "77 Accordingly, a few months\n",
            "after your departure for Ingolstadt, Justine was called home by her\n",
            "repentant mother.\n",
            "78 I am interrupted.\n",
            "79 “My dear father, you are mistaken; Justine is innocent.”\n",
            "\n",
            "80 I swear to you, by the earth which I inhabit, and by you that made me, that\n",
            "with the companion you bestow, I will quit the neighbourhood of man and\n",
            "dwell, as it may chance, in the most savage of places.\n",
            "81 Yet a second step is taken towards my enterprise.\n",
            "82 I was anxious\n",
            "and watchful, while my right hand grasped a pistol which was hidden in\n",
            "my bosom; every sound terrified me, but I resolved that I would sell my\n",
            "life dearly and not shrink from the conflict until my own life or that\n",
            "of my adversary was extinguished.\n",
            "83 But to me the remembrance of the\n",
            "threat returned; nor can you wonder that, omnipotent as the fiend had\n",
            "yet been in his deeds of blood, I should almost regard him as\n",
            "invincible, and that when he had pronounced the words “_I shall be with\n",
            "you on your wedding-night_,” I should regard the threatened fate as\n",
            "unavoidable.\n",
            "84 However, it was\n",
            "hardly morning, and I might reasonably hope to arrive by night.\n",
            "85 Never will I give up my search\n",
            "until he or I perish; and then with what ecstasy shall I join my\n",
            "Elizabeth and my departed friends, who even now prepare for me the\n",
            "reward of my tedious toil and horrible pilgrimage!\n",
            "86 Chapter 19\n",
            "\n",
            "87 Six years have passed since I resolved on my present undertaking.\n",
            "88 Here I paused, I knew not why;\n",
            "but I remained some minutes with my eyes fixed on a coach that was coming\n",
            "towards me from the other end of the street.\n",
            "89 Letter 4\n",
            "\n",
            "90 Chapter 18\n",
            "\n",
            "91 London was our present point of rest; we determined to remain several\n",
            "months in this wonderful and celebrated city.\n",
            "92 ‘Come in.’\n",
            "\n",
            "93 He is\n",
            "so; but then he is wholly uneducated: he is as silent as a Turk, and a kind\n",
            "of ignorant carelessness attends him, which, while it renders his conduct\n",
            "the more astonishing, detracts from the interest and sympathy which\n",
            "otherwise he would command.\n",
            "94 Presently I\n",
            "found, by the frequent recurrence of some sound which the stranger\n",
            "repeated after them, that she was endeavouring to learn their language;\n",
            "and the idea instantly occurred to me that I should make use of the\n",
            "same instructions to the same end.\n",
            "95 My father observed with pain the alteration perceptible in my disposition\n",
            "and habits and endeavoured by arguments deduced from the feelings of his\n",
            "serene conscience and guiltless life to inspire me with fortitude and\n",
            "awaken in me the courage to dispel the dark cloud which brooded over me.\n",
            "96 “For that matter,” replied the old woman, “if you mean about the\n",
            "gentleman you murdered, I believe that it were better for you if you\n",
            "were dead, for I fancy it will go hard with you!\n",
            "97 Yet at the idea\n",
            "that the fiend should live and be triumphant, my rage and vengeance\n",
            "returned, and like a mighty tide, overwhelmed every other feeling.\n",
            "98 R.\n",
            "99 I remained two days at Lausanne, in this painful state of mind.\n"
          ]
        }
      ]
    },
    {
      "cell_type": "code",
      "source": [
        "layer_name = get_layer_name(location, layer_index)\n",
        "with torch.no_grad():\n",
        "  batch_logits, batch_activation_cache = model.run_with_cache(batch_tokens, remove_batch_dim=False)\n",
        "print(batch_logits.shape)\n",
        "print(batch_activation_cache[layer_name].shape)"
      ],
      "metadata": {
        "id": "VkrongKYGrAG",
        "colab": {
          "base_uri": "https://localhost:8080/"
        },
        "outputId": "7ae60d8a-d89e-4022-93b8-5a711d5b722a"
      },
      "execution_count": 165,
      "outputs": [
        {
          "output_type": "stream",
          "name": "stdout",
          "text": [
            "torch.Size([100, 212, 50257])\n",
            "torch.Size([100, 212, 768])\n"
          ]
        }
      ]
    },
    {
      "cell_type": "code",
      "source": [
        "input = \"The rain pattered dismally against the panes, and my candle was out\"\n",
        "str_tokens = model.to_str_tokens(input)\n",
        "print(str_tokens)\n",
        "tokens = model.to_tokens(input)\n",
        "print(tokens)\n",
        "with torch.no_grad():\n",
        "  logits, activation_cache = model.run_with_cache(input, remove_batch_dim=True)\n",
        "print(logits.shape)\n",
        "print(activation_cache[layer_name].shape)"
      ],
      "metadata": {
        "id": "r24_z_WSJFat",
        "colab": {
          "base_uri": "https://localhost:8080/"
        },
        "outputId": "609a6a9e-e454-4234-9a88-6c930141ca4a"
      },
      "execution_count": 172,
      "outputs": [
        {
          "output_type": "stream",
          "name": "stdout",
          "text": [
            "['<|endoftext|>', 'The', ' rain', ' pat', 'tered', ' dism', 'ally', ' against', ' the', ' pan', 'es', ',', ' and', ' my', ' candle', ' was', ' out']\n",
            "tensor([[50256,   464,  6290,  1458,  4400, 18099,   453,  1028,   262,  3425,\n",
            "           274,    11,   290,   616, 26839,   373,   503]])\n",
            "torch.Size([1, 17, 50257])\n",
            "torch.Size([17, 768])\n"
          ]
        }
      ]
    },
    {
      "cell_type": "code",
      "source": [
        "token_index = -1\n",
        "\n",
        "layer_name = get_layer_name(location, layer_index)\n",
        "\n",
        "act = activation_cache[layer_name][token_index, :]\n",
        "\n",
        "input_tensor = activation_cache[layer_name]\n",
        "\n",
        "autoencoder = sae.Autoencoder.from_state_dict(state_dict).to(device)\n",
        "\n",
        "with torch.no_grad():\n",
        "    latent_activations, info = autoencoder.encode(input_tensor)\n",
        "    reconstructed_activations = autoencoder.decode(latent_activations, info)\n",
        "\n",
        "\n",
        "decoder_weights = autoencoder.decoder.weight\n",
        "act_dots = act @ decoder_weights\n",
        "top_feature_indx = torch.argmax(act_dots)\n",
        "top_feature = decoder_weights[:, top_feature_indx]\n",
        "\n",
        "print(f'input tensor: {input_tensor.shape}')\n",
        "print(f'latent activations: {latent_activations.shape}')\n",
        "print(f'reconstructed activations: {reconstructed_activations.shape}')\n",
        "print(f'act_dots: {act_dots.shape}')\n",
        "print(f'top_feature index: {top_feature_indx}')\n",
        "print(f'top_feature: {top_feature.shape}')\n",
        "\n",
        "# print(torch.nonzero(latent_activations[50, :]))"
      ],
      "metadata": {
        "colab": {
          "base_uri": "https://localhost:8080/"
        },
        "id": "UICEAhSeffVi",
        "outputId": "c4ee4045-77c8-4bd9-dcb4-2773458b4e79"
      },
      "execution_count": 183,
      "outputs": [
        {
          "output_type": "stream",
          "name": "stdout",
          "text": [
            "input tensor: torch.Size([17, 768])\n",
            "latent activations: torch.Size([17, 131072])\n",
            "reconstructed activations: torch.Size([17, 768])\n",
            "act_dots: torch.Size([131072])\n",
            "top_feature index: 44733\n",
            "top_feature: torch.Size([768])\n"
          ]
        }
      ]
    },
    {
      "cell_type": "code",
      "source": [
        "act @ top_feature"
      ],
      "metadata": {
        "colab": {
          "base_uri": "https://localhost:8080/"
        },
        "id": "DhJqWsOSmKGf",
        "outputId": "39ec1bca-5353-492d-f6da-edaed58b5798"
      },
      "execution_count": 186,
      "outputs": [
        {
          "output_type": "execute_result",
          "data": {
            "text/plain": [
              "tensor(70.7726, grad_fn=<DotBackward0>)"
            ]
          },
          "metadata": {},
          "execution_count": 186
        }
      ]
    },
    {
      "cell_type": "code",
      "source": [
        "batch_acts = batch_activation_cache[layer_name].detach().cpu()\n",
        "print(batch_acts.shape)"
      ],
      "metadata": {
        "colab": {
          "base_uri": "https://localhost:8080/"
        },
        "id": "o2SUEZBRqU4G",
        "outputId": "7a965761-fb1f-461f-fa8a-0bdcc5d0782d"
      },
      "execution_count": 185,
      "outputs": [
        {
          "output_type": "stream",
          "name": "stdout",
          "text": [
            "torch.Size([100, 212, 768])\n"
          ]
        }
      ]
    },
    {
      "cell_type": "code",
      "source": [
        "batch_acts_top = batch_acts @ top_feature\n",
        "mask = batch_acts_top > 0.\n",
        "batch_acts_top = batch_acts_top * mask\n",
        "print(batch_acts_top.shape)"
      ],
      "metadata": {
        "colab": {
          "base_uri": "https://localhost:8080/"
        },
        "id": "AjKP6E5VwQMA",
        "outputId": "3e8d24fa-e659-4466-946f-82d9e0ad2e04"
      },
      "execution_count": 187,
      "outputs": [
        {
          "output_type": "stream",
          "name": "stdout",
          "text": [
            "torch.Size([100, 212])\n"
          ]
        }
      ]
    },
    {
      "cell_type": "code",
      "source": [
        "for line, i in enumerate(range(100)):\n",
        "  print(line, list(zip(model.to_str_tokens(sentences[rand_indices[i]]), batch_acts_top[i, :].data)))\n",
        "  print('---------------------------------------------------------------------------------------------------------------')"
      ],
      "metadata": {
        "colab": {
          "base_uri": "https://localhost:8080/"
        },
        "id": "pmDNmbCi9vMp",
        "outputId": "a2e38a6b-f593-4618-9824-507a3cd39714"
      },
      "execution_count": 188,
      "outputs": [
        {
          "output_type": "stream",
          "name": "stdout",
          "text": [
            "0 [('<|endoftext|>', tensor(-0.)), ('He', tensor(-0.)), (' has', tensor(-0.)), (' already', tensor(-0.)), (' had', tensor(-0.)), (' one', tensor(-0.)), (' or', tensor(-0.)), (' two', tensor(-0.)), (' little', tensor(-0.)), (' _', tensor(-0.)), ('wives', tensor(-0.)), (',', tensor(-0.)), ('_', tensor(-0.)), (' but', tensor(-0.)), (' Louis', tensor(-0.)), ('a', tensor(-0.)), (' B', tensor(-0.)), ('iron', tensor(-0.)), ('\\n', tensor(-0.)), ('is', tensor(-0.)), (' his', tensor(-0.)), (' favourite', tensor(-0.)), (',', tensor(-0.)), (' a', tensor(-0.)), (' pretty', tensor(-0.)), (' little', tensor(-0.)), (' girl', tensor(-0.)), (' of', tensor(-0.)), (' five', tensor(1.6644)), (' years', tensor(-0.)), (' of', tensor(-0.)), (' age', tensor(-0.)), ('.', tensor(-0.))]\n",
            "---------------------------------------------------------------------------------------------------------------\n",
            "1 [('<|endoftext|>', tensor(-0.)), ('My', tensor(-0.)), (' lieutenant', tensor(-0.)), (',', tensor(-0.)), (' for', tensor(-0.)), (' instance', tensor(-0.)), (',', tensor(-0.)), (' is', tensor(-0.)), (' a', tensor(-0.)), (' man', tensor(-0.)), (' of', tensor(-0.)), (' wonderful', tensor(-0.)), (' courage', tensor(-0.)), ('\\n', tensor(-0.)), ('and', tensor(-0.)), (' enterprise', tensor(-0.)), (';', tensor(-0.)), (' he', tensor(-0.)), (' is', tensor(5.0871)), (' mad', tensor(-0.)), ('ly', tensor(-0.)), (' des', tensor(-0.)), ('ir', tensor(3.7824)), ('ous', tensor(-0.)), (' of', tensor(-0.)), (' glory', tensor(-0.)), (',', tensor(-0.)), (' or', tensor(-0.)), (' rather', tensor(-0.)), (',', tensor(-0.)), (' to', tensor(-0.)), (' word', tensor(-0.)), (' my', tensor(-0.)), (' phrase', tensor(-0.)), ('\\n', tensor(1.8163)), ('more', tensor(-0.)), (' character', tensor(-0.)), ('istically', tensor(-0.)), (',', tensor(-0.)), (' of', tensor(3.5136)), (' advancement', tensor(-0.)), (' in', tensor(-0.)), (' his', tensor(-0.)), (' profession', tensor(-0.)), ('.', tensor(-0.))]\n",
            "---------------------------------------------------------------------------------------------------------------\n",
            "2 [('<|endoftext|>', tensor(-0.)), ('�', tensor(-0.)), ('�', tensor(-0.)), ('I', tensor(-0.)), (' thank', tensor(-0.)), (' you', tensor(-0.)), (',', tensor(-0.)), (' Walton', tensor(-0.)), (',', tensor(-0.)), ('�', tensor(-0.)), ('�', tensor(-0.)), (' he', tensor(-0.)), (' said', tensor(-0.)), (',', tensor(-0.)), (' �', tensor(-0.)), ('�', tensor(-0.)), ('for', tensor(-0.)), (' your', tensor(-0.)), (' kind', tensor(-0.)), (' intentions', tensor(-0.)), (' towards', tensor(-0.)), (' so', tensor(-0.)), ('\\n', tensor(-0.)), ('m', tensor(-0.)), ('iser', tensor(-0.)), ('able', tensor(-0.)), (' a', tensor(-0.)), (' w', tensor(-0.)), ('retch', tensor(-0.)), (';', tensor(-0.)), (' but', tensor(-0.)), (' when', tensor(-0.)), (' you', tensor(5.0071)), (' speak', tensor(-0.)), (' of', tensor(-0.)), (' new', tensor(-0.)), (' ties', tensor(-0.)), (' and', tensor(-0.)), (' fresh', tensor(-0.)), ('\\n', tensor(-0.)), ('aff', tensor(-0.)), ('ect', tensor(-0.)), ('ions', tensor(-0.)), (',', tensor(3.5607)), (' think', tensor(-0.)), (' you', tensor(-0.)), (' that', tensor(-0.)), (' any', tensor(-0.)), (' can', tensor(-0.)), (' replace', tensor(-0.)), (' those', tensor(-0.)), (' who', tensor(-0.)), (' are', tensor(13.8025)), (' gone', tensor(-0.)), ('?', tensor(-0.))]\n",
            "---------------------------------------------------------------------------------------------------------------\n",
            "3 [('<|endoftext|>', tensor(-0.)), ('We', tensor(-0.)), (' left', tensor(-0.)), (' Oxford', tensor(-0.)), (' with', tensor(-0.)), (' regret', tensor(-0.)), (' and', tensor(-0.)), (' proceeded', tensor(-0.)), (' to', tensor(-0.)), (' Mat', tensor(-0.)), ('lock', tensor(-0.)), (',', tensor(-0.)), (' which', tensor(-0.)), (' was', tensor(-0.)), (' our', tensor(-0.)), (' next', tensor(-0.)), ('\\n', tensor(-0.)), ('place', tensor(-0.)), (' of', tensor(1.3640)), (' rest', tensor(-0.)), ('.', tensor(-0.))]\n",
            "---------------------------------------------------------------------------------------------------------------\n",
            "4 [('<|endoftext|>', tensor(-0.)), ('The', tensor(-0.)), (' past', tensor(-0.)), (' appeared', tensor(-0.)), (' to', tensor(-0.)), (' me', tensor(-0.)), (' in', tensor(-0.)), (' the', tensor(4.9277)), (' light', tensor(-0.)), (' of', tensor(-0.)), (' a', tensor(-0.)), (' fright', tensor(-0.)), ('ful', tensor(-0.)), (' dream', tensor(-0.)), (';', tensor(-0.)), ('\\n', tensor(-0.)), ('yet', tensor(-0.)), (' the', tensor(-0.)), (' vessel', tensor(-0.)), (' in', tensor(-0.)), (' which', tensor(-0.)), (' I', tensor(-0.)), (' was', tensor(-0.)), (',', tensor(-0.)), (' the', tensor(-0.)), (' wind', tensor(-0.)), (' that', tensor(-0.)), (' blew', tensor(-0.)), (' me', tensor(-0.)), (' from', tensor(-0.)), (' the', tensor(-0.)), (' det', tensor(-0.)), ('ested', tensor(-0.)), ('\\n', tensor(8.4295)), ('shore', tensor(-0.)), (' of', tensor(-0.)), (' Ireland', tensor(-0.)), (',', tensor(-0.)), (' and', tensor(-0.)), (' the', tensor(-0.)), (' sea', tensor(-0.)), (' which', tensor(-0.)), (' surrounded', tensor(-0.)), (' me', tensor(-0.)), (',', tensor(-0.)), (' told', tensor(-0.)), (' me', tensor(2.5155)), (' too', tensor(2.6445)), (' forcibly', tensor(-0.)), ('\\n', tensor(-0.)), ('that', tensor(-0.)), (' I', tensor(-0.)), (' was', tensor(-0.)), (' deceived', tensor(-0.)), (' by', tensor(-0.)), (' no', tensor(-0.)), (' vision', tensor(-0.)), (' and', tensor(-0.)), (' that', tensor(-0.)), (' Cl', tensor(-0.)), ('erv', tensor(-0.)), ('al', tensor(-0.)), (',', tensor(-0.)), (' my', tensor(-0.)), (' friend', tensor(-0.)), (' and', tensor(-0.)), (' de', tensor(-0.)), ('arest', tensor(-0.)), ('\\n', tensor(-0.)), ('compan', tensor(-0.)), ('ion', tensor(-0.)), (',', tensor(-0.)), (' had', tensor(-0.)), (' fallen', tensor(-0.)), (' a', tensor(5.9599)), (' victim', tensor(-0.)), (' to', tensor(4.7347)), (' me', tensor(-0.)), (' and', tensor(-0.)), (' the', tensor(-0.)), (' monster', tensor(-0.)), (' of', tensor(-0.)), (' my', tensor(-0.)), (' creation', tensor(-0.)), ('.', tensor(-0.))]\n",
            "---------------------------------------------------------------------------------------------------------------\n",
            "5 [('<|endoftext|>', tensor(-0.)), ('�', tensor(-0.)), ('�', tensor(-0.)), ('�', tensor(-0.)), ('�', tensor(-0.)), ('I', tensor(-0.)), (' am', tensor(-0.)), (' about', tensor(-0.)), (' to', tensor(-0.)), (' undertake', tensor(-0.)), (' that', tensor(-0.)), (' task', tensor(-0.)), (';', tensor(-0.)), (' and', tensor(-0.)), (' it', tensor(-0.)), (' is', tensor(-0.)), (' on', tensor(-0.)), (' that', tensor(-0.)), (' account', tensor(-0.)), (' that', tensor(-0.)), (' I', tensor(-0.)), ('\\n', tensor(-0.)), ('feel', tensor(-0.)), (' so', tensor(-0.)), (' many', tensor(-0.)), (' overwhelming', tensor(-0.)), (' ter', tensor(-0.)), ('rors', tensor(-0.)), ('.', tensor(-0.))]\n",
            "---------------------------------------------------------------------------------------------------------------\n",
            "6 [('<|endoftext|>', tensor(-0.)), ('The', tensor(-0.)), (' thunder', tensor(0.7745)), (' ceased', tensor(-0.)), (';', tensor(-0.)), (' but', tensor(-0.)), (' the', tensor(-0.)), (' rain', tensor(-0.)), (' still', tensor(-0.)), ('\\n', tensor(-0.)), ('contin', tensor(3.1516)), ('ued', tensor(-0.)), (',', tensor(-0.)), (' and', tensor(-0.)), (' the', tensor(-0.)), (' scene', tensor(-0.)), (' was', tensor(-0.)), (' envelop', tensor(-0.)), ('ed', tensor(-0.)), (' in', tensor(-0.)), (' an', tensor(-0.)), (' imp', tensor(-0.)), ('en', tensor(-0.)), ('etr', tensor(-0.)), ('able', tensor(-0.)), (' darkness', tensor(-0.)), ('.', tensor(-0.))]\n",
            "---------------------------------------------------------------------------------------------------------------\n",
            "7 [('<|endoftext|>', tensor(-0.)), ('Fi', tensor(-0.)), ('end', tensor(-0.)), (' that', tensor(-0.)), (' thou', tensor(-0.)), (' art', tensor(-0.)), ('!', tensor(-0.))]\n",
            "---------------------------------------------------------------------------------------------------------------\n",
            "8 [('<|endoftext|>', tensor(-0.)), ('My', tensor(-0.)), (' present', tensor(-0.)), (' situation', tensor(-0.)), (' was', tensor(-0.)), (' one', tensor(-0.)), (' in', tensor(-0.)), (' which', tensor(-0.)), (' all', tensor(-0.)), (' voluntary', tensor(-0.)), (' thought', tensor(-0.)), (' was', tensor(-0.)), ('\\n', tensor(-0.)), ('sw', tensor(-0.)), ('allowed', tensor(24.2837)), (' up', tensor(-0.)), (' and', tensor(4.7084)), (' lost', tensor(-0.)), ('.', tensor(-0.))]\n",
            "---------------------------------------------------------------------------------------------------------------\n",
            "9 [('<|endoftext|>', tensor(-0.)), ('Cl', tensor(-0.)), ('erv', tensor(-0.)), ('al', tensor(-0.)), (' spent', tensor(-0.)), (' the', tensor(-0.)), (' last', tensor(-0.)), ('\\n', tensor(-0.)), ('even', tensor(-0.)), ('ing', tensor(-0.)), (' with', tensor(-0.)), (' us', tensor(-0.)), ('.', tensor(-0.))]\n",
            "---------------------------------------------------------------------------------------------------------------\n",
            "10 [('<|endoftext|>', tensor(-0.)), ('Peace', tensor(-0.)), (',', tensor(-0.)), (' peace', tensor(-0.)), ('!', tensor(-0.))]\n",
            "---------------------------------------------------------------------------------------------------------------\n",
            "11 [('<|endoftext|>', tensor(-0.)), ('What', tensor(-0.)), (' was', tensor(-0.)), (' I', tensor(-0.)), ('?', tensor(-0.))]\n",
            "---------------------------------------------------------------------------------------------------------------\n",
            "12 [('<|endoftext|>', tensor(-0.)), ('I', tensor(-0.)), (' burned', tensor(-0.)), (' with', tensor(-0.)), (' rage', tensor(-0.)), (' to', tensor(-0.)), ('\\n', tensor(-0.)), ('p', tensor(-0.)), ('urs', tensor(-0.)), ('ue', tensor(-0.)), (' the', tensor(-0.)), (' murderer', tensor(-0.)), (' of', tensor(-0.)), (' my', tensor(-0.)), (' peace', tensor(-0.)), (' and', tensor(-0.)), (' precip', tensor(-0.)), ('itate', tensor(-0.)), (' him', tensor(-0.)), (' into', tensor(-0.)), (' the', tensor(-0.)), (' ocean', tensor(-0.)), ('.', tensor(-0.))]\n",
            "---------------------------------------------------------------------------------------------------------------\n",
            "13 [('<|endoftext|>', tensor(-0.)), ('Just', tensor(-0.)), ('ine', tensor(-0.)), (' shook', tensor(-0.)), (' her', tensor(0.9472)), (' head', tensor(-0.)), (' mourn', tensor(-0.)), ('fully', tensor(-0.)), ('.', tensor(-0.))]\n",
            "---------------------------------------------------------------------------------------------------------------\n",
            "14 [('<|endoftext|>', tensor(-0.)), ('�', tensor(-0.)), ('�', tensor(-0.)), ('D', tensor(-0.)), ('—', tensor(-0.)), ('n', tensor(-0.)), ('\\n', tensor(-0.)), ('the', tensor(-0.)), (' fellow', tensor(-0.)), ('!', tensor(-0.)), ('�', tensor(-0.)), ('�', tensor(-0.)), (' cried', tensor(-0.)), (' he', tensor(-0.)), (';', tensor(-0.)), (' �', tensor(-0.)), ('�', tensor(-0.)), ('why', tensor(-0.)), (',', tensor(-0.)), (' M', tensor(-0.)), ('.', tensor(-0.))]\n",
            "---------------------------------------------------------------------------------------------------------------\n",
            "15 [('<|endoftext|>', tensor(-0.)), ('On', tensor(-0.)), (' you', tensor(-0.)), (' it', tensor(-0.)), (' rests', tensor(-0.)), (',', tensor(-0.)), ('\\n', tensor(-0.)), ('whether', tensor(-0.)), (' I', tensor(-0.)), (' quit', tensor(-0.)), (' for', tensor(3.1536)), (' ever', tensor(-0.)), (' the', tensor(-0.)), (' neighbourhood', tensor(-0.)), (' of', tensor(-0.)), (' man', tensor(-0.)), (' and', tensor(-0.)), (' lead', tensor(-0.)), (' a', tensor(-0.)), (' harmless', tensor(-0.)), ('\\n', tensor(5.1050)), ('life', tensor(-0.)), (',', tensor(-0.)), (' or', tensor(-0.)), (' become', tensor(-0.)), (' the', tensor(-0.)), (' scourge', tensor(-0.)), (' of', tensor(-0.)), (' your', tensor(-0.)), (' fellow', tensor(-0.)), (' creatures', tensor(-0.)), (' and', tensor(-0.)), (' the', tensor(1.7181)), (' author', tensor(-0.)), (' of', tensor(-0.)), ('\\n', tensor(-0.)), ('your', tensor(-0.)), (' own', tensor(-0.)), (' speedy', tensor(-0.)), (' ruin', tensor(-0.)), ('.', tensor(-0.)), ('�', tensor(-0.)), ('�', tensor(-0.)), ('\\n', tensor(-0.))]\n",
            "---------------------------------------------------------------------------------------------------------------\n",
            "16 [('<|endoftext|>', tensor(-0.)), ('You', tensor(-0.)), (' were', tensor(-0.)), (' attached', tensor(-0.)), (' to', tensor(-0.)), (' each', tensor(3.3459)), (' other', tensor(-0.)), (' from', tensor(-0.)), (' your', tensor(-0.)), ('\\n', tensor(-0.)), ('ear', tensor(-0.)), ('liest', tensor(-0.)), (' infancy', tensor(-0.)), (';', tensor(-0.)), (' you', tensor(-0.)), (' studied', tensor(4.7054)), (' together', tensor(-0.)), (',', tensor(-0.)), (' and', tensor(-0.)), (' appeared', tensor(-0.)), (',', tensor(-0.)), (' in', tensor(-0.)), (' dispos', tensor(-0.)), ('itions', tensor(-0.)), (' and', tensor(-0.)), ('\\n', tensor(3.0345)), ('t', tensor(-0.)), ('ast', tensor(-0.)), ('es', tensor(0.2901)), (',', tensor(-0.)), (' entirely', tensor(-0.)), (' suited', tensor(-0.)), (' to', tensor(-0.)), (' one', tensor(-0.)), (' another', tensor(-0.)), ('.', tensor(-0.))]\n",
            "---------------------------------------------------------------------------------------------------------------\n",
            "17 [('<|endoftext|>', tensor(-0.)), ('�', tensor(-0.)), ('�', tensor(-0.)), ('The', tensor(-0.)), (' next', tensor(-0.)), (' morning', tensor(-0.)), (' Felix', tensor(-0.)), (' went', tensor(59.0098)), (' out', tensor(-0.)), (' to', tensor(-0.)), (' his', tensor(1.7880)), (' work', tensor(-0.)), (',', tensor(-0.)), (' and', tensor(-0.)), (' after', tensor(-0.)), (' the', tensor(-0.)), (' usual', tensor(-0.)), ('\\n', tensor(-0.)), ('occup', tensor(-0.)), ('ations', tensor(-0.)), (' of', tensor(-0.)), (' Ag', tensor(-0.)), ('atha', tensor(-0.)), (' were', tensor(-0.)), (' finished', tensor(-0.)), (',', tensor(-0.)), (' the', tensor(-0.)), (' Arabian', tensor(-0.)), (' sat', tensor(-0.)), (' at', tensor(-0.)), (' the', tensor(9.2719)), (' feet', tensor(-0.)), (' of', tensor(-0.)), (' the', tensor(-0.)), ('\\n', tensor(-0.)), ('old', tensor(-0.)), (' man', tensor(-0.)), (',', tensor(-0.)), (' and', tensor(-0.)), (' taking', tensor(-0.)), (' his', tensor(-0.)), (' guitar', tensor(-0.)), (',', tensor(-0.)), (' played', tensor(-0.)), (' some', tensor(2.0694)), (' airs', tensor(-0.)), (' so', tensor(-0.)), (' entr', tensor(-0.)), ('anc', tensor(-0.)), ('ingly', tensor(-0.)), ('\\n', tensor(-0.)), ('beaut', tensor(-0.)), ('iful', tensor(-0.)), (' that', tensor(-0.)), (' they', tensor(-0.)), (' at', tensor(-0.)), (' once', tensor(-0.)), (' drew', tensor(-0.)), (' tears', tensor(-0.)), (' of', tensor(-0.)), (' sorrow', tensor(-0.)), (' and', tensor(-0.)), (' delight', tensor(-0.)), (' from', tensor(-0.)), (' my', tensor(-0.)), ('\\n', tensor(-0.)), ('eyes', tensor(-0.)), ('.', tensor(-0.))]\n",
            "---------------------------------------------------------------------------------------------------------------\n",
            "18 [('<|endoftext|>', tensor(-0.)), ('Oh', tensor(-0.)), ('!', tensor(-0.))]\n",
            "---------------------------------------------------------------------------------------------------------------\n",
            "19 [('<|endoftext|>', tensor(-0.)), ('His', tensor(-0.)), (' voice', tensor(-0.)), (' seemed', tensor(-0.)), (' suff', tensor(-0.)), ('ocated', tensor(-0.)), (',', tensor(-0.)), (' and', tensor(-0.)), (' my', tensor(-0.)), (' first', tensor(-0.)), (' impulses', tensor(-0.)), (',', tensor(-0.)), (' which', tensor(-0.)), (' had', tensor(-0.)), (' suggested', tensor(-0.)), (' to', tensor(-0.)), ('\\n', tensor(-0.)), ('me', tensor(-0.)), (' the', tensor(-0.)), (' duty', tensor(-0.)), (' of', tensor(-0.)), (' obe', tensor(-0.)), ('ying', tensor(-0.)), (' the', tensor(-0.)), (' dying', tensor(-0.)), (' request', tensor(-0.)), (' of', tensor(-0.)), (' my', tensor(-0.)), (' friend', tensor(-0.)), (' in', tensor(-0.)), (' destroying', tensor(-0.)), (' his', tensor(-0.)), ('\\n', tensor(-0.)), ('enemy', tensor(-0.)), (',', tensor(-0.)), (' were', tensor(-0.)), (' now', tensor(3.1710)), (' suspended', tensor(-0.)), (' by', tensor(-0.)), (' a', tensor(1.4020)), (' mixture', tensor(-0.)), (' of', tensor(-0.)), (' curiosity', tensor(-0.)), (' and', tensor(-0.)), (' compassion', tensor(-0.)), ('.', tensor(-0.))]\n",
            "---------------------------------------------------------------------------------------------------------------\n",
            "20 [('<|endoftext|>', tensor(-0.)), ('Bl', tensor(-0.)), ('asted', tensor(-0.)), (' as', tensor(-0.)), (' thou', tensor(-0.)), (' w', tensor(-0.)), ('ert', tensor(-0.)), (',', tensor(-0.)), (' my', tensor(-0.)), (' agony', tensor(-0.)), (' was', tensor(4.0179)), (' still', tensor(-0.)), (' superior', tensor(-0.)), (' to', tensor(-0.)), ('\\n', tensor(-0.)), ('th', tensor(-0.)), ('ine', tensor(-0.)), (',', tensor(-0.)), (' for', tensor(-0.)), (' the', tensor(-0.)), (' bitter', tensor(-0.)), (' sting', tensor(-0.)), (' of', tensor(-0.)), (' remorse', tensor(-0.)), (' will', tensor(-0.)), (' not', tensor(4.5389)), (' cease', tensor(-0.)), (' to', tensor(-0.)), (' rank', tensor(-0.)), ('le', tensor(-0.)), (' in', tensor(-0.)), (' my', tensor(-0.)), ('\\n', tensor(-0.)), ('w', tensor(-0.)), ('ounds', tensor(-0.)), (' until', tensor(-0.)), (' death', tensor(-0.)), (' shall', tensor(-0.)), (' close', tensor(-0.)), (' them', tensor(-0.)), (' for', tensor(7.7828)), (' ever', tensor(-0.)), ('.', tensor(-0.))]\n",
            "---------------------------------------------------------------------------------------------------------------\n",
            "21 [('<|endoftext|>', tensor(-0.)), ('His', tensor(-0.)), (' words', tensor(-0.)), (' had', tensor(-0.)), (' a', tensor(-0.)), (' strange', tensor(-0.)), (' effect', tensor(-0.)), (' upon', tensor(-0.)), (' me', tensor(-0.)), ('.', tensor(-0.))]\n",
            "---------------------------------------------------------------------------------------------------------------\n",
            "22 [('<|endoftext|>', tensor(-0.)), ('Obs', tensor(-0.)), ('erve', tensor(-0.)), (' how', tensor(-0.)), (' fast', tensor(-0.)), (' we', tensor(-0.)), (' move', tensor(-0.)), ('\\n', tensor(0.9602)), ('along', tensor(-0.)), (' and', tensor(-0.)), (' how', tensor(-0.)), (' the', tensor(-0.)), (' clouds', tensor(-0.)), (',', tensor(-0.)), (' which', tensor(-0.)), (' sometimes', tensor(-0.)), (' obscure', tensor(-0.)), (' and', tensor(-0.)), (' sometimes', tensor(9.3348)), (' rise', tensor(-0.)), ('\\n', tensor(-0.)), ('above', tensor(-0.)), (' the', tensor(-0.)), (' dome', tensor(-0.)), (' of', tensor(-0.)), (' Mont', tensor(-0.)), (' Blanc', tensor(-0.)), (',', tensor(-0.)), (' render', tensor(-0.)), (' this', tensor(-0.)), (' scene', tensor(-0.)), (' of', tensor(-0.)), (' beauty', tensor(1.9575)), (' still', tensor(-0.)), (' more', tensor(-0.)), ('\\n', tensor(-0.)), ('interesting', tensor(-0.)), ('.', tensor(-0.))]\n",
            "---------------------------------------------------------------------------------------------------------------\n",
            "23 [('<|endoftext|>', tensor(-0.)), ('I', tensor(-0.)), (' was', tensor(-0.)), ('\\n', tensor(-0.)), ('n', tensor(-0.)), ('our', tensor(-0.)), ('ished', tensor(-0.)), (' with', tensor(-0.)), (' high', tensor(-0.)), (' thoughts', tensor(-0.)), (' of', tensor(-0.)), (' honour', tensor(-0.)), (' and', tensor(-0.)), (' devotion', tensor(-0.)), ('.', tensor(-0.))]\n",
            "---------------------------------------------------------------------------------------------------------------\n",
            "24 [('<|endoftext|>', tensor(-0.)), ('I', tensor(-0.)), (' would', tensor(-0.)), (' have', tensor(-0.)), (' made', tensor(-0.)), (' a', tensor(-0.)), (' pilgrimage', tensor(-0.)), (' to', tensor(-0.)), (' the', tensor(-0.)), (' highest', tensor(-0.)), (' peak', tensor(-0.)), (' of', tensor(-0.)), (' the', tensor(-0.)), ('\\n', tensor(-0.)), ('And', tensor(-0.)), ('es', tensor(-0.)), (',', tensor(-0.)), (' could', tensor(-0.)), (' I', tensor(-0.)), (',', tensor(-0.)), (' when', tensor(-0.)), (' there', tensor(-0.)), (',', tensor(-0.)), (' have', tensor(-0.)), (' precip', tensor(-0.)), ('itated', tensor(-0.)), (' him', tensor(-0.)), (' to', tensor(-0.)), (' their', tensor(2.2776)), (' base', tensor(-0.)), ('.', tensor(-0.))]\n",
            "---------------------------------------------------------------------------------------------------------------\n",
            "25 [('<|endoftext|>', tensor(-0.)), ('But', tensor(-0.)), (' the', tensor(-0.)), (' fresh', tensor(-0.)), (' air', tensor(-0.)), (' and', tensor(-0.)), ('\\n', tensor(-0.)), ('bright', tensor(-0.)), (' sun', tensor(-0.)), (' seldom', tensor(-0.)), (' failed', tensor(-0.)), (' to', tensor(-0.)), (' restore', tensor(-0.)), (' me', tensor(-0.)), (' to', tensor(-0.)), (' some', tensor(4.6768)), (' degree', tensor(-0.)), (' of', tensor(-0.)), (' composure', tensor(-0.)), (',', tensor(-0.)), (' and', tensor(-0.)), ('\\n', tensor(-0.)), ('on', tensor(-0.)), (' my', tensor(-0.)), (' return', tensor(-0.)), (' I', tensor(-0.)), (' met', tensor(-0.)), (' the', tensor(-0.)), (' sal', tensor(-0.)), ('utations', tensor(-0.)), (' of', tensor(-0.)), (' my', tensor(-0.)), (' friends', tensor(-0.)), (' with', tensor(-0.)), (' a', tensor(-0.)), (' read', tensor(-0.)), ('ier', tensor(-0.)), (' smile', tensor(-0.)), ('\\n', tensor(-0.)), ('and', tensor(-0.)), (' a', tensor(-0.)), (' more', tensor(-0.)), (' cheerful', tensor(-0.)), (' heart', tensor(-0.)), ('.', tensor(-0.))]\n",
            "---------------------------------------------------------------------------------------------------------------\n",
            "26 [('<|endoftext|>', tensor(-0.)), ('K', tensor(-0.)), ('ir', tensor(-0.)), ('win', tensor(-0.)), (' is', tensor(-0.)), (' a', tensor(-0.)), (' magistrate', tensor(-0.)), (',', tensor(-0.)), ('\\n', tensor(-0.)), ('and', tensor(-0.)), (' you', tensor(-0.)), (' are', tensor(-0.)), (' to', tensor(-0.)), (' give', tensor(-0.)), (' an', tensor(5.6898)), (' account', tensor(-0.)), (' of', tensor(-0.)), (' the', tensor(-0.)), (' death', tensor(-0.)), (' of', tensor(-0.)), (' a', tensor(-0.)), (' gentleman', tensor(-0.)), (' who', tensor(-0.)), (' was', tensor(-0.)), ('\\n', tensor(-0.)), ('found', tensor(3.5603)), (' murdered', tensor(5.6416)), (' here', tensor(-0.)), (' last', tensor(-0.)), (' night', tensor(-0.)), ('.', tensor(-0.)), ('�', tensor(-0.)), ('�', tensor(-0.)), ('\\n', tensor(-0.))]\n",
            "---------------------------------------------------------------------------------------------------------------\n",
            "27 [('<|endoftext|>', tensor(-0.)), ('What', tensor(-0.)), (' must', tensor(-0.)), (' have', tensor(-0.)), (' been', tensor(-0.)), (' his', tensor(-0.)), (' feelings', tensor(-0.)), ('?', tensor(-0.))]\n",
            "---------------------------------------------------------------------------------------------------------------\n",
            "28 [('<|endoftext|>', tensor(-0.)), ('My', tensor(-0.)), (' spirit', tensor(-0.)), ('\\n', tensor(-0.)), ('will', tensor(-0.)), (' sleep', tensor(-0.)), (' in', tensor(-0.)), (' peace', tensor(-0.)), (',', tensor(-0.)), (' or', tensor(-0.)), (' if', tensor(-0.)), (' it', tensor(-0.)), (' thinks', tensor(-0.)), (',', tensor(-0.)), (' it', tensor(-0.)), (' will', tensor(-0.)), (' not', tensor(-0.)), (' surely', tensor(-0.)), (' think', tensor(-0.)), (' thus', tensor(-0.)), ('.', tensor(-0.))]\n",
            "---------------------------------------------------------------------------------------------------------------\n",
            "29 [('<|endoftext|>', tensor(-0.)), ('The', tensor(-0.)), (' materials', tensor(-0.)), (' at', tensor(-0.)), (' present', tensor(-0.)), (' within', tensor(-0.)), (' my', tensor(-0.)), (' command', tensor(-0.)), (' hardly', tensor(-0.)), (' appeared', tensor(-0.)), ('\\n', tensor(-0.)), ('adequ', tensor(-0.)), ('ate', tensor(-0.)), (' to', tensor(-0.)), (' so', tensor(-0.)), (' ardu', tensor(-0.)), ('ous', tensor(-0.)), (' an', tensor(-0.)), (' undertaking', tensor(-0.)), (',', tensor(-0.)), (' but', tensor(-0.)), (' I', tensor(-0.)), (' doubted', tensor(0.4022)), (' not', tensor(-0.)), (' that', tensor(-0.)), (' I', tensor(-0.)), (' should', tensor(-0.)), ('\\n', tensor(-0.)), ('ult', tensor(-0.)), ('imately', tensor(-0.)), (' succeed', tensor(-0.)), ('.', tensor(-0.))]\n",
            "---------------------------------------------------------------------------------------------------------------\n",
            "30 [('<|endoftext|>', tensor(-0.)), ('My', tensor(-0.)), (' duties', tensor(-0.)), (' towards', tensor(-0.)), (' the', tensor(-0.)), (' beings', tensor(-0.)), (' of', tensor(-0.)), (' my', tensor(-0.)), (' own', tensor(-0.)), (' species', tensor(-0.)), (' had', tensor(-0.)), (' greater', tensor(-0.)), (' claims', tensor(-0.)), (' to', tensor(-0.)), ('\\n', tensor(-0.)), ('my', tensor(-0.)), (' attention', tensor(3.1694)), (' because', tensor(-0.)), (' they', tensor(-0.)), (' included', tensor(-0.)), (' a', tensor(-0.)), (' greater', tensor(2.4286)), (' proportion', tensor(-0.)), (' of', tensor(-0.)), (' happiness', tensor(-0.)), (' or', tensor(-0.)), ('\\n', tensor(-0.)), ('mis', tensor(-0.)), ('ery', tensor(-0.)), ('.', tensor(-0.))]\n",
            "---------------------------------------------------------------------------------------------------------------\n",
            "31 [('<|endoftext|>', tensor(-0.)), ('How', tensor(-0.)), (' I', tensor(-0.)), ('\\n', tensor(-0.)), ('have', tensor(-0.)), (' lived', tensor(-0.)), (' I', tensor(-0.)), (' hardly', tensor(-0.)), (' know', tensor(-0.)), (';', tensor(-0.)), (' many', tensor(-0.)), (' times', tensor(-0.)), (' have', tensor(-0.)), (' I', tensor(-0.)), (' stretched', tensor(-0.)), (' my', tensor(-0.)), (' failing', tensor(0.7230)), (' limbs', tensor(-0.)), (' upon', tensor(-0.)), ('\\n', tensor(-0.)), ('the', tensor(-0.)), (' sandy', tensor(-0.)), (' plain', tensor(-0.)), (' and', tensor(-0.)), (' prayed', tensor(-0.)), (' for', tensor(-0.)), (' death', tensor(-0.)), ('.', tensor(-0.))]\n",
            "---------------------------------------------------------------------------------------------------------------\n",
            "32 [('<|endoftext|>', tensor(-0.)), ('I', tensor(-0.)), (' shall', tensor(-0.)), (' ascend', tensor(-0.)), (' my', tensor(-0.)), (' funeral', tensor(-0.)), (' pile', tensor(-0.)), (' triumph', tensor(-0.)), ('antly', tensor(-0.)), (' and', tensor(-0.)), ('\\n', tensor(-0.)), ('ex', tensor(-0.)), ('ult', tensor(-0.)), (' in', tensor(-0.)), (' the', tensor(-0.)), (' agony', tensor(-0.)), (' of', tensor(-0.)), (' the', tensor(-0.)), (' tort', tensor(-0.)), ('uring', tensor(-0.)), (' flames', tensor(-0.)), ('.', tensor(-0.))]\n",
            "---------------------------------------------------------------------------------------------------------------\n",
            "33 [('<|endoftext|>', tensor(-0.)), ('My', tensor(-0.)), (' journey', tensor(-0.)), (' had', tensor(-0.)), (' been', tensor(-0.)), (' my', tensor(-0.)), (' own', tensor(-0.)), (' suggestion', tensor(-0.)), (',', tensor(-0.)), (' and', tensor(-0.)), (' Elizabeth', tensor(-0.)), ('\\n', tensor(-0.)), ('there', tensor(-0.)), ('fore', tensor(-0.)), (' acquies', tensor(-0.)), ('ced', tensor(-0.)), (',', tensor(-0.)), (' but', tensor(-0.)), (' she', tensor(-0.)), (' was', tensor(-0.)), (' filled', tensor(-0.)), (' with', tensor(-0.)), (' dis', tensor(-0.)), ('quiet', tensor(-0.)), (' at', tensor(-0.)), (' the', tensor(0.3307)), (' idea', tensor(-0.)), (' of', tensor(-0.)), ('\\n', tensor(-0.)), ('my', tensor(-0.)), (' suffering', tensor(-0.)), (',', tensor(20.4363)), (' away', tensor(-0.)), (' from', tensor(-0.)), (' her', tensor(-0.)), (',', tensor(-0.)), (' the', tensor(1.2944)), (' in', tensor(0.6183)), ('roads', tensor(-0.)), (' of', tensor(-0.)), (' misery', tensor(-0.)), (' and', tensor(-0.)), (' grief', tensor(-0.)), ('.', tensor(-0.))]\n",
            "---------------------------------------------------------------------------------------------------------------\n",
            "34 [('<|endoftext|>', tensor(-0.)), ('The', tensor(-0.)), (' peasants', tensor(-0.)), (' were', tensor(-0.)), ('\\n', tensor(-0.)), ('shut', tensor(12.7494)), (' up', tensor(-0.)), (' in', tensor(-0.)), (' their', tensor(-0.)), (' ho', tensor(-0.)), ('vel', tensor(4.2459)), ('s', tensor(-0.)), (',', tensor(-0.)), (' and', tensor(-0.)), (' only', tensor(-0.)), (' a', tensor(-0.)), (' few', tensor(-0.)), (' of', tensor(-0.)), (' the', tensor(-0.)), (' most', tensor(5.3167)), (' hard', tensor(-0.)), ('y', tensor(-0.)), (' ventured', tensor(30.9851)), (' forth', tensor(-0.)), (' to', tensor(-0.)), ('\\n', tensor(-0.)), ('se', tensor(-0.)), ('ize', tensor(-0.)), (' the', tensor(-0.)), (' animals', tensor(-0.)), (' whom', tensor(-0.)), (' starvation', tensor(-0.)), (' had', tensor(-0.)), (' forced', tensor(-0.)), (' from', tensor(-0.)), (' their', tensor(-0.)), (' hiding', tensor(-0.)), ('-', tensor(1.8906)), ('places', tensor(-0.)), (' to', tensor(-0.)), ('\\n', tensor(-0.)), ('seek', tensor(-0.)), (' for', tensor(3.2354)), (' prey', tensor(-0.)), ('.', tensor(-0.))]\n",
            "---------------------------------------------------------------------------------------------------------------\n",
            "35 [('<|endoftext|>', tensor(-0.)), ('But', tensor(-0.)), (' a', tensor(-0.)), (' blight', tensor(-0.)), (' had', tensor(-0.)), ('\\n', tensor(7.6476)), ('come', tensor(5.9082)), (' over', tensor(-0.)), (' my', tensor(-0.)), (' existence', tensor(-0.)), (',', tensor(-0.)), (' and', tensor(-0.)), (' I', tensor(-0.)), (' only', tensor(-0.)), (' visited', tensor(-0.)), (' these', tensor(-0.)), (' people', tensor(-0.)), (' for', tensor(-0.)), (' the', tensor(10.1392)), (' sake', tensor(-0.)), (' of', tensor(-0.)), ('\\n', tensor(-0.)), ('the', tensor(-0.)), (' information', tensor(-0.)), (' they', tensor(-0.)), (' might', tensor(-0.)), (' give', tensor(2.3083)), (' me', tensor(-0.)), (' on', tensor(-0.)), (' the', tensor(-0.)), (' subject', tensor(-0.)), (' in', tensor(-0.)), (' which', tensor(-0.)), (' my', tensor(-0.)), (' interest', tensor(-0.)), ('\\n', tensor(1.7176)), ('was', tensor(-0.)), (' so', tensor(-0.)), (' terribly', tensor(-0.)), (' profound', tensor(-0.)), ('.', tensor(-0.))]\n",
            "---------------------------------------------------------------------------------------------------------------\n",
            "36 [('<|endoftext|>', tensor(-0.)), ('S', tensor(-0.)), ('aying', tensor(-0.)), (' this', tensor(-0.)), (',', tensor(-0.)), (' he', tensor(-0.)), (' suddenly', tensor(-0.)), (' qu', tensor(-0.)), ('itted', tensor(0.2650)), (' me', tensor(-0.)), (',', tensor(2.5571)), (' fearful', tensor(-0.)), (',', tensor(-0.)), (' perhaps', tensor(-0.)), (',', tensor(-0.)), (' of', tensor(-0.)), (' any', tensor(-0.)), (' change', tensor(-0.)), (' in', tensor(-0.)), ('\\n', tensor(-0.)), ('my', tensor(-0.)), (' sentiments', tensor(-0.)), ('.', tensor(-0.))]\n",
            "---------------------------------------------------------------------------------------------------------------\n",
            "37 [('<|endoftext|>', tensor(-0.)), ('The', tensor(-0.)), (' wounded', tensor(-0.)), (' deer', tensor(-0.)), (' dragging', tensor(-0.)), (' its', tensor(-0.)), (' f', tensor(-0.)), ('ain', tensor(-0.)), ('ting', tensor(-0.)), ('\\n', tensor(-0.)), ('lim', tensor(-0.)), ('bs', tensor(-0.)), (' to', tensor(-0.)), (' some', tensor(2.0606)), (' unt', tensor(-0.)), ('ro', tensor(-0.)), ('dden', tensor(-0.)), (' brake', tensor(-0.)), (',', tensor(-0.)), (' there', tensor(-0.)), (' to', tensor(-0.)), (' gaze', tensor(-0.)), (' upon', tensor(-0.)), (' the', tensor(-0.)), (' arrow', tensor(-0.)), (' which', tensor(-0.)), (' had', tensor(-0.)), ('\\n', tensor(-0.)), ('p', tensor(-0.)), ('ier', tensor(-0.)), ('ced', tensor(-0.)), (' it', tensor(-0.)), (',', tensor(-0.)), (' and', tensor(-0.)), (' to', tensor(12.4408)), (' die', tensor(-0.)), (',', tensor(-0.)), (' was', tensor(-0.)), (' but', tensor(-0.)), (' a', tensor(-0.)), (' type', tensor(-0.)), (' of', tensor(-0.)), (' me', tensor(-0.)), ('.', tensor(-0.))]\n",
            "---------------------------------------------------------------------------------------------------------------\n",
            "38 [('<|endoftext|>', tensor(-0.)), ('Learn', tensor(-0.)), (' from', tensor(-0.)), (' me', tensor(-0.)), (',', tensor(-0.)), (' dear', tensor(-0.)), (' lady', tensor(-0.)), (',', tensor(-0.)), (' to', tensor(-0.)), (' submit', tensor(-0.)), (' in', tensor(-0.)), (' patience', tensor(-0.)), (' to', tensor(-0.)), ('\\n', tensor(-0.)), ('the', tensor(7.0283)), (' will', tensor(-0.)), (' of', tensor(-0.)), (' heaven', tensor(-0.)), ('!', tensor(-0.)), ('�', tensor(-0.)), ('�', tensor(-0.)), ('\\n', tensor(-0.))]\n",
            "---------------------------------------------------------------------------------------------------------------\n",
            "39 [('<|endoftext|>', tensor(-0.)), ('September', tensor(-0.)), (' 7', tensor(-0.)), ('th', tensor(-0.)), ('.', tensor(-0.))]\n",
            "---------------------------------------------------------------------------------------------------------------\n",
            "40 [('<|endoftext|>', tensor(-0.)), ('We', tensor(-0.)), (' feel', tensor(-0.)), (',', tensor(-0.)), (' conceive', tensor(-0.)), (',', tensor(-0.)), (' or', tensor(-0.)), (' reason', tensor(-0.)), (';', tensor(-0.)), (' laugh', tensor(-0.)), (' or', tensor(-0.)), (' weep', tensor(-0.)), (',', tensor(-0.)), ('\\n', tensor(-0.))]\n",
            "---------------------------------------------------------------------------------------------------------------\n",
            "41 [('<|endoftext|>', tensor(-0.)), ('I', tensor(-0.)), (' confess', tensor(-0.)), (' that', tensor(-0.)), (' neither', tensor(-0.)), (' the', tensor(-0.)), (' structure', tensor(-0.)), (' of', tensor(-0.)), (' languages', tensor(-0.)), (',', tensor(-0.)), ('\\n', tensor(-0.)), ('nor', tensor(-0.)), (' the', tensor(-0.)), (' code', tensor(-0.)), (' of', tensor(-0.)), (' governments', tensor(-0.)), (',', tensor(-0.)), (' nor', tensor(-0.)), (' the', tensor(-0.)), (' politics', tensor(-0.)), (' of', tensor(-0.)), (' various', tensor(1.4328)), (' states', tensor(-0.)), ('\\n', tensor(-0.)), ('p', tensor(-0.)), ('oss', tensor(-0.)), ('essed', tensor(-0.)), (' attractions', tensor(-0.)), (' for', tensor(-0.)), (' me', tensor(-0.)), ('.', tensor(-0.))]\n",
            "---------------------------------------------------------------------------------------------------------------\n",
            "42 [('<|endoftext|>', tensor(-0.)), ('I', tensor(-0.)), (' abhor', tensor(-0.)), ('red', tensor(-0.)), (' the', tensor(-0.)), (' face', tensor(-0.)), (' of', tensor(-0.)), (' man', tensor(-0.)), ('.', tensor(-0.))]\n",
            "---------------------------------------------------------------------------------------------------------------\n",
            "43 [('<|endoftext|>', tensor(-0.)), ('�', tensor(-0.)), ('�', tensor(-0.)), ('Have', tensor(-0.)), (' you', tensor(-0.)), (',', tensor(-0.)), ('�', tensor(-0.)), ('�', tensor(-0.)), (' he', tensor(-0.)), ('\\n', tensor(-0.)), ('said', tensor(-0.)), (',', tensor(-0.)), (' �', tensor(-0.)), ('�', tensor(-0.)), ('really', tensor(-0.)), (' spent', tensor(-0.)), (' your', tensor(-0.)), (' time', tensor(-0.)), (' in', tensor(-0.)), (' studying', tensor(-0.)), (' such', tensor(-0.)), (' nonsense', tensor(-0.)), ('?', tensor(-0.)), ('�', tensor(-0.)), ('�', tensor(-0.)), ('\\n', tensor(-0.))]\n",
            "---------------------------------------------------------------------------------------------------------------\n",
            "44 [('<|endoftext|>', tensor(-0.)), ('In', tensor(-0.)), (' the', tensor(-0.)), (' meantime', tensor(-0.)), (' I', tensor(-0.)), (' took', tensor(-0.)), (' every', tensor(-0.)), (' precaution', tensor(-0.)), (' to', tensor(-0.)), (' defend', tensor(-0.)), (' my', tensor(-0.)), (' person', tensor(-0.)), (' in', tensor(-0.)), (' case', tensor(-0.)), (' the', tensor(-0.)), ('\\n', tensor(-0.)), ('fi', tensor(-0.)), ('end', tensor(-0.)), (' should', tensor(-0.)), (' openly', tensor(-0.)), (' attack', tensor(1.4336)), (' me', tensor(-0.)), ('.', tensor(-0.))]\n",
            "---------------------------------------------------------------------------------------------------------------\n",
            "45 [('<|endoftext|>', tensor(-0.)), ('�', tensor(-0.)), ('�', tensor(-0.)), ('A', tensor(-0.)), (' few', tensor(-0.)), (' days', tensor(-0.)), (' after', tensor(-0.)), (',', tensor(-0.)), (' the', tensor(-0.)), (' Turk', tensor(-0.)), (' entered', tensor(-0.)), (' his', tensor(-0.)), (' daughter', tensor(-0.)), ('�', tensor(-0.)), ('�', tensor(-0.)), ('s', tensor(-0.)), (' apartment', tensor(-0.)), (' and', tensor(-0.)), (' told', tensor(-0.)), ('\\n', tensor(-0.)), ('her', tensor(-0.)), (' hastily', tensor(-0.)), (' that', tensor(-0.)), (' he', tensor(-0.)), (' had', tensor(-0.)), (' reason', tensor(-0.)), (' to', tensor(-0.)), (' believe', tensor(-0.)), (' that', tensor(-0.)), (' his', tensor(-0.)), (' residence', tensor(-0.)), (' at', tensor(-0.)), (' Le', tensor(-0.)), ('gh', tensor(-0.)), ('orn', tensor(-0.)), ('\\n', tensor(-0.)), ('had', tensor(-0.)), (' been', tensor(-0.)), (' divul', tensor(5.9864)), ('ged', tensor(-0.)), (' and', tensor(-0.)), (' that', tensor(-0.)), (' he', tensor(-0.)), (' should', tensor(-0.)), (' speed', tensor(-0.)), ('ily', tensor(-0.)), (' be', tensor(0.8775)), (' delivered', tensor(26.7008)), (' up', tensor(-0.)), (' to', tensor(-0.)), (' the', tensor(-0.)), ('\\n', tensor(-0.)), ('French', tensor(-0.)), (' government', tensor(-0.)), (';', tensor(-0.)), (' he', tensor(-0.)), (' had', tensor(-0.)), (' consequently', tensor(-0.)), (' hired', tensor(-0.)), (' a', tensor(-0.)), (' vessel', tensor(-0.)), (' to', tensor(-0.)), (' convey', tensor(-0.)), (' him', tensor(-0.)), (' to', tensor(-0.)), ('\\n', tensor(-0.)), ('Con', tensor(-0.)), ('stant', tensor(-0.)), ('in', tensor(-0.)), ('ople', tensor(-0.)), (',', tensor(-0.)), (' for', tensor(-0.)), (' which', tensor(-0.)), (' city', tensor(-0.)), (' he', tensor(-0.)), (' should', tensor(5.1048)), (' sail', tensor(7.2639)), (' in', tensor(-0.)), (' a', tensor(-0.)), (' few', tensor(8.4220)), (' hours', tensor(-0.)), ('.', tensor(-0.))]\n",
            "---------------------------------------------------------------------------------------------------------------\n",
            "46 [('<|endoftext|>', tensor(-0.)), ('They', tensor(-0.)), (' were', tensor(-0.)), (' for', tensor(-0.)), (' ever', tensor(-0.)), (' ardent', tensor(-0.)), (' and', tensor(-0.)), (' craving', tensor(-0.)), (';', tensor(-0.)), (' still', tensor(-0.)), ('\\n', tensor(-0.)), ('I', tensor(-0.)), (' desired', tensor(-0.)), (' love', tensor(-0.)), (' and', tensor(-0.)), (' fellowship', tensor(-0.)), (',', tensor(-0.)), (' and', tensor(-0.)), (' I', tensor(-0.)), (' was', tensor(-0.)), (' still', tensor(-0.)), (' sp', tensor(-0.)), ('urned', tensor(-0.)), ('.', tensor(-0.))]\n",
            "---------------------------------------------------------------------------------------------------------------\n",
            "47 [('<|endoftext|>', tensor(-0.)), ('K', tensor(-0.)), ('ir', tensor(-0.)), ('win', tensor(-0.)), (' charged', tensor(-0.)), (' himself', tensor(-0.)), (' with', tensor(-0.)), (' every', tensor(-0.)), ('\\n', tensor(-0.)), ('care', tensor(-0.)), (' of', tensor(-0.)), (' collecting', tensor(-0.)), (' witnesses', tensor(-0.)), (' and', tensor(-0.)), (' arranging', tensor(-0.)), (' my', tensor(-0.)), (' defence', tensor(-0.)), ('.', tensor(-0.))]\n",
            "---------------------------------------------------------------------------------------------------------------\n",
            "48 [('<|endoftext|>', tensor(-0.)), ('My', tensor(-0.)), (' affection', tensor(-0.)), (' for', tensor(-0.)), (' my', tensor(-0.)), (' guest', tensor(-0.)), (' increases', tensor(-0.)), (' every', tensor(-0.)), (' day', tensor(-0.)), ('.', tensor(-0.))]\n",
            "---------------------------------------------------------------------------------------------------------------\n",
            "49 [('<|endoftext|>', tensor(-0.)), ('It', tensor(-0.)), (' was', tensor(-0.)), (' about', tensor(-0.)), (' five', tensor(-0.)), (' in', tensor(-0.)), (' the', tensor(-0.)), (' morning', tensor(-0.)), (' when', tensor(-0.)), (' I', tensor(-0.)), (' entered', tensor(-0.)), (' my', tensor(-0.)), (' father', tensor(-0.)), ('�', tensor(-0.)), ('�', tensor(-0.)), ('s', tensor(1.2795)), (' house', tensor(-0.)), ('.', tensor(-0.))]\n",
            "---------------------------------------------------------------------------------------------------------------\n",
            "50 [('<|endoftext|>', tensor(-0.)), ('What', tensor(-0.)), (' do', tensor(-0.)), (' you', tensor(-0.)), (' intend', tensor(-0.)), (' to', tensor(-0.)), (' do', tensor(-0.)), ('?', tensor(-0.)), ('�', tensor(-0.)), ('�', tensor(-0.)), ('\\n', tensor(-0.))]\n",
            "---------------------------------------------------------------------------------------------------------------\n",
            "51 [('<|endoftext|>', tensor(-0.)), ('Chapter', tensor(-0.)), (' 20', tensor(-0.)), ('\\n', tensor(-0.))]\n",
            "---------------------------------------------------------------------------------------------------------------\n",
            "52 [('<|endoftext|>', tensor(-0.)), ('Is', tensor(-0.)), (' this', tensor(-0.)), (' gentle', tensor(-0.)), (' and', tensor(-0.)), (' lovely', tensor(-0.)), (' being', tensor(2.1912)), (' lost', tensor(-0.)), ('\\n', tensor(-0.)), ('for', tensor(5.1857)), (' ever', tensor(-0.)), ('?', tensor(-0.))]\n",
            "---------------------------------------------------------------------------------------------------------------\n",
            "53 [('<|endoftext|>', tensor(-0.)), ('Fear', tensor(-0.)), (' overcame', tensor(0.5990)), (' me', tensor(-0.)), (';', tensor(-0.)), (' I', tensor(-0.)), ('\\n', tensor(-0.)), ('d', tensor(-0.)), ('ared', tensor(-0.)), (' no', tensor(0.9802)), (' advance', tensor(-0.)), (',', tensor(-0.)), (' dread', tensor(-0.)), ('ing', tensor(-0.)), (' a', tensor(-0.)), (' thousand', tensor(-0.)), (' n', tensor(-0.)), ('ameless', tensor(-0.)), (' evils', tensor(-0.)), (' that', tensor(-0.)), (' made', tensor(-0.)), (' me', tensor(-0.)), (' trem', tensor(-0.)), ('ble', tensor(-0.)), (',', tensor(-0.)), ('\\n', tensor(-0.)), ('although', tensor(-0.)), (' I', tensor(-0.)), (' was', tensor(-0.)), (' unable', tensor(-0.)), (' to', tensor(-0.)), (' define', tensor(-0.)), (' them', tensor(-0.)), ('.', tensor(-0.))]\n",
            "---------------------------------------------------------------------------------------------------------------\n",
            "54 [('<|endoftext|>', tensor(-0.)), ('Even', tensor(-0.)), ('\\n', tensor(-0.)), ('where', tensor(-0.)), (' the', tensor(-0.)), (' affect', tensor(-0.)), ('ions', tensor(-0.)), (' are', tensor(-0.)), (' not', tensor(-0.)), (' strongly', tensor(-0.)), (' moved', tensor(-0.)), (' by', tensor(-0.)), (' any', tensor(-0.)), (' superior', tensor(-0.)), (' excellence', tensor(-0.)), (',', tensor(-0.)), ('\\n', tensor(-0.)), ('the', tensor(-0.)), (' companions', tensor(-0.)), (' of', tensor(-0.)), (' our', tensor(-0.)), (' childhood', tensor(-0.)), (' always', tensor(-0.)), (' possess', tensor(-0.)), (' a', tensor(-0.)), (' certain', tensor(-0.)), (' power', tensor(-0.)), (' over', tensor(-0.)), (' our', tensor(-0.)), ('\\n', tensor(-0.)), ('mind', tensor(-0.)), ('s', tensor(-0.)), (' which', tensor(-0.)), (' hardly', tensor(-0.)), (' any', tensor(-0.)), (' later', tensor(-0.)), (' friend', tensor(-0.)), (' can', tensor(-0.)), (' obtain', tensor(-0.)), ('.', tensor(-0.))]\n",
            "---------------------------------------------------------------------------------------------------------------\n",
            "55 [('<|endoftext|>', tensor(-0.)), ('�', tensor(-0.)), ('�', tensor(-0.)), ('What', tensor(-0.)), (' a', tensor(-0.)), (' noble', tensor(-0.)), (' fellow', tensor(-0.)), ('!', tensor(-0.)), ('�', tensor(-0.)), ('�', tensor(-0.)), (' you', tensor(-0.)), (' will', tensor(-0.)), (' exclaim', tensor(-0.)), ('.', tensor(-0.))]\n",
            "---------------------------------------------------------------------------------------------------------------\n",
            "56 [('<|endoftext|>', tensor(-0.)), ('�', tensor(-0.)), ('�', tensor(-0.)), ('These', tensor(-0.)), (' thoughts', tensor(-0.)), (' exhilar', tensor(-0.)), ('ated', tensor(-0.)), (' me', tensor(-0.)), (' and', tensor(-0.)), (' led', tensor(-0.)), (' me', tensor(-0.)), (' to', tensor(-0.)), (' apply', tensor(-0.)), (' with', tensor(-0.)), (' fresh', tensor(-0.)), (' ard', tensor(0.3700)), ('our', tensor(-0.)), (' to', tensor(-0.)), ('\\n', tensor(-0.)), ('the', tensor(-0.)), (' acquiring', tensor(-0.)), (' the', tensor(-0.)), (' art', tensor(-0.)), (' of', tensor(-0.)), (' language', tensor(-0.)), ('.', tensor(-0.))]\n",
            "---------------------------------------------------------------------------------------------------------------\n",
            "57 [('<|endoftext|>', tensor(-0.)), ('Finding', tensor(-0.)), (' the', tensor(-0.)), (' door', tensor(4.6917)), (' open', tensor(-0.)), (',', tensor(-0.)), (' I', tensor(-0.)), (' entered', tensor(-0.)), ('.', tensor(-0.))]\n",
            "---------------------------------------------------------------------------------------------------------------\n",
            "58 [('<|endoftext|>', tensor(-0.)), ('The', tensor(-0.)), (' cup', tensor(-0.)), (' of', tensor(-0.)), (' life', tensor(-0.)), (' was', tensor(-0.)), (' poisoned', tensor(-0.)), (' for', tensor(1.3387)), (' ever', tensor(-0.)), (',', tensor(-0.)), (' and', tensor(-0.)), ('\\n', tensor(-0.)), ('although', tensor(-0.)), (' the', tensor(-0.)), (' sun', tensor(-0.)), (' shone', tensor(-0.)), (' upon', tensor(-0.)), (' me', tensor(-0.)), (',', tensor(-0.)), (' as', tensor(-0.)), (' upon', tensor(-0.)), (' the', tensor(-0.)), (' happy', tensor(-0.)), (' and', tensor(-0.)), (' gay', tensor(-0.)), (' of', tensor(-0.)), (' heart', tensor(-0.)), (',', tensor(-0.)), (' I', tensor(-0.)), ('\\n', tensor(-0.)), ('saw', tensor(-0.)), (' around', tensor(-0.)), (' me', tensor(-0.)), (' nothing', tensor(-0.)), (' but', tensor(-0.)), (' a', tensor(-0.)), (' dense', tensor(-0.)), (' and', tensor(-0.)), (' fright', tensor(-0.)), ('ful', tensor(-0.)), (' darkness', tensor(-0.)), (',', tensor(-0.)), (' penetrated', tensor(-0.)), (' by', tensor(-0.)), ('\\n', tensor(-0.)), ('no', tensor(1.0811)), (' light', tensor(-0.)), (' but', tensor(-0.)), (' the', tensor(-0.)), (' gl', tensor(3.5993)), ('immer', tensor(-0.)), (' of', tensor(-0.)), (' two', tensor(-0.)), (' eyes', tensor(-0.)), (' that', tensor(-0.)), (' glared', tensor(-0.)), (' upon', tensor(2.5624)), (' me', tensor(-0.)), ('.', tensor(-0.))]\n",
            "---------------------------------------------------------------------------------------------------------------\n",
            "59 [('<|endoftext|>', tensor(-0.)), ('I', tensor(-0.)), (' confessed', tensor(-0.)), (',', tensor(-0.)), (' that', tensor(-0.)), (' I', tensor(-0.)), (' might', tensor(-0.)), ('\\n', tensor(-0.)), ('ob', tensor(-0.)), ('tain', tensor(-0.)), (' abs', tensor(3.2185)), ('olution', tensor(-0.)), (';', tensor(-0.)), (' but', tensor(-0.)), (' now', tensor(-0.)), (' that', tensor(-0.)), (' falsehood', tensor(-0.)), (' lies', tensor(-0.)), (' heavier', tensor(-0.)), (' at', tensor(-0.)), (' my', tensor(-0.)), (' heart', tensor(-0.)), (' than', tensor(-0.)), ('\\n', tensor(-0.)), ('all', tensor(-0.)), (' my', tensor(-0.)), (' other', tensor(-0.)), (' sins', tensor(-0.)), ('.', tensor(-0.))]\n",
            "---------------------------------------------------------------------------------------------------------------\n",
            "60 [('<|endoftext|>', tensor(-0.)), ('My', tensor(-0.)), (' person', tensor(-0.)), (' was', tensor(-0.)), (' hideous', tensor(-0.)), (' and', tensor(-0.)), (' my', tensor(-0.)), (' stature', tensor(-0.)), (' gigantic', tensor(-0.)), ('.', tensor(-0.))]\n",
            "---------------------------------------------------------------------------------------------------------------\n",
            "61 [('<|endoftext|>', tensor(-0.)), ('Such', tensor(-0.)), (' is', tensor(-0.)), (' my', tensor(-0.)), (' journal', tensor(-0.)), (' of', tensor(-0.)), (' what', tensor(-0.)), (' relates', tensor(-0.)), (' to', tensor(-0.)), (' this', tensor(-0.)), (' strange', tensor(-0.)), (' occurrence', tensor(28.3890)), (' up', tensor(-0.)), (' to', tensor(-0.)), (' the', tensor(-0.)), ('\\n', tensor(-0.)), ('present', tensor(-0.)), (' day', tensor(-0.)), ('.', tensor(-0.))]\n",
            "---------------------------------------------------------------------------------------------------------------\n",
            "62 [('<|endoftext|>', tensor(-0.)), ('�', tensor(-0.)), ('�', tensor(-0.)), ('I', tensor(-0.)), (' commit', tensor(-0.)), (' my', tensor(-0.)), (' cause', tensor(-0.)), (' to', tensor(-0.)), (' the', tensor(-0.)), (' justice', tensor(-0.)), (' of', tensor(-0.)), (' my', tensor(-0.)), (' judges', tensor(-0.)), (',', tensor(-0.)), (' yet', tensor(-0.)), (' I', tensor(-0.)), (' see', tensor(-0.)), (' no', tensor(-0.)), (' room', tensor(-0.)), (' for', tensor(-0.)), ('\\n', tensor(-0.)), ('h', tensor(-0.)), ('ope', tensor(-0.)), ('.', tensor(-0.))]\n",
            "---------------------------------------------------------------------------------------------------------------\n",
            "63 [('<|endoftext|>', tensor(-0.)), ('I', tensor(-0.)), (' wish', tensor(-0.)), (' you', tensor(-0.)), (' could', tensor(-0.)), (' see', tensor(-0.)), (' him', tensor(-0.)), (';', tensor(-0.)), (' he', tensor(-0.)), (' is', tensor(-0.)), (' very', tensor(-0.)), (' tall', tensor(-0.)), (' of', tensor(-0.)), (' his', tensor(-0.)), (' age', tensor(-0.)), (',', tensor(-0.)), (' with', tensor(-0.)), ('\\n', tensor(-0.)), ('sweet', tensor(-0.)), (' laughing', tensor(-0.)), (' blue', tensor(-0.)), (' eyes', tensor(-0.)), (',', tensor(-0.)), (' dark', tensor(-0.)), (' eyel', tensor(-0.)), ('ashes', tensor(-0.)), (',', tensor(-0.)), (' and', tensor(-0.)), (' cur', tensor(-0.)), ('ling', tensor(-0.)), (' hair', tensor(-0.)), ('.', tensor(-0.))]\n",
            "---------------------------------------------------------------------------------------------------------------\n",
            "64 [('<|endoftext|>', tensor(-0.)), ('How', tensor(-0.)), (' ill', tensor(-0.)), (' you', tensor(-0.)), (' are', tensor(-0.)), ('!', tensor(-0.))]\n",
            "---------------------------------------------------------------------------------------------------------------\n",
            "65 [('<|endoftext|>', tensor(-0.)), ('The', tensor(-0.)), (' youth', tensor(-0.)), ('\\n', tensor(-0.)), ('and', tensor(-0.)), (' his', tensor(-0.)), (' companion', tensor(-0.)), (' had', tensor(-0.)), (' each', tensor(-0.)), (' of', tensor(-0.)), (' them', tensor(-0.)), (' several', tensor(-0.)), (' names', tensor(-0.)), (',', tensor(-0.)), (' but', tensor(-0.)), (' the', tensor(-0.)), (' old', tensor(-0.)), (' man', tensor(-0.)), (' had', tensor(-0.)), (' only', tensor(-0.)), ('\\n', tensor(-0.)), ('one', tensor(-0.)), (',', tensor(-0.)), (' which', tensor(-0.)), (' was', tensor(-0.)), (' _', tensor(-0.)), ('father', tensor(-0.)), ('._', tensor(-0.)), (' The', tensor(-0.)), (' girl', tensor(-0.)), (' was', tensor(-0.)), (' called', tensor(-0.)), (' _', tensor(-0.)), ('s', tensor(-0.)), ('ister', tensor(-0.)), ('_', tensor(-0.)), (' or', tensor(-0.)), ('\\n', tensor(-0.)), ('_', tensor(-0.)), ('Ag', tensor(-0.)), ('atha', tensor(-0.)), (',', tensor(-0.)), ('_', tensor(-0.)), (' and', tensor(-0.)), (' the', tensor(-0.)), (' youth', tensor(-0.)), (' _', tensor(-0.)), ('Fel', tensor(-0.)), ('ix', tensor(-0.)), (',', tensor(0.2671)), (' brother', tensor(-0.)), (',', tensor(-0.)), ('_', tensor(-0.)), (' or', tensor(-0.)), (' _', tensor(-0.)), ('son', tensor(-0.)), ('_.', tensor(-0.))]\n",
            "---------------------------------------------------------------------------------------------------------------\n",
            "66 [('<|endoftext|>', tensor(-0.)), ('And', tensor(-0.)), (' could', tensor(-0.)), (' not', tensor(-0.)), (' such', tensor(-0.)), (' words', tensor(-0.)), (' from', tensor(-0.)), (' her', tensor(-0.)), (' whom', tensor(-0.)), (' I', tensor(-0.)), (' fond', tensor(-0.)), ('ly', tensor(-0.)), (' prized', tensor(-0.)), (' before', tensor(-0.)), (' every', tensor(-0.)), ('\\n', tensor(-0.)), ('other', tensor(-0.)), (' gift', tensor(-0.)), (' of', tensor(-0.)), (' fortune', tensor(-0.)), (' suffice', tensor(-0.)), (' to', tensor(-0.)), (' chase', tensor(7.6519)), (' away', tensor(-0.)), (' the', tensor(-0.)), (' fi', tensor(-0.)), ('end', tensor(-0.)), (' that', tensor(-0.)), (' lur', tensor(-0.)), ('ked', tensor(-0.)), (' in', tensor(-0.)), (' my', tensor(-0.)), ('\\n', tensor(7.2091)), ('heart', tensor(-0.)), ('?', tensor(-0.))]\n",
            "---------------------------------------------------------------------------------------------------------------\n",
            "67 [('<|endoftext|>', tensor(-0.)), ('Ag', tensor(-0.)), ('atha', tensor(-0.)), (' f', tensor(-0.)), ('ainted', tensor(-0.)), (',', tensor(-0.)), (' and', tensor(-0.)), (' Saf', tensor(-0.)), ('ie', tensor(-0.)), (',', tensor(-0.)), (' unable', tensor(-0.)), (' to', tensor(-0.)), (' attend', tensor(-0.)), (' to', tensor(-0.)), (' her', tensor(-0.)), ('\\n', tensor(-0.)), ('friend', tensor(-0.)), (',', tensor(-0.)), (' rushed', tensor(53.6800)), (' out', tensor(-0.)), (' of', tensor(-0.)), (' the', tensor(5.2369)), (' cottage', tensor(-0.)), ('.', tensor(-0.))]\n",
            "---------------------------------------------------------------------------------------------------------------\n",
            "68 [('<|endoftext|>', tensor(-0.)), ('�', tensor(-0.)), ('�', tensor(-0.)), ('I', tensor(-0.)), (' am', tensor(-0.)), (' happy', tensor(-0.)), (' to', tensor(-0.)), (' remark', tensor(-0.)), (',', tensor(-0.)), (' my', tensor(-0.)), (' dear', tensor(-0.)), (' son', tensor(-0.)), (',', tensor(-0.)), (' that', tensor(-0.)), (' you', tensor(-0.)), (' have', tensor(-0.)), (' resumed', tensor(-0.)), (' your', tensor(-0.)), (' former', tensor(-0.)), ('\\n', tensor(-0.)), ('ple', tensor(2.4864)), ('asures', tensor(-0.)), (' and', tensor(-0.)), (' seem', tensor(-0.)), (' to', tensor(0.3275)), (' be', tensor(0.9339)), (' returning', tensor(-0.)), (' to', tensor(7.2544)), (' yourself', tensor(-0.)), ('.', tensor(-0.))]\n",
            "---------------------------------------------------------------------------------------------------------------\n",
            "69 [('<|endoftext|>', tensor(-0.)), ('Al', tensor(-0.)), ('as', tensor(-0.)), ('!', tensor(-0.))]\n",
            "---------------------------------------------------------------------------------------------------------------\n",
            "70 [('<|endoftext|>', tensor(-0.)), ('They', tensor(-0.)), (' know', tensor(-0.)), (' our', tensor(-0.)), ('\\n', tensor(-0.)), ('inf', tensor(-0.)), ('antine', tensor(-0.)), (' dispos', tensor(-0.)), ('itions', tensor(-0.)), (',', tensor(-0.)), (' which', tensor(-0.)), (',', tensor(-0.)), (' however', tensor(-0.)), (' they', tensor(-0.)), (' may', tensor(-0.)), (' be', tensor(-0.)), (' afterwards', tensor(-0.)), (' modified', tensor(-0.)), (',', tensor(-0.)), ('\\n', tensor(-0.)), ('are', tensor(-0.)), (' never', tensor(-0.)), (' erad', tensor(7.1036)), ('icated', tensor(-0.)), (';', tensor(-0.)), (' and', tensor(-0.)), (' they', tensor(-0.)), (' can', tensor(-0.)), (' judge', tensor(-0.)), (' of', tensor(-0.)), (' our', tensor(-0.)), (' actions', tensor(-0.)), (' with', tensor(-0.)), (' more', tensor(-0.)), ('\\n', tensor(-0.)), ('certain', tensor(-0.)), (' conclusions', tensor(-0.)), (' as', tensor(-0.)), (' to', tensor(-0.)), (' the', tensor(2.3089)), (' integrity', tensor(-0.)), (' of', tensor(-0.)), (' our', tensor(-0.)), (' motives', tensor(-0.)), ('.', tensor(-0.))]\n",
            "---------------------------------------------------------------------------------------------------------------\n",
            "71 [('<|endoftext|>', tensor(-0.)), ('�', tensor(-0.)), ('�', tensor(-0.)), ('The', tensor(-0.)), (' hour', tensor(-0.)), (' of', tensor(-0.)), (' my', tensor(-0.)), (' ir', tensor(-0.)), ('resolution', tensor(-0.)), (' is', tensor(-0.)), (' past', tensor(-0.)), (',', tensor(-0.)), (' and', tensor(-0.)), (' the', tensor(-0.)), (' period', tensor(-0.)), (' of', tensor(-0.)), (' your', tensor(-0.)), (' power', tensor(-0.)), (' is', tensor(-0.)), ('\\n', tensor(-0.)), ('ar', tensor(-0.)), ('rived', tensor(-0.)), ('.', tensor(-0.))]\n",
            "---------------------------------------------------------------------------------------------------------------\n",
            "72 [('<|endoftext|>', tensor(-0.)), ('I', tensor(-0.)), (' will', tensor(-0.)), (' melt', tensor(-0.)), (' the', tensor(-0.)), (' st', tensor(-0.)), ('ony', tensor(-0.)), ('\\n', tensor(-0.)), ('he', tensor(-0.)), ('arts', tensor(-0.)), (' of', tensor(-0.)), (' your', tensor(-0.)), (' enemies', tensor(-0.)), (' by', tensor(-0.)), (' my', tensor(-0.)), (' tears', tensor(-0.)), (' and', tensor(-0.)), (' prayers', tensor(-0.)), ('.', tensor(-0.))]\n",
            "---------------------------------------------------------------------------------------------------------------\n",
            "73 [('<|endoftext|>', tensor(-0.)), ('I', tensor(-0.)), (' arrived', tensor(-0.)), (' at', tensor(-0.)), (' Geneva', tensor(-0.)), ('.', tensor(-0.))]\n",
            "---------------------------------------------------------------------------------------------------------------\n",
            "74 [('<|endoftext|>', tensor(-0.)), ('I', tensor(-0.)), (' feel', tensor(-0.)), (' exquisite', tensor(-0.)), (' pleasure', tensor(-0.)), (' in', tensor(-0.)), (' dwelling', tensor(-0.)), (' on', tensor(-0.)), (' the', tensor(-0.)), (' recol', tensor(-0.)), ('lections', tensor(-0.)), (' of', tensor(-0.)), (' childhood', tensor(-0.)), (',', tensor(-0.)), ('\\n', tensor(-0.)), ('before', tensor(-0.)), (' misfortune', tensor(-0.)), (' had', tensor(-0.)), (' tainted', tensor(-0.)), (' my', tensor(2.1485)), (' mind', tensor(-0.)), (' and', tensor(-0.)), (' changed', tensor(-0.)), (' its', tensor(-0.)), (' bright', tensor(5.3481)), (' visions', tensor(-0.)), (' of', tensor(-0.)), ('\\n', tensor(2.7151)), ('ext', tensor(-0.)), ('ensive', tensor(2.4113)), (' usefulness', tensor(-0.)), (' into', tensor(-0.)), (' gloomy', tensor(-0.)), (' and', tensor(-0.)), (' narrow', tensor(3.0071)), (' reflections', tensor(-0.)), (' upon', tensor(-0.)), (' self', tensor(-0.)), ('.', tensor(-0.))]\n",
            "---------------------------------------------------------------------------------------------------------------\n",
            "75 [('<|endoftext|>', tensor(-0.)), ('The', tensor(-0.)), (' very', tensor(-0.)), (' winds', tensor(-0.)), (' whispered', tensor(0.0150)), (' in', tensor(-0.)), (' soothing', tensor(-0.)), ('\\n', tensor(-0.)), ('acc', tensor(-0.)), ('ents', tensor(-0.)), (',', tensor(-0.)), (' and', tensor(-0.)), (' maternal', tensor(-0.)), (' Nature', tensor(-0.)), (' b', tensor(-0.)), ('ade', tensor(-0.)), (' me', tensor(-0.)), (' weep', tensor(-0.)), (' no', tensor(8.8190)), (' more', tensor(-0.)), ('.', tensor(-0.))]\n",
            "---------------------------------------------------------------------------------------------------------------\n",
            "76 [('<|endoftext|>', tensor(-0.)), ('It', tensor(-0.)), (' was', tensor(-0.)), (' after', tensor(-0.)), (' my', tensor(-0.)), (' return', tensor(-0.)), (' from', tensor(-0.)), (' one', tensor(-0.)), (' of', tensor(-0.)), (' these', tensor(-0.)), (' r', tensor(-0.)), ('amb', tensor(-0.)), ('les', tensor(-0.)), (' that', tensor(-0.)), (' my', tensor(-0.)), (' father', tensor(-0.)), (',', tensor(-0.)), ('\\n', tensor(-0.)), ('calling', tensor(-0.)), (' me', tensor(11.5180)), (' aside', tensor(-0.)), (',', tensor(-0.)), (' thus', tensor(-0.)), (' addressed', tensor(3.0868)), (' me', tensor(-0.)), (',', tensor(-0.)), ('\\n', tensor(-0.))]\n",
            "---------------------------------------------------------------------------------------------------------------\n",
            "77 [('<|endoftext|>', tensor(-0.)), ('According', tensor(-0.)), ('ly', tensor(-0.)), (',', tensor(-0.)), (' a', tensor(-0.)), (' few', tensor(-0.)), (' months', tensor(-0.)), ('\\n', tensor(-0.)), ('after', tensor(-0.)), (' your', tensor(-0.)), (' departure', tensor(-0.)), (' for', tensor(-0.)), (' Ing', tensor(-0.)), ('ol', tensor(-0.)), ('stadt', tensor(-0.)), (',', tensor(-0.)), (' Just', tensor(-0.)), ('ine', tensor(-0.)), (' was', tensor(-0.)), (' called', tensor(6.4988)), (' home', tensor(-0.)), (' by', tensor(-0.)), (' her', tensor(-0.)), ('\\n', tensor(-0.)), ('rep', tensor(0.0681)), ('ent', tensor(-0.)), ('ant', tensor(-0.)), (' mother', tensor(-0.)), ('.', tensor(-0.))]\n",
            "---------------------------------------------------------------------------------------------------------------\n",
            "78 [('<|endoftext|>', tensor(-0.)), ('I', tensor(-0.)), (' am', tensor(-0.)), (' interrupted', tensor(-0.)), ('.', tensor(-0.))]\n",
            "---------------------------------------------------------------------------------------------------------------\n",
            "79 [('<|endoftext|>', tensor(-0.)), ('�', tensor(-0.)), ('�', tensor(-0.)), ('My', tensor(-0.)), (' dear', tensor(-0.)), (' father', tensor(-0.)), (',', tensor(-0.)), (' you', tensor(-0.)), (' are', tensor(-0.)), (' mistaken', tensor(-0.)), (';', tensor(-0.)), (' Just', tensor(-0.)), ('ine', tensor(-0.)), (' is', tensor(-0.)), (' innocent', tensor(-0.)), ('.', tensor(-0.)), ('�', tensor(-0.)), ('�', tensor(-0.)), ('\\n', tensor(-0.))]\n",
            "---------------------------------------------------------------------------------------------------------------\n",
            "80 [('<|endoftext|>', tensor(-0.)), ('I', tensor(-0.)), (' swear', tensor(-0.)), (' to', tensor(-0.)), (' you', tensor(-0.)), (',', tensor(-0.)), (' by', tensor(-0.)), (' the', tensor(-0.)), (' earth', tensor(-0.)), (' which', tensor(-0.)), (' I', tensor(-0.)), (' inhabit', tensor(-0.)), (',', tensor(-0.)), (' and', tensor(-0.)), (' by', tensor(-0.)), (' you', tensor(-0.)), (' that', tensor(-0.)), (' made', tensor(-0.)), (' me', tensor(-0.)), (',', tensor(-0.)), (' that', tensor(-0.)), ('\\n', tensor(-0.)), ('with', tensor(-0.)), (' the', tensor(-0.)), (' companion', tensor(-0.)), (' you', tensor(-0.)), (' best', tensor(-0.)), ('ow', tensor(-0.)), (',', tensor(-0.)), (' I', tensor(-0.)), (' will', tensor(-0.)), (' quit', tensor(-0.)), (' the', tensor(-0.)), (' neighbourhood', tensor(-0.)), (' of', tensor(1.6711)), (' man', tensor(-0.)), (' and', tensor(-0.)), ('\\n', tensor(-0.)), ('d', tensor(-0.)), ('well', tensor(-0.)), (',', tensor(-0.)), (' as', tensor(-0.)), (' it', tensor(-0.)), (' may', tensor(-0.)), (' chance', tensor(1.0506)), (',', tensor(2.9008)), (' in', tensor(-0.)), (' the', tensor(-0.)), (' most', tensor(-0.)), (' savage', tensor(-0.)), (' of', tensor(-0.)), (' places', tensor(-0.)), ('.', tensor(-0.))]\n",
            "---------------------------------------------------------------------------------------------------------------\n",
            "81 [('<|endoftext|>', tensor(-0.)), ('Yet', tensor(-0.)), (' a', tensor(-0.)), (' second', tensor(-0.)), (' step', tensor(-0.)), (' is', tensor(-0.)), (' taken', tensor(-0.)), (' towards', tensor(-0.)), (' my', tensor(-0.)), (' enterprise', tensor(-0.)), ('.', tensor(-0.))]\n",
            "---------------------------------------------------------------------------------------------------------------\n",
            "82 [('<|endoftext|>', tensor(-0.)), ('I', tensor(-0.)), (' was', tensor(-0.)), (' anxious', tensor(-0.)), ('\\n', tensor(-0.)), ('and', tensor(-0.)), (' watch', tensor(-0.)), ('ful', tensor(-0.)), (',', tensor(-0.)), (' while', tensor(-0.)), (' my', tensor(-0.)), (' right', tensor(-0.)), (' hand', tensor(-0.)), (' grasped', tensor(-0.)), (' a', tensor(-0.)), (' pistol', tensor(-0.)), (' which', tensor(-0.)), (' was', tensor(-0.)), (' hidden', tensor(-0.)), (' in', tensor(-0.)), ('\\n', tensor(-0.)), ('my', tensor(-0.)), (' bos', tensor(-0.)), ('om', tensor(-0.)), (';', tensor(-0.)), (' every', tensor(-0.)), (' sound', tensor(-0.)), (' terrified', tensor(-0.)), (' me', tensor(-0.)), (',', tensor(-0.)), (' but', tensor(-0.)), (' I', tensor(-0.)), (' resolved', tensor(-0.)), (' that', tensor(-0.)), (' I', tensor(-0.)), (' would', tensor(-0.)), (' sell', tensor(-0.)), (' my', tensor(-0.)), ('\\n', tensor(3.3097)), ('life', tensor(6.0770)), (' dearly', tensor(-0.)), (' and', tensor(-0.)), (' not', tensor(-0.)), (' shrink', tensor(-0.)), (' from', tensor(-0.)), (' the', tensor(-0.)), (' conflict', tensor(-0.)), (' until', tensor(-0.)), (' my', tensor(-0.)), (' own', tensor(-0.)), (' life', tensor(-0.)), (' or', tensor(9.4182)), (' that', tensor(-0.)), ('\\n', tensor(-0.)), ('of', tensor(-0.)), (' my', tensor(-0.)), (' adversary', tensor(-0.)), (' was', tensor(6.2027)), (' extinguished', tensor(-0.)), ('.', tensor(-0.))]\n",
            "---------------------------------------------------------------------------------------------------------------\n",
            "83 [('<|endoftext|>', tensor(-0.)), ('But', tensor(-0.)), (' to', tensor(-0.)), (' me', tensor(-0.)), (' the', tensor(-0.)), (' remembrance', tensor(-0.)), (' of', tensor(-0.)), (' the', tensor(-0.)), ('\\n', tensor(-0.)), ('threat', tensor(-0.)), (' returned', tensor(-0.)), (';', tensor(-0.)), (' nor', tensor(-0.)), (' can', tensor(-0.)), (' you', tensor(-0.)), (' wonder', tensor(-0.)), (' that', tensor(-0.)), (',', tensor(-0.)), (' omnip', tensor(-0.)), ('otent', tensor(-0.)), (' as', tensor(-0.)), (' the', tensor(-0.)), (' fi', tensor(-0.)), ('end', tensor(-0.)), (' had', tensor(-0.)), ('\\n', tensor(-0.)), ('yet', tensor(4.7202)), (' been', tensor(-0.)), (' in', tensor(-0.)), (' his', tensor(-0.)), (' deeds', tensor(-0.)), (' of', tensor(-0.)), (' blood', tensor(-0.)), (',', tensor(-0.)), (' I', tensor(-0.)), (' should', tensor(-0.)), (' almost', tensor(-0.)), (' regard', tensor(-0.)), (' him', tensor(-0.)), (' as', tensor(-0.)), ('\\n', tensor(-0.)), ('inv', tensor(-0.)), ('incible', tensor(-0.)), (',', tensor(-0.)), (' and', tensor(-0.)), (' that', tensor(-0.)), (' when', tensor(-0.)), (' he', tensor(-0.)), (' had', tensor(-0.)), (' pronounced', tensor(-0.)), (' the', tensor(-0.)), (' words', tensor(-0.)), (' �', tensor(-0.)), ('�', tensor(-0.)), ('_', tensor(-0.)), ('I', tensor(-0.)), (' shall', tensor(-0.)), (' be', tensor(-0.)), (' with', tensor(-0.)), ('\\n', tensor(2.2693)), ('you', tensor(-0.)), (' on', tensor(-0.)), (' your', tensor(-0.)), (' wedding', tensor(-0.)), ('-', tensor(-0.)), ('night', tensor(-0.)), ('_', tensor(-0.)), (',', tensor(-0.)), ('�', tensor(-0.)), ('�', tensor(-0.)), (' I', tensor(-0.)), (' should', tensor(-0.)), (' regard', tensor(-0.)), (' the', tensor(-0.)), (' threatened', tensor(7.3839)), (' fate', tensor(-0.)), (' as', tensor(0.7693)), ('\\n', tensor(5.0277)), ('un', tensor(-0.)), ('avoid', tensor(-0.)), ('able', tensor(-0.)), ('.', tensor(-0.))]\n",
            "---------------------------------------------------------------------------------------------------------------\n",
            "84 [('<|endoftext|>', tensor(-0.)), ('However', tensor(-0.)), (',', tensor(-0.)), (' it', tensor(-0.)), (' was', tensor(-0.)), ('\\n', tensor(-0.)), ('hard', tensor(-0.)), ('ly', tensor(-0.)), (' morning', tensor(-0.)), (',', tensor(-0.)), (' and', tensor(-0.)), (' I', tensor(-0.)), (' might', tensor(-0.)), (' reasonably', tensor(-0.)), (' hope', tensor(-0.)), (' to', tensor(4.9086)), (' arrive', tensor(-0.)), (' by', tensor(3.7856)), (' night', tensor(-0.)), ('.', tensor(-0.))]\n",
            "---------------------------------------------------------------------------------------------------------------\n",
            "85 [('<|endoftext|>', tensor(-0.)), ('Never', tensor(-0.)), (' will', tensor(-0.)), (' I', tensor(-0.)), (' give', tensor(2.0060)), (' up', tensor(-0.)), (' my', tensor(-0.)), (' search', tensor(-0.)), ('\\n', tensor(-0.)), ('until', tensor(-0.)), (' he', tensor(-0.)), (' or', tensor(-0.)), (' I', tensor(2.5283)), (' perish', tensor(-0.)), (';', tensor(-0.)), (' and', tensor(-0.)), (' then', tensor(-0.)), (' with', tensor(-0.)), (' what', tensor(-0.)), (' ecstasy', tensor(-0.)), (' shall', tensor(-0.)), (' I', tensor(-0.)), (' join', tensor(-0.)), (' my', tensor(-0.)), ('\\n', tensor(-0.)), ('Elizabeth', tensor(-0.)), (' and', tensor(-0.)), (' my', tensor(-0.)), (' departed', tensor(-0.)), (' friends', tensor(-0.)), (',', tensor(-0.)), (' who', tensor(-0.)), (' even', tensor(-0.)), (' now', tensor(-0.)), (' prepare', tensor(-0.)), (' for', tensor(1.4653)), (' me', tensor(-0.)), (' the', tensor(-0.)), ('\\n', tensor(-0.)), ('re', tensor(1.9548)), ('ward', tensor(-0.)), (' of', tensor(-0.)), (' my', tensor(-0.)), (' tedious', tensor(-0.)), (' to', tensor(-0.)), ('il', tensor(-0.)), (' and', tensor(-0.)), (' horrible', tensor(-0.)), (' pilgrimage', tensor(-0.)), ('!', tensor(-0.))]\n",
            "---------------------------------------------------------------------------------------------------------------\n",
            "86 [('<|endoftext|>', tensor(-0.)), ('Chapter', tensor(-0.)), (' 19', tensor(-0.)), ('\\n', tensor(-0.))]\n",
            "---------------------------------------------------------------------------------------------------------------\n",
            "87 [('<|endoftext|>', tensor(-0.)), ('Six', tensor(-0.)), (' years', tensor(-0.)), (' have', tensor(-0.)), (' passed', tensor(-0.)), (' since', tensor(-0.)), (' I', tensor(-0.)), (' resolved', tensor(-0.)), (' on', tensor(-0.)), (' my', tensor(-0.)), (' present', tensor(-0.)), (' undertaking', tensor(-0.)), ('.', tensor(-0.))]\n",
            "---------------------------------------------------------------------------------------------------------------\n",
            "88 [('<|endoftext|>', tensor(-0.)), ('Here', tensor(-0.)), (' I', tensor(-0.)), (' paused', tensor(-0.)), (',', tensor(-0.)), (' I', tensor(-0.)), (' knew', tensor(2.3416)), (' not', tensor(-0.)), (' why', tensor(-0.)), (';', tensor(-0.)), ('\\n', tensor(-0.)), ('but', tensor(-0.)), (' I', tensor(-0.)), (' remained', tensor(-0.)), (' some', tensor(-0.)), (' minutes', tensor(-0.)), (' with', tensor(-0.)), (' my', tensor(-0.)), (' eyes', tensor(-0.)), (' fixed', tensor(-0.)), (' on', tensor(-0.)), (' a', tensor(-0.)), (' coach', tensor(-0.)), (' that', tensor(-0.)), (' was', tensor(-0.)), (' coming', tensor(-0.)), ('\\n', tensor(-0.)), ('t', tensor(-0.)), ('ow', tensor(-0.)), ('ards', tensor(-0.)), (' me', tensor(-0.)), (' from', tensor(-0.)), (' the', tensor(-0.)), (' other', tensor(17.6558)), (' end', tensor(-0.)), (' of', tensor(-0.)), (' the', tensor(-0.)), (' street', tensor(-0.)), ('.', tensor(-0.))]\n",
            "---------------------------------------------------------------------------------------------------------------\n",
            "89 [('<|endoftext|>', tensor(-0.)), ('Letter', tensor(-0.)), (' 4', tensor(-0.)), ('\\n', tensor(-0.))]\n",
            "---------------------------------------------------------------------------------------------------------------\n",
            "90 [('<|endoftext|>', tensor(-0.)), ('Chapter', tensor(-0.)), (' 18', tensor(-0.)), ('\\n', tensor(-0.))]\n",
            "---------------------------------------------------------------------------------------------------------------\n",
            "91 [('<|endoftext|>', tensor(-0.)), ('London', tensor(-0.)), (' was', tensor(-0.)), (' our', tensor(-0.)), (' present', tensor(3.4830)), (' point', tensor(-0.)), (' of', tensor(0.3397)), (' rest', tensor(-0.)), (';', tensor(-0.)), (' we', tensor(-0.)), (' determined', tensor(-0.)), (' to', tensor(-0.)), (' remain', tensor(-0.)), (' several', tensor(-0.)), ('\\n', tensor(-0.)), ('months', tensor(-0.)), (' in', tensor(-0.)), (' this', tensor(-0.)), (' wonderful', tensor(-0.)), (' and', tensor(-0.)), (' celebrated', tensor(-0.)), (' city', tensor(-0.)), ('.', tensor(-0.))]\n",
            "---------------------------------------------------------------------------------------------------------------\n",
            "92 [('<|endoftext|>', tensor(-0.)), ('�', tensor(-0.)), ('�', tensor(-0.)), ('Come', tensor(3.6236)), (' in', tensor(-0.)), ('.', tensor(-0.)), ('�', tensor(-0.)), ('�', tensor(-0.)), ('\\n', tensor(-0.))]\n",
            "---------------------------------------------------------------------------------------------------------------\n",
            "93 [('<|endoftext|>', tensor(-0.)), ('He', tensor(-0.)), (' is', tensor(-0.)), ('\\n', tensor(-0.)), ('so', tensor(-0.)), (';', tensor(-0.)), (' but', tensor(-0.)), (' then', tensor(-0.)), (' he', tensor(-0.)), (' is', tensor(-0.)), (' wholly', tensor(1.4893)), (' un', tensor(-0.)), ('educated', tensor(-0.)), (':', tensor(-0.)), (' he', tensor(-0.)), (' is', tensor(-0.)), (' as', tensor(-0.)), (' silent', tensor(-0.)), (' as', tensor(-0.)), (' a', tensor(-0.)), (' Turk', tensor(-0.)), (',', tensor(-0.)), (' and', tensor(-0.)), (' a', tensor(-0.)), (' kind', tensor(-0.)), ('\\n', tensor(-0.)), ('of', tensor(-0.)), (' ignorant', tensor(1.7613)), (' care', tensor(-0.)), ('lessness', tensor(-0.)), (' attends', tensor(-0.)), (' him', tensor(-0.)), (',', tensor(-0.)), (' which', tensor(-0.)), (',', tensor(-0.)), (' while', tensor(-0.)), (' it', tensor(-0.)), (' renders', tensor(-0.)), (' his', tensor(-0.)), (' conduct', tensor(-0.)), ('\\n', tensor(-0.)), ('the', tensor(-0.)), (' more', tensor(-0.)), (' astonishing', tensor(-0.)), (',', tensor(-0.)), (' detract', tensor(-0.)), ('s', tensor(-0.)), (' from', tensor(-0.)), (' the', tensor(-0.)), (' interest', tensor(-0.)), (' and', tensor(-0.)), (' sympathy', tensor(-0.)), (' which', tensor(-0.)), ('\\n', tensor(-0.)), ('other', tensor(-0.)), ('wise', tensor(-0.)), (' he', tensor(-0.)), (' would', tensor(-0.)), (' command', tensor(-0.)), ('.', tensor(-0.))]\n",
            "---------------------------------------------------------------------------------------------------------------\n",
            "94 [('<|endoftext|>', tensor(-0.)), ('Pres', tensor(-0.)), ('ently', tensor(-0.)), (' I', tensor(-0.)), ('\\n', tensor(-0.)), ('found', tensor(-0.)), (',', tensor(-0.)), (' by', tensor(-0.)), (' the', tensor(-0.)), (' frequent', tensor(-0.)), (' rec', tensor(3.1234)), ('urrence', tensor(-0.)), (' of', tensor(-0.)), (' some', tensor(-0.)), (' sound', tensor(-0.)), (' which', tensor(-0.)), (' the', tensor(-0.)), (' stranger', tensor(-0.)), ('\\n', tensor(-0.)), ('repe', tensor(-0.)), ('ated', tensor(-0.)), (' after', tensor(-0.)), (' them', tensor(-0.)), (',', tensor(-0.)), (' that', tensor(-0.)), (' she', tensor(-0.)), (' was', tensor(-0.)), (' endeav', tensor(-0.)), ('ouring', tensor(-0.)), (' to', tensor(-0.)), (' learn', tensor(-0.)), (' their', tensor(-0.)), (' language', tensor(-0.)), (';', tensor(-0.)), ('\\n', tensor(-0.)), ('and', tensor(-0.)), (' the', tensor(-0.)), (' idea', tensor(-0.)), (' instantly', tensor(-0.)), (' occurred', tensor(-0.)), (' to', tensor(3.5265)), (' me', tensor(-0.)), (' that', tensor(-0.)), (' I', tensor(-0.)), (' should', tensor(-0.)), (' make', tensor(8.4797)), (' use', tensor(-0.)), (' of', tensor(-0.)), (' the', tensor(-0.)), ('\\n', tensor(-0.)), ('same', tensor(-0.)), (' instructions', tensor(-0.)), (' to', tensor(-0.)), (' the', tensor(-0.)), (' same', tensor(11.1313)), (' end', tensor(-0.)), ('.', tensor(-0.))]\n",
            "---------------------------------------------------------------------------------------------------------------\n",
            "95 [('<|endoftext|>', tensor(-0.)), ('My', tensor(-0.)), (' father', tensor(-0.)), (' observed', tensor(-0.)), (' with', tensor(-0.)), (' pain', tensor(-0.)), (' the', tensor(-0.)), (' alteration', tensor(-0.)), (' percept', tensor(-0.)), ('ible', tensor(-0.)), (' in', tensor(-0.)), (' my', tensor(-0.)), (' disposition', tensor(-0.)), ('\\n', tensor(-0.)), ('and', tensor(-0.)), (' habits', tensor(-0.)), (' and', tensor(-0.)), (' endeav', tensor(-0.)), ('oured', tensor(-0.)), (' by', tensor(-0.)), (' arguments', tensor(-0.)), (' ded', tensor(-0.)), ('uced', tensor(-0.)), (' from', tensor(-0.)), (' the', tensor(-0.)), (' feelings', tensor(-0.)), (' of', tensor(-0.)), (' his', tensor(-0.)), ('\\n', tensor(-0.)), ('se', tensor(-0.)), ('rene', tensor(-0.)), (' conscience', tensor(-0.)), (' and', tensor(-0.)), (' guilt', tensor(-0.)), ('less', tensor(-0.)), (' life', tensor(-0.)), (' to', tensor(-0.)), (' inspire', tensor(2.4204)), (' me', tensor(-0.)), (' with', tensor(-0.)), (' fort', tensor(-0.)), ('itude', tensor(-0.)), (' and', tensor(-0.)), ('\\n', tensor(-0.)), ('aw', tensor(-0.)), ('aken', tensor(-0.)), (' in', tensor(4.1287)), (' me', tensor(-0.)), (' the', tensor(-0.)), (' courage', tensor(-0.)), (' to', tensor(-0.)), (' dispel', tensor(-0.)), (' the', tensor(-0.)), (' dark', tensor(1.5469)), (' cloud', tensor(-0.)), (' which', tensor(-0.)), (' bro', tensor(-0.)), ('oded', tensor(-0.)), (' over', tensor(5.7013)), (' me', tensor(-0.)), ('.', tensor(-0.))]\n",
            "---------------------------------------------------------------------------------------------------------------\n",
            "96 [('<|endoftext|>', tensor(-0.)), ('�', tensor(-0.)), ('�', tensor(-0.)), ('For', tensor(-0.)), (' that', tensor(-0.)), (' matter', tensor(-0.)), (',', tensor(-0.)), ('�', tensor(-0.)), ('�', tensor(-0.)), (' replied', tensor(-0.)), (' the', tensor(-0.)), (' old', tensor(-0.)), (' woman', tensor(-0.)), (',', tensor(-0.)), (' �', tensor(-0.)), ('�', tensor(-0.)), ('if', tensor(-0.)), (' you', tensor(-0.)), (' mean', tensor(-0.)), (' about', tensor(-0.)), (' the', tensor(-0.)), ('\\n', tensor(-0.)), ('gent', tensor(-0.)), ('le', tensor(-0.)), ('man', tensor(-0.)), (' you', tensor(-0.)), (' murdered', tensor(-0.)), (',', tensor(-0.)), (' I', tensor(-0.)), (' believe', tensor(-0.)), (' that', tensor(-0.)), (' it', tensor(-0.)), (' were', tensor(-0.)), (' better', tensor(-0.)), (' for', tensor(-0.)), (' you', tensor(-0.)), (' if', tensor(-0.)), (' you', tensor(-0.)), ('\\n', tensor(-0.)), ('were', tensor(11.0311)), (' dead', tensor(-0.)), (',', tensor(-0.)), (' for', tensor(-0.)), (' I', tensor(-0.)), (' fancy', tensor(-0.)), (' it', tensor(-0.)), (' will', tensor(4.4439)), (' go', tensor(5.2841)), (' hard', tensor(-0.)), (' with', tensor(-0.)), (' you', tensor(-0.)), ('!', tensor(-0.))]\n",
            "---------------------------------------------------------------------------------------------------------------\n",
            "97 [('<|endoftext|>', tensor(-0.)), ('Yet', tensor(-0.)), (' at', tensor(-0.)), (' the', tensor(-0.)), (' idea', tensor(-0.)), ('\\n', tensor(-0.)), ('that', tensor(-0.)), (' the', tensor(-0.)), (' fi', tensor(-0.)), ('end', tensor(-0.)), (' should', tensor(-0.)), (' live', tensor(-0.)), (' and', tensor(0.4383)), (' be', tensor(-0.)), (' triumphant', tensor(-0.)), (',', tensor(-0.)), (' my', tensor(-0.)), (' rage', tensor(-0.)), (' and', tensor(-0.)), (' vengeance', tensor(-0.)), ('\\n', tensor(3.8845)), ('return', tensor(-0.)), ('ed', tensor(-0.)), (',', tensor(-0.)), (' and', tensor(-0.)), (' like', tensor(-0.)), (' a', tensor(-0.)), (' mighty', tensor(-0.)), (' tide', tensor(-0.)), (',', tensor(-0.)), (' overwhelmed', tensor(-0.)), (' every', tensor(-0.)), (' other', tensor(-0.)), (' feeling', tensor(-0.)), ('.', tensor(-0.))]\n",
            "---------------------------------------------------------------------------------------------------------------\n",
            "98 [('<|endoftext|>', tensor(-0.)), ('R', tensor(-0.)), ('.', tensor(-0.))]\n",
            "---------------------------------------------------------------------------------------------------------------\n",
            "99 [('<|endoftext|>', tensor(-0.)), ('I', tensor(-0.)), (' remained', tensor(-0.)), (' two', tensor(-0.)), (' days', tensor(-0.)), (' at', tensor(-0.)), (' La', tensor(-0.)), ('us', tensor(-0.)), ('anne', tensor(-0.)), (',', tensor(-0.)), (' in', tensor(-0.)), (' this', tensor(-0.)), (' painful', tensor(0.7844)), (' state', tensor(-0.)), (' of', tensor(-0.)), (' mind', tensor(-0.)), ('.', tensor(-0.))]\n",
            "---------------------------------------------------------------------------------------------------------------\n"
          ]
        }
      ]
    },
    {
      "cell_type": "code",
      "source": [],
      "metadata": {
        "id": "JYBEPNVNfZBt"
      },
      "execution_count": 18,
      "outputs": []
    },
    {
      "cell_type": "code",
      "source": [
        "max, indx = torch.max(batch_acts_top, dim=1)"
      ],
      "metadata": {
        "id": "imQsYLaN97J1"
      },
      "execution_count": 190,
      "outputs": []
    },
    {
      "cell_type": "code",
      "source": [
        "\n",
        "torch.max(max), sentences[rand_indices[torch.argmax(max)]]"
      ],
      "metadata": {
        "colab": {
          "base_uri": "https://localhost:8080/"
        },
        "id": "Kwby7SbG_ymw",
        "outputId": "9d5fef98-660d-4170-ce6f-c8ae51219898"
      },
      "execution_count": 191,
      "outputs": [
        {
          "output_type": "execute_result",
          "data": {
            "text/plain": [
              "(tensor(59.0098, grad_fn=<MaxBackward1>),\n",
              " '“The next morning Felix went out to his work, and after the usual\\noccupations of Agatha were finished, the Arabian sat at the feet of the\\nold man, and taking his guitar, played some airs so entrancingly\\nbeautiful that they at once drew tears of sorrow and delight from my\\neyes.')"
            ]
          },
          "metadata": {},
          "execution_count": 191
        }
      ]
    },
    {
      "cell_type": "code",
      "source": [
        "# acts_sentences = torch.sum(batch_acts_top, dim = 1)\n",
        "\n",
        "for i in range(100):\n",
        "  print(i, list(zip((max[i].data, sentences[rand_indices[i]]))))\n"
      ],
      "metadata": {
        "colab": {
          "base_uri": "https://localhost:8080/"
        },
        "id": "NMai_wFcAGIf",
        "outputId": "5a30b668-3165-4455-f612-c2ab90838f20"
      },
      "execution_count": 192,
      "outputs": [
        {
          "output_type": "stream",
          "name": "stdout",
          "text": [
            "0 [(tensor(1.6644),), ('He has already had one or two little _wives,_ but Louisa Biron\\nis his favourite, a pretty little girl of five years of age.',)]\n",
            "1 [(tensor(5.0871),), ('My lieutenant, for instance, is a man of wonderful courage\\nand enterprise; he is madly desirous of glory, or rather, to word my phrase\\nmore characteristically, of advancement in his profession.',)]\n",
            "2 [(tensor(13.8025),), ('“I thank you, Walton,” he said, “for your kind intentions towards so\\nmiserable a wretch; but when you speak of new ties and fresh\\naffections, think you that any can replace those who are gone?',)]\n",
            "3 [(tensor(1.3640),), ('We left Oxford with regret and proceeded to Matlock, which was our next\\nplace of rest.',)]\n",
            "4 [(tensor(8.4295),), ('The past appeared to me in the light of a frightful dream;\\nyet the vessel in which I was, the wind that blew me from the detested\\nshore of Ireland, and the sea which surrounded me, told me too forcibly\\nthat I was deceived by no vision and that Clerval, my friend and dearest\\ncompanion, had fallen a victim to me and the monster of my creation.',)]\n",
            "5 [(tensor(-0.),), ('“‘I am about to undertake that task; and it is on that account that I\\nfeel so many overwhelming terrors.',)]\n",
            "6 [(tensor(3.1516),), ('The thunder ceased; but the rain still\\ncontinued, and the scene was enveloped in an impenetrable darkness.',)]\n",
            "7 [(tensor(-0.),), ('Fiend that thou art!',)]\n",
            "8 [(tensor(24.2837),), ('My present situation was one in which all voluntary thought was\\nswallowed up and lost.',)]\n",
            "9 [(tensor(-0.),), ('Clerval spent the last\\nevening with us.',)]\n",
            "10 [(tensor(-0.),), ('Peace, peace!',)]\n",
            "11 [(tensor(-0.),), ('What was I?',)]\n",
            "12 [(tensor(-0.),), ('I burned with rage to\\npursue the murderer of my peace and precipitate him into the ocean.',)]\n",
            "13 [(tensor(0.9472),), ('Justine shook her head mournfully.',)]\n",
            "14 [(tensor(-0.),), ('“D—n\\nthe fellow!” cried he; “why, M.',)]\n",
            "15 [(tensor(5.1050),), ('On you it rests,\\nwhether I quit for ever the neighbourhood of man and lead a harmless\\nlife, or become the scourge of your fellow creatures and the author of\\nyour own speedy ruin.”\\n',)]\n",
            "16 [(tensor(4.7054),), ('You were attached to each other from your\\nearliest infancy; you studied together, and appeared, in dispositions and\\ntastes, entirely suited to one another.',)]\n",
            "17 [(tensor(59.0098),), ('“The next morning Felix went out to his work, and after the usual\\noccupations of Agatha were finished, the Arabian sat at the feet of the\\nold man, and taking his guitar, played some airs so entrancingly\\nbeautiful that they at once drew tears of sorrow and delight from my\\neyes.',)]\n",
            "18 [(tensor(-0.),), ('Oh!',)]\n",
            "19 [(tensor(3.1710),), ('His voice seemed suffocated, and my first impulses, which had suggested to\\nme the duty of obeying the dying request of my friend in destroying his\\nenemy, were now suspended by a mixture of curiosity and compassion.',)]\n",
            "20 [(tensor(7.7828),), ('Blasted as thou wert, my agony was still superior to\\nthine, for the bitter sting of remorse will not cease to rankle in my\\nwounds until death shall close them for ever.',)]\n",
            "21 [(tensor(-0.),), ('His words had a strange effect upon me.',)]\n",
            "22 [(tensor(9.3348),), ('Observe how fast we move\\nalong and how the clouds, which sometimes obscure and sometimes rise\\nabove the dome of Mont Blanc, render this scene of beauty still more\\ninteresting.',)]\n",
            "23 [(tensor(-0.),), ('I was\\nnourished with high thoughts of honour and devotion.',)]\n",
            "24 [(tensor(2.2776),), ('I would have made a pilgrimage to the highest peak of the\\nAndes, could I, when there, have precipitated him to their base.',)]\n",
            "25 [(tensor(4.6768),), ('But the fresh air and\\nbright sun seldom failed to restore me to some degree of composure, and\\non my return I met the salutations of my friends with a readier smile\\nand a more cheerful heart.',)]\n",
            "26 [(tensor(5.6898),), ('Kirwin is a magistrate,\\nand you are to give an account of the death of a gentleman who was\\nfound murdered here last night.”\\n',)]\n",
            "27 [(tensor(-0.),), ('What must have been his feelings?',)]\n",
            "28 [(tensor(-0.),), ('My spirit\\nwill sleep in peace, or if it thinks, it will not surely think thus.',)]\n",
            "29 [(tensor(0.4022),), ('The materials at present within my command hardly appeared\\nadequate to so arduous an undertaking, but I doubted not that I should\\nultimately succeed.',)]\n",
            "30 [(tensor(3.1694),), ('My duties towards the beings of my own species had greater claims to\\nmy attention because they included a greater proportion of happiness or\\nmisery.',)]\n",
            "31 [(tensor(0.7230),), ('How I\\nhave lived I hardly know; many times have I stretched my failing limbs upon\\nthe sandy plain and prayed for death.',)]\n",
            "32 [(tensor(-0.),), ('I shall ascend my funeral pile triumphantly and\\nexult in the agony of the torturing flames.',)]\n",
            "33 [(tensor(20.4363),), ('My journey had been my own suggestion, and Elizabeth\\ntherefore acquiesced, but she was filled with disquiet at the idea of\\nmy suffering, away from her, the inroads of misery and grief.',)]\n",
            "34 [(tensor(30.9851),), ('The peasants were\\nshut up in their hovels, and only a few of the most hardy ventured forth to\\nseize the animals whom starvation had forced from their hiding-places to\\nseek for prey.',)]\n",
            "35 [(tensor(10.1392),), ('But a blight had\\ncome over my existence, and I only visited these people for the sake of\\nthe information they might give me on the subject in which my interest\\nwas so terribly profound.',)]\n",
            "36 [(tensor(2.5571),), ('Saying this, he suddenly quitted me, fearful, perhaps, of any change in\\nmy sentiments.',)]\n",
            "37 [(tensor(12.4408),), ('The wounded deer dragging its fainting\\nlimbs to some untrodden brake, there to gaze upon the arrow which had\\npierced it, and to die, was but a type of me.',)]\n",
            "38 [(tensor(7.0283),), ('Learn from me, dear lady, to submit in patience to\\nthe will of heaven!”\\n',)]\n",
            "39 [(tensor(-0.),), ('September 7th.',)]\n",
            "40 [(tensor(-0.),), ('We feel, conceive, or reason; laugh or weep,\\n',)]\n",
            "41 [(tensor(1.4328),), ('I confess that neither the structure of languages,\\nnor the code of governments, nor the politics of various states\\npossessed attractions for me.',)]\n",
            "42 [(tensor(-0.),), ('I abhorred the face of man.',)]\n",
            "43 [(tensor(-0.),), ('“Have you,” he\\nsaid, “really spent your time in studying such nonsense?”\\n',)]\n",
            "44 [(tensor(1.4336),), ('In the meantime I took every precaution to defend my person in case the\\nfiend should openly attack me.',)]\n",
            "45 [(tensor(26.7008),), ('“A few days after, the Turk entered his daughter’s apartment and told\\nher hastily that he had reason to believe that his residence at Leghorn\\nhad been divulged and that he should speedily be delivered up to the\\nFrench government; he had consequently hired a vessel to convey him to\\nConstantinople, for which city he should sail in a few hours.',)]\n",
            "46 [(tensor(-0.),), ('They were for ever ardent and craving; still\\nI desired love and fellowship, and I was still spurned.',)]\n",
            "47 [(tensor(-0.),), ('Kirwin charged himself with every\\ncare of collecting witnesses and arranging my defence.',)]\n",
            "48 [(tensor(-0.),), ('My affection for my guest increases every day.',)]\n",
            "49 [(tensor(1.2795),), ('It was about five in the morning when I entered my father’s house.',)]\n",
            "50 [(tensor(-0.),), ('What do you intend to do?”\\n',)]\n",
            "51 [(tensor(-0.),), ('Chapter 20\\n',)]\n",
            "52 [(tensor(5.1857),), ('Is this gentle and lovely being lost\\nfor ever?',)]\n",
            "53 [(tensor(0.9802),), ('Fear overcame me; I\\ndared no advance, dreading a thousand nameless evils that made me tremble,\\nalthough I was unable to define them.',)]\n",
            "54 [(tensor(-0.),), ('Even\\nwhere the affections are not strongly moved by any superior excellence,\\nthe companions of our childhood always possess a certain power over our\\nminds which hardly any later friend can obtain.',)]\n",
            "55 [(tensor(-0.),), ('“What a noble fellow!” you will exclaim.',)]\n",
            "56 [(tensor(0.3700),), ('“These thoughts exhilarated me and led me to apply with fresh ardour to\\nthe acquiring the art of language.',)]\n",
            "57 [(tensor(4.6917),), ('Finding the door open, I entered.',)]\n",
            "58 [(tensor(3.5993),), ('The cup of life was poisoned for ever, and\\nalthough the sun shone upon me, as upon the happy and gay of heart, I\\nsaw around me nothing but a dense and frightful darkness, penetrated by\\nno light but the glimmer of two eyes that glared upon me.',)]\n",
            "59 [(tensor(3.2185),), ('I confessed, that I might\\nobtain absolution; but now that falsehood lies heavier at my heart than\\nall my other sins.',)]\n",
            "60 [(tensor(-0.),), ('My person was hideous and my stature gigantic.',)]\n",
            "61 [(tensor(28.3890),), ('Such is my journal of what relates to this strange occurrence up to the\\npresent day.',)]\n",
            "62 [(tensor(-0.),), ('“I commit my cause to the justice of my judges, yet I see no room for\\nhope.',)]\n",
            "63 [(tensor(-0.),), ('I wish you could see him; he is very tall of his age, with\\nsweet laughing blue eyes, dark eyelashes, and curling hair.',)]\n",
            "64 [(tensor(-0.),), ('How ill you are!',)]\n",
            "65 [(tensor(0.2671),), ('The youth\\nand his companion had each of them several names, but the old man had only\\none, which was _father._ The girl was called _sister_ or\\n_Agatha,_ and the youth _Felix, brother,_ or _son_.',)]\n",
            "66 [(tensor(7.6519),), ('And could not such words from her whom I fondly prized before every\\nother gift of fortune suffice to chase away the fiend that lurked in my\\nheart?',)]\n",
            "67 [(tensor(53.6800),), ('Agatha fainted, and Safie, unable to attend to her\\nfriend, rushed out of the cottage.',)]\n",
            "68 [(tensor(7.2544),), ('“I am happy to remark, my dear son, that you have resumed your former\\npleasures and seem to be returning to yourself.',)]\n",
            "69 [(tensor(-0.),), ('Alas!',)]\n",
            "70 [(tensor(7.1036),), ('They know our\\ninfantine dispositions, which, however they may be afterwards modified,\\nare never eradicated; and they can judge of our actions with more\\ncertain conclusions as to the integrity of our motives.',)]\n",
            "71 [(tensor(-0.),), ('“The hour of my irresolution is past, and the period of your power is\\narrived.',)]\n",
            "72 [(tensor(-0.),), ('I will melt the stony\\nhearts of your enemies by my tears and prayers.',)]\n",
            "73 [(tensor(-0.),), ('I arrived at Geneva.',)]\n",
            "74 [(tensor(5.3481),), ('I feel exquisite pleasure in dwelling on the recollections of childhood,\\nbefore misfortune had tainted my mind and changed its bright visions of\\nextensive usefulness into gloomy and narrow reflections upon self.',)]\n",
            "75 [(tensor(8.8190),), ('The very winds whispered in soothing\\naccents, and maternal Nature bade me weep no more.',)]\n",
            "76 [(tensor(11.5180),), ('It was after my return from one of these rambles that my father,\\ncalling me aside, thus addressed me,\\n',)]\n",
            "77 [(tensor(6.4988),), ('Accordingly, a few months\\nafter your departure for Ingolstadt, Justine was called home by her\\nrepentant mother.',)]\n",
            "78 [(tensor(-0.),), ('I am interrupted.',)]\n",
            "79 [(tensor(-0.),), ('“My dear father, you are mistaken; Justine is innocent.”\\n',)]\n",
            "80 [(tensor(2.9008),), ('I swear to you, by the earth which I inhabit, and by you that made me, that\\nwith the companion you bestow, I will quit the neighbourhood of man and\\ndwell, as it may chance, in the most savage of places.',)]\n",
            "81 [(tensor(-0.),), ('Yet a second step is taken towards my enterprise.',)]\n",
            "82 [(tensor(9.4182),), ('I was anxious\\nand watchful, while my right hand grasped a pistol which was hidden in\\nmy bosom; every sound terrified me, but I resolved that I would sell my\\nlife dearly and not shrink from the conflict until my own life or that\\nof my adversary was extinguished.',)]\n",
            "83 [(tensor(7.3839),), ('But to me the remembrance of the\\nthreat returned; nor can you wonder that, omnipotent as the fiend had\\nyet been in his deeds of blood, I should almost regard him as\\ninvincible, and that when he had pronounced the words “_I shall be with\\nyou on your wedding-night_,” I should regard the threatened fate as\\nunavoidable.',)]\n",
            "84 [(tensor(4.9086),), ('However, it was\\nhardly morning, and I might reasonably hope to arrive by night.',)]\n",
            "85 [(tensor(2.5283),), ('Never will I give up my search\\nuntil he or I perish; and then with what ecstasy shall I join my\\nElizabeth and my departed friends, who even now prepare for me the\\nreward of my tedious toil and horrible pilgrimage!',)]\n",
            "86 [(tensor(-0.),), ('Chapter 19\\n',)]\n",
            "87 [(tensor(-0.),), ('Six years have passed since I resolved on my present undertaking.',)]\n",
            "88 [(tensor(17.6558),), ('Here I paused, I knew not why;\\nbut I remained some minutes with my eyes fixed on a coach that was coming\\ntowards me from the other end of the street.',)]\n",
            "89 [(tensor(-0.),), ('Letter 4\\n',)]\n",
            "90 [(tensor(-0.),), ('Chapter 18\\n',)]\n",
            "91 [(tensor(3.4830),), ('London was our present point of rest; we determined to remain several\\nmonths in this wonderful and celebrated city.',)]\n",
            "92 [(tensor(3.6236),), ('‘Come in.’\\n',)]\n",
            "93 [(tensor(1.7613),), ('He is\\nso; but then he is wholly uneducated: he is as silent as a Turk, and a kind\\nof ignorant carelessness attends him, which, while it renders his conduct\\nthe more astonishing, detracts from the interest and sympathy which\\notherwise he would command.',)]\n",
            "94 [(tensor(11.1313),), ('Presently I\\nfound, by the frequent recurrence of some sound which the stranger\\nrepeated after them, that she was endeavouring to learn their language;\\nand the idea instantly occurred to me that I should make use of the\\nsame instructions to the same end.',)]\n",
            "95 [(tensor(5.7013),), ('My father observed with pain the alteration perceptible in my disposition\\nand habits and endeavoured by arguments deduced from the feelings of his\\nserene conscience and guiltless life to inspire me with fortitude and\\nawaken in me the courage to dispel the dark cloud which brooded over me.',)]\n",
            "96 [(tensor(11.0311),), ('“For that matter,” replied the old woman, “if you mean about the\\ngentleman you murdered, I believe that it were better for you if you\\nwere dead, for I fancy it will go hard with you!',)]\n",
            "97 [(tensor(3.8845),), ('Yet at the idea\\nthat the fiend should live and be triumphant, my rage and vengeance\\nreturned, and like a mighty tide, overwhelmed every other feeling.',)]\n",
            "98 [(tensor(-0.),), ('R.',)]\n",
            "99 [(tensor(0.7844),), ('I remained two days at Lausanne, in this painful state of mind.',)]\n"
          ]
        }
      ]
    },
    {
      "cell_type": "code",
      "source": [
        "from IPython.display import HTML, display\n",
        "\n",
        "def highlight_text(words, values, cmap='RdYlGn'):\n",
        "    \"\"\"\n",
        "    Highlight words in text with color gradient based on values.\n",
        "    Perfect for displaying in Colab notebooks.\n",
        "    \"\"\"\n",
        "    # Normalize values to [0, 1] if not already\n",
        "    values = np.array(values, dtype=float)\n",
        "    if values.min() < 0 or values.max() > 1:\n",
        "        values = (values - values.min()) / (values.max() - values.min() + 1e-8)\n",
        "\n",
        "    # Get colormap\n",
        "    cmap = plt.get_cmap(cmap)\n",
        "\n",
        "    # Create highlighted HTML\n",
        "    span = \"\"\n",
        "    for word, val in zip(words, values):\n",
        "        # Get RGBA color from colormap\n",
        "        rgba = cmap(val)\n",
        "        # Convert to hex\n",
        "        color = '#%02x%02x%02x' % (int(rgba[0]*255), int(rgba[1]*255), int(rgba[2]*255))\n",
        "        # Create span with background color\n",
        "        span += f'<span style=\"background-color: {color}; border-radius: 3px; padding: 0 2px;\">{word}</span>'\n",
        "    return span\n",
        "\n",
        "\n",
        "HTML(highlight_text(model.to_str_tokens(input), activation_cache[layer_name]@top_feature.detach() ))"
      ],
      "metadata": {
        "id": "dcQN7-1tC_yK",
        "colab": {
          "base_uri": "https://localhost:8080/",
          "height": 34
        },
        "outputId": "9da0cf2b-cd6f-4864-a5cb-0fbd2b62182d"
      },
      "execution_count": 193,
      "outputs": [
        {
          "output_type": "execute_result",
          "data": {
            "text/plain": [
              "<IPython.core.display.HTML object>"
            ],
            "text/html": [
              "<span style=\"background-color: #a50026; border-radius: 3px; padding: 0 2px;\"><|endoftext|></span><span style=\"background-color: #7ac565; border-radius: 3px; padding: 0 2px;\">The</span><span style=\"background-color: #60ba61; border-radius: 3px; padding: 0 2px;\"> rain</span><span style=\"background-color: #54b45e; border-radius: 3px; padding: 0 2px;\"> pat</span><span style=\"background-color: #5ab760; border-radius: 3px; padding: 0 2px;\">tered</span><span style=\"background-color: #60ba61; border-radius: 3px; padding: 0 2px;\"> dism</span><span style=\"background-color: #51b25d; border-radius: 3px; padding: 0 2px;\">ally</span><span style=\"background-color: #63bb62; border-radius: 3px; padding: 0 2px;\"> against</span><span style=\"background-color: #68be63; border-radius: 3px; padding: 0 2px;\"> the</span><span style=\"background-color: #57b55f; border-radius: 3px; padding: 0 2px;\"> pan</span><span style=\"background-color: #3faa59; border-radius: 3px; padding: 0 2px;\">es</span><span style=\"background-color: #57b55f; border-radius: 3px; padding: 0 2px;\">,</span><span style=\"background-color: #60ba61; border-radius: 3px; padding: 0 2px;\"> and</span><span style=\"background-color: #6dc063; border-radius: 3px; padding: 0 2px;\"> my</span><span style=\"background-color: #60ba61; border-radius: 3px; padding: 0 2px;\"> candle</span><span style=\"background-color: #5ab760; border-radius: 3px; padding: 0 2px;\"> was</span><span style=\"background-color: #006837; border-radius: 3px; padding: 0 2px;\"> out</span>"
            ]
          },
          "metadata": {},
          "execution_count": 193
        }
      ]
    },
    {
      "cell_type": "code",
      "source": [
        "\n",
        "for line, i in enumerate(range(100)):\n",
        "  # print(list(zip(model.to_str_tokens(sentences[rand_indices[i]]), batch_acts_top[i, :].data)))\n",
        "  # text = sentences[rand_indices[i]]\n",
        "  words = model.to_str_tokens(sentences[rand_indices[i]])\n",
        "  values = batch_acts_top[i, :].data\n",
        "\n",
        "  display(HTML(f'<div style=\"font-size: 16px; line-height: 1.6; padding: 10px;\">{highlight_text(words, values)}</div>'))\n",
        "  print('------------------------------')"
      ],
      "metadata": {
        "colab": {
          "base_uri": "https://localhost:8080/",
          "height": 1000
        },
        "outputId": "e5d70714-1678-4166-e84e-29478c9040c3",
        "id": "zwymF_8KfbLF"
      },
      "execution_count": 194,
      "outputs": [
        {
          "output_type": "display_data",
          "data": {
            "text/plain": [
              "<IPython.core.display.HTML object>"
            ],
            "text/html": [
              "<div style=\"font-size: 16px; line-height: 1.6; padding: 10px;\"><span style=\"background-color: #a50026; border-radius: 3px; padding: 0 2px;\"><|endoftext|></span><span style=\"background-color: #a50026; border-radius: 3px; padding: 0 2px;\">He</span><span style=\"background-color: #a50026; border-radius: 3px; padding: 0 2px;\"> has</span><span style=\"background-color: #a50026; border-radius: 3px; padding: 0 2px;\"> already</span><span style=\"background-color: #a50026; border-radius: 3px; padding: 0 2px;\"> had</span><span style=\"background-color: #a50026; border-radius: 3px; padding: 0 2px;\"> one</span><span style=\"background-color: #a50026; border-radius: 3px; padding: 0 2px;\"> or</span><span style=\"background-color: #a50026; border-radius: 3px; padding: 0 2px;\"> two</span><span style=\"background-color: #a50026; border-radius: 3px; padding: 0 2px;\"> little</span><span style=\"background-color: #a50026; border-radius: 3px; padding: 0 2px;\"> _</span><span style=\"background-color: #a50026; border-radius: 3px; padding: 0 2px;\">wives</span><span style=\"background-color: #a50026; border-radius: 3px; padding: 0 2px;\">,</span><span style=\"background-color: #a50026; border-radius: 3px; padding: 0 2px;\">_</span><span style=\"background-color: #a50026; border-radius: 3px; padding: 0 2px;\"> but</span><span style=\"background-color: #a50026; border-radius: 3px; padding: 0 2px;\"> Louis</span><span style=\"background-color: #a50026; border-radius: 3px; padding: 0 2px;\">a</span><span style=\"background-color: #a50026; border-radius: 3px; padding: 0 2px;\"> B</span><span style=\"background-color: #a50026; border-radius: 3px; padding: 0 2px;\">iron</span><span style=\"background-color: #a50026; border-radius: 3px; padding: 0 2px;\">\n",
              "</span><span style=\"background-color: #a50026; border-radius: 3px; padding: 0 2px;\">is</span><span style=\"background-color: #a50026; border-radius: 3px; padding: 0 2px;\"> his</span><span style=\"background-color: #a50026; border-radius: 3px; padding: 0 2px;\"> favourite</span><span style=\"background-color: #a50026; border-radius: 3px; padding: 0 2px;\">,</span><span style=\"background-color: #a50026; border-radius: 3px; padding: 0 2px;\"> a</span><span style=\"background-color: #a50026; border-radius: 3px; padding: 0 2px;\"> pretty</span><span style=\"background-color: #a50026; border-radius: 3px; padding: 0 2px;\"> little</span><span style=\"background-color: #a50026; border-radius: 3px; padding: 0 2px;\"> girl</span><span style=\"background-color: #a50026; border-radius: 3px; padding: 0 2px;\"> of</span><span style=\"background-color: #006837; border-radius: 3px; padding: 0 2px;\"> five</span><span style=\"background-color: #a50026; border-radius: 3px; padding: 0 2px;\"> years</span><span style=\"background-color: #a50026; border-radius: 3px; padding: 0 2px;\"> of</span><span style=\"background-color: #a50026; border-radius: 3px; padding: 0 2px;\"> age</span><span style=\"background-color: #a50026; border-radius: 3px; padding: 0 2px;\">.</span></div>"
            ]
          },
          "metadata": {}
        },
        {
          "output_type": "stream",
          "name": "stdout",
          "text": [
            "------------------------------\n"
          ]
        },
        {
          "output_type": "display_data",
          "data": {
            "text/plain": [
              "<IPython.core.display.HTML object>"
            ],
            "text/html": [
              "<div style=\"font-size: 16px; line-height: 1.6; padding: 10px;\"><span style=\"background-color: #a50026; border-radius: 3px; padding: 0 2px;\"><|endoftext|></span><span style=\"background-color: #a50026; border-radius: 3px; padding: 0 2px;\">My</span><span style=\"background-color: #a50026; border-radius: 3px; padding: 0 2px;\"> lieutenant</span><span style=\"background-color: #a50026; border-radius: 3px; padding: 0 2px;\">,</span><span style=\"background-color: #a50026; border-radius: 3px; padding: 0 2px;\"> for</span><span style=\"background-color: #a50026; border-radius: 3px; padding: 0 2px;\"> instance</span><span style=\"background-color: #a50026; border-radius: 3px; padding: 0 2px;\">,</span><span style=\"background-color: #a50026; border-radius: 3px; padding: 0 2px;\"> is</span><span style=\"background-color: #a50026; border-radius: 3px; padding: 0 2px;\"> a</span><span style=\"background-color: #a50026; border-radius: 3px; padding: 0 2px;\"> man</span><span style=\"background-color: #a50026; border-radius: 3px; padding: 0 2px;\"> of</span><span style=\"background-color: #a50026; border-radius: 3px; padding: 0 2px;\"> wonderful</span><span style=\"background-color: #a50026; border-radius: 3px; padding: 0 2px;\"> courage</span><span style=\"background-color: #a50026; border-radius: 3px; padding: 0 2px;\">\n",
              "</span><span style=\"background-color: #a50026; border-radius: 3px; padding: 0 2px;\">and</span><span style=\"background-color: #a50026; border-radius: 3px; padding: 0 2px;\"> enterprise</span><span style=\"background-color: #a50026; border-radius: 3px; padding: 0 2px;\">;</span><span style=\"background-color: #a50026; border-radius: 3px; padding: 0 2px;\"> he</span><span style=\"background-color: #006837; border-radius: 3px; padding: 0 2px;\"> is</span><span style=\"background-color: #a50026; border-radius: 3px; padding: 0 2px;\"> mad</span><span style=\"background-color: #a50026; border-radius: 3px; padding: 0 2px;\">ly</span><span style=\"background-color: #a50026; border-radius: 3px; padding: 0 2px;\"> des</span><span style=\"background-color: #89cc66; border-radius: 3px; padding: 0 2px;\">ir</span><span style=\"background-color: #a50026; border-radius: 3px; padding: 0 2px;\">ous</span><span style=\"background-color: #a50026; border-radius: 3px; padding: 0 2px;\"> of</span><span style=\"background-color: #a50026; border-radius: 3px; padding: 0 2px;\"> glory</span><span style=\"background-color: #a50026; border-radius: 3px; padding: 0 2px;\">,</span><span style=\"background-color: #a50026; border-radius: 3px; padding: 0 2px;\"> or</span><span style=\"background-color: #a50026; border-radius: 3px; padding: 0 2px;\"> rather</span><span style=\"background-color: #a50026; border-radius: 3px; padding: 0 2px;\">,</span><span style=\"background-color: #a50026; border-radius: 3px; padding: 0 2px;\"> to</span><span style=\"background-color: #a50026; border-radius: 3px; padding: 0 2px;\"> word</span><span style=\"background-color: #a50026; border-radius: 3px; padding: 0 2px;\"> my</span><span style=\"background-color: #a50026; border-radius: 3px; padding: 0 2px;\"> phrase</span><span style=\"background-color: #fdca78; border-radius: 3px; padding: 0 2px;\">\n",
              "</span><span style=\"background-color: #a50026; border-radius: 3px; padding: 0 2px;\">more</span><span style=\"background-color: #a50026; border-radius: 3px; padding: 0 2px;\"> character</span><span style=\"background-color: #a50026; border-radius: 3px; padding: 0 2px;\">istically</span><span style=\"background-color: #a50026; border-radius: 3px; padding: 0 2px;\">,</span><span style=\"background-color: #abdb6d; border-radius: 3px; padding: 0 2px;\"> of</span><span style=\"background-color: #a50026; border-radius: 3px; padding: 0 2px;\"> advancement</span><span style=\"background-color: #a50026; border-radius: 3px; padding: 0 2px;\"> in</span><span style=\"background-color: #a50026; border-radius: 3px; padding: 0 2px;\"> his</span><span style=\"background-color: #a50026; border-radius: 3px; padding: 0 2px;\"> profession</span><span style=\"background-color: #a50026; border-radius: 3px; padding: 0 2px;\">.</span></div>"
            ]
          },
          "metadata": {}
        },
        {
          "output_type": "stream",
          "name": "stdout",
          "text": [
            "------------------------------\n"
          ]
        },
        {
          "output_type": "display_data",
          "data": {
            "text/plain": [
              "<IPython.core.display.HTML object>"
            ],
            "text/html": [
              "<div style=\"font-size: 16px; line-height: 1.6; padding: 10px;\"><span style=\"background-color: #a50026; border-radius: 3px; padding: 0 2px;\"><|endoftext|></span><span style=\"background-color: #a50026; border-radius: 3px; padding: 0 2px;\">�</span><span style=\"background-color: #a50026; border-radius: 3px; padding: 0 2px;\">�</span><span style=\"background-color: #a50026; border-radius: 3px; padding: 0 2px;\">I</span><span style=\"background-color: #a50026; border-radius: 3px; padding: 0 2px;\"> thank</span><span style=\"background-color: #a50026; border-radius: 3px; padding: 0 2px;\"> you</span><span style=\"background-color: #a50026; border-radius: 3px; padding: 0 2px;\">,</span><span style=\"background-color: #a50026; border-radius: 3px; padding: 0 2px;\"> Walton</span><span style=\"background-color: #a50026; border-radius: 3px; padding: 0 2px;\">,</span><span style=\"background-color: #a50026; border-radius: 3px; padding: 0 2px;\">�</span><span style=\"background-color: #a50026; border-radius: 3px; padding: 0 2px;\">�</span><span style=\"background-color: #a50026; border-radius: 3px; padding: 0 2px;\"> he</span><span style=\"background-color: #a50026; border-radius: 3px; padding: 0 2px;\"> said</span><span style=\"background-color: #a50026; border-radius: 3px; padding: 0 2px;\">,</span><span style=\"background-color: #a50026; border-radius: 3px; padding: 0 2px;\"> �</span><span style=\"background-color: #a50026; border-radius: 3px; padding: 0 2px;\">�</span><span style=\"background-color: #a50026; border-radius: 3px; padding: 0 2px;\">for</span><span style=\"background-color: #a50026; border-radius: 3px; padding: 0 2px;\"> your</span><span style=\"background-color: #a50026; border-radius: 3px; padding: 0 2px;\"> kind</span><span style=\"background-color: #a50026; border-radius: 3px; padding: 0 2px;\"> intentions</span><span style=\"background-color: #a50026; border-radius: 3px; padding: 0 2px;\"> towards</span><span style=\"background-color: #a50026; border-radius: 3px; padding: 0 2px;\"> so</span><span style=\"background-color: #a50026; border-radius: 3px; padding: 0 2px;\">\n",
              "</span><span style=\"background-color: #a50026; border-radius: 3px; padding: 0 2px;\">m</span><span style=\"background-color: #a50026; border-radius: 3px; padding: 0 2px;\">iser</span><span style=\"background-color: #a50026; border-radius: 3px; padding: 0 2px;\">able</span><span style=\"background-color: #a50026; border-radius: 3px; padding: 0 2px;\"> a</span><span style=\"background-color: #a50026; border-radius: 3px; padding: 0 2px;\"> w</span><span style=\"background-color: #a50026; border-radius: 3px; padding: 0 2px;\">retch</span><span style=\"background-color: #a50026; border-radius: 3px; padding: 0 2px;\">;</span><span style=\"background-color: #a50026; border-radius: 3px; padding: 0 2px;\"> but</span><span style=\"background-color: #a50026; border-radius: 3px; padding: 0 2px;\"> when</span><span style=\"background-color: #fdcc7a; border-radius: 3px; padding: 0 2px;\"> you</span><span style=\"background-color: #a50026; border-radius: 3px; padding: 0 2px;\"> speak</span><span style=\"background-color: #a50026; border-radius: 3px; padding: 0 2px;\"> of</span><span style=\"background-color: #a50026; border-radius: 3px; padding: 0 2px;\"> new</span><span style=\"background-color: #a50026; border-radius: 3px; padding: 0 2px;\"> ties</span><span style=\"background-color: #a50026; border-radius: 3px; padding: 0 2px;\"> and</span><span style=\"background-color: #a50026; border-radius: 3px; padding: 0 2px;\"> fresh</span><span style=\"background-color: #a50026; border-radius: 3px; padding: 0 2px;\">\n",
              "</span><span style=\"background-color: #a50026; border-radius: 3px; padding: 0 2px;\">aff</span><span style=\"background-color: #a50026; border-radius: 3px; padding: 0 2px;\">ect</span><span style=\"background-color: #a50026; border-radius: 3px; padding: 0 2px;\">ions</span><span style=\"background-color: #f99354; border-radius: 3px; padding: 0 2px;\">,</span><span style=\"background-color: #a50026; border-radius: 3px; padding: 0 2px;\"> think</span><span style=\"background-color: #a50026; border-radius: 3px; padding: 0 2px;\"> you</span><span style=\"background-color: #a50026; border-radius: 3px; padding: 0 2px;\"> that</span><span style=\"background-color: #a50026; border-radius: 3px; padding: 0 2px;\"> any</span><span style=\"background-color: #a50026; border-radius: 3px; padding: 0 2px;\"> can</span><span style=\"background-color: #a50026; border-radius: 3px; padding: 0 2px;\"> replace</span><span style=\"background-color: #a50026; border-radius: 3px; padding: 0 2px;\"> those</span><span style=\"background-color: #a50026; border-radius: 3px; padding: 0 2px;\"> who</span><span style=\"background-color: #006837; border-radius: 3px; padding: 0 2px;\"> are</span><span style=\"background-color: #a50026; border-radius: 3px; padding: 0 2px;\"> gone</span><span style=\"background-color: #a50026; border-radius: 3px; padding: 0 2px;\">?</span></div>"
            ]
          },
          "metadata": {}
        },
        {
          "output_type": "stream",
          "name": "stdout",
          "text": [
            "------------------------------\n"
          ]
        },
        {
          "output_type": "display_data",
          "data": {
            "text/plain": [
              "<IPython.core.display.HTML object>"
            ],
            "text/html": [
              "<div style=\"font-size: 16px; line-height: 1.6; padding: 10px;\"><span style=\"background-color: #a50026; border-radius: 3px; padding: 0 2px;\"><|endoftext|></span><span style=\"background-color: #a50026; border-radius: 3px; padding: 0 2px;\">We</span><span style=\"background-color: #a50026; border-radius: 3px; padding: 0 2px;\"> left</span><span style=\"background-color: #a50026; border-radius: 3px; padding: 0 2px;\"> Oxford</span><span style=\"background-color: #a50026; border-radius: 3px; padding: 0 2px;\"> with</span><span style=\"background-color: #a50026; border-radius: 3px; padding: 0 2px;\"> regret</span><span style=\"background-color: #a50026; border-radius: 3px; padding: 0 2px;\"> and</span><span style=\"background-color: #a50026; border-radius: 3px; padding: 0 2px;\"> proceeded</span><span style=\"background-color: #a50026; border-radius: 3px; padding: 0 2px;\"> to</span><span style=\"background-color: #a50026; border-radius: 3px; padding: 0 2px;\"> Mat</span><span style=\"background-color: #a50026; border-radius: 3px; padding: 0 2px;\">lock</span><span style=\"background-color: #a50026; border-radius: 3px; padding: 0 2px;\">,</span><span style=\"background-color: #a50026; border-radius: 3px; padding: 0 2px;\"> which</span><span style=\"background-color: #a50026; border-radius: 3px; padding: 0 2px;\"> was</span><span style=\"background-color: #a50026; border-radius: 3px; padding: 0 2px;\"> our</span><span style=\"background-color: #a50026; border-radius: 3px; padding: 0 2px;\"> next</span><span style=\"background-color: #a50026; border-radius: 3px; padding: 0 2px;\">\n",
              "</span><span style=\"background-color: #a50026; border-radius: 3px; padding: 0 2px;\">place</span><span style=\"background-color: #006837; border-radius: 3px; padding: 0 2px;\"> of</span><span style=\"background-color: #a50026; border-radius: 3px; padding: 0 2px;\"> rest</span><span style=\"background-color: #a50026; border-radius: 3px; padding: 0 2px;\">.</span></div>"
            ]
          },
          "metadata": {}
        },
        {
          "output_type": "stream",
          "name": "stdout",
          "text": [
            "------------------------------\n"
          ]
        },
        {
          "output_type": "display_data",
          "data": {
            "text/plain": [
              "<IPython.core.display.HTML object>"
            ],
            "text/html": [
              "<div style=\"font-size: 16px; line-height: 1.6; padding: 10px;\"><span style=\"background-color: #a50026; border-radius: 3px; padding: 0 2px;\"><|endoftext|></span><span style=\"background-color: #a50026; border-radius: 3px; padding: 0 2px;\">The</span><span style=\"background-color: #a50026; border-radius: 3px; padding: 0 2px;\"> past</span><span style=\"background-color: #a50026; border-radius: 3px; padding: 0 2px;\"> appeared</span><span style=\"background-color: #a50026; border-radius: 3px; padding: 0 2px;\"> to</span><span style=\"background-color: #a50026; border-radius: 3px; padding: 0 2px;\"> me</span><span style=\"background-color: #a50026; border-radius: 3px; padding: 0 2px;\"> in</span><span style=\"background-color: #def193; border-radius: 3px; padding: 0 2px;\"> the</span><span style=\"background-color: #a50026; border-radius: 3px; padding: 0 2px;\"> light</span><span style=\"background-color: #a50026; border-radius: 3px; padding: 0 2px;\"> of</span><span style=\"background-color: #a50026; border-radius: 3px; padding: 0 2px;\"> a</span><span style=\"background-color: #a50026; border-radius: 3px; padding: 0 2px;\"> fright</span><span style=\"background-color: #a50026; border-radius: 3px; padding: 0 2px;\">ful</span><span style=\"background-color: #a50026; border-radius: 3px; padding: 0 2px;\"> dream</span><span style=\"background-color: #a50026; border-radius: 3px; padding: 0 2px;\">;</span><span style=\"background-color: #a50026; border-radius: 3px; padding: 0 2px;\">\n",
              "</span><span style=\"background-color: #a50026; border-radius: 3px; padding: 0 2px;\">yet</span><span style=\"background-color: #a50026; border-radius: 3px; padding: 0 2px;\"> the</span><span style=\"background-color: #a50026; border-radius: 3px; padding: 0 2px;\"> vessel</span><span style=\"background-color: #a50026; border-radius: 3px; padding: 0 2px;\"> in</span><span style=\"background-color: #a50026; border-radius: 3px; padding: 0 2px;\"> which</span><span style=\"background-color: #a50026; border-radius: 3px; padding: 0 2px;\"> I</span><span style=\"background-color: #a50026; border-radius: 3px; padding: 0 2px;\"> was</span><span style=\"background-color: #a50026; border-radius: 3px; padding: 0 2px;\">,</span><span style=\"background-color: #a50026; border-radius: 3px; padding: 0 2px;\"> the</span><span style=\"background-color: #a50026; border-radius: 3px; padding: 0 2px;\"> wind</span><span style=\"background-color: #a50026; border-radius: 3px; padding: 0 2px;\"> that</span><span style=\"background-color: #a50026; border-radius: 3px; padding: 0 2px;\"> blew</span><span style=\"background-color: #a50026; border-radius: 3px; padding: 0 2px;\"> me</span><span style=\"background-color: #a50026; border-radius: 3px; padding: 0 2px;\"> from</span><span style=\"background-color: #a50026; border-radius: 3px; padding: 0 2px;\"> the</span><span style=\"background-color: #a50026; border-radius: 3px; padding: 0 2px;\"> det</span><span style=\"background-color: #a50026; border-radius: 3px; padding: 0 2px;\">ested</span><span style=\"background-color: #006837; border-radius: 3px; padding: 0 2px;\">\n",
              "</span><span style=\"background-color: #a50026; border-radius: 3px; padding: 0 2px;\">shore</span><span style=\"background-color: #a50026; border-radius: 3px; padding: 0 2px;\"> of</span><span style=\"background-color: #a50026; border-radius: 3px; padding: 0 2px;\"> Ireland</span><span style=\"background-color: #a50026; border-radius: 3px; padding: 0 2px;\">,</span><span style=\"background-color: #a50026; border-radius: 3px; padding: 0 2px;\"> and</span><span style=\"background-color: #a50026; border-radius: 3px; padding: 0 2px;\"> the</span><span style=\"background-color: #a50026; border-radius: 3px; padding: 0 2px;\"> sea</span><span style=\"background-color: #a50026; border-radius: 3px; padding: 0 2px;\"> which</span><span style=\"background-color: #a50026; border-radius: 3px; padding: 0 2px;\"> surrounded</span><span style=\"background-color: #a50026; border-radius: 3px; padding: 0 2px;\"> me</span><span style=\"background-color: #a50026; border-radius: 3px; padding: 0 2px;\">,</span><span style=\"background-color: #a50026; border-radius: 3px; padding: 0 2px;\"> told</span><span style=\"background-color: #fcac60; border-radius: 3px; padding: 0 2px;\"> me</span><span style=\"background-color: #fdb466; border-radius: 3px; padding: 0 2px;\"> too</span><span style=\"background-color: #a50026; border-radius: 3px; padding: 0 2px;\"> forcibly</span><span style=\"background-color: #a50026; border-radius: 3px; padding: 0 2px;\">\n",
              "</span><span style=\"background-color: #a50026; border-radius: 3px; padding: 0 2px;\">that</span><span style=\"background-color: #a50026; border-radius: 3px; padding: 0 2px;\"> I</span><span style=\"background-color: #a50026; border-radius: 3px; padding: 0 2px;\"> was</span><span style=\"background-color: #a50026; border-radius: 3px; padding: 0 2px;\"> deceived</span><span style=\"background-color: #a50026; border-radius: 3px; padding: 0 2px;\"> by</span><span style=\"background-color: #a50026; border-radius: 3px; padding: 0 2px;\"> no</span><span style=\"background-color: #a50026; border-radius: 3px; padding: 0 2px;\"> vision</span><span style=\"background-color: #a50026; border-radius: 3px; padding: 0 2px;\"> and</span><span style=\"background-color: #a50026; border-radius: 3px; padding: 0 2px;\"> that</span><span style=\"background-color: #a50026; border-radius: 3px; padding: 0 2px;\"> Cl</span><span style=\"background-color: #a50026; border-radius: 3px; padding: 0 2px;\">erv</span><span style=\"background-color: #a50026; border-radius: 3px; padding: 0 2px;\">al</span><span style=\"background-color: #a50026; border-radius: 3px; padding: 0 2px;\">,</span><span style=\"background-color: #a50026; border-radius: 3px; padding: 0 2px;\"> my</span><span style=\"background-color: #a50026; border-radius: 3px; padding: 0 2px;\"> friend</span><span style=\"background-color: #a50026; border-radius: 3px; padding: 0 2px;\"> and</span><span style=\"background-color: #a50026; border-radius: 3px; padding: 0 2px;\"> de</span><span style=\"background-color: #a50026; border-radius: 3px; padding: 0 2px;\">arest</span><span style=\"background-color: #a50026; border-radius: 3px; padding: 0 2px;\">\n",
              "</span><span style=\"background-color: #a50026; border-radius: 3px; padding: 0 2px;\">compan</span><span style=\"background-color: #a50026; border-radius: 3px; padding: 0 2px;\">ion</span><span style=\"background-color: #a50026; border-radius: 3px; padding: 0 2px;\">,</span><span style=\"background-color: #a50026; border-radius: 3px; padding: 0 2px;\"> had</span><span style=\"background-color: #a50026; border-radius: 3px; padding: 0 2px;\"> fallen</span><span style=\"background-color: #a2d769; border-radius: 3px; padding: 0 2px;\"> a</span><span style=\"background-color: #a50026; border-radius: 3px; padding: 0 2px;\"> victim</span><span style=\"background-color: #e7f59f; border-radius: 3px; padding: 0 2px;\"> to</span><span style=\"background-color: #a50026; border-radius: 3px; padding: 0 2px;\"> me</span><span style=\"background-color: #a50026; border-radius: 3px; padding: 0 2px;\"> and</span><span style=\"background-color: #a50026; border-radius: 3px; padding: 0 2px;\"> the</span><span style=\"background-color: #a50026; border-radius: 3px; padding: 0 2px;\"> monster</span><span style=\"background-color: #a50026; border-radius: 3px; padding: 0 2px;\"> of</span><span style=\"background-color: #a50026; border-radius: 3px; padding: 0 2px;\"> my</span><span style=\"background-color: #a50026; border-radius: 3px; padding: 0 2px;\"> creation</span><span style=\"background-color: #a50026; border-radius: 3px; padding: 0 2px;\">.</span></div>"
            ]
          },
          "metadata": {}
        },
        {
          "output_type": "stream",
          "name": "stdout",
          "text": [
            "------------------------------\n"
          ]
        },
        {
          "output_type": "display_data",
          "data": {
            "text/plain": [
              "<IPython.core.display.HTML object>"
            ],
            "text/html": [
              "<div style=\"font-size: 16px; line-height: 1.6; padding: 10px;\"><span style=\"background-color: #a50026; border-radius: 3px; padding: 0 2px;\"><|endoftext|></span><span style=\"background-color: #a50026; border-radius: 3px; padding: 0 2px;\">�</span><span style=\"background-color: #a50026; border-radius: 3px; padding: 0 2px;\">�</span><span style=\"background-color: #a50026; border-radius: 3px; padding: 0 2px;\">�</span><span style=\"background-color: #a50026; border-radius: 3px; padding: 0 2px;\">�</span><span style=\"background-color: #a50026; border-radius: 3px; padding: 0 2px;\">I</span><span style=\"background-color: #a50026; border-radius: 3px; padding: 0 2px;\"> am</span><span style=\"background-color: #a50026; border-radius: 3px; padding: 0 2px;\"> about</span><span style=\"background-color: #a50026; border-radius: 3px; padding: 0 2px;\"> to</span><span style=\"background-color: #a50026; border-radius: 3px; padding: 0 2px;\"> undertake</span><span style=\"background-color: #a50026; border-radius: 3px; padding: 0 2px;\"> that</span><span style=\"background-color: #a50026; border-radius: 3px; padding: 0 2px;\"> task</span><span style=\"background-color: #a50026; border-radius: 3px; padding: 0 2px;\">;</span><span style=\"background-color: #a50026; border-radius: 3px; padding: 0 2px;\"> and</span><span style=\"background-color: #a50026; border-radius: 3px; padding: 0 2px;\"> it</span><span style=\"background-color: #a50026; border-radius: 3px; padding: 0 2px;\"> is</span><span style=\"background-color: #a50026; border-radius: 3px; padding: 0 2px;\"> on</span><span style=\"background-color: #a50026; border-radius: 3px; padding: 0 2px;\"> that</span><span style=\"background-color: #a50026; border-radius: 3px; padding: 0 2px;\"> account</span><span style=\"background-color: #a50026; border-radius: 3px; padding: 0 2px;\"> that</span><span style=\"background-color: #a50026; border-radius: 3px; padding: 0 2px;\"> I</span><span style=\"background-color: #a50026; border-radius: 3px; padding: 0 2px;\">\n",
              "</span><span style=\"background-color: #a50026; border-radius: 3px; padding: 0 2px;\">feel</span><span style=\"background-color: #a50026; border-radius: 3px; padding: 0 2px;\"> so</span><span style=\"background-color: #a50026; border-radius: 3px; padding: 0 2px;\"> many</span><span style=\"background-color: #a50026; border-radius: 3px; padding: 0 2px;\"> overwhelming</span><span style=\"background-color: #a50026; border-radius: 3px; padding: 0 2px;\"> ter</span><span style=\"background-color: #a50026; border-radius: 3px; padding: 0 2px;\">rors</span><span style=\"background-color: #a50026; border-radius: 3px; padding: 0 2px;\">.</span></div>"
            ]
          },
          "metadata": {}
        },
        {
          "output_type": "stream",
          "name": "stdout",
          "text": [
            "------------------------------\n"
          ]
        },
        {
          "output_type": "display_data",
          "data": {
            "text/plain": [
              "<IPython.core.display.HTML object>"
            ],
            "text/html": [
              "<div style=\"font-size: 16px; line-height: 1.6; padding: 10px;\"><span style=\"background-color: #a50026; border-radius: 3px; padding: 0 2px;\"><|endoftext|></span><span style=\"background-color: #a50026; border-radius: 3px; padding: 0 2px;\">The</span><span style=\"background-color: #f7894f; border-radius: 3px; padding: 0 2px;\"> thunder</span><span style=\"background-color: #a50026; border-radius: 3px; padding: 0 2px;\"> ceased</span><span style=\"background-color: #a50026; border-radius: 3px; padding: 0 2px;\">;</span><span style=\"background-color: #a50026; border-radius: 3px; padding: 0 2px;\"> but</span><span style=\"background-color: #a50026; border-radius: 3px; padding: 0 2px;\"> the</span><span style=\"background-color: #a50026; border-radius: 3px; padding: 0 2px;\"> rain</span><span style=\"background-color: #a50026; border-radius: 3px; padding: 0 2px;\"> still</span><span style=\"background-color: #a50026; border-radius: 3px; padding: 0 2px;\">\n",
              "</span><span style=\"background-color: #006837; border-radius: 3px; padding: 0 2px;\">contin</span><span style=\"background-color: #a50026; border-radius: 3px; padding: 0 2px;\">ued</span><span style=\"background-color: #a50026; border-radius: 3px; padding: 0 2px;\">,</span><span style=\"background-color: #a50026; border-radius: 3px; padding: 0 2px;\"> and</span><span style=\"background-color: #a50026; border-radius: 3px; padding: 0 2px;\"> the</span><span style=\"background-color: #a50026; border-radius: 3px; padding: 0 2px;\"> scene</span><span style=\"background-color: #a50026; border-radius: 3px; padding: 0 2px;\"> was</span><span style=\"background-color: #a50026; border-radius: 3px; padding: 0 2px;\"> envelop</span><span style=\"background-color: #a50026; border-radius: 3px; padding: 0 2px;\">ed</span><span style=\"background-color: #a50026; border-radius: 3px; padding: 0 2px;\"> in</span><span style=\"background-color: #a50026; border-radius: 3px; padding: 0 2px;\"> an</span><span style=\"background-color: #a50026; border-radius: 3px; padding: 0 2px;\"> imp</span><span style=\"background-color: #a50026; border-radius: 3px; padding: 0 2px;\">en</span><span style=\"background-color: #a50026; border-radius: 3px; padding: 0 2px;\">etr</span><span style=\"background-color: #a50026; border-radius: 3px; padding: 0 2px;\">able</span><span style=\"background-color: #a50026; border-radius: 3px; padding: 0 2px;\"> darkness</span><span style=\"background-color: #a50026; border-radius: 3px; padding: 0 2px;\">.</span></div>"
            ]
          },
          "metadata": {}
        },
        {
          "output_type": "stream",
          "name": "stdout",
          "text": [
            "------------------------------\n"
          ]
        },
        {
          "output_type": "display_data",
          "data": {
            "text/plain": [
              "<IPython.core.display.HTML object>"
            ],
            "text/html": [
              "<div style=\"font-size: 16px; line-height: 1.6; padding: 10px;\"><span style=\"background-color: #a50026; border-radius: 3px; padding: 0 2px;\"><|endoftext|></span><span style=\"background-color: #a50026; border-radius: 3px; padding: 0 2px;\">Fi</span><span style=\"background-color: #a50026; border-radius: 3px; padding: 0 2px;\">end</span><span style=\"background-color: #a50026; border-radius: 3px; padding: 0 2px;\"> that</span><span style=\"background-color: #a50026; border-radius: 3px; padding: 0 2px;\"> thou</span><span style=\"background-color: #a50026; border-radius: 3px; padding: 0 2px;\"> art</span><span style=\"background-color: #a50026; border-radius: 3px; padding: 0 2px;\">!</span></div>"
            ]
          },
          "metadata": {}
        },
        {
          "output_type": "stream",
          "name": "stdout",
          "text": [
            "------------------------------\n"
          ]
        },
        {
          "output_type": "display_data",
          "data": {
            "text/plain": [
              "<IPython.core.display.HTML object>"
            ],
            "text/html": [
              "<div style=\"font-size: 16px; line-height: 1.6; padding: 10px;\"><span style=\"background-color: #a50026; border-radius: 3px; padding: 0 2px;\"><|endoftext|></span><span style=\"background-color: #a50026; border-radius: 3px; padding: 0 2px;\">My</span><span style=\"background-color: #a50026; border-radius: 3px; padding: 0 2px;\"> present</span><span style=\"background-color: #a50026; border-radius: 3px; padding: 0 2px;\"> situation</span><span style=\"background-color: #a50026; border-radius: 3px; padding: 0 2px;\"> was</span><span style=\"background-color: #a50026; border-radius: 3px; padding: 0 2px;\"> one</span><span style=\"background-color: #a50026; border-radius: 3px; padding: 0 2px;\"> in</span><span style=\"background-color: #a50026; border-radius: 3px; padding: 0 2px;\"> which</span><span style=\"background-color: #a50026; border-radius: 3px; padding: 0 2px;\"> all</span><span style=\"background-color: #a50026; border-radius: 3px; padding: 0 2px;\"> voluntary</span><span style=\"background-color: #a50026; border-radius: 3px; padding: 0 2px;\"> thought</span><span style=\"background-color: #a50026; border-radius: 3px; padding: 0 2px;\"> was</span><span style=\"background-color: #a50026; border-radius: 3px; padding: 0 2px;\">\n",
              "</span><span style=\"background-color: #a50026; border-radius: 3px; padding: 0 2px;\">sw</span><span style=\"background-color: #006837; border-radius: 3px; padding: 0 2px;\">allowed</span><span style=\"background-color: #a50026; border-radius: 3px; padding: 0 2px;\"> up</span><span style=\"background-color: #f16840; border-radius: 3px; padding: 0 2px;\"> and</span><span style=\"background-color: #a50026; border-radius: 3px; padding: 0 2px;\"> lost</span><span style=\"background-color: #a50026; border-radius: 3px; padding: 0 2px;\">.</span></div>"
            ]
          },
          "metadata": {}
        },
        {
          "output_type": "stream",
          "name": "stdout",
          "text": [
            "------------------------------\n"
          ]
        },
        {
          "output_type": "display_data",
          "data": {
            "text/plain": [
              "<IPython.core.display.HTML object>"
            ],
            "text/html": [
              "<div style=\"font-size: 16px; line-height: 1.6; padding: 10px;\"><span style=\"background-color: #a50026; border-radius: 3px; padding: 0 2px;\"><|endoftext|></span><span style=\"background-color: #a50026; border-radius: 3px; padding: 0 2px;\">Cl</span><span style=\"background-color: #a50026; border-radius: 3px; padding: 0 2px;\">erv</span><span style=\"background-color: #a50026; border-radius: 3px; padding: 0 2px;\">al</span><span style=\"background-color: #a50026; border-radius: 3px; padding: 0 2px;\"> spent</span><span style=\"background-color: #a50026; border-radius: 3px; padding: 0 2px;\"> the</span><span style=\"background-color: #a50026; border-radius: 3px; padding: 0 2px;\"> last</span><span style=\"background-color: #a50026; border-radius: 3px; padding: 0 2px;\">\n",
              "</span><span style=\"background-color: #a50026; border-radius: 3px; padding: 0 2px;\">even</span><span style=\"background-color: #a50026; border-radius: 3px; padding: 0 2px;\">ing</span><span style=\"background-color: #a50026; border-radius: 3px; padding: 0 2px;\"> with</span><span style=\"background-color: #a50026; border-radius: 3px; padding: 0 2px;\"> us</span><span style=\"background-color: #a50026; border-radius: 3px; padding: 0 2px;\">.</span></div>"
            ]
          },
          "metadata": {}
        },
        {
          "output_type": "stream",
          "name": "stdout",
          "text": [
            "------------------------------\n"
          ]
        },
        {
          "output_type": "display_data",
          "data": {
            "text/plain": [
              "<IPython.core.display.HTML object>"
            ],
            "text/html": [
              "<div style=\"font-size: 16px; line-height: 1.6; padding: 10px;\"><span style=\"background-color: #a50026; border-radius: 3px; padding: 0 2px;\"><|endoftext|></span><span style=\"background-color: #a50026; border-radius: 3px; padding: 0 2px;\">Peace</span><span style=\"background-color: #a50026; border-radius: 3px; padding: 0 2px;\">,</span><span style=\"background-color: #a50026; border-radius: 3px; padding: 0 2px;\"> peace</span><span style=\"background-color: #a50026; border-radius: 3px; padding: 0 2px;\">!</span></div>"
            ]
          },
          "metadata": {}
        },
        {
          "output_type": "stream",
          "name": "stdout",
          "text": [
            "------------------------------\n"
          ]
        },
        {
          "output_type": "display_data",
          "data": {
            "text/plain": [
              "<IPython.core.display.HTML object>"
            ],
            "text/html": [
              "<div style=\"font-size: 16px; line-height: 1.6; padding: 10px;\"><span style=\"background-color: #a50026; border-radius: 3px; padding: 0 2px;\"><|endoftext|></span><span style=\"background-color: #a50026; border-radius: 3px; padding: 0 2px;\">What</span><span style=\"background-color: #a50026; border-radius: 3px; padding: 0 2px;\"> was</span><span style=\"background-color: #a50026; border-radius: 3px; padding: 0 2px;\"> I</span><span style=\"background-color: #a50026; border-radius: 3px; padding: 0 2px;\">?</span></div>"
            ]
          },
          "metadata": {}
        },
        {
          "output_type": "stream",
          "name": "stdout",
          "text": [
            "------------------------------\n"
          ]
        },
        {
          "output_type": "display_data",
          "data": {
            "text/plain": [
              "<IPython.core.display.HTML object>"
            ],
            "text/html": [
              "<div style=\"font-size: 16px; line-height: 1.6; padding: 10px;\"><span style=\"background-color: #a50026; border-radius: 3px; padding: 0 2px;\"><|endoftext|></span><span style=\"background-color: #a50026; border-radius: 3px; padding: 0 2px;\">I</span><span style=\"background-color: #a50026; border-radius: 3px; padding: 0 2px;\"> burned</span><span style=\"background-color: #a50026; border-radius: 3px; padding: 0 2px;\"> with</span><span style=\"background-color: #a50026; border-radius: 3px; padding: 0 2px;\"> rage</span><span style=\"background-color: #a50026; border-radius: 3px; padding: 0 2px;\"> to</span><span style=\"background-color: #a50026; border-radius: 3px; padding: 0 2px;\">\n",
              "</span><span style=\"background-color: #a50026; border-radius: 3px; padding: 0 2px;\">p</span><span style=\"background-color: #a50026; border-radius: 3px; padding: 0 2px;\">urs</span><span style=\"background-color: #a50026; border-radius: 3px; padding: 0 2px;\">ue</span><span style=\"background-color: #a50026; border-radius: 3px; padding: 0 2px;\"> the</span><span style=\"background-color: #a50026; border-radius: 3px; padding: 0 2px;\"> murderer</span><span style=\"background-color: #a50026; border-radius: 3px; padding: 0 2px;\"> of</span><span style=\"background-color: #a50026; border-radius: 3px; padding: 0 2px;\"> my</span><span style=\"background-color: #a50026; border-radius: 3px; padding: 0 2px;\"> peace</span><span style=\"background-color: #a50026; border-radius: 3px; padding: 0 2px;\"> and</span><span style=\"background-color: #a50026; border-radius: 3px; padding: 0 2px;\"> precip</span><span style=\"background-color: #a50026; border-radius: 3px; padding: 0 2px;\">itate</span><span style=\"background-color: #a50026; border-radius: 3px; padding: 0 2px;\"> him</span><span style=\"background-color: #a50026; border-radius: 3px; padding: 0 2px;\"> into</span><span style=\"background-color: #a50026; border-radius: 3px; padding: 0 2px;\"> the</span><span style=\"background-color: #a50026; border-radius: 3px; padding: 0 2px;\"> ocean</span><span style=\"background-color: #a50026; border-radius: 3px; padding: 0 2px;\">.</span></div>"
            ]
          },
          "metadata": {}
        },
        {
          "output_type": "stream",
          "name": "stdout",
          "text": [
            "------------------------------\n"
          ]
        },
        {
          "output_type": "display_data",
          "data": {
            "text/plain": [
              "<IPython.core.display.HTML object>"
            ],
            "text/html": [
              "<div style=\"font-size: 16px; line-height: 1.6; padding: 10px;\"><span style=\"background-color: #a50026; border-radius: 3px; padding: 0 2px;\"><|endoftext|></span><span style=\"background-color: #a50026; border-radius: 3px; padding: 0 2px;\">Just</span><span style=\"background-color: #a50026; border-radius: 3px; padding: 0 2px;\">ine</span><span style=\"background-color: #a50026; border-radius: 3px; padding: 0 2px;\"> shook</span><span style=\"background-color: #0d8043; border-radius: 3px; padding: 0 2px;\"> her</span><span style=\"background-color: #a50026; border-radius: 3px; padding: 0 2px;\"> head</span><span style=\"background-color: #a50026; border-radius: 3px; padding: 0 2px;\"> mourn</span><span style=\"background-color: #a50026; border-radius: 3px; padding: 0 2px;\">fully</span><span style=\"background-color: #a50026; border-radius: 3px; padding: 0 2px;\">.</span></div>"
            ]
          },
          "metadata": {}
        },
        {
          "output_type": "stream",
          "name": "stdout",
          "text": [
            "------------------------------\n"
          ]
        },
        {
          "output_type": "display_data",
          "data": {
            "text/plain": [
              "<IPython.core.display.HTML object>"
            ],
            "text/html": [
              "<div style=\"font-size: 16px; line-height: 1.6; padding: 10px;\"><span style=\"background-color: #a50026; border-radius: 3px; padding: 0 2px;\"><|endoftext|></span><span style=\"background-color: #a50026; border-radius: 3px; padding: 0 2px;\">�</span><span style=\"background-color: #a50026; border-radius: 3px; padding: 0 2px;\">�</span><span style=\"background-color: #a50026; border-radius: 3px; padding: 0 2px;\">D</span><span style=\"background-color: #a50026; border-radius: 3px; padding: 0 2px;\">—</span><span style=\"background-color: #a50026; border-radius: 3px; padding: 0 2px;\">n</span><span style=\"background-color: #a50026; border-radius: 3px; padding: 0 2px;\">\n",
              "</span><span style=\"background-color: #a50026; border-radius: 3px; padding: 0 2px;\">the</span><span style=\"background-color: #a50026; border-radius: 3px; padding: 0 2px;\"> fellow</span><span style=\"background-color: #a50026; border-radius: 3px; padding: 0 2px;\">!</span><span style=\"background-color: #a50026; border-radius: 3px; padding: 0 2px;\">�</span><span style=\"background-color: #a50026; border-radius: 3px; padding: 0 2px;\">�</span><span style=\"background-color: #a50026; border-radius: 3px; padding: 0 2px;\"> cried</span><span style=\"background-color: #a50026; border-radius: 3px; padding: 0 2px;\"> he</span><span style=\"background-color: #a50026; border-radius: 3px; padding: 0 2px;\">;</span><span style=\"background-color: #a50026; border-radius: 3px; padding: 0 2px;\"> �</span><span style=\"background-color: #a50026; border-radius: 3px; padding: 0 2px;\">�</span><span style=\"background-color: #a50026; border-radius: 3px; padding: 0 2px;\">why</span><span style=\"background-color: #a50026; border-radius: 3px; padding: 0 2px;\">,</span><span style=\"background-color: #a50026; border-radius: 3px; padding: 0 2px;\"> M</span><span style=\"background-color: #a50026; border-radius: 3px; padding: 0 2px;\">.</span></div>"
            ]
          },
          "metadata": {}
        },
        {
          "output_type": "stream",
          "name": "stdout",
          "text": [
            "------------------------------\n"
          ]
        },
        {
          "output_type": "display_data",
          "data": {
            "text/plain": [
              "<IPython.core.display.HTML object>"
            ],
            "text/html": [
              "<div style=\"font-size: 16px; line-height: 1.6; padding: 10px;\"><span style=\"background-color: #a50026; border-radius: 3px; padding: 0 2px;\"><|endoftext|></span><span style=\"background-color: #a50026; border-radius: 3px; padding: 0 2px;\">On</span><span style=\"background-color: #a50026; border-radius: 3px; padding: 0 2px;\"> you</span><span style=\"background-color: #a50026; border-radius: 3px; padding: 0 2px;\"> it</span><span style=\"background-color: #a50026; border-radius: 3px; padding: 0 2px;\"> rests</span><span style=\"background-color: #a50026; border-radius: 3px; padding: 0 2px;\">,</span><span style=\"background-color: #a50026; border-radius: 3px; padding: 0 2px;\">\n",
              "</span><span style=\"background-color: #a50026; border-radius: 3px; padding: 0 2px;\">whether</span><span style=\"background-color: #a50026; border-radius: 3px; padding: 0 2px;\"> I</span><span style=\"background-color: #a50026; border-radius: 3px; padding: 0 2px;\"> quit</span><span style=\"background-color: #cfea84; border-radius: 3px; padding: 0 2px;\"> for</span><span style=\"background-color: #a50026; border-radius: 3px; padding: 0 2px;\"> ever</span><span style=\"background-color: #a50026; border-radius: 3px; padding: 0 2px;\"> the</span><span style=\"background-color: #a50026; border-radius: 3px; padding: 0 2px;\"> neighbourhood</span><span style=\"background-color: #a50026; border-radius: 3px; padding: 0 2px;\"> of</span><span style=\"background-color: #a50026; border-radius: 3px; padding: 0 2px;\"> man</span><span style=\"background-color: #a50026; border-radius: 3px; padding: 0 2px;\"> and</span><span style=\"background-color: #a50026; border-radius: 3px; padding: 0 2px;\"> lead</span><span style=\"background-color: #a50026; border-radius: 3px; padding: 0 2px;\"> a</span><span style=\"background-color: #a50026; border-radius: 3px; padding: 0 2px;\"> harmless</span><span style=\"background-color: #006837; border-radius: 3px; padding: 0 2px;\">\n",
              "</span><span style=\"background-color: #a50026; border-radius: 3px; padding: 0 2px;\">life</span><span style=\"background-color: #a50026; border-radius: 3px; padding: 0 2px;\">,</span><span style=\"background-color: #a50026; border-radius: 3px; padding: 0 2px;\"> or</span><span style=\"background-color: #a50026; border-radius: 3px; padding: 0 2px;\"> become</span><span style=\"background-color: #a50026; border-radius: 3px; padding: 0 2px;\"> the</span><span style=\"background-color: #a50026; border-radius: 3px; padding: 0 2px;\"> scourge</span><span style=\"background-color: #a50026; border-radius: 3px; padding: 0 2px;\"> of</span><span style=\"background-color: #a50026; border-radius: 3px; padding: 0 2px;\"> your</span><span style=\"background-color: #a50026; border-radius: 3px; padding: 0 2px;\"> fellow</span><span style=\"background-color: #a50026; border-radius: 3px; padding: 0 2px;\"> creatures</span><span style=\"background-color: #a50026; border-radius: 3px; padding: 0 2px;\"> and</span><span style=\"background-color: #fdc070; border-radius: 3px; padding: 0 2px;\"> the</span><span style=\"background-color: #a50026; border-radius: 3px; padding: 0 2px;\"> author</span><span style=\"background-color: #a50026; border-radius: 3px; padding: 0 2px;\"> of</span><span style=\"background-color: #a50026; border-radius: 3px; padding: 0 2px;\">\n",
              "</span><span style=\"background-color: #a50026; border-radius: 3px; padding: 0 2px;\">your</span><span style=\"background-color: #a50026; border-radius: 3px; padding: 0 2px;\"> own</span><span style=\"background-color: #a50026; border-radius: 3px; padding: 0 2px;\"> speedy</span><span style=\"background-color: #a50026; border-radius: 3px; padding: 0 2px;\"> ruin</span><span style=\"background-color: #a50026; border-radius: 3px; padding: 0 2px;\">.</span><span style=\"background-color: #a50026; border-radius: 3px; padding: 0 2px;\">�</span><span style=\"background-color: #a50026; border-radius: 3px; padding: 0 2px;\">�</span><span style=\"background-color: #a50026; border-radius: 3px; padding: 0 2px;\">\n",
              "</span></div>"
            ]
          },
          "metadata": {}
        },
        {
          "output_type": "stream",
          "name": "stdout",
          "text": [
            "------------------------------\n"
          ]
        },
        {
          "output_type": "display_data",
          "data": {
            "text/plain": [
              "<IPython.core.display.HTML object>"
            ],
            "text/html": [
              "<div style=\"font-size: 16px; line-height: 1.6; padding: 10px;\"><span style=\"background-color: #a50026; border-radius: 3px; padding: 0 2px;\"><|endoftext|></span><span style=\"background-color: #a50026; border-radius: 3px; padding: 0 2px;\">You</span><span style=\"background-color: #a50026; border-radius: 3px; padding: 0 2px;\"> were</span><span style=\"background-color: #a50026; border-radius: 3px; padding: 0 2px;\"> attached</span><span style=\"background-color: #a50026; border-radius: 3px; padding: 0 2px;\"> to</span><span style=\"background-color: #9dd569; border-radius: 3px; padding: 0 2px;\"> each</span><span style=\"background-color: #a50026; border-radius: 3px; padding: 0 2px;\"> other</span><span style=\"background-color: #a50026; border-radius: 3px; padding: 0 2px;\"> from</span><span style=\"background-color: #a50026; border-radius: 3px; padding: 0 2px;\"> your</span><span style=\"background-color: #a50026; border-radius: 3px; padding: 0 2px;\">\n",
              "</span><span style=\"background-color: #a50026; border-radius: 3px; padding: 0 2px;\">ear</span><span style=\"background-color: #a50026; border-radius: 3px; padding: 0 2px;\">liest</span><span style=\"background-color: #a50026; border-radius: 3px; padding: 0 2px;\"> infancy</span><span style=\"background-color: #a50026; border-radius: 3px; padding: 0 2px;\">;</span><span style=\"background-color: #a50026; border-radius: 3px; padding: 0 2px;\"> you</span><span style=\"background-color: #006837; border-radius: 3px; padding: 0 2px;\"> studied</span><span style=\"background-color: #a50026; border-radius: 3px; padding: 0 2px;\"> together</span><span style=\"background-color: #a50026; border-radius: 3px; padding: 0 2px;\">,</span><span style=\"background-color: #a50026; border-radius: 3px; padding: 0 2px;\"> and</span><span style=\"background-color: #a50026; border-radius: 3px; padding: 0 2px;\"> appeared</span><span style=\"background-color: #a50026; border-radius: 3px; padding: 0 2px;\">,</span><span style=\"background-color: #a50026; border-radius: 3px; padding: 0 2px;\"> in</span><span style=\"background-color: #a50026; border-radius: 3px; padding: 0 2px;\"> dispos</span><span style=\"background-color: #a50026; border-radius: 3px; padding: 0 2px;\">itions</span><span style=\"background-color: #a50026; border-radius: 3px; padding: 0 2px;\"> and</span><span style=\"background-color: #c1e47b; border-radius: 3px; padding: 0 2px;\">\n",
              "</span><span style=\"background-color: #a50026; border-radius: 3px; padding: 0 2px;\">t</span><span style=\"background-color: #a50026; border-radius: 3px; padding: 0 2px;\">ast</span><span style=\"background-color: #c21c26; border-radius: 3px; padding: 0 2px;\">es</span><span style=\"background-color: #a50026; border-radius: 3px; padding: 0 2px;\">,</span><span style=\"background-color: #a50026; border-radius: 3px; padding: 0 2px;\"> entirely</span><span style=\"background-color: #a50026; border-radius: 3px; padding: 0 2px;\"> suited</span><span style=\"background-color: #a50026; border-radius: 3px; padding: 0 2px;\"> to</span><span style=\"background-color: #a50026; border-radius: 3px; padding: 0 2px;\"> one</span><span style=\"background-color: #a50026; border-radius: 3px; padding: 0 2px;\"> another</span><span style=\"background-color: #a50026; border-radius: 3px; padding: 0 2px;\">.</span></div>"
            ]
          },
          "metadata": {}
        },
        {
          "output_type": "stream",
          "name": "stdout",
          "text": [
            "------------------------------\n"
          ]
        },
        {
          "output_type": "display_data",
          "data": {
            "text/plain": [
              "<IPython.core.display.HTML object>"
            ],
            "text/html": [
              "<div style=\"font-size: 16px; line-height: 1.6; padding: 10px;\"><span style=\"background-color: #a50026; border-radius: 3px; padding: 0 2px;\"><|endoftext|></span><span style=\"background-color: #a50026; border-radius: 3px; padding: 0 2px;\">�</span><span style=\"background-color: #a50026; border-radius: 3px; padding: 0 2px;\">�</span><span style=\"background-color: #a50026; border-radius: 3px; padding: 0 2px;\">The</span><span style=\"background-color: #a50026; border-radius: 3px; padding: 0 2px;\"> next</span><span style=\"background-color: #a50026; border-radius: 3px; padding: 0 2px;\"> morning</span><span style=\"background-color: #a50026; border-radius: 3px; padding: 0 2px;\"> Felix</span><span style=\"background-color: #006837; border-radius: 3px; padding: 0 2px;\"> went</span><span style=\"background-color: #a50026; border-radius: 3px; padding: 0 2px;\"> out</span><span style=\"background-color: #a50026; border-radius: 3px; padding: 0 2px;\"> to</span><span style=\"background-color: #b20d26; border-radius: 3px; padding: 0 2px;\"> his</span><span style=\"background-color: #a50026; border-radius: 3px; padding: 0 2px;\"> work</span><span style=\"background-color: #a50026; border-radius: 3px; padding: 0 2px;\">,</span><span style=\"background-color: #a50026; border-radius: 3px; padding: 0 2px;\"> and</span><span style=\"background-color: #a50026; border-radius: 3px; padding: 0 2px;\"> after</span><span style=\"background-color: #a50026; border-radius: 3px; padding: 0 2px;\"> the</span><span style=\"background-color: #a50026; border-radius: 3px; padding: 0 2px;\"> usual</span><span style=\"background-color: #a50026; border-radius: 3px; padding: 0 2px;\">\n",
              "</span><span style=\"background-color: #a50026; border-radius: 3px; padding: 0 2px;\">occup</span><span style=\"background-color: #a50026; border-radius: 3px; padding: 0 2px;\">ations</span><span style=\"background-color: #a50026; border-radius: 3px; padding: 0 2px;\"> of</span><span style=\"background-color: #a50026; border-radius: 3px; padding: 0 2px;\"> Ag</span><span style=\"background-color: #a50026; border-radius: 3px; padding: 0 2px;\">atha</span><span style=\"background-color: #a50026; border-radius: 3px; padding: 0 2px;\"> were</span><span style=\"background-color: #a50026; border-radius: 3px; padding: 0 2px;\"> finished</span><span style=\"background-color: #a50026; border-radius: 3px; padding: 0 2px;\">,</span><span style=\"background-color: #a50026; border-radius: 3px; padding: 0 2px;\"> the</span><span style=\"background-color: #a50026; border-radius: 3px; padding: 0 2px;\"> Arabian</span><span style=\"background-color: #a50026; border-radius: 3px; padding: 0 2px;\"> sat</span><span style=\"background-color: #a50026; border-radius: 3px; padding: 0 2px;\"> at</span><span style=\"background-color: #e75236; border-radius: 3px; padding: 0 2px;\"> the</span><span style=\"background-color: #a50026; border-radius: 3px; padding: 0 2px;\"> feet</span><span style=\"background-color: #a50026; border-radius: 3px; padding: 0 2px;\"> of</span><span style=\"background-color: #a50026; border-radius: 3px; padding: 0 2px;\"> the</span><span style=\"background-color: #a50026; border-radius: 3px; padding: 0 2px;\">\n",
              "</span><span style=\"background-color: #a50026; border-radius: 3px; padding: 0 2px;\">old</span><span style=\"background-color: #a50026; border-radius: 3px; padding: 0 2px;\"> man</span><span style=\"background-color: #a50026; border-radius: 3px; padding: 0 2px;\">,</span><span style=\"background-color: #a50026; border-radius: 3px; padding: 0 2px;\"> and</span><span style=\"background-color: #a50026; border-radius: 3px; padding: 0 2px;\"> taking</span><span style=\"background-color: #a50026; border-radius: 3px; padding: 0 2px;\"> his</span><span style=\"background-color: #a50026; border-radius: 3px; padding: 0 2px;\"> guitar</span><span style=\"background-color: #a50026; border-radius: 3px; padding: 0 2px;\">,</span><span style=\"background-color: #a50026; border-radius: 3px; padding: 0 2px;\"> played</span><span style=\"background-color: #b40f26; border-radius: 3px; padding: 0 2px;\"> some</span><span style=\"background-color: #a50026; border-radius: 3px; padding: 0 2px;\"> airs</span><span style=\"background-color: #a50026; border-radius: 3px; padding: 0 2px;\"> so</span><span style=\"background-color: #a50026; border-radius: 3px; padding: 0 2px;\"> entr</span><span style=\"background-color: #a50026; border-radius: 3px; padding: 0 2px;\">anc</span><span style=\"background-color: #a50026; border-radius: 3px; padding: 0 2px;\">ingly</span><span style=\"background-color: #a50026; border-radius: 3px; padding: 0 2px;\">\n",
              "</span><span style=\"background-color: #a50026; border-radius: 3px; padding: 0 2px;\">beaut</span><span style=\"background-color: #a50026; border-radius: 3px; padding: 0 2px;\">iful</span><span style=\"background-color: #a50026; border-radius: 3px; padding: 0 2px;\"> that</span><span style=\"background-color: #a50026; border-radius: 3px; padding: 0 2px;\"> they</span><span style=\"background-color: #a50026; border-radius: 3px; padding: 0 2px;\"> at</span><span style=\"background-color: #a50026; border-radius: 3px; padding: 0 2px;\"> once</span><span style=\"background-color: #a50026; border-radius: 3px; padding: 0 2px;\"> drew</span><span style=\"background-color: #a50026; border-radius: 3px; padding: 0 2px;\"> tears</span><span style=\"background-color: #a50026; border-radius: 3px; padding: 0 2px;\"> of</span><span style=\"background-color: #a50026; border-radius: 3px; padding: 0 2px;\"> sorrow</span><span style=\"background-color: #a50026; border-radius: 3px; padding: 0 2px;\"> and</span><span style=\"background-color: #a50026; border-radius: 3px; padding: 0 2px;\"> delight</span><span style=\"background-color: #a50026; border-radius: 3px; padding: 0 2px;\"> from</span><span style=\"background-color: #a50026; border-radius: 3px; padding: 0 2px;\"> my</span><span style=\"background-color: #a50026; border-radius: 3px; padding: 0 2px;\">\n",
              "</span><span style=\"background-color: #a50026; border-radius: 3px; padding: 0 2px;\">eyes</span><span style=\"background-color: #a50026; border-radius: 3px; padding: 0 2px;\">.</span></div>"
            ]
          },
          "metadata": {}
        },
        {
          "output_type": "stream",
          "name": "stdout",
          "text": [
            "------------------------------\n"
          ]
        },
        {
          "output_type": "display_data",
          "data": {
            "text/plain": [
              "<IPython.core.display.HTML object>"
            ],
            "text/html": [
              "<div style=\"font-size: 16px; line-height: 1.6; padding: 10px;\"><span style=\"background-color: #a50026; border-radius: 3px; padding: 0 2px;\"><|endoftext|></span><span style=\"background-color: #a50026; border-radius: 3px; padding: 0 2px;\">Oh</span><span style=\"background-color: #a50026; border-radius: 3px; padding: 0 2px;\">!</span></div>"
            ]
          },
          "metadata": {}
        },
        {
          "output_type": "stream",
          "name": "stdout",
          "text": [
            "------------------------------\n"
          ]
        },
        {
          "output_type": "display_data",
          "data": {
            "text/plain": [
              "<IPython.core.display.HTML object>"
            ],
            "text/html": [
              "<div style=\"font-size: 16px; line-height: 1.6; padding: 10px;\"><span style=\"background-color: #a50026; border-radius: 3px; padding: 0 2px;\"><|endoftext|></span><span style=\"background-color: #a50026; border-radius: 3px; padding: 0 2px;\">His</span><span style=\"background-color: #a50026; border-radius: 3px; padding: 0 2px;\"> voice</span><span style=\"background-color: #a50026; border-radius: 3px; padding: 0 2px;\"> seemed</span><span style=\"background-color: #a50026; border-radius: 3px; padding: 0 2px;\"> suff</span><span style=\"background-color: #a50026; border-radius: 3px; padding: 0 2px;\">ocated</span><span style=\"background-color: #a50026; border-radius: 3px; padding: 0 2px;\">,</span><span style=\"background-color: #a50026; border-radius: 3px; padding: 0 2px;\"> and</span><span style=\"background-color: #a50026; border-radius: 3px; padding: 0 2px;\"> my</span><span style=\"background-color: #a50026; border-radius: 3px; padding: 0 2px;\"> first</span><span style=\"background-color: #a50026; border-radius: 3px; padding: 0 2px;\"> impulses</span><span style=\"background-color: #a50026; border-radius: 3px; padding: 0 2px;\">,</span><span style=\"background-color: #a50026; border-radius: 3px; padding: 0 2px;\"> which</span><span style=\"background-color: #a50026; border-radius: 3px; padding: 0 2px;\"> had</span><span style=\"background-color: #a50026; border-radius: 3px; padding: 0 2px;\"> suggested</span><span style=\"background-color: #a50026; border-radius: 3px; padding: 0 2px;\"> to</span><span style=\"background-color: #a50026; border-radius: 3px; padding: 0 2px;\">\n",
              "</span><span style=\"background-color: #a50026; border-radius: 3px; padding: 0 2px;\">me</span><span style=\"background-color: #a50026; border-radius: 3px; padding: 0 2px;\"> the</span><span style=\"background-color: #a50026; border-radius: 3px; padding: 0 2px;\"> duty</span><span style=\"background-color: #a50026; border-radius: 3px; padding: 0 2px;\"> of</span><span style=\"background-color: #a50026; border-radius: 3px; padding: 0 2px;\"> obe</span><span style=\"background-color: #a50026; border-radius: 3px; padding: 0 2px;\">ying</span><span style=\"background-color: #a50026; border-radius: 3px; padding: 0 2px;\"> the</span><span style=\"background-color: #a50026; border-radius: 3px; padding: 0 2px;\"> dying</span><span style=\"background-color: #a50026; border-radius: 3px; padding: 0 2px;\"> request</span><span style=\"background-color: #a50026; border-radius: 3px; padding: 0 2px;\"> of</span><span style=\"background-color: #a50026; border-radius: 3px; padding: 0 2px;\"> my</span><span style=\"background-color: #a50026; border-radius: 3px; padding: 0 2px;\"> friend</span><span style=\"background-color: #a50026; border-radius: 3px; padding: 0 2px;\"> in</span><span style=\"background-color: #a50026; border-radius: 3px; padding: 0 2px;\"> destroying</span><span style=\"background-color: #a50026; border-radius: 3px; padding: 0 2px;\"> his</span><span style=\"background-color: #a50026; border-radius: 3px; padding: 0 2px;\">\n",
              "</span><span style=\"background-color: #a50026; border-radius: 3px; padding: 0 2px;\">enemy</span><span style=\"background-color: #a50026; border-radius: 3px; padding: 0 2px;\">,</span><span style=\"background-color: #a50026; border-radius: 3px; padding: 0 2px;\"> were</span><span style=\"background-color: #006837; border-radius: 3px; padding: 0 2px;\"> now</span><span style=\"background-color: #a50026; border-radius: 3px; padding: 0 2px;\"> suspended</span><span style=\"background-color: #a50026; border-radius: 3px; padding: 0 2px;\"> by</span><span style=\"background-color: #feeda1; border-radius: 3px; padding: 0 2px;\"> a</span><span style=\"background-color: #a50026; border-radius: 3px; padding: 0 2px;\"> mixture</span><span style=\"background-color: #a50026; border-radius: 3px; padding: 0 2px;\"> of</span><span style=\"background-color: #a50026; border-radius: 3px; padding: 0 2px;\"> curiosity</span><span style=\"background-color: #a50026; border-radius: 3px; padding: 0 2px;\"> and</span><span style=\"background-color: #a50026; border-radius: 3px; padding: 0 2px;\"> compassion</span><span style=\"background-color: #a50026; border-radius: 3px; padding: 0 2px;\">.</span></div>"
            ]
          },
          "metadata": {}
        },
        {
          "output_type": "stream",
          "name": "stdout",
          "text": [
            "------------------------------\n"
          ]
        },
        {
          "output_type": "display_data",
          "data": {
            "text/plain": [
              "<IPython.core.display.HTML object>"
            ],
            "text/html": [
              "<div style=\"font-size: 16px; line-height: 1.6; padding: 10px;\"><span style=\"background-color: #a50026; border-radius: 3px; padding: 0 2px;\"><|endoftext|></span><span style=\"background-color: #a50026; border-radius: 3px; padding: 0 2px;\">Bl</span><span style=\"background-color: #a50026; border-radius: 3px; padding: 0 2px;\">asted</span><span style=\"background-color: #a50026; border-radius: 3px; padding: 0 2px;\"> as</span><span style=\"background-color: #a50026; border-radius: 3px; padding: 0 2px;\"> thou</span><span style=\"background-color: #a50026; border-radius: 3px; padding: 0 2px;\"> w</span><span style=\"background-color: #a50026; border-radius: 3px; padding: 0 2px;\">ert</span><span style=\"background-color: #a50026; border-radius: 3px; padding: 0 2px;\">,</span><span style=\"background-color: #a50026; border-radius: 3px; padding: 0 2px;\"> my</span><span style=\"background-color: #a50026; border-radius: 3px; padding: 0 2px;\"> agony</span><span style=\"background-color: #f8fcb5; border-radius: 3px; padding: 0 2px;\"> was</span><span style=\"background-color: #a50026; border-radius: 3px; padding: 0 2px;\"> still</span><span style=\"background-color: #a50026; border-radius: 3px; padding: 0 2px;\"> superior</span><span style=\"background-color: #a50026; border-radius: 3px; padding: 0 2px;\"> to</span><span style=\"background-color: #a50026; border-radius: 3px; padding: 0 2px;\">\n",
              "</span><span style=\"background-color: #a50026; border-radius: 3px; padding: 0 2px;\">th</span><span style=\"background-color: #a50026; border-radius: 3px; padding: 0 2px;\">ine</span><span style=\"background-color: #a50026; border-radius: 3px; padding: 0 2px;\">,</span><span style=\"background-color: #a50026; border-radius: 3px; padding: 0 2px;\"> for</span><span style=\"background-color: #a50026; border-radius: 3px; padding: 0 2px;\"> the</span><span style=\"background-color: #a50026; border-radius: 3px; padding: 0 2px;\"> bitter</span><span style=\"background-color: #a50026; border-radius: 3px; padding: 0 2px;\"> sting</span><span style=\"background-color: #a50026; border-radius: 3px; padding: 0 2px;\"> of</span><span style=\"background-color: #a50026; border-radius: 3px; padding: 0 2px;\"> remorse</span><span style=\"background-color: #a50026; border-radius: 3px; padding: 0 2px;\"> will</span><span style=\"background-color: #def193; border-radius: 3px; padding: 0 2px;\"> not</span><span style=\"background-color: #a50026; border-radius: 3px; padding: 0 2px;\"> cease</span><span style=\"background-color: #a50026; border-radius: 3px; padding: 0 2px;\"> to</span><span style=\"background-color: #a50026; border-radius: 3px; padding: 0 2px;\"> rank</span><span style=\"background-color: #a50026; border-radius: 3px; padding: 0 2px;\">le</span><span style=\"background-color: #a50026; border-radius: 3px; padding: 0 2px;\"> in</span><span style=\"background-color: #a50026; border-radius: 3px; padding: 0 2px;\"> my</span><span style=\"background-color: #a50026; border-radius: 3px; padding: 0 2px;\">\n",
              "</span><span style=\"background-color: #a50026; border-radius: 3px; padding: 0 2px;\">w</span><span style=\"background-color: #a50026; border-radius: 3px; padding: 0 2px;\">ounds</span><span style=\"background-color: #a50026; border-radius: 3px; padding: 0 2px;\"> until</span><span style=\"background-color: #a50026; border-radius: 3px; padding: 0 2px;\"> death</span><span style=\"background-color: #a50026; border-radius: 3px; padding: 0 2px;\"> shall</span><span style=\"background-color: #a50026; border-radius: 3px; padding: 0 2px;\"> close</span><span style=\"background-color: #a50026; border-radius: 3px; padding: 0 2px;\"> them</span><span style=\"background-color: #006837; border-radius: 3px; padding: 0 2px;\"> for</span><span style=\"background-color: #a50026; border-radius: 3px; padding: 0 2px;\"> ever</span><span style=\"background-color: #a50026; border-radius: 3px; padding: 0 2px;\">.</span></div>"
            ]
          },
          "metadata": {}
        },
        {
          "output_type": "stream",
          "name": "stdout",
          "text": [
            "------------------------------\n"
          ]
        },
        {
          "output_type": "display_data",
          "data": {
            "text/plain": [
              "<IPython.core.display.HTML object>"
            ],
            "text/html": [
              "<div style=\"font-size: 16px; line-height: 1.6; padding: 10px;\"><span style=\"background-color: #a50026; border-radius: 3px; padding: 0 2px;\"><|endoftext|></span><span style=\"background-color: #a50026; border-radius: 3px; padding: 0 2px;\">His</span><span style=\"background-color: #a50026; border-radius: 3px; padding: 0 2px;\"> words</span><span style=\"background-color: #a50026; border-radius: 3px; padding: 0 2px;\"> had</span><span style=\"background-color: #a50026; border-radius: 3px; padding: 0 2px;\"> a</span><span style=\"background-color: #a50026; border-radius: 3px; padding: 0 2px;\"> strange</span><span style=\"background-color: #a50026; border-radius: 3px; padding: 0 2px;\"> effect</span><span style=\"background-color: #a50026; border-radius: 3px; padding: 0 2px;\"> upon</span><span style=\"background-color: #a50026; border-radius: 3px; padding: 0 2px;\"> me</span><span style=\"background-color: #a50026; border-radius: 3px; padding: 0 2px;\">.</span></div>"
            ]
          },
          "metadata": {}
        },
        {
          "output_type": "stream",
          "name": "stdout",
          "text": [
            "------------------------------\n"
          ]
        },
        {
          "output_type": "display_data",
          "data": {
            "text/plain": [
              "<IPython.core.display.HTML object>"
            ],
            "text/html": [
              "<div style=\"font-size: 16px; line-height: 1.6; padding: 10px;\"><span style=\"background-color: #a50026; border-radius: 3px; padding: 0 2px;\"><|endoftext|></span><span style=\"background-color: #a50026; border-radius: 3px; padding: 0 2px;\">Obs</span><span style=\"background-color: #a50026; border-radius: 3px; padding: 0 2px;\">erve</span><span style=\"background-color: #a50026; border-radius: 3px; padding: 0 2px;\"> how</span><span style=\"background-color: #a50026; border-radius: 3px; padding: 0 2px;\"> fast</span><span style=\"background-color: #a50026; border-radius: 3px; padding: 0 2px;\"> we</span><span style=\"background-color: #a50026; border-radius: 3px; padding: 0 2px;\"> move</span><span style=\"background-color: #d73127; border-radius: 3px; padding: 0 2px;\">\n",
              "</span><span style=\"background-color: #a50026; border-radius: 3px; padding: 0 2px;\">along</span><span style=\"background-color: #a50026; border-radius: 3px; padding: 0 2px;\"> and</span><span style=\"background-color: #a50026; border-radius: 3px; padding: 0 2px;\"> how</span><span style=\"background-color: #a50026; border-radius: 3px; padding: 0 2px;\"> the</span><span style=\"background-color: #a50026; border-radius: 3px; padding: 0 2px;\"> clouds</span><span style=\"background-color: #a50026; border-radius: 3px; padding: 0 2px;\">,</span><span style=\"background-color: #a50026; border-radius: 3px; padding: 0 2px;\"> which</span><span style=\"background-color: #a50026; border-radius: 3px; padding: 0 2px;\"> sometimes</span><span style=\"background-color: #a50026; border-radius: 3px; padding: 0 2px;\"> obscure</span><span style=\"background-color: #a50026; border-radius: 3px; padding: 0 2px;\"> and</span><span style=\"background-color: #006837; border-radius: 3px; padding: 0 2px;\"> sometimes</span><span style=\"background-color: #a50026; border-radius: 3px; padding: 0 2px;\"> rise</span><span style=\"background-color: #a50026; border-radius: 3px; padding: 0 2px;\">\n",
              "</span><span style=\"background-color: #a50026; border-radius: 3px; padding: 0 2px;\">above</span><span style=\"background-color: #a50026; border-radius: 3px; padding: 0 2px;\"> the</span><span style=\"background-color: #a50026; border-radius: 3px; padding: 0 2px;\"> dome</span><span style=\"background-color: #a50026; border-radius: 3px; padding: 0 2px;\"> of</span><span style=\"background-color: #a50026; border-radius: 3px; padding: 0 2px;\"> Mont</span><span style=\"background-color: #a50026; border-radius: 3px; padding: 0 2px;\"> Blanc</span><span style=\"background-color: #a50026; border-radius: 3px; padding: 0 2px;\">,</span><span style=\"background-color: #a50026; border-radius: 3px; padding: 0 2px;\"> render</span><span style=\"background-color: #a50026; border-radius: 3px; padding: 0 2px;\"> this</span><span style=\"background-color: #a50026; border-radius: 3px; padding: 0 2px;\"> scene</span><span style=\"background-color: #a50026; border-radius: 3px; padding: 0 2px;\"> of</span><span style=\"background-color: #f47245; border-radius: 3px; padding: 0 2px;\"> beauty</span><span style=\"background-color: #a50026; border-radius: 3px; padding: 0 2px;\"> still</span><span style=\"background-color: #a50026; border-radius: 3px; padding: 0 2px;\"> more</span><span style=\"background-color: #a50026; border-radius: 3px; padding: 0 2px;\">\n",
              "</span><span style=\"background-color: #a50026; border-radius: 3px; padding: 0 2px;\">interesting</span><span style=\"background-color: #a50026; border-radius: 3px; padding: 0 2px;\">.</span></div>"
            ]
          },
          "metadata": {}
        },
        {
          "output_type": "stream",
          "name": "stdout",
          "text": [
            "------------------------------\n"
          ]
        },
        {
          "output_type": "display_data",
          "data": {
            "text/plain": [
              "<IPython.core.display.HTML object>"
            ],
            "text/html": [
              "<div style=\"font-size: 16px; line-height: 1.6; padding: 10px;\"><span style=\"background-color: #a50026; border-radius: 3px; padding: 0 2px;\"><|endoftext|></span><span style=\"background-color: #a50026; border-radius: 3px; padding: 0 2px;\">I</span><span style=\"background-color: #a50026; border-radius: 3px; padding: 0 2px;\"> was</span><span style=\"background-color: #a50026; border-radius: 3px; padding: 0 2px;\">\n",
              "</span><span style=\"background-color: #a50026; border-radius: 3px; padding: 0 2px;\">n</span><span style=\"background-color: #a50026; border-radius: 3px; padding: 0 2px;\">our</span><span style=\"background-color: #a50026; border-radius: 3px; padding: 0 2px;\">ished</span><span style=\"background-color: #a50026; border-radius: 3px; padding: 0 2px;\"> with</span><span style=\"background-color: #a50026; border-radius: 3px; padding: 0 2px;\"> high</span><span style=\"background-color: #a50026; border-radius: 3px; padding: 0 2px;\"> thoughts</span><span style=\"background-color: #a50026; border-radius: 3px; padding: 0 2px;\"> of</span><span style=\"background-color: #a50026; border-radius: 3px; padding: 0 2px;\"> honour</span><span style=\"background-color: #a50026; border-radius: 3px; padding: 0 2px;\"> and</span><span style=\"background-color: #a50026; border-radius: 3px; padding: 0 2px;\"> devotion</span><span style=\"background-color: #a50026; border-radius: 3px; padding: 0 2px;\">.</span></div>"
            ]
          },
          "metadata": {}
        },
        {
          "output_type": "stream",
          "name": "stdout",
          "text": [
            "------------------------------\n"
          ]
        },
        {
          "output_type": "display_data",
          "data": {
            "text/plain": [
              "<IPython.core.display.HTML object>"
            ],
            "text/html": [
              "<div style=\"font-size: 16px; line-height: 1.6; padding: 10px;\"><span style=\"background-color: #a50026; border-radius: 3px; padding: 0 2px;\"><|endoftext|></span><span style=\"background-color: #a50026; border-radius: 3px; padding: 0 2px;\">I</span><span style=\"background-color: #a50026; border-radius: 3px; padding: 0 2px;\"> would</span><span style=\"background-color: #a50026; border-radius: 3px; padding: 0 2px;\"> have</span><span style=\"background-color: #a50026; border-radius: 3px; padding: 0 2px;\"> made</span><span style=\"background-color: #a50026; border-radius: 3px; padding: 0 2px;\"> a</span><span style=\"background-color: #a50026; border-radius: 3px; padding: 0 2px;\"> pilgrimage</span><span style=\"background-color: #a50026; border-radius: 3px; padding: 0 2px;\"> to</span><span style=\"background-color: #a50026; border-radius: 3px; padding: 0 2px;\"> the</span><span style=\"background-color: #a50026; border-radius: 3px; padding: 0 2px;\"> highest</span><span style=\"background-color: #a50026; border-radius: 3px; padding: 0 2px;\"> peak</span><span style=\"background-color: #a50026; border-radius: 3px; padding: 0 2px;\"> of</span><span style=\"background-color: #a50026; border-radius: 3px; padding: 0 2px;\"> the</span><span style=\"background-color: #a50026; border-radius: 3px; padding: 0 2px;\">\n",
              "</span><span style=\"background-color: #a50026; border-radius: 3px; padding: 0 2px;\">And</span><span style=\"background-color: #a50026; border-radius: 3px; padding: 0 2px;\">es</span><span style=\"background-color: #a50026; border-radius: 3px; padding: 0 2px;\">,</span><span style=\"background-color: #a50026; border-radius: 3px; padding: 0 2px;\"> could</span><span style=\"background-color: #a50026; border-radius: 3px; padding: 0 2px;\"> I</span><span style=\"background-color: #a50026; border-radius: 3px; padding: 0 2px;\">,</span><span style=\"background-color: #a50026; border-radius: 3px; padding: 0 2px;\"> when</span><span style=\"background-color: #a50026; border-radius: 3px; padding: 0 2px;\"> there</span><span style=\"background-color: #a50026; border-radius: 3px; padding: 0 2px;\">,</span><span style=\"background-color: #a50026; border-radius: 3px; padding: 0 2px;\"> have</span><span style=\"background-color: #a50026; border-radius: 3px; padding: 0 2px;\"> precip</span><span style=\"background-color: #a50026; border-radius: 3px; padding: 0 2px;\">itated</span><span style=\"background-color: #a50026; border-radius: 3px; padding: 0 2px;\"> him</span><span style=\"background-color: #a50026; border-radius: 3px; padding: 0 2px;\"> to</span><span style=\"background-color: #006837; border-radius: 3px; padding: 0 2px;\"> their</span><span style=\"background-color: #a50026; border-radius: 3px; padding: 0 2px;\"> base</span><span style=\"background-color: #a50026; border-radius: 3px; padding: 0 2px;\">.</span></div>"
            ]
          },
          "metadata": {}
        },
        {
          "output_type": "stream",
          "name": "stdout",
          "text": [
            "------------------------------\n"
          ]
        },
        {
          "output_type": "display_data",
          "data": {
            "text/plain": [
              "<IPython.core.display.HTML object>"
            ],
            "text/html": [
              "<div style=\"font-size: 16px; line-height: 1.6; padding: 10px;\"><span style=\"background-color: #a50026; border-radius: 3px; padding: 0 2px;\"><|endoftext|></span><span style=\"background-color: #a50026; border-radius: 3px; padding: 0 2px;\">But</span><span style=\"background-color: #a50026; border-radius: 3px; padding: 0 2px;\"> the</span><span style=\"background-color: #a50026; border-radius: 3px; padding: 0 2px;\"> fresh</span><span style=\"background-color: #a50026; border-radius: 3px; padding: 0 2px;\"> air</span><span style=\"background-color: #a50026; border-radius: 3px; padding: 0 2px;\"> and</span><span style=\"background-color: #a50026; border-radius: 3px; padding: 0 2px;\">\n",
              "</span><span style=\"background-color: #a50026; border-radius: 3px; padding: 0 2px;\">bright</span><span style=\"background-color: #a50026; border-radius: 3px; padding: 0 2px;\"> sun</span><span style=\"background-color: #a50026; border-radius: 3px; padding: 0 2px;\"> seldom</span><span style=\"background-color: #a50026; border-radius: 3px; padding: 0 2px;\"> failed</span><span style=\"background-color: #a50026; border-radius: 3px; padding: 0 2px;\"> to</span><span style=\"background-color: #a50026; border-radius: 3px; padding: 0 2px;\"> restore</span><span style=\"background-color: #a50026; border-radius: 3px; padding: 0 2px;\"> me</span><span style=\"background-color: #a50026; border-radius: 3px; padding: 0 2px;\"> to</span><span style=\"background-color: #006837; border-radius: 3px; padding: 0 2px;\"> some</span><span style=\"background-color: #a50026; border-radius: 3px; padding: 0 2px;\"> degree</span><span style=\"background-color: #a50026; border-radius: 3px; padding: 0 2px;\"> of</span><span style=\"background-color: #a50026; border-radius: 3px; padding: 0 2px;\"> composure</span><span style=\"background-color: #a50026; border-radius: 3px; padding: 0 2px;\">,</span><span style=\"background-color: #a50026; border-radius: 3px; padding: 0 2px;\"> and</span><span style=\"background-color: #a50026; border-radius: 3px; padding: 0 2px;\">\n",
              "</span><span style=\"background-color: #a50026; border-radius: 3px; padding: 0 2px;\">on</span><span style=\"background-color: #a50026; border-radius: 3px; padding: 0 2px;\"> my</span><span style=\"background-color: #a50026; border-radius: 3px; padding: 0 2px;\"> return</span><span style=\"background-color: #a50026; border-radius: 3px; padding: 0 2px;\"> I</span><span style=\"background-color: #a50026; border-radius: 3px; padding: 0 2px;\"> met</span><span style=\"background-color: #a50026; border-radius: 3px; padding: 0 2px;\"> the</span><span style=\"background-color: #a50026; border-radius: 3px; padding: 0 2px;\"> sal</span><span style=\"background-color: #a50026; border-radius: 3px; padding: 0 2px;\">utations</span><span style=\"background-color: #a50026; border-radius: 3px; padding: 0 2px;\"> of</span><span style=\"background-color: #a50026; border-radius: 3px; padding: 0 2px;\"> my</span><span style=\"background-color: #a50026; border-radius: 3px; padding: 0 2px;\"> friends</span><span style=\"background-color: #a50026; border-radius: 3px; padding: 0 2px;\"> with</span><span style=\"background-color: #a50026; border-radius: 3px; padding: 0 2px;\"> a</span><span style=\"background-color: #a50026; border-radius: 3px; padding: 0 2px;\"> read</span><span style=\"background-color: #a50026; border-radius: 3px; padding: 0 2px;\">ier</span><span style=\"background-color: #a50026; border-radius: 3px; padding: 0 2px;\"> smile</span><span style=\"background-color: #a50026; border-radius: 3px; padding: 0 2px;\">\n",
              "</span><span style=\"background-color: #a50026; border-radius: 3px; padding: 0 2px;\">and</span><span style=\"background-color: #a50026; border-radius: 3px; padding: 0 2px;\"> a</span><span style=\"background-color: #a50026; border-radius: 3px; padding: 0 2px;\"> more</span><span style=\"background-color: #a50026; border-radius: 3px; padding: 0 2px;\"> cheerful</span><span style=\"background-color: #a50026; border-radius: 3px; padding: 0 2px;\"> heart</span><span style=\"background-color: #a50026; border-radius: 3px; padding: 0 2px;\">.</span></div>"
            ]
          },
          "metadata": {}
        },
        {
          "output_type": "stream",
          "name": "stdout",
          "text": [
            "------------------------------\n"
          ]
        },
        {
          "output_type": "display_data",
          "data": {
            "text/plain": [
              "<IPython.core.display.HTML object>"
            ],
            "text/html": [
              "<div style=\"font-size: 16px; line-height: 1.6; padding: 10px;\"><span style=\"background-color: #a50026; border-radius: 3px; padding: 0 2px;\"><|endoftext|></span><span style=\"background-color: #a50026; border-radius: 3px; padding: 0 2px;\">K</span><span style=\"background-color: #a50026; border-radius: 3px; padding: 0 2px;\">ir</span><span style=\"background-color: #a50026; border-radius: 3px; padding: 0 2px;\">win</span><span style=\"background-color: #a50026; border-radius: 3px; padding: 0 2px;\"> is</span><span style=\"background-color: #a50026; border-radius: 3px; padding: 0 2px;\"> a</span><span style=\"background-color: #a50026; border-radius: 3px; padding: 0 2px;\"> magistrate</span><span style=\"background-color: #a50026; border-radius: 3px; padding: 0 2px;\">,</span><span style=\"background-color: #a50026; border-radius: 3px; padding: 0 2px;\">\n",
              "</span><span style=\"background-color: #a50026; border-radius: 3px; padding: 0 2px;\">and</span><span style=\"background-color: #a50026; border-radius: 3px; padding: 0 2px;\"> you</span><span style=\"background-color: #a50026; border-radius: 3px; padding: 0 2px;\"> are</span><span style=\"background-color: #a50026; border-radius: 3px; padding: 0 2px;\"> to</span><span style=\"background-color: #a50026; border-radius: 3px; padding: 0 2px;\"> give</span><span style=\"background-color: #006837; border-radius: 3px; padding: 0 2px;\"> an</span><span style=\"background-color: #a50026; border-radius: 3px; padding: 0 2px;\"> account</span><span style=\"background-color: #a50026; border-radius: 3px; padding: 0 2px;\"> of</span><span style=\"background-color: #a50026; border-radius: 3px; padding: 0 2px;\"> the</span><span style=\"background-color: #a50026; border-radius: 3px; padding: 0 2px;\"> death</span><span style=\"background-color: #a50026; border-radius: 3px; padding: 0 2px;\"> of</span><span style=\"background-color: #a50026; border-radius: 3px; padding: 0 2px;\"> a</span><span style=\"background-color: #a50026; border-radius: 3px; padding: 0 2px;\"> gentleman</span><span style=\"background-color: #a50026; border-radius: 3px; padding: 0 2px;\"> who</span><span style=\"background-color: #a50026; border-radius: 3px; padding: 0 2px;\"> was</span><span style=\"background-color: #a50026; border-radius: 3px; padding: 0 2px;\">\n",
              "</span><span style=\"background-color: #cbe881; border-radius: 3px; padding: 0 2px;\">found</span><span style=\"background-color: #026b38; border-radius: 3px; padding: 0 2px;\"> murdered</span><span style=\"background-color: #a50026; border-radius: 3px; padding: 0 2px;\"> here</span><span style=\"background-color: #a50026; border-radius: 3px; padding: 0 2px;\"> last</span><span style=\"background-color: #a50026; border-radius: 3px; padding: 0 2px;\"> night</span><span style=\"background-color: #a50026; border-radius: 3px; padding: 0 2px;\">.</span><span style=\"background-color: #a50026; border-radius: 3px; padding: 0 2px;\">�</span><span style=\"background-color: #a50026; border-radius: 3px; padding: 0 2px;\">�</span><span style=\"background-color: #a50026; border-radius: 3px; padding: 0 2px;\">\n",
              "</span></div>"
            ]
          },
          "metadata": {}
        },
        {
          "output_type": "stream",
          "name": "stdout",
          "text": [
            "------------------------------\n"
          ]
        },
        {
          "output_type": "display_data",
          "data": {
            "text/plain": [
              "<IPython.core.display.HTML object>"
            ],
            "text/html": [
              "<div style=\"font-size: 16px; line-height: 1.6; padding: 10px;\"><span style=\"background-color: #a50026; border-radius: 3px; padding: 0 2px;\"><|endoftext|></span><span style=\"background-color: #a50026; border-radius: 3px; padding: 0 2px;\">What</span><span style=\"background-color: #a50026; border-radius: 3px; padding: 0 2px;\"> must</span><span style=\"background-color: #a50026; border-radius: 3px; padding: 0 2px;\"> have</span><span style=\"background-color: #a50026; border-radius: 3px; padding: 0 2px;\"> been</span><span style=\"background-color: #a50026; border-radius: 3px; padding: 0 2px;\"> his</span><span style=\"background-color: #a50026; border-radius: 3px; padding: 0 2px;\"> feelings</span><span style=\"background-color: #a50026; border-radius: 3px; padding: 0 2px;\">?</span></div>"
            ]
          },
          "metadata": {}
        },
        {
          "output_type": "stream",
          "name": "stdout",
          "text": [
            "------------------------------\n"
          ]
        },
        {
          "output_type": "display_data",
          "data": {
            "text/plain": [
              "<IPython.core.display.HTML object>"
            ],
            "text/html": [
              "<div style=\"font-size: 16px; line-height: 1.6; padding: 10px;\"><span style=\"background-color: #a50026; border-radius: 3px; padding: 0 2px;\"><|endoftext|></span><span style=\"background-color: #a50026; border-radius: 3px; padding: 0 2px;\">My</span><span style=\"background-color: #a50026; border-radius: 3px; padding: 0 2px;\"> spirit</span><span style=\"background-color: #a50026; border-radius: 3px; padding: 0 2px;\">\n",
              "</span><span style=\"background-color: #a50026; border-radius: 3px; padding: 0 2px;\">will</span><span style=\"background-color: #a50026; border-radius: 3px; padding: 0 2px;\"> sleep</span><span style=\"background-color: #a50026; border-radius: 3px; padding: 0 2px;\"> in</span><span style=\"background-color: #a50026; border-radius: 3px; padding: 0 2px;\"> peace</span><span style=\"background-color: #a50026; border-radius: 3px; padding: 0 2px;\">,</span><span style=\"background-color: #a50026; border-radius: 3px; padding: 0 2px;\"> or</span><span style=\"background-color: #a50026; border-radius: 3px; padding: 0 2px;\"> if</span><span style=\"background-color: #a50026; border-radius: 3px; padding: 0 2px;\"> it</span><span style=\"background-color: #a50026; border-radius: 3px; padding: 0 2px;\"> thinks</span><span style=\"background-color: #a50026; border-radius: 3px; padding: 0 2px;\">,</span><span style=\"background-color: #a50026; border-radius: 3px; padding: 0 2px;\"> it</span><span style=\"background-color: #a50026; border-radius: 3px; padding: 0 2px;\"> will</span><span style=\"background-color: #a50026; border-radius: 3px; padding: 0 2px;\"> not</span><span style=\"background-color: #a50026; border-radius: 3px; padding: 0 2px;\"> surely</span><span style=\"background-color: #a50026; border-radius: 3px; padding: 0 2px;\"> think</span><span style=\"background-color: #a50026; border-radius: 3px; padding: 0 2px;\"> thus</span><span style=\"background-color: #a50026; border-radius: 3px; padding: 0 2px;\">.</span></div>"
            ]
          },
          "metadata": {}
        },
        {
          "output_type": "stream",
          "name": "stdout",
          "text": [
            "------------------------------\n"
          ]
        },
        {
          "output_type": "display_data",
          "data": {
            "text/plain": [
              "<IPython.core.display.HTML object>"
            ],
            "text/html": [
              "<div style=\"font-size: 16px; line-height: 1.6; padding: 10px;\"><span style=\"background-color: #a50026; border-radius: 3px; padding: 0 2px;\"><|endoftext|></span><span style=\"background-color: #a50026; border-radius: 3px; padding: 0 2px;\">The</span><span style=\"background-color: #a50026; border-radius: 3px; padding: 0 2px;\"> materials</span><span style=\"background-color: #a50026; border-radius: 3px; padding: 0 2px;\"> at</span><span style=\"background-color: #a50026; border-radius: 3px; padding: 0 2px;\"> present</span><span style=\"background-color: #a50026; border-radius: 3px; padding: 0 2px;\"> within</span><span style=\"background-color: #a50026; border-radius: 3px; padding: 0 2px;\"> my</span><span style=\"background-color: #a50026; border-radius: 3px; padding: 0 2px;\"> command</span><span style=\"background-color: #a50026; border-radius: 3px; padding: 0 2px;\"> hardly</span><span style=\"background-color: #a50026; border-radius: 3px; padding: 0 2px;\"> appeared</span><span style=\"background-color: #a50026; border-radius: 3px; padding: 0 2px;\">\n",
              "</span><span style=\"background-color: #a50026; border-radius: 3px; padding: 0 2px;\">adequ</span><span style=\"background-color: #a50026; border-radius: 3px; padding: 0 2px;\">ate</span><span style=\"background-color: #a50026; border-radius: 3px; padding: 0 2px;\"> to</span><span style=\"background-color: #a50026; border-radius: 3px; padding: 0 2px;\"> so</span><span style=\"background-color: #a50026; border-radius: 3px; padding: 0 2px;\"> ardu</span><span style=\"background-color: #a50026; border-radius: 3px; padding: 0 2px;\">ous</span><span style=\"background-color: #a50026; border-radius: 3px; padding: 0 2px;\"> an</span><span style=\"background-color: #a50026; border-radius: 3px; padding: 0 2px;\"> undertaking</span><span style=\"background-color: #a50026; border-radius: 3px; padding: 0 2px;\">,</span><span style=\"background-color: #a50026; border-radius: 3px; padding: 0 2px;\"> but</span><span style=\"background-color: #a50026; border-radius: 3px; padding: 0 2px;\"> I</span><span style=\"background-color: #fee08b; border-radius: 3px; padding: 0 2px;\"> doubted</span><span style=\"background-color: #a50026; border-radius: 3px; padding: 0 2px;\"> not</span><span style=\"background-color: #a50026; border-radius: 3px; padding: 0 2px;\"> that</span><span style=\"background-color: #a50026; border-radius: 3px; padding: 0 2px;\"> I</span><span style=\"background-color: #a50026; border-radius: 3px; padding: 0 2px;\"> should</span><span style=\"background-color: #a50026; border-radius: 3px; padding: 0 2px;\">\n",
              "</span><span style=\"background-color: #a50026; border-radius: 3px; padding: 0 2px;\">ult</span><span style=\"background-color: #a50026; border-radius: 3px; padding: 0 2px;\">imately</span><span style=\"background-color: #a50026; border-radius: 3px; padding: 0 2px;\"> succeed</span><span style=\"background-color: #a50026; border-radius: 3px; padding: 0 2px;\">.</span></div>"
            ]
          },
          "metadata": {}
        },
        {
          "output_type": "stream",
          "name": "stdout",
          "text": [
            "------------------------------\n"
          ]
        },
        {
          "output_type": "display_data",
          "data": {
            "text/plain": [
              "<IPython.core.display.HTML object>"
            ],
            "text/html": [
              "<div style=\"font-size: 16px; line-height: 1.6; padding: 10px;\"><span style=\"background-color: #a50026; border-radius: 3px; padding: 0 2px;\"><|endoftext|></span><span style=\"background-color: #a50026; border-radius: 3px; padding: 0 2px;\">My</span><span style=\"background-color: #a50026; border-radius: 3px; padding: 0 2px;\"> duties</span><span style=\"background-color: #a50026; border-radius: 3px; padding: 0 2px;\"> towards</span><span style=\"background-color: #a50026; border-radius: 3px; padding: 0 2px;\"> the</span><span style=\"background-color: #a50026; border-radius: 3px; padding: 0 2px;\"> beings</span><span style=\"background-color: #a50026; border-radius: 3px; padding: 0 2px;\"> of</span><span style=\"background-color: #a50026; border-radius: 3px; padding: 0 2px;\"> my</span><span style=\"background-color: #a50026; border-radius: 3px; padding: 0 2px;\"> own</span><span style=\"background-color: #a50026; border-radius: 3px; padding: 0 2px;\"> species</span><span style=\"background-color: #a50026; border-radius: 3px; padding: 0 2px;\"> had</span><span style=\"background-color: #a50026; border-radius: 3px; padding: 0 2px;\"> greater</span><span style=\"background-color: #a50026; border-radius: 3px; padding: 0 2px;\"> claims</span><span style=\"background-color: #a50026; border-radius: 3px; padding: 0 2px;\"> to</span><span style=\"background-color: #a50026; border-radius: 3px; padding: 0 2px;\">\n",
              "</span><span style=\"background-color: #a50026; border-radius: 3px; padding: 0 2px;\">my</span><span style=\"background-color: #006837; border-radius: 3px; padding: 0 2px;\"> attention</span><span style=\"background-color: #a50026; border-radius: 3px; padding: 0 2px;\"> because</span><span style=\"background-color: #a50026; border-radius: 3px; padding: 0 2px;\"> they</span><span style=\"background-color: #a50026; border-radius: 3px; padding: 0 2px;\"> included</span><span style=\"background-color: #a50026; border-radius: 3px; padding: 0 2px;\"> a</span><span style=\"background-color: #7ac565; border-radius: 3px; padding: 0 2px;\"> greater</span><span style=\"background-color: #a50026; border-radius: 3px; padding: 0 2px;\"> proportion</span><span style=\"background-color: #a50026; border-radius: 3px; padding: 0 2px;\"> of</span><span style=\"background-color: #a50026; border-radius: 3px; padding: 0 2px;\"> happiness</span><span style=\"background-color: #a50026; border-radius: 3px; padding: 0 2px;\"> or</span><span style=\"background-color: #a50026; border-radius: 3px; padding: 0 2px;\">\n",
              "</span><span style=\"background-color: #a50026; border-radius: 3px; padding: 0 2px;\">mis</span><span style=\"background-color: #a50026; border-radius: 3px; padding: 0 2px;\">ery</span><span style=\"background-color: #a50026; border-radius: 3px; padding: 0 2px;\">.</span></div>"
            ]
          },
          "metadata": {}
        },
        {
          "output_type": "stream",
          "name": "stdout",
          "text": [
            "------------------------------\n"
          ]
        },
        {
          "output_type": "display_data",
          "data": {
            "text/plain": [
              "<IPython.core.display.HTML object>"
            ],
            "text/html": [
              "<div style=\"font-size: 16px; line-height: 1.6; padding: 10px;\"><span style=\"background-color: #a50026; border-radius: 3px; padding: 0 2px;\"><|endoftext|></span><span style=\"background-color: #a50026; border-radius: 3px; padding: 0 2px;\">How</span><span style=\"background-color: #a50026; border-radius: 3px; padding: 0 2px;\"> I</span><span style=\"background-color: #a50026; border-radius: 3px; padding: 0 2px;\">\n",
              "</span><span style=\"background-color: #a50026; border-radius: 3px; padding: 0 2px;\">have</span><span style=\"background-color: #a50026; border-radius: 3px; padding: 0 2px;\"> lived</span><span style=\"background-color: #a50026; border-radius: 3px; padding: 0 2px;\"> I</span><span style=\"background-color: #a50026; border-radius: 3px; padding: 0 2px;\"> hardly</span><span style=\"background-color: #a50026; border-radius: 3px; padding: 0 2px;\"> know</span><span style=\"background-color: #a50026; border-radius: 3px; padding: 0 2px;\">;</span><span style=\"background-color: #a50026; border-radius: 3px; padding: 0 2px;\"> many</span><span style=\"background-color: #a50026; border-radius: 3px; padding: 0 2px;\"> times</span><span style=\"background-color: #a50026; border-radius: 3px; padding: 0 2px;\"> have</span><span style=\"background-color: #a50026; border-radius: 3px; padding: 0 2px;\"> I</span><span style=\"background-color: #a50026; border-radius: 3px; padding: 0 2px;\"> stretched</span><span style=\"background-color: #a50026; border-radius: 3px; padding: 0 2px;\"> my</span><span style=\"background-color: #95d168; border-radius: 3px; padding: 0 2px;\"> failing</span><span style=\"background-color: #a50026; border-radius: 3px; padding: 0 2px;\"> limbs</span><span style=\"background-color: #a50026; border-radius: 3px; padding: 0 2px;\"> upon</span><span style=\"background-color: #a50026; border-radius: 3px; padding: 0 2px;\">\n",
              "</span><span style=\"background-color: #a50026; border-radius: 3px; padding: 0 2px;\">the</span><span style=\"background-color: #a50026; border-radius: 3px; padding: 0 2px;\"> sandy</span><span style=\"background-color: #a50026; border-radius: 3px; padding: 0 2px;\"> plain</span><span style=\"background-color: #a50026; border-radius: 3px; padding: 0 2px;\"> and</span><span style=\"background-color: #a50026; border-radius: 3px; padding: 0 2px;\"> prayed</span><span style=\"background-color: #a50026; border-radius: 3px; padding: 0 2px;\"> for</span><span style=\"background-color: #a50026; border-radius: 3px; padding: 0 2px;\"> death</span><span style=\"background-color: #a50026; border-radius: 3px; padding: 0 2px;\">.</span></div>"
            ]
          },
          "metadata": {}
        },
        {
          "output_type": "stream",
          "name": "stdout",
          "text": [
            "------------------------------\n"
          ]
        },
        {
          "output_type": "display_data",
          "data": {
            "text/plain": [
              "<IPython.core.display.HTML object>"
            ],
            "text/html": [
              "<div style=\"font-size: 16px; line-height: 1.6; padding: 10px;\"><span style=\"background-color: #a50026; border-radius: 3px; padding: 0 2px;\"><|endoftext|></span><span style=\"background-color: #a50026; border-radius: 3px; padding: 0 2px;\">I</span><span style=\"background-color: #a50026; border-radius: 3px; padding: 0 2px;\"> shall</span><span style=\"background-color: #a50026; border-radius: 3px; padding: 0 2px;\"> ascend</span><span style=\"background-color: #a50026; border-radius: 3px; padding: 0 2px;\"> my</span><span style=\"background-color: #a50026; border-radius: 3px; padding: 0 2px;\"> funeral</span><span style=\"background-color: #a50026; border-radius: 3px; padding: 0 2px;\"> pile</span><span style=\"background-color: #a50026; border-radius: 3px; padding: 0 2px;\"> triumph</span><span style=\"background-color: #a50026; border-radius: 3px; padding: 0 2px;\">antly</span><span style=\"background-color: #a50026; border-radius: 3px; padding: 0 2px;\"> and</span><span style=\"background-color: #a50026; border-radius: 3px; padding: 0 2px;\">\n",
              "</span><span style=\"background-color: #a50026; border-radius: 3px; padding: 0 2px;\">ex</span><span style=\"background-color: #a50026; border-radius: 3px; padding: 0 2px;\">ult</span><span style=\"background-color: #a50026; border-radius: 3px; padding: 0 2px;\"> in</span><span style=\"background-color: #a50026; border-radius: 3px; padding: 0 2px;\"> the</span><span style=\"background-color: #a50026; border-radius: 3px; padding: 0 2px;\"> agony</span><span style=\"background-color: #a50026; border-radius: 3px; padding: 0 2px;\"> of</span><span style=\"background-color: #a50026; border-radius: 3px; padding: 0 2px;\"> the</span><span style=\"background-color: #a50026; border-radius: 3px; padding: 0 2px;\"> tort</span><span style=\"background-color: #a50026; border-radius: 3px; padding: 0 2px;\">uring</span><span style=\"background-color: #a50026; border-radius: 3px; padding: 0 2px;\"> flames</span><span style=\"background-color: #a50026; border-radius: 3px; padding: 0 2px;\">.</span></div>"
            ]
          },
          "metadata": {}
        },
        {
          "output_type": "stream",
          "name": "stdout",
          "text": [
            "------------------------------\n"
          ]
        },
        {
          "output_type": "display_data",
          "data": {
            "text/plain": [
              "<IPython.core.display.HTML object>"
            ],
            "text/html": [
              "<div style=\"font-size: 16px; line-height: 1.6; padding: 10px;\"><span style=\"background-color: #a50026; border-radius: 3px; padding: 0 2px;\"><|endoftext|></span><span style=\"background-color: #a50026; border-radius: 3px; padding: 0 2px;\">My</span><span style=\"background-color: #a50026; border-radius: 3px; padding: 0 2px;\"> journey</span><span style=\"background-color: #a50026; border-radius: 3px; padding: 0 2px;\"> had</span><span style=\"background-color: #a50026; border-radius: 3px; padding: 0 2px;\"> been</span><span style=\"background-color: #a50026; border-radius: 3px; padding: 0 2px;\"> my</span><span style=\"background-color: #a50026; border-radius: 3px; padding: 0 2px;\"> own</span><span style=\"background-color: #a50026; border-radius: 3px; padding: 0 2px;\"> suggestion</span><span style=\"background-color: #a50026; border-radius: 3px; padding: 0 2px;\">,</span><span style=\"background-color: #a50026; border-radius: 3px; padding: 0 2px;\"> and</span><span style=\"background-color: #a50026; border-radius: 3px; padding: 0 2px;\"> Elizabeth</span><span style=\"background-color: #a50026; border-radius: 3px; padding: 0 2px;\">\n",
              "</span><span style=\"background-color: #a50026; border-radius: 3px; padding: 0 2px;\">there</span><span style=\"background-color: #a50026; border-radius: 3px; padding: 0 2px;\">fore</span><span style=\"background-color: #a50026; border-radius: 3px; padding: 0 2px;\"> acquies</span><span style=\"background-color: #a50026; border-radius: 3px; padding: 0 2px;\">ced</span><span style=\"background-color: #a50026; border-radius: 3px; padding: 0 2px;\">,</span><span style=\"background-color: #a50026; border-radius: 3px; padding: 0 2px;\"> but</span><span style=\"background-color: #a50026; border-radius: 3px; padding: 0 2px;\"> she</span><span style=\"background-color: #a50026; border-radius: 3px; padding: 0 2px;\"> was</span><span style=\"background-color: #a50026; border-radius: 3px; padding: 0 2px;\"> filled</span><span style=\"background-color: #a50026; border-radius: 3px; padding: 0 2px;\"> with</span><span style=\"background-color: #a50026; border-radius: 3px; padding: 0 2px;\"> dis</span><span style=\"background-color: #a50026; border-radius: 3px; padding: 0 2px;\">quiet</span><span style=\"background-color: #a50026; border-radius: 3px; padding: 0 2px;\"> at</span><span style=\"background-color: #ac0726; border-radius: 3px; padding: 0 2px;\"> the</span><span style=\"background-color: #a50026; border-radius: 3px; padding: 0 2px;\"> idea</span><span style=\"background-color: #a50026; border-radius: 3px; padding: 0 2px;\"> of</span><span style=\"background-color: #a50026; border-radius: 3px; padding: 0 2px;\">\n",
              "</span><span style=\"background-color: #a50026; border-radius: 3px; padding: 0 2px;\">my</span><span style=\"background-color: #a50026; border-radius: 3px; padding: 0 2px;\"> suffering</span><span style=\"background-color: #006837; border-radius: 3px; padding: 0 2px;\">,</span><span style=\"background-color: #a50026; border-radius: 3px; padding: 0 2px;\"> away</span><span style=\"background-color: #a50026; border-radius: 3px; padding: 0 2px;\"> from</span><span style=\"background-color: #a50026; border-radius: 3px; padding: 0 2px;\"> her</span><span style=\"background-color: #a50026; border-radius: 3px; padding: 0 2px;\">,</span><span style=\"background-color: #c41e26; border-radius: 3px; padding: 0 2px;\"> the</span><span style=\"background-color: #b20d26; border-radius: 3px; padding: 0 2px;\"> in</span><span style=\"background-color: #a50026; border-radius: 3px; padding: 0 2px;\">roads</span><span style=\"background-color: #a50026; border-radius: 3px; padding: 0 2px;\"> of</span><span style=\"background-color: #a50026; border-radius: 3px; padding: 0 2px;\"> misery</span><span style=\"background-color: #a50026; border-radius: 3px; padding: 0 2px;\"> and</span><span style=\"background-color: #a50026; border-radius: 3px; padding: 0 2px;\"> grief</span><span style=\"background-color: #a50026; border-radius: 3px; padding: 0 2px;\">.</span></div>"
            ]
          },
          "metadata": {}
        },
        {
          "output_type": "stream",
          "name": "stdout",
          "text": [
            "------------------------------\n"
          ]
        },
        {
          "output_type": "display_data",
          "data": {
            "text/plain": [
              "<IPython.core.display.HTML object>"
            ],
            "text/html": [
              "<div style=\"font-size: 16px; line-height: 1.6; padding: 10px;\"><span style=\"background-color: #a50026; border-radius: 3px; padding: 0 2px;\"><|endoftext|></span><span style=\"background-color: #a50026; border-radius: 3px; padding: 0 2px;\">The</span><span style=\"background-color: #a50026; border-radius: 3px; padding: 0 2px;\"> peasants</span><span style=\"background-color: #a50026; border-radius: 3px; padding: 0 2px;\"> were</span><span style=\"background-color: #a50026; border-radius: 3px; padding: 0 2px;\">\n",
              "</span><span style=\"background-color: #fee391; border-radius: 3px; padding: 0 2px;\">shut</span><span style=\"background-color: #a50026; border-radius: 3px; padding: 0 2px;\"> up</span><span style=\"background-color: #a50026; border-radius: 3px; padding: 0 2px;\"> in</span><span style=\"background-color: #a50026; border-radius: 3px; padding: 0 2px;\"> their</span><span style=\"background-color: #a50026; border-radius: 3px; padding: 0 2px;\"> ho</span><span style=\"background-color: #e14631; border-radius: 3px; padding: 0 2px;\">vel</span><span style=\"background-color: #a50026; border-radius: 3px; padding: 0 2px;\">s</span><span style=\"background-color: #a50026; border-radius: 3px; padding: 0 2px;\">,</span><span style=\"background-color: #a50026; border-radius: 3px; padding: 0 2px;\"> and</span><span style=\"background-color: #a50026; border-radius: 3px; padding: 0 2px;\"> only</span><span style=\"background-color: #a50026; border-radius: 3px; padding: 0 2px;\"> a</span><span style=\"background-color: #a50026; border-radius: 3px; padding: 0 2px;\"> few</span><span style=\"background-color: #a50026; border-radius: 3px; padding: 0 2px;\"> of</span><span style=\"background-color: #a50026; border-radius: 3px; padding: 0 2px;\"> the</span><span style=\"background-color: #ea593a; border-radius: 3px; padding: 0 2px;\"> most</span><span style=\"background-color: #a50026; border-radius: 3px; padding: 0 2px;\"> hard</span><span style=\"background-color: #a50026; border-radius: 3px; padding: 0 2px;\">y</span><span style=\"background-color: #006837; border-radius: 3px; padding: 0 2px;\"> ventured</span><span style=\"background-color: #a50026; border-radius: 3px; padding: 0 2px;\"> forth</span><span style=\"background-color: #a50026; border-radius: 3px; padding: 0 2px;\"> to</span><span style=\"background-color: #a50026; border-radius: 3px; padding: 0 2px;\">\n",
              "</span><span style=\"background-color: #a50026; border-radius: 3px; padding: 0 2px;\">se</span><span style=\"background-color: #a50026; border-radius: 3px; padding: 0 2px;\">ize</span><span style=\"background-color: #a50026; border-radius: 3px; padding: 0 2px;\"> the</span><span style=\"background-color: #a50026; border-radius: 3px; padding: 0 2px;\"> animals</span><span style=\"background-color: #a50026; border-radius: 3px; padding: 0 2px;\"> whom</span><span style=\"background-color: #a50026; border-radius: 3px; padding: 0 2px;\"> starvation</span><span style=\"background-color: #a50026; border-radius: 3px; padding: 0 2px;\"> had</span><span style=\"background-color: #a50026; border-radius: 3px; padding: 0 2px;\"> forced</span><span style=\"background-color: #a50026; border-radius: 3px; padding: 0 2px;\"> from</span><span style=\"background-color: #a50026; border-radius: 3px; padding: 0 2px;\"> their</span><span style=\"background-color: #a50026; border-radius: 3px; padding: 0 2px;\"> hiding</span><span style=\"background-color: #c21c26; border-radius: 3px; padding: 0 2px;\">-</span><span style=\"background-color: #a50026; border-radius: 3px; padding: 0 2px;\">places</span><span style=\"background-color: #a50026; border-radius: 3px; padding: 0 2px;\"> to</span><span style=\"background-color: #a50026; border-radius: 3px; padding: 0 2px;\">\n",
              "</span><span style=\"background-color: #a50026; border-radius: 3px; padding: 0 2px;\">seek</span><span style=\"background-color: #d73127; border-radius: 3px; padding: 0 2px;\"> for</span><span style=\"background-color: #a50026; border-radius: 3px; padding: 0 2px;\"> prey</span><span style=\"background-color: #a50026; border-radius: 3px; padding: 0 2px;\">.</span></div>"
            ]
          },
          "metadata": {}
        },
        {
          "output_type": "stream",
          "name": "stdout",
          "text": [
            "------------------------------\n"
          ]
        },
        {
          "output_type": "display_data",
          "data": {
            "text/plain": [
              "<IPython.core.display.HTML object>"
            ],
            "text/html": [
              "<div style=\"font-size: 16px; line-height: 1.6; padding: 10px;\"><span style=\"background-color: #a50026; border-radius: 3px; padding: 0 2px;\"><|endoftext|></span><span style=\"background-color: #a50026; border-radius: 3px; padding: 0 2px;\">But</span><span style=\"background-color: #a50026; border-radius: 3px; padding: 0 2px;\"> a</span><span style=\"background-color: #a50026; border-radius: 3px; padding: 0 2px;\"> blight</span><span style=\"background-color: #a50026; border-radius: 3px; padding: 0 2px;\"> had</span><span style=\"background-color: #81c966; border-radius: 3px; padding: 0 2px;\">\n",
              "</span><span style=\"background-color: #def193; border-radius: 3px; padding: 0 2px;\">come</span><span style=\"background-color: #a50026; border-radius: 3px; padding: 0 2px;\"> over</span><span style=\"background-color: #a50026; border-radius: 3px; padding: 0 2px;\"> my</span><span style=\"background-color: #a50026; border-radius: 3px; padding: 0 2px;\"> existence</span><span style=\"background-color: #a50026; border-radius: 3px; padding: 0 2px;\">,</span><span style=\"background-color: #a50026; border-radius: 3px; padding: 0 2px;\"> and</span><span style=\"background-color: #a50026; border-radius: 3px; padding: 0 2px;\"> I</span><span style=\"background-color: #a50026; border-radius: 3px; padding: 0 2px;\"> only</span><span style=\"background-color: #a50026; border-radius: 3px; padding: 0 2px;\"> visited</span><span style=\"background-color: #a50026; border-radius: 3px; padding: 0 2px;\"> these</span><span style=\"background-color: #a50026; border-radius: 3px; padding: 0 2px;\"> people</span><span style=\"background-color: #a50026; border-radius: 3px; padding: 0 2px;\"> for</span><span style=\"background-color: #006837; border-radius: 3px; padding: 0 2px;\"> the</span><span style=\"background-color: #a50026; border-radius: 3px; padding: 0 2px;\"> sake</span><span style=\"background-color: #a50026; border-radius: 3px; padding: 0 2px;\"> of</span><span style=\"background-color: #a50026; border-radius: 3px; padding: 0 2px;\">\n",
              "</span><span style=\"background-color: #a50026; border-radius: 3px; padding: 0 2px;\">the</span><span style=\"background-color: #a50026; border-radius: 3px; padding: 0 2px;\"> information</span><span style=\"background-color: #a50026; border-radius: 3px; padding: 0 2px;\"> they</span><span style=\"background-color: #a50026; border-radius: 3px; padding: 0 2px;\"> might</span><span style=\"background-color: #f67e4b; border-radius: 3px; padding: 0 2px;\"> give</span><span style=\"background-color: #a50026; border-radius: 3px; padding: 0 2px;\"> me</span><span style=\"background-color: #a50026; border-radius: 3px; padding: 0 2px;\"> on</span><span style=\"background-color: #a50026; border-radius: 3px; padding: 0 2px;\"> the</span><span style=\"background-color: #a50026; border-radius: 3px; padding: 0 2px;\"> subject</span><span style=\"background-color: #a50026; border-radius: 3px; padding: 0 2px;\"> in</span><span style=\"background-color: #a50026; border-radius: 3px; padding: 0 2px;\"> which</span><span style=\"background-color: #a50026; border-radius: 3px; padding: 0 2px;\"> my</span><span style=\"background-color: #a50026; border-radius: 3px; padding: 0 2px;\"> interest</span><span style=\"background-color: #ea593a; border-radius: 3px; padding: 0 2px;\">\n",
              "</span><span style=\"background-color: #a50026; border-radius: 3px; padding: 0 2px;\">was</span><span style=\"background-color: #a50026; border-radius: 3px; padding: 0 2px;\"> so</span><span style=\"background-color: #a50026; border-radius: 3px; padding: 0 2px;\"> terribly</span><span style=\"background-color: #a50026; border-radius: 3px; padding: 0 2px;\"> profound</span><span style=\"background-color: #a50026; border-radius: 3px; padding: 0 2px;\">.</span></div>"
            ]
          },
          "metadata": {}
        },
        {
          "output_type": "stream",
          "name": "stdout",
          "text": [
            "------------------------------\n"
          ]
        },
        {
          "output_type": "display_data",
          "data": {
            "text/plain": [
              "<IPython.core.display.HTML object>"
            ],
            "text/html": [
              "<div style=\"font-size: 16px; line-height: 1.6; padding: 10px;\"><span style=\"background-color: #a50026; border-radius: 3px; padding: 0 2px;\"><|endoftext|></span><span style=\"background-color: #a50026; border-radius: 3px; padding: 0 2px;\">S</span><span style=\"background-color: #a50026; border-radius: 3px; padding: 0 2px;\">aying</span><span style=\"background-color: #a50026; border-radius: 3px; padding: 0 2px;\"> this</span><span style=\"background-color: #a50026; border-radius: 3px; padding: 0 2px;\">,</span><span style=\"background-color: #a50026; border-radius: 3px; padding: 0 2px;\"> he</span><span style=\"background-color: #a50026; border-radius: 3px; padding: 0 2px;\"> suddenly</span><span style=\"background-color: #a50026; border-radius: 3px; padding: 0 2px;\"> qu</span><span style=\"background-color: #d73127; border-radius: 3px; padding: 0 2px;\">itted</span><span style=\"background-color: #a50026; border-radius: 3px; padding: 0 2px;\"> me</span><span style=\"background-color: #006837; border-radius: 3px; padding: 0 2px;\">,</span><span style=\"background-color: #a50026; border-radius: 3px; padding: 0 2px;\"> fearful</span><span style=\"background-color: #a50026; border-radius: 3px; padding: 0 2px;\">,</span><span style=\"background-color: #a50026; border-radius: 3px; padding: 0 2px;\"> perhaps</span><span style=\"background-color: #a50026; border-radius: 3px; padding: 0 2px;\">,</span><span style=\"background-color: #a50026; border-radius: 3px; padding: 0 2px;\"> of</span><span style=\"background-color: #a50026; border-radius: 3px; padding: 0 2px;\"> any</span><span style=\"background-color: #a50026; border-radius: 3px; padding: 0 2px;\"> change</span><span style=\"background-color: #a50026; border-radius: 3px; padding: 0 2px;\"> in</span><span style=\"background-color: #a50026; border-radius: 3px; padding: 0 2px;\">\n",
              "</span><span style=\"background-color: #a50026; border-radius: 3px; padding: 0 2px;\">my</span><span style=\"background-color: #a50026; border-radius: 3px; padding: 0 2px;\"> sentiments</span><span style=\"background-color: #a50026; border-radius: 3px; padding: 0 2px;\">.</span></div>"
            ]
          },
          "metadata": {}
        },
        {
          "output_type": "stream",
          "name": "stdout",
          "text": [
            "------------------------------\n"
          ]
        },
        {
          "output_type": "display_data",
          "data": {
            "text/plain": [
              "<IPython.core.display.HTML object>"
            ],
            "text/html": [
              "<div style=\"font-size: 16px; line-height: 1.6; padding: 10px;\"><span style=\"background-color: #a50026; border-radius: 3px; padding: 0 2px;\"><|endoftext|></span><span style=\"background-color: #a50026; border-radius: 3px; padding: 0 2px;\">The</span><span style=\"background-color: #a50026; border-radius: 3px; padding: 0 2px;\"> wounded</span><span style=\"background-color: #a50026; border-radius: 3px; padding: 0 2px;\"> deer</span><span style=\"background-color: #a50026; border-radius: 3px; padding: 0 2px;\"> dragging</span><span style=\"background-color: #a50026; border-radius: 3px; padding: 0 2px;\"> its</span><span style=\"background-color: #a50026; border-radius: 3px; padding: 0 2px;\"> f</span><span style=\"background-color: #a50026; border-radius: 3px; padding: 0 2px;\">ain</span><span style=\"background-color: #a50026; border-radius: 3px; padding: 0 2px;\">ting</span><span style=\"background-color: #a50026; border-radius: 3px; padding: 0 2px;\">\n",
              "</span><span style=\"background-color: #a50026; border-radius: 3px; padding: 0 2px;\">lim</span><span style=\"background-color: #a50026; border-radius: 3px; padding: 0 2px;\">bs</span><span style=\"background-color: #a50026; border-radius: 3px; padding: 0 2px;\"> to</span><span style=\"background-color: #e95739; border-radius: 3px; padding: 0 2px;\"> some</span><span style=\"background-color: #a50026; border-radius: 3px; padding: 0 2px;\"> unt</span><span style=\"background-color: #a50026; border-radius: 3px; padding: 0 2px;\">ro</span><span style=\"background-color: #a50026; border-radius: 3px; padding: 0 2px;\">dden</span><span style=\"background-color: #a50026; border-radius: 3px; padding: 0 2px;\"> brake</span><span style=\"background-color: #a50026; border-radius: 3px; padding: 0 2px;\">,</span><span style=\"background-color: #a50026; border-radius: 3px; padding: 0 2px;\"> there</span><span style=\"background-color: #a50026; border-radius: 3px; padding: 0 2px;\"> to</span><span style=\"background-color: #a50026; border-radius: 3px; padding: 0 2px;\"> gaze</span><span style=\"background-color: #a50026; border-radius: 3px; padding: 0 2px;\"> upon</span><span style=\"background-color: #a50026; border-radius: 3px; padding: 0 2px;\"> the</span><span style=\"background-color: #a50026; border-radius: 3px; padding: 0 2px;\"> arrow</span><span style=\"background-color: #a50026; border-radius: 3px; padding: 0 2px;\"> which</span><span style=\"background-color: #a50026; border-radius: 3px; padding: 0 2px;\"> had</span><span style=\"background-color: #a50026; border-radius: 3px; padding: 0 2px;\">\n",
              "</span><span style=\"background-color: #a50026; border-radius: 3px; padding: 0 2px;\">p</span><span style=\"background-color: #a50026; border-radius: 3px; padding: 0 2px;\">ier</span><span style=\"background-color: #a50026; border-radius: 3px; padding: 0 2px;\">ced</span><span style=\"background-color: #a50026; border-radius: 3px; padding: 0 2px;\"> it</span><span style=\"background-color: #a50026; border-radius: 3px; padding: 0 2px;\">,</span><span style=\"background-color: #a50026; border-radius: 3px; padding: 0 2px;\"> and</span><span style=\"background-color: #006837; border-radius: 3px; padding: 0 2px;\"> to</span><span style=\"background-color: #a50026; border-radius: 3px; padding: 0 2px;\"> die</span><span style=\"background-color: #a50026; border-radius: 3px; padding: 0 2px;\">,</span><span style=\"background-color: #a50026; border-radius: 3px; padding: 0 2px;\"> was</span><span style=\"background-color: #a50026; border-radius: 3px; padding: 0 2px;\"> but</span><span style=\"background-color: #a50026; border-radius: 3px; padding: 0 2px;\"> a</span><span style=\"background-color: #a50026; border-radius: 3px; padding: 0 2px;\"> type</span><span style=\"background-color: #a50026; border-radius: 3px; padding: 0 2px;\"> of</span><span style=\"background-color: #a50026; border-radius: 3px; padding: 0 2px;\"> me</span><span style=\"background-color: #a50026; border-radius: 3px; padding: 0 2px;\">.</span></div>"
            ]
          },
          "metadata": {}
        },
        {
          "output_type": "stream",
          "name": "stdout",
          "text": [
            "------------------------------\n"
          ]
        },
        {
          "output_type": "display_data",
          "data": {
            "text/plain": [
              "<IPython.core.display.HTML object>"
            ],
            "text/html": [
              "<div style=\"font-size: 16px; line-height: 1.6; padding: 10px;\"><span style=\"background-color: #a50026; border-radius: 3px; padding: 0 2px;\"><|endoftext|></span><span style=\"background-color: #a50026; border-radius: 3px; padding: 0 2px;\">Learn</span><span style=\"background-color: #a50026; border-radius: 3px; padding: 0 2px;\"> from</span><span style=\"background-color: #a50026; border-radius: 3px; padding: 0 2px;\"> me</span><span style=\"background-color: #a50026; border-radius: 3px; padding: 0 2px;\">,</span><span style=\"background-color: #a50026; border-radius: 3px; padding: 0 2px;\"> dear</span><span style=\"background-color: #a50026; border-radius: 3px; padding: 0 2px;\"> lady</span><span style=\"background-color: #a50026; border-radius: 3px; padding: 0 2px;\">,</span><span style=\"background-color: #a50026; border-radius: 3px; padding: 0 2px;\"> to</span><span style=\"background-color: #a50026; border-radius: 3px; padding: 0 2px;\"> submit</span><span style=\"background-color: #a50026; border-radius: 3px; padding: 0 2px;\"> in</span><span style=\"background-color: #a50026; border-radius: 3px; padding: 0 2px;\"> patience</span><span style=\"background-color: #a50026; border-radius: 3px; padding: 0 2px;\"> to</span><span style=\"background-color: #a50026; border-radius: 3px; padding: 0 2px;\">\n",
              "</span><span style=\"background-color: #006837; border-radius: 3px; padding: 0 2px;\">the</span><span style=\"background-color: #a50026; border-radius: 3px; padding: 0 2px;\"> will</span><span style=\"background-color: #a50026; border-radius: 3px; padding: 0 2px;\"> of</span><span style=\"background-color: #a50026; border-radius: 3px; padding: 0 2px;\"> heaven</span><span style=\"background-color: #a50026; border-radius: 3px; padding: 0 2px;\">!</span><span style=\"background-color: #a50026; border-radius: 3px; padding: 0 2px;\">�</span><span style=\"background-color: #a50026; border-radius: 3px; padding: 0 2px;\">�</span><span style=\"background-color: #a50026; border-radius: 3px; padding: 0 2px;\">\n",
              "</span></div>"
            ]
          },
          "metadata": {}
        },
        {
          "output_type": "stream",
          "name": "stdout",
          "text": [
            "------------------------------\n"
          ]
        },
        {
          "output_type": "display_data",
          "data": {
            "text/plain": [
              "<IPython.core.display.HTML object>"
            ],
            "text/html": [
              "<div style=\"font-size: 16px; line-height: 1.6; padding: 10px;\"><span style=\"background-color: #a50026; border-radius: 3px; padding: 0 2px;\"><|endoftext|></span><span style=\"background-color: #a50026; border-radius: 3px; padding: 0 2px;\">September</span><span style=\"background-color: #a50026; border-radius: 3px; padding: 0 2px;\"> 7</span><span style=\"background-color: #a50026; border-radius: 3px; padding: 0 2px;\">th</span><span style=\"background-color: #a50026; border-radius: 3px; padding: 0 2px;\">.</span></div>"
            ]
          },
          "metadata": {}
        },
        {
          "output_type": "stream",
          "name": "stdout",
          "text": [
            "------------------------------\n"
          ]
        },
        {
          "output_type": "display_data",
          "data": {
            "text/plain": [
              "<IPython.core.display.HTML object>"
            ],
            "text/html": [
              "<div style=\"font-size: 16px; line-height: 1.6; padding: 10px;\"><span style=\"background-color: #a50026; border-radius: 3px; padding: 0 2px;\"><|endoftext|></span><span style=\"background-color: #a50026; border-radius: 3px; padding: 0 2px;\">We</span><span style=\"background-color: #a50026; border-radius: 3px; padding: 0 2px;\"> feel</span><span style=\"background-color: #a50026; border-radius: 3px; padding: 0 2px;\">,</span><span style=\"background-color: #a50026; border-radius: 3px; padding: 0 2px;\"> conceive</span><span style=\"background-color: #a50026; border-radius: 3px; padding: 0 2px;\">,</span><span style=\"background-color: #a50026; border-radius: 3px; padding: 0 2px;\"> or</span><span style=\"background-color: #a50026; border-radius: 3px; padding: 0 2px;\"> reason</span><span style=\"background-color: #a50026; border-radius: 3px; padding: 0 2px;\">;</span><span style=\"background-color: #a50026; border-radius: 3px; padding: 0 2px;\"> laugh</span><span style=\"background-color: #a50026; border-radius: 3px; padding: 0 2px;\"> or</span><span style=\"background-color: #a50026; border-radius: 3px; padding: 0 2px;\"> weep</span><span style=\"background-color: #a50026; border-radius: 3px; padding: 0 2px;\">,</span><span style=\"background-color: #a50026; border-radius: 3px; padding: 0 2px;\">\n",
              "</span></div>"
            ]
          },
          "metadata": {}
        },
        {
          "output_type": "stream",
          "name": "stdout",
          "text": [
            "------------------------------\n"
          ]
        },
        {
          "output_type": "display_data",
          "data": {
            "text/plain": [
              "<IPython.core.display.HTML object>"
            ],
            "text/html": [
              "<div style=\"font-size: 16px; line-height: 1.6; padding: 10px;\"><span style=\"background-color: #a50026; border-radius: 3px; padding: 0 2px;\"><|endoftext|></span><span style=\"background-color: #a50026; border-radius: 3px; padding: 0 2px;\">I</span><span style=\"background-color: #a50026; border-radius: 3px; padding: 0 2px;\"> confess</span><span style=\"background-color: #a50026; border-radius: 3px; padding: 0 2px;\"> that</span><span style=\"background-color: #a50026; border-radius: 3px; padding: 0 2px;\"> neither</span><span style=\"background-color: #a50026; border-radius: 3px; padding: 0 2px;\"> the</span><span style=\"background-color: #a50026; border-radius: 3px; padding: 0 2px;\"> structure</span><span style=\"background-color: #a50026; border-radius: 3px; padding: 0 2px;\"> of</span><span style=\"background-color: #a50026; border-radius: 3px; padding: 0 2px;\"> languages</span><span style=\"background-color: #a50026; border-radius: 3px; padding: 0 2px;\">,</span><span style=\"background-color: #a50026; border-radius: 3px; padding: 0 2px;\">\n",
              "</span><span style=\"background-color: #a50026; border-radius: 3px; padding: 0 2px;\">nor</span><span style=\"background-color: #a50026; border-radius: 3px; padding: 0 2px;\"> the</span><span style=\"background-color: #a50026; border-radius: 3px; padding: 0 2px;\"> code</span><span style=\"background-color: #a50026; border-radius: 3px; padding: 0 2px;\"> of</span><span style=\"background-color: #a50026; border-radius: 3px; padding: 0 2px;\"> governments</span><span style=\"background-color: #a50026; border-radius: 3px; padding: 0 2px;\">,</span><span style=\"background-color: #a50026; border-radius: 3px; padding: 0 2px;\"> nor</span><span style=\"background-color: #a50026; border-radius: 3px; padding: 0 2px;\"> the</span><span style=\"background-color: #a50026; border-radius: 3px; padding: 0 2px;\"> politics</span><span style=\"background-color: #a50026; border-radius: 3px; padding: 0 2px;\"> of</span><span style=\"background-color: #006837; border-radius: 3px; padding: 0 2px;\"> various</span><span style=\"background-color: #a50026; border-radius: 3px; padding: 0 2px;\"> states</span><span style=\"background-color: #a50026; border-radius: 3px; padding: 0 2px;\">\n",
              "</span><span style=\"background-color: #a50026; border-radius: 3px; padding: 0 2px;\">p</span><span style=\"background-color: #a50026; border-radius: 3px; padding: 0 2px;\">oss</span><span style=\"background-color: #a50026; border-radius: 3px; padding: 0 2px;\">essed</span><span style=\"background-color: #a50026; border-radius: 3px; padding: 0 2px;\"> attractions</span><span style=\"background-color: #a50026; border-radius: 3px; padding: 0 2px;\"> for</span><span style=\"background-color: #a50026; border-radius: 3px; padding: 0 2px;\"> me</span><span style=\"background-color: #a50026; border-radius: 3px; padding: 0 2px;\">.</span></div>"
            ]
          },
          "metadata": {}
        },
        {
          "output_type": "stream",
          "name": "stdout",
          "text": [
            "------------------------------\n"
          ]
        },
        {
          "output_type": "display_data",
          "data": {
            "text/plain": [
              "<IPython.core.display.HTML object>"
            ],
            "text/html": [
              "<div style=\"font-size: 16px; line-height: 1.6; padding: 10px;\"><span style=\"background-color: #a50026; border-radius: 3px; padding: 0 2px;\"><|endoftext|></span><span style=\"background-color: #a50026; border-radius: 3px; padding: 0 2px;\">I</span><span style=\"background-color: #a50026; border-radius: 3px; padding: 0 2px;\"> abhor</span><span style=\"background-color: #a50026; border-radius: 3px; padding: 0 2px;\">red</span><span style=\"background-color: #a50026; border-radius: 3px; padding: 0 2px;\"> the</span><span style=\"background-color: #a50026; border-radius: 3px; padding: 0 2px;\"> face</span><span style=\"background-color: #a50026; border-radius: 3px; padding: 0 2px;\"> of</span><span style=\"background-color: #a50026; border-radius: 3px; padding: 0 2px;\"> man</span><span style=\"background-color: #a50026; border-radius: 3px; padding: 0 2px;\">.</span></div>"
            ]
          },
          "metadata": {}
        },
        {
          "output_type": "stream",
          "name": "stdout",
          "text": [
            "------------------------------\n"
          ]
        },
        {
          "output_type": "display_data",
          "data": {
            "text/plain": [
              "<IPython.core.display.HTML object>"
            ],
            "text/html": [
              "<div style=\"font-size: 16px; line-height: 1.6; padding: 10px;\"><span style=\"background-color: #a50026; border-radius: 3px; padding: 0 2px;\"><|endoftext|></span><span style=\"background-color: #a50026; border-radius: 3px; padding: 0 2px;\">�</span><span style=\"background-color: #a50026; border-radius: 3px; padding: 0 2px;\">�</span><span style=\"background-color: #a50026; border-radius: 3px; padding: 0 2px;\">Have</span><span style=\"background-color: #a50026; border-radius: 3px; padding: 0 2px;\"> you</span><span style=\"background-color: #a50026; border-radius: 3px; padding: 0 2px;\">,</span><span style=\"background-color: #a50026; border-radius: 3px; padding: 0 2px;\">�</span><span style=\"background-color: #a50026; border-radius: 3px; padding: 0 2px;\">�</span><span style=\"background-color: #a50026; border-radius: 3px; padding: 0 2px;\"> he</span><span style=\"background-color: #a50026; border-radius: 3px; padding: 0 2px;\">\n",
              "</span><span style=\"background-color: #a50026; border-radius: 3px; padding: 0 2px;\">said</span><span style=\"background-color: #a50026; border-radius: 3px; padding: 0 2px;\">,</span><span style=\"background-color: #a50026; border-radius: 3px; padding: 0 2px;\"> �</span><span style=\"background-color: #a50026; border-radius: 3px; padding: 0 2px;\">�</span><span style=\"background-color: #a50026; border-radius: 3px; padding: 0 2px;\">really</span><span style=\"background-color: #a50026; border-radius: 3px; padding: 0 2px;\"> spent</span><span style=\"background-color: #a50026; border-radius: 3px; padding: 0 2px;\"> your</span><span style=\"background-color: #a50026; border-radius: 3px; padding: 0 2px;\"> time</span><span style=\"background-color: #a50026; border-radius: 3px; padding: 0 2px;\"> in</span><span style=\"background-color: #a50026; border-radius: 3px; padding: 0 2px;\"> studying</span><span style=\"background-color: #a50026; border-radius: 3px; padding: 0 2px;\"> such</span><span style=\"background-color: #a50026; border-radius: 3px; padding: 0 2px;\"> nonsense</span><span style=\"background-color: #a50026; border-radius: 3px; padding: 0 2px;\">?</span><span style=\"background-color: #a50026; border-radius: 3px; padding: 0 2px;\">�</span><span style=\"background-color: #a50026; border-radius: 3px; padding: 0 2px;\">�</span><span style=\"background-color: #a50026; border-radius: 3px; padding: 0 2px;\">\n",
              "</span></div>"
            ]
          },
          "metadata": {}
        },
        {
          "output_type": "stream",
          "name": "stdout",
          "text": [
            "------------------------------\n"
          ]
        },
        {
          "output_type": "display_data",
          "data": {
            "text/plain": [
              "<IPython.core.display.HTML object>"
            ],
            "text/html": [
              "<div style=\"font-size: 16px; line-height: 1.6; padding: 10px;\"><span style=\"background-color: #a50026; border-radius: 3px; padding: 0 2px;\"><|endoftext|></span><span style=\"background-color: #a50026; border-radius: 3px; padding: 0 2px;\">In</span><span style=\"background-color: #a50026; border-radius: 3px; padding: 0 2px;\"> the</span><span style=\"background-color: #a50026; border-radius: 3px; padding: 0 2px;\"> meantime</span><span style=\"background-color: #a50026; border-radius: 3px; padding: 0 2px;\"> I</span><span style=\"background-color: #a50026; border-radius: 3px; padding: 0 2px;\"> took</span><span style=\"background-color: #a50026; border-radius: 3px; padding: 0 2px;\"> every</span><span style=\"background-color: #a50026; border-radius: 3px; padding: 0 2px;\"> precaution</span><span style=\"background-color: #a50026; border-radius: 3px; padding: 0 2px;\"> to</span><span style=\"background-color: #a50026; border-radius: 3px; padding: 0 2px;\"> defend</span><span style=\"background-color: #a50026; border-radius: 3px; padding: 0 2px;\"> my</span><span style=\"background-color: #a50026; border-radius: 3px; padding: 0 2px;\"> person</span><span style=\"background-color: #a50026; border-radius: 3px; padding: 0 2px;\"> in</span><span style=\"background-color: #a50026; border-radius: 3px; padding: 0 2px;\"> case</span><span style=\"background-color: #a50026; border-radius: 3px; padding: 0 2px;\"> the</span><span style=\"background-color: #a50026; border-radius: 3px; padding: 0 2px;\">\n",
              "</span><span style=\"background-color: #a50026; border-radius: 3px; padding: 0 2px;\">fi</span><span style=\"background-color: #a50026; border-radius: 3px; padding: 0 2px;\">end</span><span style=\"background-color: #a50026; border-radius: 3px; padding: 0 2px;\"> should</span><span style=\"background-color: #a50026; border-radius: 3px; padding: 0 2px;\"> openly</span><span style=\"background-color: #006837; border-radius: 3px; padding: 0 2px;\"> attack</span><span style=\"background-color: #a50026; border-radius: 3px; padding: 0 2px;\"> me</span><span style=\"background-color: #a50026; border-radius: 3px; padding: 0 2px;\">.</span></div>"
            ]
          },
          "metadata": {}
        },
        {
          "output_type": "stream",
          "name": "stdout",
          "text": [
            "------------------------------\n"
          ]
        },
        {
          "output_type": "display_data",
          "data": {
            "text/plain": [
              "<IPython.core.display.HTML object>"
            ],
            "text/html": [
              "<div style=\"font-size: 16px; line-height: 1.6; padding: 10px;\"><span style=\"background-color: #a50026; border-radius: 3px; padding: 0 2px;\"><|endoftext|></span><span style=\"background-color: #a50026; border-radius: 3px; padding: 0 2px;\">�</span><span style=\"background-color: #a50026; border-radius: 3px; padding: 0 2px;\">�</span><span style=\"background-color: #a50026; border-radius: 3px; padding: 0 2px;\">A</span><span style=\"background-color: #a50026; border-radius: 3px; padding: 0 2px;\"> few</span><span style=\"background-color: #a50026; border-radius: 3px; padding: 0 2px;\"> days</span><span style=\"background-color: #a50026; border-radius: 3px; padding: 0 2px;\"> after</span><span style=\"background-color: #a50026; border-radius: 3px; padding: 0 2px;\">,</span><span style=\"background-color: #a50026; border-radius: 3px; padding: 0 2px;\"> the</span><span style=\"background-color: #a50026; border-radius: 3px; padding: 0 2px;\"> Turk</span><span style=\"background-color: #a50026; border-radius: 3px; padding: 0 2px;\"> entered</span><span style=\"background-color: #a50026; border-radius: 3px; padding: 0 2px;\"> his</span><span style=\"background-color: #a50026; border-radius: 3px; padding: 0 2px;\"> daughter</span><span style=\"background-color: #a50026; border-radius: 3px; padding: 0 2px;\">�</span><span style=\"background-color: #a50026; border-radius: 3px; padding: 0 2px;\">�</span><span style=\"background-color: #a50026; border-radius: 3px; padding: 0 2px;\">s</span><span style=\"background-color: #a50026; border-radius: 3px; padding: 0 2px;\"> apartment</span><span style=\"background-color: #a50026; border-radius: 3px; padding: 0 2px;\"> and</span><span style=\"background-color: #a50026; border-radius: 3px; padding: 0 2px;\"> told</span><span style=\"background-color: #a50026; border-radius: 3px; padding: 0 2px;\">\n",
              "</span><span style=\"background-color: #a50026; border-radius: 3px; padding: 0 2px;\">her</span><span style=\"background-color: #a50026; border-radius: 3px; padding: 0 2px;\"> hastily</span><span style=\"background-color: #a50026; border-radius: 3px; padding: 0 2px;\"> that</span><span style=\"background-color: #a50026; border-radius: 3px; padding: 0 2px;\"> he</span><span style=\"background-color: #a50026; border-radius: 3px; padding: 0 2px;\"> had</span><span style=\"background-color: #a50026; border-radius: 3px; padding: 0 2px;\"> reason</span><span style=\"background-color: #a50026; border-radius: 3px; padding: 0 2px;\"> to</span><span style=\"background-color: #a50026; border-radius: 3px; padding: 0 2px;\"> believe</span><span style=\"background-color: #a50026; border-radius: 3px; padding: 0 2px;\"> that</span><span style=\"background-color: #a50026; border-radius: 3px; padding: 0 2px;\"> his</span><span style=\"background-color: #a50026; border-radius: 3px; padding: 0 2px;\"> residence</span><span style=\"background-color: #a50026; border-radius: 3px; padding: 0 2px;\"> at</span><span style=\"background-color: #a50026; border-radius: 3px; padding: 0 2px;\"> Le</span><span style=\"background-color: #a50026; border-radius: 3px; padding: 0 2px;\">gh</span><span style=\"background-color: #a50026; border-radius: 3px; padding: 0 2px;\">orn</span><span style=\"background-color: #a50026; border-radius: 3px; padding: 0 2px;\">\n",
              "</span><span style=\"background-color: #a50026; border-radius: 3px; padding: 0 2px;\">had</span><span style=\"background-color: #a50026; border-radius: 3px; padding: 0 2px;\"> been</span><span style=\"background-color: #f67c4a; border-radius: 3px; padding: 0 2px;\"> divul</span><span style=\"background-color: #a50026; border-radius: 3px; padding: 0 2px;\">ged</span><span style=\"background-color: #a50026; border-radius: 3px; padding: 0 2px;\"> and</span><span style=\"background-color: #a50026; border-radius: 3px; padding: 0 2px;\"> that</span><span style=\"background-color: #a50026; border-radius: 3px; padding: 0 2px;\"> he</span><span style=\"background-color: #a50026; border-radius: 3px; padding: 0 2px;\"> should</span><span style=\"background-color: #a50026; border-radius: 3px; padding: 0 2px;\"> speed</span><span style=\"background-color: #a50026; border-radius: 3px; padding: 0 2px;\">ily</span><span style=\"background-color: #b40f26; border-radius: 3px; padding: 0 2px;\"> be</span><span style=\"background-color: #006837; border-radius: 3px; padding: 0 2px;\"> delivered</span><span style=\"background-color: #a50026; border-radius: 3px; padding: 0 2px;\"> up</span><span style=\"background-color: #a50026; border-radius: 3px; padding: 0 2px;\"> to</span><span style=\"background-color: #a50026; border-radius: 3px; padding: 0 2px;\"> the</span><span style=\"background-color: #a50026; border-radius: 3px; padding: 0 2px;\">\n",
              "</span><span style=\"background-color: #a50026; border-radius: 3px; padding: 0 2px;\">French</span><span style=\"background-color: #a50026; border-radius: 3px; padding: 0 2px;\"> government</span><span style=\"background-color: #a50026; border-radius: 3px; padding: 0 2px;\">;</span><span style=\"background-color: #a50026; border-radius: 3px; padding: 0 2px;\"> he</span><span style=\"background-color: #a50026; border-radius: 3px; padding: 0 2px;\"> had</span><span style=\"background-color: #a50026; border-radius: 3px; padding: 0 2px;\"> consequently</span><span style=\"background-color: #a50026; border-radius: 3px; padding: 0 2px;\"> hired</span><span style=\"background-color: #a50026; border-radius: 3px; padding: 0 2px;\"> a</span><span style=\"background-color: #a50026; border-radius: 3px; padding: 0 2px;\"> vessel</span><span style=\"background-color: #a50026; border-radius: 3px; padding: 0 2px;\"> to</span><span style=\"background-color: #a50026; border-radius: 3px; padding: 0 2px;\"> convey</span><span style=\"background-color: #a50026; border-radius: 3px; padding: 0 2px;\"> him</span><span style=\"background-color: #a50026; border-radius: 3px; padding: 0 2px;\"> to</span><span style=\"background-color: #a50026; border-radius: 3px; padding: 0 2px;\">\n",
              "</span><span style=\"background-color: #a50026; border-radius: 3px; padding: 0 2px;\">Con</span><span style=\"background-color: #a50026; border-radius: 3px; padding: 0 2px;\">stant</span><span style=\"background-color: #a50026; border-radius: 3px; padding: 0 2px;\">in</span><span style=\"background-color: #a50026; border-radius: 3px; padding: 0 2px;\">ople</span><span style=\"background-color: #a50026; border-radius: 3px; padding: 0 2px;\">,</span><span style=\"background-color: #a50026; border-radius: 3px; padding: 0 2px;\"> for</span><span style=\"background-color: #a50026; border-radius: 3px; padding: 0 2px;\"> which</span><span style=\"background-color: #a50026; border-radius: 3px; padding: 0 2px;\"> city</span><span style=\"background-color: #a50026; border-radius: 3px; padding: 0 2px;\"> he</span><span style=\"background-color: #f0653f; border-radius: 3px; padding: 0 2px;\"> should</span><span style=\"background-color: #fa9a58; border-radius: 3px; padding: 0 2px;\"> sail</span><span style=\"background-color: #a50026; border-radius: 3px; padding: 0 2px;\"> in</span><span style=\"background-color: #a50026; border-radius: 3px; padding: 0 2px;\"> a</span><span style=\"background-color: #fdb466; border-radius: 3px; padding: 0 2px;\"> few</span><span style=\"background-color: #a50026; border-radius: 3px; padding: 0 2px;\"> hours</span><span style=\"background-color: #a50026; border-radius: 3px; padding: 0 2px;\">.</span></div>"
            ]
          },
          "metadata": {}
        },
        {
          "output_type": "stream",
          "name": "stdout",
          "text": [
            "------------------------------\n"
          ]
        },
        {
          "output_type": "display_data",
          "data": {
            "text/plain": [
              "<IPython.core.display.HTML object>"
            ],
            "text/html": [
              "<div style=\"font-size: 16px; line-height: 1.6; padding: 10px;\"><span style=\"background-color: #a50026; border-radius: 3px; padding: 0 2px;\"><|endoftext|></span><span style=\"background-color: #a50026; border-radius: 3px; padding: 0 2px;\">They</span><span style=\"background-color: #a50026; border-radius: 3px; padding: 0 2px;\"> were</span><span style=\"background-color: #a50026; border-radius: 3px; padding: 0 2px;\"> for</span><span style=\"background-color: #a50026; border-radius: 3px; padding: 0 2px;\"> ever</span><span style=\"background-color: #a50026; border-radius: 3px; padding: 0 2px;\"> ardent</span><span style=\"background-color: #a50026; border-radius: 3px; padding: 0 2px;\"> and</span><span style=\"background-color: #a50026; border-radius: 3px; padding: 0 2px;\"> craving</span><span style=\"background-color: #a50026; border-radius: 3px; padding: 0 2px;\">;</span><span style=\"background-color: #a50026; border-radius: 3px; padding: 0 2px;\"> still</span><span style=\"background-color: #a50026; border-radius: 3px; padding: 0 2px;\">\n",
              "</span><span style=\"background-color: #a50026; border-radius: 3px; padding: 0 2px;\">I</span><span style=\"background-color: #a50026; border-radius: 3px; padding: 0 2px;\"> desired</span><span style=\"background-color: #a50026; border-radius: 3px; padding: 0 2px;\"> love</span><span style=\"background-color: #a50026; border-radius: 3px; padding: 0 2px;\"> and</span><span style=\"background-color: #a50026; border-radius: 3px; padding: 0 2px;\"> fellowship</span><span style=\"background-color: #a50026; border-radius: 3px; padding: 0 2px;\">,</span><span style=\"background-color: #a50026; border-radius: 3px; padding: 0 2px;\"> and</span><span style=\"background-color: #a50026; border-radius: 3px; padding: 0 2px;\"> I</span><span style=\"background-color: #a50026; border-radius: 3px; padding: 0 2px;\"> was</span><span style=\"background-color: #a50026; border-radius: 3px; padding: 0 2px;\"> still</span><span style=\"background-color: #a50026; border-radius: 3px; padding: 0 2px;\"> sp</span><span style=\"background-color: #a50026; border-radius: 3px; padding: 0 2px;\">urned</span><span style=\"background-color: #a50026; border-radius: 3px; padding: 0 2px;\">.</span></div>"
            ]
          },
          "metadata": {}
        },
        {
          "output_type": "stream",
          "name": "stdout",
          "text": [
            "------------------------------\n"
          ]
        },
        {
          "output_type": "display_data",
          "data": {
            "text/plain": [
              "<IPython.core.display.HTML object>"
            ],
            "text/html": [
              "<div style=\"font-size: 16px; line-height: 1.6; padding: 10px;\"><span style=\"background-color: #a50026; border-radius: 3px; padding: 0 2px;\"><|endoftext|></span><span style=\"background-color: #a50026; border-radius: 3px; padding: 0 2px;\">K</span><span style=\"background-color: #a50026; border-radius: 3px; padding: 0 2px;\">ir</span><span style=\"background-color: #a50026; border-radius: 3px; padding: 0 2px;\">win</span><span style=\"background-color: #a50026; border-radius: 3px; padding: 0 2px;\"> charged</span><span style=\"background-color: #a50026; border-radius: 3px; padding: 0 2px;\"> himself</span><span style=\"background-color: #a50026; border-radius: 3px; padding: 0 2px;\"> with</span><span style=\"background-color: #a50026; border-radius: 3px; padding: 0 2px;\"> every</span><span style=\"background-color: #a50026; border-radius: 3px; padding: 0 2px;\">\n",
              "</span><span style=\"background-color: #a50026; border-radius: 3px; padding: 0 2px;\">care</span><span style=\"background-color: #a50026; border-radius: 3px; padding: 0 2px;\"> of</span><span style=\"background-color: #a50026; border-radius: 3px; padding: 0 2px;\"> collecting</span><span style=\"background-color: #a50026; border-radius: 3px; padding: 0 2px;\"> witnesses</span><span style=\"background-color: #a50026; border-radius: 3px; padding: 0 2px;\"> and</span><span style=\"background-color: #a50026; border-radius: 3px; padding: 0 2px;\"> arranging</span><span style=\"background-color: #a50026; border-radius: 3px; padding: 0 2px;\"> my</span><span style=\"background-color: #a50026; border-radius: 3px; padding: 0 2px;\"> defence</span><span style=\"background-color: #a50026; border-radius: 3px; padding: 0 2px;\">.</span></div>"
            ]
          },
          "metadata": {}
        },
        {
          "output_type": "stream",
          "name": "stdout",
          "text": [
            "------------------------------\n"
          ]
        },
        {
          "output_type": "display_data",
          "data": {
            "text/plain": [
              "<IPython.core.display.HTML object>"
            ],
            "text/html": [
              "<div style=\"font-size: 16px; line-height: 1.6; padding: 10px;\"><span style=\"background-color: #a50026; border-radius: 3px; padding: 0 2px;\"><|endoftext|></span><span style=\"background-color: #a50026; border-radius: 3px; padding: 0 2px;\">My</span><span style=\"background-color: #a50026; border-radius: 3px; padding: 0 2px;\"> affection</span><span style=\"background-color: #a50026; border-radius: 3px; padding: 0 2px;\"> for</span><span style=\"background-color: #a50026; border-radius: 3px; padding: 0 2px;\"> my</span><span style=\"background-color: #a50026; border-radius: 3px; padding: 0 2px;\"> guest</span><span style=\"background-color: #a50026; border-radius: 3px; padding: 0 2px;\"> increases</span><span style=\"background-color: #a50026; border-radius: 3px; padding: 0 2px;\"> every</span><span style=\"background-color: #a50026; border-radius: 3px; padding: 0 2px;\"> day</span><span style=\"background-color: #a50026; border-radius: 3px; padding: 0 2px;\">.</span></div>"
            ]
          },
          "metadata": {}
        },
        {
          "output_type": "stream",
          "name": "stdout",
          "text": [
            "------------------------------\n"
          ]
        },
        {
          "output_type": "display_data",
          "data": {
            "text/plain": [
              "<IPython.core.display.HTML object>"
            ],
            "text/html": [
              "<div style=\"font-size: 16px; line-height: 1.6; padding: 10px;\"><span style=\"background-color: #a50026; border-radius: 3px; padding: 0 2px;\"><|endoftext|></span><span style=\"background-color: #a50026; border-radius: 3px; padding: 0 2px;\">It</span><span style=\"background-color: #a50026; border-radius: 3px; padding: 0 2px;\"> was</span><span style=\"background-color: #a50026; border-radius: 3px; padding: 0 2px;\"> about</span><span style=\"background-color: #a50026; border-radius: 3px; padding: 0 2px;\"> five</span><span style=\"background-color: #a50026; border-radius: 3px; padding: 0 2px;\"> in</span><span style=\"background-color: #a50026; border-radius: 3px; padding: 0 2px;\"> the</span><span style=\"background-color: #a50026; border-radius: 3px; padding: 0 2px;\"> morning</span><span style=\"background-color: #a50026; border-radius: 3px; padding: 0 2px;\"> when</span><span style=\"background-color: #a50026; border-radius: 3px; padding: 0 2px;\"> I</span><span style=\"background-color: #a50026; border-radius: 3px; padding: 0 2px;\"> entered</span><span style=\"background-color: #a50026; border-radius: 3px; padding: 0 2px;\"> my</span><span style=\"background-color: #a50026; border-radius: 3px; padding: 0 2px;\"> father</span><span style=\"background-color: #a50026; border-radius: 3px; padding: 0 2px;\">�</span><span style=\"background-color: #a50026; border-radius: 3px; padding: 0 2px;\">�</span><span style=\"background-color: #006837; border-radius: 3px; padding: 0 2px;\">s</span><span style=\"background-color: #a50026; border-radius: 3px; padding: 0 2px;\"> house</span><span style=\"background-color: #a50026; border-radius: 3px; padding: 0 2px;\">.</span></div>"
            ]
          },
          "metadata": {}
        },
        {
          "output_type": "stream",
          "name": "stdout",
          "text": [
            "------------------------------\n"
          ]
        },
        {
          "output_type": "display_data",
          "data": {
            "text/plain": [
              "<IPython.core.display.HTML object>"
            ],
            "text/html": [
              "<div style=\"font-size: 16px; line-height: 1.6; padding: 10px;\"><span style=\"background-color: #a50026; border-radius: 3px; padding: 0 2px;\"><|endoftext|></span><span style=\"background-color: #a50026; border-radius: 3px; padding: 0 2px;\">What</span><span style=\"background-color: #a50026; border-radius: 3px; padding: 0 2px;\"> do</span><span style=\"background-color: #a50026; border-radius: 3px; padding: 0 2px;\"> you</span><span style=\"background-color: #a50026; border-radius: 3px; padding: 0 2px;\"> intend</span><span style=\"background-color: #a50026; border-radius: 3px; padding: 0 2px;\"> to</span><span style=\"background-color: #a50026; border-radius: 3px; padding: 0 2px;\"> do</span><span style=\"background-color: #a50026; border-radius: 3px; padding: 0 2px;\">?</span><span style=\"background-color: #a50026; border-radius: 3px; padding: 0 2px;\">�</span><span style=\"background-color: #a50026; border-radius: 3px; padding: 0 2px;\">�</span><span style=\"background-color: #a50026; border-radius: 3px; padding: 0 2px;\">\n",
              "</span></div>"
            ]
          },
          "metadata": {}
        },
        {
          "output_type": "stream",
          "name": "stdout",
          "text": [
            "------------------------------\n"
          ]
        },
        {
          "output_type": "display_data",
          "data": {
            "text/plain": [
              "<IPython.core.display.HTML object>"
            ],
            "text/html": [
              "<div style=\"font-size: 16px; line-height: 1.6; padding: 10px;\"><span style=\"background-color: #a50026; border-radius: 3px; padding: 0 2px;\"><|endoftext|></span><span style=\"background-color: #a50026; border-radius: 3px; padding: 0 2px;\">Chapter</span><span style=\"background-color: #a50026; border-radius: 3px; padding: 0 2px;\"> 20</span><span style=\"background-color: #a50026; border-radius: 3px; padding: 0 2px;\">\n",
              "</span></div>"
            ]
          },
          "metadata": {}
        },
        {
          "output_type": "stream",
          "name": "stdout",
          "text": [
            "------------------------------\n"
          ]
        },
        {
          "output_type": "display_data",
          "data": {
            "text/plain": [
              "<IPython.core.display.HTML object>"
            ],
            "text/html": [
              "<div style=\"font-size: 16px; line-height: 1.6; padding: 10px;\"><span style=\"background-color: #a50026; border-radius: 3px; padding: 0 2px;\"><|endoftext|></span><span style=\"background-color: #a50026; border-radius: 3px; padding: 0 2px;\">Is</span><span style=\"background-color: #a50026; border-radius: 3px; padding: 0 2px;\"> this</span><span style=\"background-color: #a50026; border-radius: 3px; padding: 0 2px;\"> gentle</span><span style=\"background-color: #a50026; border-radius: 3px; padding: 0 2px;\"> and</span><span style=\"background-color: #a50026; border-radius: 3px; padding: 0 2px;\"> lovely</span><span style=\"background-color: #fee797; border-radius: 3px; padding: 0 2px;\"> being</span><span style=\"background-color: #a50026; border-radius: 3px; padding: 0 2px;\"> lost</span><span style=\"background-color: #a50026; border-radius: 3px; padding: 0 2px;\">\n",
              "</span><span style=\"background-color: #006837; border-radius: 3px; padding: 0 2px;\">for</span><span style=\"background-color: #a50026; border-radius: 3px; padding: 0 2px;\"> ever</span><span style=\"background-color: #a50026; border-radius: 3px; padding: 0 2px;\">?</span></div>"
            ]
          },
          "metadata": {}
        },
        {
          "output_type": "stream",
          "name": "stdout",
          "text": [
            "------------------------------\n"
          ]
        },
        {
          "output_type": "display_data",
          "data": {
            "text/plain": [
              "<IPython.core.display.HTML object>"
            ],
            "text/html": [
              "<div style=\"font-size: 16px; line-height: 1.6; padding: 10px;\"><span style=\"background-color: #a50026; border-radius: 3px; padding: 0 2px;\"><|endoftext|></span><span style=\"background-color: #a50026; border-radius: 3px; padding: 0 2px;\">Fear</span><span style=\"background-color: #d9ef8b; border-radius: 3px; padding: 0 2px;\"> overcame</span><span style=\"background-color: #a50026; border-radius: 3px; padding: 0 2px;\"> me</span><span style=\"background-color: #a50026; border-radius: 3px; padding: 0 2px;\">;</span><span style=\"background-color: #a50026; border-radius: 3px; padding: 0 2px;\"> I</span><span style=\"background-color: #a50026; border-radius: 3px; padding: 0 2px;\">\n",
              "</span><span style=\"background-color: #a50026; border-radius: 3px; padding: 0 2px;\">d</span><span style=\"background-color: #a50026; border-radius: 3px; padding: 0 2px;\">ared</span><span style=\"background-color: #05713b; border-radius: 3px; padding: 0 2px;\"> no</span><span style=\"background-color: #a50026; border-radius: 3px; padding: 0 2px;\"> advance</span><span style=\"background-color: #a50026; border-radius: 3px; padding: 0 2px;\">,</span><span style=\"background-color: #a50026; border-radius: 3px; padding: 0 2px;\"> dread</span><span style=\"background-color: #a50026; border-radius: 3px; padding: 0 2px;\">ing</span><span style=\"background-color: #a50026; border-radius: 3px; padding: 0 2px;\"> a</span><span style=\"background-color: #a50026; border-radius: 3px; padding: 0 2px;\"> thousand</span><span style=\"background-color: #a50026; border-radius: 3px; padding: 0 2px;\"> n</span><span style=\"background-color: #a50026; border-radius: 3px; padding: 0 2px;\">ameless</span><span style=\"background-color: #a50026; border-radius: 3px; padding: 0 2px;\"> evils</span><span style=\"background-color: #a50026; border-radius: 3px; padding: 0 2px;\"> that</span><span style=\"background-color: #a50026; border-radius: 3px; padding: 0 2px;\"> made</span><span style=\"background-color: #a50026; border-radius: 3px; padding: 0 2px;\"> me</span><span style=\"background-color: #a50026; border-radius: 3px; padding: 0 2px;\"> trem</span><span style=\"background-color: #a50026; border-radius: 3px; padding: 0 2px;\">ble</span><span style=\"background-color: #a50026; border-radius: 3px; padding: 0 2px;\">,</span><span style=\"background-color: #a50026; border-radius: 3px; padding: 0 2px;\">\n",
              "</span><span style=\"background-color: #a50026; border-radius: 3px; padding: 0 2px;\">although</span><span style=\"background-color: #a50026; border-radius: 3px; padding: 0 2px;\"> I</span><span style=\"background-color: #a50026; border-radius: 3px; padding: 0 2px;\"> was</span><span style=\"background-color: #a50026; border-radius: 3px; padding: 0 2px;\"> unable</span><span style=\"background-color: #a50026; border-radius: 3px; padding: 0 2px;\"> to</span><span style=\"background-color: #a50026; border-radius: 3px; padding: 0 2px;\"> define</span><span style=\"background-color: #a50026; border-radius: 3px; padding: 0 2px;\"> them</span><span style=\"background-color: #a50026; border-radius: 3px; padding: 0 2px;\">.</span></div>"
            ]
          },
          "metadata": {}
        },
        {
          "output_type": "stream",
          "name": "stdout",
          "text": [
            "------------------------------\n"
          ]
        },
        {
          "output_type": "display_data",
          "data": {
            "text/plain": [
              "<IPython.core.display.HTML object>"
            ],
            "text/html": [
              "<div style=\"font-size: 16px; line-height: 1.6; padding: 10px;\"><span style=\"background-color: #a50026; border-radius: 3px; padding: 0 2px;\"><|endoftext|></span><span style=\"background-color: #a50026; border-radius: 3px; padding: 0 2px;\">Even</span><span style=\"background-color: #a50026; border-radius: 3px; padding: 0 2px;\">\n",
              "</span><span style=\"background-color: #a50026; border-radius: 3px; padding: 0 2px;\">where</span><span style=\"background-color: #a50026; border-radius: 3px; padding: 0 2px;\"> the</span><span style=\"background-color: #a50026; border-radius: 3px; padding: 0 2px;\"> affect</span><span style=\"background-color: #a50026; border-radius: 3px; padding: 0 2px;\">ions</span><span style=\"background-color: #a50026; border-radius: 3px; padding: 0 2px;\"> are</span><span style=\"background-color: #a50026; border-radius: 3px; padding: 0 2px;\"> not</span><span style=\"background-color: #a50026; border-radius: 3px; padding: 0 2px;\"> strongly</span><span style=\"background-color: #a50026; border-radius: 3px; padding: 0 2px;\"> moved</span><span style=\"background-color: #a50026; border-radius: 3px; padding: 0 2px;\"> by</span><span style=\"background-color: #a50026; border-radius: 3px; padding: 0 2px;\"> any</span><span style=\"background-color: #a50026; border-radius: 3px; padding: 0 2px;\"> superior</span><span style=\"background-color: #a50026; border-radius: 3px; padding: 0 2px;\"> excellence</span><span style=\"background-color: #a50026; border-radius: 3px; padding: 0 2px;\">,</span><span style=\"background-color: #a50026; border-radius: 3px; padding: 0 2px;\">\n",
              "</span><span style=\"background-color: #a50026; border-radius: 3px; padding: 0 2px;\">the</span><span style=\"background-color: #a50026; border-radius: 3px; padding: 0 2px;\"> companions</span><span style=\"background-color: #a50026; border-radius: 3px; padding: 0 2px;\"> of</span><span style=\"background-color: #a50026; border-radius: 3px; padding: 0 2px;\"> our</span><span style=\"background-color: #a50026; border-radius: 3px; padding: 0 2px;\"> childhood</span><span style=\"background-color: #a50026; border-radius: 3px; padding: 0 2px;\"> always</span><span style=\"background-color: #a50026; border-radius: 3px; padding: 0 2px;\"> possess</span><span style=\"background-color: #a50026; border-radius: 3px; padding: 0 2px;\"> a</span><span style=\"background-color: #a50026; border-radius: 3px; padding: 0 2px;\"> certain</span><span style=\"background-color: #a50026; border-radius: 3px; padding: 0 2px;\"> power</span><span style=\"background-color: #a50026; border-radius: 3px; padding: 0 2px;\"> over</span><span style=\"background-color: #a50026; border-radius: 3px; padding: 0 2px;\"> our</span><span style=\"background-color: #a50026; border-radius: 3px; padding: 0 2px;\">\n",
              "</span><span style=\"background-color: #a50026; border-radius: 3px; padding: 0 2px;\">mind</span><span style=\"background-color: #a50026; border-radius: 3px; padding: 0 2px;\">s</span><span style=\"background-color: #a50026; border-radius: 3px; padding: 0 2px;\"> which</span><span style=\"background-color: #a50026; border-radius: 3px; padding: 0 2px;\"> hardly</span><span style=\"background-color: #a50026; border-radius: 3px; padding: 0 2px;\"> any</span><span style=\"background-color: #a50026; border-radius: 3px; padding: 0 2px;\"> later</span><span style=\"background-color: #a50026; border-radius: 3px; padding: 0 2px;\"> friend</span><span style=\"background-color: #a50026; border-radius: 3px; padding: 0 2px;\"> can</span><span style=\"background-color: #a50026; border-radius: 3px; padding: 0 2px;\"> obtain</span><span style=\"background-color: #a50026; border-radius: 3px; padding: 0 2px;\">.</span></div>"
            ]
          },
          "metadata": {}
        },
        {
          "output_type": "stream",
          "name": "stdout",
          "text": [
            "------------------------------\n"
          ]
        },
        {
          "output_type": "display_data",
          "data": {
            "text/plain": [
              "<IPython.core.display.HTML object>"
            ],
            "text/html": [
              "<div style=\"font-size: 16px; line-height: 1.6; padding: 10px;\"><span style=\"background-color: #a50026; border-radius: 3px; padding: 0 2px;\"><|endoftext|></span><span style=\"background-color: #a50026; border-radius: 3px; padding: 0 2px;\">�</span><span style=\"background-color: #a50026; border-radius: 3px; padding: 0 2px;\">�</span><span style=\"background-color: #a50026; border-radius: 3px; padding: 0 2px;\">What</span><span style=\"background-color: #a50026; border-radius: 3px; padding: 0 2px;\"> a</span><span style=\"background-color: #a50026; border-radius: 3px; padding: 0 2px;\"> noble</span><span style=\"background-color: #a50026; border-radius: 3px; padding: 0 2px;\"> fellow</span><span style=\"background-color: #a50026; border-radius: 3px; padding: 0 2px;\">!</span><span style=\"background-color: #a50026; border-radius: 3px; padding: 0 2px;\">�</span><span style=\"background-color: #a50026; border-radius: 3px; padding: 0 2px;\">�</span><span style=\"background-color: #a50026; border-radius: 3px; padding: 0 2px;\"> you</span><span style=\"background-color: #a50026; border-radius: 3px; padding: 0 2px;\"> will</span><span style=\"background-color: #a50026; border-radius: 3px; padding: 0 2px;\"> exclaim</span><span style=\"background-color: #a50026; border-radius: 3px; padding: 0 2px;\">.</span></div>"
            ]
          },
          "metadata": {}
        },
        {
          "output_type": "stream",
          "name": "stdout",
          "text": [
            "------------------------------\n"
          ]
        },
        {
          "output_type": "display_data",
          "data": {
            "text/plain": [
              "<IPython.core.display.HTML object>"
            ],
            "text/html": [
              "<div style=\"font-size: 16px; line-height: 1.6; padding: 10px;\"><span style=\"background-color: #a50026; border-radius: 3px; padding: 0 2px;\"><|endoftext|></span><span style=\"background-color: #a50026; border-radius: 3px; padding: 0 2px;\">�</span><span style=\"background-color: #a50026; border-radius: 3px; padding: 0 2px;\">�</span><span style=\"background-color: #a50026; border-radius: 3px; padding: 0 2px;\">These</span><span style=\"background-color: #a50026; border-radius: 3px; padding: 0 2px;\"> thoughts</span><span style=\"background-color: #a50026; border-radius: 3px; padding: 0 2px;\"> exhilar</span><span style=\"background-color: #a50026; border-radius: 3px; padding: 0 2px;\">ated</span><span style=\"background-color: #a50026; border-radius: 3px; padding: 0 2px;\"> me</span><span style=\"background-color: #a50026; border-radius: 3px; padding: 0 2px;\"> and</span><span style=\"background-color: #a50026; border-radius: 3px; padding: 0 2px;\"> led</span><span style=\"background-color: #a50026; border-radius: 3px; padding: 0 2px;\"> me</span><span style=\"background-color: #a50026; border-radius: 3px; padding: 0 2px;\"> to</span><span style=\"background-color: #a50026; border-radius: 3px; padding: 0 2px;\"> apply</span><span style=\"background-color: #a50026; border-radius: 3px; padding: 0 2px;\"> with</span><span style=\"background-color: #a50026; border-radius: 3px; padding: 0 2px;\"> fresh</span><span style=\"background-color: #fdd07d; border-radius: 3px; padding: 0 2px;\"> ard</span><span style=\"background-color: #a50026; border-radius: 3px; padding: 0 2px;\">our</span><span style=\"background-color: #a50026; border-radius: 3px; padding: 0 2px;\"> to</span><span style=\"background-color: #a50026; border-radius: 3px; padding: 0 2px;\">\n",
              "</span><span style=\"background-color: #a50026; border-radius: 3px; padding: 0 2px;\">the</span><span style=\"background-color: #a50026; border-radius: 3px; padding: 0 2px;\"> acquiring</span><span style=\"background-color: #a50026; border-radius: 3px; padding: 0 2px;\"> the</span><span style=\"background-color: #a50026; border-radius: 3px; padding: 0 2px;\"> art</span><span style=\"background-color: #a50026; border-radius: 3px; padding: 0 2px;\"> of</span><span style=\"background-color: #a50026; border-radius: 3px; padding: 0 2px;\"> language</span><span style=\"background-color: #a50026; border-radius: 3px; padding: 0 2px;\">.</span></div>"
            ]
          },
          "metadata": {}
        },
        {
          "output_type": "stream",
          "name": "stdout",
          "text": [
            "------------------------------\n"
          ]
        },
        {
          "output_type": "display_data",
          "data": {
            "text/plain": [
              "<IPython.core.display.HTML object>"
            ],
            "text/html": [
              "<div style=\"font-size: 16px; line-height: 1.6; padding: 10px;\"><span style=\"background-color: #a50026; border-radius: 3px; padding: 0 2px;\"><|endoftext|></span><span style=\"background-color: #a50026; border-radius: 3px; padding: 0 2px;\">Finding</span><span style=\"background-color: #a50026; border-radius: 3px; padding: 0 2px;\"> the</span><span style=\"background-color: #006837; border-radius: 3px; padding: 0 2px;\"> door</span><span style=\"background-color: #a50026; border-radius: 3px; padding: 0 2px;\"> open</span><span style=\"background-color: #a50026; border-radius: 3px; padding: 0 2px;\">,</span><span style=\"background-color: #a50026; border-radius: 3px; padding: 0 2px;\"> I</span><span style=\"background-color: #a50026; border-radius: 3px; padding: 0 2px;\"> entered</span><span style=\"background-color: #a50026; border-radius: 3px; padding: 0 2px;\">.</span></div>"
            ]
          },
          "metadata": {}
        },
        {
          "output_type": "stream",
          "name": "stdout",
          "text": [
            "------------------------------\n"
          ]
        },
        {
          "output_type": "display_data",
          "data": {
            "text/plain": [
              "<IPython.core.display.HTML object>"
            ],
            "text/html": [
              "<div style=\"font-size: 16px; line-height: 1.6; padding: 10px;\"><span style=\"background-color: #a50026; border-radius: 3px; padding: 0 2px;\"><|endoftext|></span><span style=\"background-color: #a50026; border-radius: 3px; padding: 0 2px;\">The</span><span style=\"background-color: #a50026; border-radius: 3px; padding: 0 2px;\"> cup</span><span style=\"background-color: #a50026; border-radius: 3px; padding: 0 2px;\"> of</span><span style=\"background-color: #a50026; border-radius: 3px; padding: 0 2px;\"> life</span><span style=\"background-color: #a50026; border-radius: 3px; padding: 0 2px;\"> was</span><span style=\"background-color: #a50026; border-radius: 3px; padding: 0 2px;\"> poisoned</span><span style=\"background-color: #fdd27f; border-radius: 3px; padding: 0 2px;\"> for</span><span style=\"background-color: #a50026; border-radius: 3px; padding: 0 2px;\"> ever</span><span style=\"background-color: #a50026; border-radius: 3px; padding: 0 2px;\">,</span><span style=\"background-color: #a50026; border-radius: 3px; padding: 0 2px;\"> and</span><span style=\"background-color: #a50026; border-radius: 3px; padding: 0 2px;\">\n",
              "</span><span style=\"background-color: #a50026; border-radius: 3px; padding: 0 2px;\">although</span><span style=\"background-color: #a50026; border-radius: 3px; padding: 0 2px;\"> the</span><span style=\"background-color: #a50026; border-radius: 3px; padding: 0 2px;\"> sun</span><span style=\"background-color: #a50026; border-radius: 3px; padding: 0 2px;\"> shone</span><span style=\"background-color: #a50026; border-radius: 3px; padding: 0 2px;\"> upon</span><span style=\"background-color: #a50026; border-radius: 3px; padding: 0 2px;\"> me</span><span style=\"background-color: #a50026; border-radius: 3px; padding: 0 2px;\">,</span><span style=\"background-color: #a50026; border-radius: 3px; padding: 0 2px;\"> as</span><span style=\"background-color: #a50026; border-radius: 3px; padding: 0 2px;\"> upon</span><span style=\"background-color: #a50026; border-radius: 3px; padding: 0 2px;\"> the</span><span style=\"background-color: #a50026; border-radius: 3px; padding: 0 2px;\"> happy</span><span style=\"background-color: #a50026; border-radius: 3px; padding: 0 2px;\"> and</span><span style=\"background-color: #a50026; border-radius: 3px; padding: 0 2px;\"> gay</span><span style=\"background-color: #a50026; border-radius: 3px; padding: 0 2px;\"> of</span><span style=\"background-color: #a50026; border-radius: 3px; padding: 0 2px;\"> heart</span><span style=\"background-color: #a50026; border-radius: 3px; padding: 0 2px;\">,</span><span style=\"background-color: #a50026; border-radius: 3px; padding: 0 2px;\"> I</span><span style=\"background-color: #a50026; border-radius: 3px; padding: 0 2px;\">\n",
              "</span><span style=\"background-color: #a50026; border-radius: 3px; padding: 0 2px;\">saw</span><span style=\"background-color: #a50026; border-radius: 3px; padding: 0 2px;\"> around</span><span style=\"background-color: #a50026; border-radius: 3px; padding: 0 2px;\"> me</span><span style=\"background-color: #a50026; border-radius: 3px; padding: 0 2px;\"> nothing</span><span style=\"background-color: #a50026; border-radius: 3px; padding: 0 2px;\"> but</span><span style=\"background-color: #a50026; border-radius: 3px; padding: 0 2px;\"> a</span><span style=\"background-color: #a50026; border-radius: 3px; padding: 0 2px;\"> dense</span><span style=\"background-color: #a50026; border-radius: 3px; padding: 0 2px;\"> and</span><span style=\"background-color: #a50026; border-radius: 3px; padding: 0 2px;\"> fright</span><span style=\"background-color: #a50026; border-radius: 3px; padding: 0 2px;\">ful</span><span style=\"background-color: #a50026; border-radius: 3px; padding: 0 2px;\"> darkness</span><span style=\"background-color: #a50026; border-radius: 3px; padding: 0 2px;\">,</span><span style=\"background-color: #a50026; border-radius: 3px; padding: 0 2px;\"> penetrated</span><span style=\"background-color: #a50026; border-radius: 3px; padding: 0 2px;\"> by</span><span style=\"background-color: #a50026; border-radius: 3px; padding: 0 2px;\">\n",
              "</span><span style=\"background-color: #fcac60; border-radius: 3px; padding: 0 2px;\">no</span><span style=\"background-color: #a50026; border-radius: 3px; padding: 0 2px;\"> light</span><span style=\"background-color: #a50026; border-radius: 3px; padding: 0 2px;\"> but</span><span style=\"background-color: #a50026; border-radius: 3px; padding: 0 2px;\"> the</span><span style=\"background-color: #006837; border-radius: 3px; padding: 0 2px;\"> gl</span><span style=\"background-color: #a50026; border-radius: 3px; padding: 0 2px;\">immer</span><span style=\"background-color: #a50026; border-radius: 3px; padding: 0 2px;\"> of</span><span style=\"background-color: #a50026; border-radius: 3px; padding: 0 2px;\"> two</span><span style=\"background-color: #a50026; border-radius: 3px; padding: 0 2px;\"> eyes</span><span style=\"background-color: #a50026; border-radius: 3px; padding: 0 2px;\"> that</span><span style=\"background-color: #a50026; border-radius: 3px; padding: 0 2px;\"> glared</span><span style=\"background-color: #9dd569; border-radius: 3px; padding: 0 2px;\"> upon</span><span style=\"background-color: #a50026; border-radius: 3px; padding: 0 2px;\"> me</span><span style=\"background-color: #a50026; border-radius: 3px; padding: 0 2px;\">.</span></div>"
            ]
          },
          "metadata": {}
        },
        {
          "output_type": "stream",
          "name": "stdout",
          "text": [
            "------------------------------\n"
          ]
        },
        {
          "output_type": "display_data",
          "data": {
            "text/plain": [
              "<IPython.core.display.HTML object>"
            ],
            "text/html": [
              "<div style=\"font-size: 16px; line-height: 1.6; padding: 10px;\"><span style=\"background-color: #a50026; border-radius: 3px; padding: 0 2px;\"><|endoftext|></span><span style=\"background-color: #a50026; border-radius: 3px; padding: 0 2px;\">I</span><span style=\"background-color: #a50026; border-radius: 3px; padding: 0 2px;\"> confessed</span><span style=\"background-color: #a50026; border-radius: 3px; padding: 0 2px;\">,</span><span style=\"background-color: #a50026; border-radius: 3px; padding: 0 2px;\"> that</span><span style=\"background-color: #a50026; border-radius: 3px; padding: 0 2px;\"> I</span><span style=\"background-color: #a50026; border-radius: 3px; padding: 0 2px;\"> might</span><span style=\"background-color: #a50026; border-radius: 3px; padding: 0 2px;\">\n",
              "</span><span style=\"background-color: #a50026; border-radius: 3px; padding: 0 2px;\">ob</span><span style=\"background-color: #a50026; border-radius: 3px; padding: 0 2px;\">tain</span><span style=\"background-color: #006837; border-radius: 3px; padding: 0 2px;\"> abs</span><span style=\"background-color: #a50026; border-radius: 3px; padding: 0 2px;\">olution</span><span style=\"background-color: #a50026; border-radius: 3px; padding: 0 2px;\">;</span><span style=\"background-color: #a50026; border-radius: 3px; padding: 0 2px;\"> but</span><span style=\"background-color: #a50026; border-radius: 3px; padding: 0 2px;\"> now</span><span style=\"background-color: #a50026; border-radius: 3px; padding: 0 2px;\"> that</span><span style=\"background-color: #a50026; border-radius: 3px; padding: 0 2px;\"> falsehood</span><span style=\"background-color: #a50026; border-radius: 3px; padding: 0 2px;\"> lies</span><span style=\"background-color: #a50026; border-radius: 3px; padding: 0 2px;\"> heavier</span><span style=\"background-color: #a50026; border-radius: 3px; padding: 0 2px;\"> at</span><span style=\"background-color: #a50026; border-radius: 3px; padding: 0 2px;\"> my</span><span style=\"background-color: #a50026; border-radius: 3px; padding: 0 2px;\"> heart</span><span style=\"background-color: #a50026; border-radius: 3px; padding: 0 2px;\"> than</span><span style=\"background-color: #a50026; border-radius: 3px; padding: 0 2px;\">\n",
              "</span><span style=\"background-color: #a50026; border-radius: 3px; padding: 0 2px;\">all</span><span style=\"background-color: #a50026; border-radius: 3px; padding: 0 2px;\"> my</span><span style=\"background-color: #a50026; border-radius: 3px; padding: 0 2px;\"> other</span><span style=\"background-color: #a50026; border-radius: 3px; padding: 0 2px;\"> sins</span><span style=\"background-color: #a50026; border-radius: 3px; padding: 0 2px;\">.</span></div>"
            ]
          },
          "metadata": {}
        },
        {
          "output_type": "stream",
          "name": "stdout",
          "text": [
            "------------------------------\n"
          ]
        },
        {
          "output_type": "display_data",
          "data": {
            "text/plain": [
              "<IPython.core.display.HTML object>"
            ],
            "text/html": [
              "<div style=\"font-size: 16px; line-height: 1.6; padding: 10px;\"><span style=\"background-color: #a50026; border-radius: 3px; padding: 0 2px;\"><|endoftext|></span><span style=\"background-color: #a50026; border-radius: 3px; padding: 0 2px;\">My</span><span style=\"background-color: #a50026; border-radius: 3px; padding: 0 2px;\"> person</span><span style=\"background-color: #a50026; border-radius: 3px; padding: 0 2px;\"> was</span><span style=\"background-color: #a50026; border-radius: 3px; padding: 0 2px;\"> hideous</span><span style=\"background-color: #a50026; border-radius: 3px; padding: 0 2px;\"> and</span><span style=\"background-color: #a50026; border-radius: 3px; padding: 0 2px;\"> my</span><span style=\"background-color: #a50026; border-radius: 3px; padding: 0 2px;\"> stature</span><span style=\"background-color: #a50026; border-radius: 3px; padding: 0 2px;\"> gigantic</span><span style=\"background-color: #a50026; border-radius: 3px; padding: 0 2px;\">.</span></div>"
            ]
          },
          "metadata": {}
        },
        {
          "output_type": "stream",
          "name": "stdout",
          "text": [
            "------------------------------\n"
          ]
        },
        {
          "output_type": "display_data",
          "data": {
            "text/plain": [
              "<IPython.core.display.HTML object>"
            ],
            "text/html": [
              "<div style=\"font-size: 16px; line-height: 1.6; padding: 10px;\"><span style=\"background-color: #a50026; border-radius: 3px; padding: 0 2px;\"><|endoftext|></span><span style=\"background-color: #a50026; border-radius: 3px; padding: 0 2px;\">Such</span><span style=\"background-color: #a50026; border-radius: 3px; padding: 0 2px;\"> is</span><span style=\"background-color: #a50026; border-radius: 3px; padding: 0 2px;\"> my</span><span style=\"background-color: #a50026; border-radius: 3px; padding: 0 2px;\"> journal</span><span style=\"background-color: #a50026; border-radius: 3px; padding: 0 2px;\"> of</span><span style=\"background-color: #a50026; border-radius: 3px; padding: 0 2px;\"> what</span><span style=\"background-color: #a50026; border-radius: 3px; padding: 0 2px;\"> relates</span><span style=\"background-color: #a50026; border-radius: 3px; padding: 0 2px;\"> to</span><span style=\"background-color: #a50026; border-radius: 3px; padding: 0 2px;\"> this</span><span style=\"background-color: #a50026; border-radius: 3px; padding: 0 2px;\"> strange</span><span style=\"background-color: #006837; border-radius: 3px; padding: 0 2px;\"> occurrence</span><span style=\"background-color: #a50026; border-radius: 3px; padding: 0 2px;\"> up</span><span style=\"background-color: #a50026; border-radius: 3px; padding: 0 2px;\"> to</span><span style=\"background-color: #a50026; border-radius: 3px; padding: 0 2px;\"> the</span><span style=\"background-color: #a50026; border-radius: 3px; padding: 0 2px;\">\n",
              "</span><span style=\"background-color: #a50026; border-radius: 3px; padding: 0 2px;\">present</span><span style=\"background-color: #a50026; border-radius: 3px; padding: 0 2px;\"> day</span><span style=\"background-color: #a50026; border-radius: 3px; padding: 0 2px;\">.</span></div>"
            ]
          },
          "metadata": {}
        },
        {
          "output_type": "stream",
          "name": "stdout",
          "text": [
            "------------------------------\n"
          ]
        },
        {
          "output_type": "display_data",
          "data": {
            "text/plain": [
              "<IPython.core.display.HTML object>"
            ],
            "text/html": [
              "<div style=\"font-size: 16px; line-height: 1.6; padding: 10px;\"><span style=\"background-color: #a50026; border-radius: 3px; padding: 0 2px;\"><|endoftext|></span><span style=\"background-color: #a50026; border-radius: 3px; padding: 0 2px;\">�</span><span style=\"background-color: #a50026; border-radius: 3px; padding: 0 2px;\">�</span><span style=\"background-color: #a50026; border-radius: 3px; padding: 0 2px;\">I</span><span style=\"background-color: #a50026; border-radius: 3px; padding: 0 2px;\"> commit</span><span style=\"background-color: #a50026; border-radius: 3px; padding: 0 2px;\"> my</span><span style=\"background-color: #a50026; border-radius: 3px; padding: 0 2px;\"> cause</span><span style=\"background-color: #a50026; border-radius: 3px; padding: 0 2px;\"> to</span><span style=\"background-color: #a50026; border-radius: 3px; padding: 0 2px;\"> the</span><span style=\"background-color: #a50026; border-radius: 3px; padding: 0 2px;\"> justice</span><span style=\"background-color: #a50026; border-radius: 3px; padding: 0 2px;\"> of</span><span style=\"background-color: #a50026; border-radius: 3px; padding: 0 2px;\"> my</span><span style=\"background-color: #a50026; border-radius: 3px; padding: 0 2px;\"> judges</span><span style=\"background-color: #a50026; border-radius: 3px; padding: 0 2px;\">,</span><span style=\"background-color: #a50026; border-radius: 3px; padding: 0 2px;\"> yet</span><span style=\"background-color: #a50026; border-radius: 3px; padding: 0 2px;\"> I</span><span style=\"background-color: #a50026; border-radius: 3px; padding: 0 2px;\"> see</span><span style=\"background-color: #a50026; border-radius: 3px; padding: 0 2px;\"> no</span><span style=\"background-color: #a50026; border-radius: 3px; padding: 0 2px;\"> room</span><span style=\"background-color: #a50026; border-radius: 3px; padding: 0 2px;\"> for</span><span style=\"background-color: #a50026; border-radius: 3px; padding: 0 2px;\">\n",
              "</span><span style=\"background-color: #a50026; border-radius: 3px; padding: 0 2px;\">h</span><span style=\"background-color: #a50026; border-radius: 3px; padding: 0 2px;\">ope</span><span style=\"background-color: #a50026; border-radius: 3px; padding: 0 2px;\">.</span></div>"
            ]
          },
          "metadata": {}
        },
        {
          "output_type": "stream",
          "name": "stdout",
          "text": [
            "------------------------------\n"
          ]
        },
        {
          "output_type": "display_data",
          "data": {
            "text/plain": [
              "<IPython.core.display.HTML object>"
            ],
            "text/html": [
              "<div style=\"font-size: 16px; line-height: 1.6; padding: 10px;\"><span style=\"background-color: #a50026; border-radius: 3px; padding: 0 2px;\"><|endoftext|></span><span style=\"background-color: #a50026; border-radius: 3px; padding: 0 2px;\">I</span><span style=\"background-color: #a50026; border-radius: 3px; padding: 0 2px;\"> wish</span><span style=\"background-color: #a50026; border-radius: 3px; padding: 0 2px;\"> you</span><span style=\"background-color: #a50026; border-radius: 3px; padding: 0 2px;\"> could</span><span style=\"background-color: #a50026; border-radius: 3px; padding: 0 2px;\"> see</span><span style=\"background-color: #a50026; border-radius: 3px; padding: 0 2px;\"> him</span><span style=\"background-color: #a50026; border-radius: 3px; padding: 0 2px;\">;</span><span style=\"background-color: #a50026; border-radius: 3px; padding: 0 2px;\"> he</span><span style=\"background-color: #a50026; border-radius: 3px; padding: 0 2px;\"> is</span><span style=\"background-color: #a50026; border-radius: 3px; padding: 0 2px;\"> very</span><span style=\"background-color: #a50026; border-radius: 3px; padding: 0 2px;\"> tall</span><span style=\"background-color: #a50026; border-radius: 3px; padding: 0 2px;\"> of</span><span style=\"background-color: #a50026; border-radius: 3px; padding: 0 2px;\"> his</span><span style=\"background-color: #a50026; border-radius: 3px; padding: 0 2px;\"> age</span><span style=\"background-color: #a50026; border-radius: 3px; padding: 0 2px;\">,</span><span style=\"background-color: #a50026; border-radius: 3px; padding: 0 2px;\"> with</span><span style=\"background-color: #a50026; border-radius: 3px; padding: 0 2px;\">\n",
              "</span><span style=\"background-color: #a50026; border-radius: 3px; padding: 0 2px;\">sweet</span><span style=\"background-color: #a50026; border-radius: 3px; padding: 0 2px;\"> laughing</span><span style=\"background-color: #a50026; border-radius: 3px; padding: 0 2px;\"> blue</span><span style=\"background-color: #a50026; border-radius: 3px; padding: 0 2px;\"> eyes</span><span style=\"background-color: #a50026; border-radius: 3px; padding: 0 2px;\">,</span><span style=\"background-color: #a50026; border-radius: 3px; padding: 0 2px;\"> dark</span><span style=\"background-color: #a50026; border-radius: 3px; padding: 0 2px;\"> eyel</span><span style=\"background-color: #a50026; border-radius: 3px; padding: 0 2px;\">ashes</span><span style=\"background-color: #a50026; border-radius: 3px; padding: 0 2px;\">,</span><span style=\"background-color: #a50026; border-radius: 3px; padding: 0 2px;\"> and</span><span style=\"background-color: #a50026; border-radius: 3px; padding: 0 2px;\"> cur</span><span style=\"background-color: #a50026; border-radius: 3px; padding: 0 2px;\">ling</span><span style=\"background-color: #a50026; border-radius: 3px; padding: 0 2px;\"> hair</span><span style=\"background-color: #a50026; border-radius: 3px; padding: 0 2px;\">.</span></div>"
            ]
          },
          "metadata": {}
        },
        {
          "output_type": "stream",
          "name": "stdout",
          "text": [
            "------------------------------\n"
          ]
        },
        {
          "output_type": "display_data",
          "data": {
            "text/plain": [
              "<IPython.core.display.HTML object>"
            ],
            "text/html": [
              "<div style=\"font-size: 16px; line-height: 1.6; padding: 10px;\"><span style=\"background-color: #a50026; border-radius: 3px; padding: 0 2px;\"><|endoftext|></span><span style=\"background-color: #a50026; border-radius: 3px; padding: 0 2px;\">How</span><span style=\"background-color: #a50026; border-radius: 3px; padding: 0 2px;\"> ill</span><span style=\"background-color: #a50026; border-radius: 3px; padding: 0 2px;\"> you</span><span style=\"background-color: #a50026; border-radius: 3px; padding: 0 2px;\"> are</span><span style=\"background-color: #a50026; border-radius: 3px; padding: 0 2px;\">!</span></div>"
            ]
          },
          "metadata": {}
        },
        {
          "output_type": "stream",
          "name": "stdout",
          "text": [
            "------------------------------\n"
          ]
        },
        {
          "output_type": "display_data",
          "data": {
            "text/plain": [
              "<IPython.core.display.HTML object>"
            ],
            "text/html": [
              "<div style=\"font-size: 16px; line-height: 1.6; padding: 10px;\"><span style=\"background-color: #a50026; border-radius: 3px; padding: 0 2px;\"><|endoftext|></span><span style=\"background-color: #a50026; border-radius: 3px; padding: 0 2px;\">The</span><span style=\"background-color: #a50026; border-radius: 3px; padding: 0 2px;\"> youth</span><span style=\"background-color: #a50026; border-radius: 3px; padding: 0 2px;\">\n",
              "</span><span style=\"background-color: #a50026; border-radius: 3px; padding: 0 2px;\">and</span><span style=\"background-color: #a50026; border-radius: 3px; padding: 0 2px;\"> his</span><span style=\"background-color: #a50026; border-radius: 3px; padding: 0 2px;\"> companion</span><span style=\"background-color: #a50026; border-radius: 3px; padding: 0 2px;\"> had</span><span style=\"background-color: #a50026; border-radius: 3px; padding: 0 2px;\"> each</span><span style=\"background-color: #a50026; border-radius: 3px; padding: 0 2px;\"> of</span><span style=\"background-color: #a50026; border-radius: 3px; padding: 0 2px;\"> them</span><span style=\"background-color: #a50026; border-radius: 3px; padding: 0 2px;\"> several</span><span style=\"background-color: #a50026; border-radius: 3px; padding: 0 2px;\"> names</span><span style=\"background-color: #a50026; border-radius: 3px; padding: 0 2px;\">,</span><span style=\"background-color: #a50026; border-radius: 3px; padding: 0 2px;\"> but</span><span style=\"background-color: #a50026; border-radius: 3px; padding: 0 2px;\"> the</span><span style=\"background-color: #a50026; border-radius: 3px; padding: 0 2px;\"> old</span><span style=\"background-color: #a50026; border-radius: 3px; padding: 0 2px;\"> man</span><span style=\"background-color: #a50026; border-radius: 3px; padding: 0 2px;\"> had</span><span style=\"background-color: #a50026; border-radius: 3px; padding: 0 2px;\"> only</span><span style=\"background-color: #a50026; border-radius: 3px; padding: 0 2px;\">\n",
              "</span><span style=\"background-color: #a50026; border-radius: 3px; padding: 0 2px;\">one</span><span style=\"background-color: #a50026; border-radius: 3px; padding: 0 2px;\">,</span><span style=\"background-color: #a50026; border-radius: 3px; padding: 0 2px;\"> which</span><span style=\"background-color: #a50026; border-radius: 3px; padding: 0 2px;\"> was</span><span style=\"background-color: #a50026; border-radius: 3px; padding: 0 2px;\"> _</span><span style=\"background-color: #a50026; border-radius: 3px; padding: 0 2px;\">father</span><span style=\"background-color: #a50026; border-radius: 3px; padding: 0 2px;\">._</span><span style=\"background-color: #a50026; border-radius: 3px; padding: 0 2px;\"> The</span><span style=\"background-color: #a50026; border-radius: 3px; padding: 0 2px;\"> girl</span><span style=\"background-color: #a50026; border-radius: 3px; padding: 0 2px;\"> was</span><span style=\"background-color: #a50026; border-radius: 3px; padding: 0 2px;\"> called</span><span style=\"background-color: #a50026; border-radius: 3px; padding: 0 2px;\"> _</span><span style=\"background-color: #a50026; border-radius: 3px; padding: 0 2px;\">s</span><span style=\"background-color: #a50026; border-radius: 3px; padding: 0 2px;\">ister</span><span style=\"background-color: #a50026; border-radius: 3px; padding: 0 2px;\">_</span><span style=\"background-color: #a50026; border-radius: 3px; padding: 0 2px;\"> or</span><span style=\"background-color: #a50026; border-radius: 3px; padding: 0 2px;\">\n",
              "</span><span style=\"background-color: #a50026; border-radius: 3px; padding: 0 2px;\">_</span><span style=\"background-color: #a50026; border-radius: 3px; padding: 0 2px;\">Ag</span><span style=\"background-color: #a50026; border-radius: 3px; padding: 0 2px;\">atha</span><span style=\"background-color: #a50026; border-radius: 3px; padding: 0 2px;\">,</span><span style=\"background-color: #a50026; border-radius: 3px; padding: 0 2px;\">_</span><span style=\"background-color: #a50026; border-radius: 3px; padding: 0 2px;\"> and</span><span style=\"background-color: #a50026; border-radius: 3px; padding: 0 2px;\"> the</span><span style=\"background-color: #a50026; border-radius: 3px; padding: 0 2px;\"> youth</span><span style=\"background-color: #a50026; border-radius: 3px; padding: 0 2px;\"> _</span><span style=\"background-color: #a50026; border-radius: 3px; padding: 0 2px;\">Fel</span><span style=\"background-color: #a50026; border-radius: 3px; padding: 0 2px;\">ix</span><span style=\"background-color: #fa9856; border-radius: 3px; padding: 0 2px;\">,</span><span style=\"background-color: #a50026; border-radius: 3px; padding: 0 2px;\"> brother</span><span style=\"background-color: #a50026; border-radius: 3px; padding: 0 2px;\">,</span><span style=\"background-color: #a50026; border-radius: 3px; padding: 0 2px;\">_</span><span style=\"background-color: #a50026; border-radius: 3px; padding: 0 2px;\"> or</span><span style=\"background-color: #a50026; border-radius: 3px; padding: 0 2px;\"> _</span><span style=\"background-color: #a50026; border-radius: 3px; padding: 0 2px;\">son</span><span style=\"background-color: #a50026; border-radius: 3px; padding: 0 2px;\">_.</span></div>"
            ]
          },
          "metadata": {}
        },
        {
          "output_type": "stream",
          "name": "stdout",
          "text": [
            "------------------------------\n"
          ]
        },
        {
          "output_type": "display_data",
          "data": {
            "text/plain": [
              "<IPython.core.display.HTML object>"
            ],
            "text/html": [
              "<div style=\"font-size: 16px; line-height: 1.6; padding: 10px;\"><span style=\"background-color: #a50026; border-radius: 3px; padding: 0 2px;\"><|endoftext|></span><span style=\"background-color: #a50026; border-radius: 3px; padding: 0 2px;\">And</span><span style=\"background-color: #a50026; border-radius: 3px; padding: 0 2px;\"> could</span><span style=\"background-color: #a50026; border-radius: 3px; padding: 0 2px;\"> not</span><span style=\"background-color: #a50026; border-radius: 3px; padding: 0 2px;\"> such</span><span style=\"background-color: #a50026; border-radius: 3px; padding: 0 2px;\"> words</span><span style=\"background-color: #a50026; border-radius: 3px; padding: 0 2px;\"> from</span><span style=\"background-color: #a50026; border-radius: 3px; padding: 0 2px;\"> her</span><span style=\"background-color: #a50026; border-radius: 3px; padding: 0 2px;\"> whom</span><span style=\"background-color: #a50026; border-radius: 3px; padding: 0 2px;\"> I</span><span style=\"background-color: #a50026; border-radius: 3px; padding: 0 2px;\"> fond</span><span style=\"background-color: #a50026; border-radius: 3px; padding: 0 2px;\">ly</span><span style=\"background-color: #a50026; border-radius: 3px; padding: 0 2px;\"> prized</span><span style=\"background-color: #a50026; border-radius: 3px; padding: 0 2px;\"> before</span><span style=\"background-color: #a50026; border-radius: 3px; padding: 0 2px;\"> every</span><span style=\"background-color: #a50026; border-radius: 3px; padding: 0 2px;\">\n",
              "</span><span style=\"background-color: #a50026; border-radius: 3px; padding: 0 2px;\">other</span><span style=\"background-color: #a50026; border-radius: 3px; padding: 0 2px;\"> gift</span><span style=\"background-color: #a50026; border-radius: 3px; padding: 0 2px;\"> of</span><span style=\"background-color: #a50026; border-radius: 3px; padding: 0 2px;\"> fortune</span><span style=\"background-color: #a50026; border-radius: 3px; padding: 0 2px;\"> suffice</span><span style=\"background-color: #a50026; border-radius: 3px; padding: 0 2px;\"> to</span><span style=\"background-color: #006837; border-radius: 3px; padding: 0 2px;\"> chase</span><span style=\"background-color: #a50026; border-radius: 3px; padding: 0 2px;\"> away</span><span style=\"background-color: #a50026; border-radius: 3px; padding: 0 2px;\"> the</span><span style=\"background-color: #a50026; border-radius: 3px; padding: 0 2px;\"> fi</span><span style=\"background-color: #a50026; border-radius: 3px; padding: 0 2px;\">end</span><span style=\"background-color: #a50026; border-radius: 3px; padding: 0 2px;\"> that</span><span style=\"background-color: #a50026; border-radius: 3px; padding: 0 2px;\"> lur</span><span style=\"background-color: #a50026; border-radius: 3px; padding: 0 2px;\">ked</span><span style=\"background-color: #a50026; border-radius: 3px; padding: 0 2px;\"> in</span><span style=\"background-color: #a50026; border-radius: 3px; padding: 0 2px;\"> my</span><span style=\"background-color: #0e8244; border-radius: 3px; padding: 0 2px;\">\n",
              "</span><span style=\"background-color: #a50026; border-radius: 3px; padding: 0 2px;\">heart</span><span style=\"background-color: #a50026; border-radius: 3px; padding: 0 2px;\">?</span></div>"
            ]
          },
          "metadata": {}
        },
        {
          "output_type": "stream",
          "name": "stdout",
          "text": [
            "------------------------------\n"
          ]
        },
        {
          "output_type": "display_data",
          "data": {
            "text/plain": [
              "<IPython.core.display.HTML object>"
            ],
            "text/html": [
              "<div style=\"font-size: 16px; line-height: 1.6; padding: 10px;\"><span style=\"background-color: #a50026; border-radius: 3px; padding: 0 2px;\"><|endoftext|></span><span style=\"background-color: #a50026; border-radius: 3px; padding: 0 2px;\">Ag</span><span style=\"background-color: #a50026; border-radius: 3px; padding: 0 2px;\">atha</span><span style=\"background-color: #a50026; border-radius: 3px; padding: 0 2px;\"> f</span><span style=\"background-color: #a50026; border-radius: 3px; padding: 0 2px;\">ainted</span><span style=\"background-color: #a50026; border-radius: 3px; padding: 0 2px;\">,</span><span style=\"background-color: #a50026; border-radius: 3px; padding: 0 2px;\"> and</span><span style=\"background-color: #a50026; border-radius: 3px; padding: 0 2px;\"> Saf</span><span style=\"background-color: #a50026; border-radius: 3px; padding: 0 2px;\">ie</span><span style=\"background-color: #a50026; border-radius: 3px; padding: 0 2px;\">,</span><span style=\"background-color: #a50026; border-radius: 3px; padding: 0 2px;\"> unable</span><span style=\"background-color: #a50026; border-radius: 3px; padding: 0 2px;\"> to</span><span style=\"background-color: #a50026; border-radius: 3px; padding: 0 2px;\"> attend</span><span style=\"background-color: #a50026; border-radius: 3px; padding: 0 2px;\"> to</span><span style=\"background-color: #a50026; border-radius: 3px; padding: 0 2px;\"> her</span><span style=\"background-color: #a50026; border-radius: 3px; padding: 0 2px;\">\n",
              "</span><span style=\"background-color: #a50026; border-radius: 3px; padding: 0 2px;\">friend</span><span style=\"background-color: #a50026; border-radius: 3px; padding: 0 2px;\">,</span><span style=\"background-color: #006837; border-radius: 3px; padding: 0 2px;\"> rushed</span><span style=\"background-color: #a50026; border-radius: 3px; padding: 0 2px;\"> out</span><span style=\"background-color: #a50026; border-radius: 3px; padding: 0 2px;\"> of</span><span style=\"background-color: #d42d26; border-radius: 3px; padding: 0 2px;\"> the</span><span style=\"background-color: #a50026; border-radius: 3px; padding: 0 2px;\"> cottage</span><span style=\"background-color: #a50026; border-radius: 3px; padding: 0 2px;\">.</span></div>"
            ]
          },
          "metadata": {}
        },
        {
          "output_type": "stream",
          "name": "stdout",
          "text": [
            "------------------------------\n"
          ]
        },
        {
          "output_type": "display_data",
          "data": {
            "text/plain": [
              "<IPython.core.display.HTML object>"
            ],
            "text/html": [
              "<div style=\"font-size: 16px; line-height: 1.6; padding: 10px;\"><span style=\"background-color: #a50026; border-radius: 3px; padding: 0 2px;\"><|endoftext|></span><span style=\"background-color: #a50026; border-radius: 3px; padding: 0 2px;\">�</span><span style=\"background-color: #a50026; border-radius: 3px; padding: 0 2px;\">�</span><span style=\"background-color: #a50026; border-radius: 3px; padding: 0 2px;\">I</span><span style=\"background-color: #a50026; border-radius: 3px; padding: 0 2px;\"> am</span><span style=\"background-color: #a50026; border-radius: 3px; padding: 0 2px;\"> happy</span><span style=\"background-color: #a50026; border-radius: 3px; padding: 0 2px;\"> to</span><span style=\"background-color: #a50026; border-radius: 3px; padding: 0 2px;\"> remark</span><span style=\"background-color: #a50026; border-radius: 3px; padding: 0 2px;\">,</span><span style=\"background-color: #a50026; border-radius: 3px; padding: 0 2px;\"> my</span><span style=\"background-color: #a50026; border-radius: 3px; padding: 0 2px;\"> dear</span><span style=\"background-color: #a50026; border-radius: 3px; padding: 0 2px;\"> son</span><span style=\"background-color: #a50026; border-radius: 3px; padding: 0 2px;\">,</span><span style=\"background-color: #a50026; border-radius: 3px; padding: 0 2px;\"> that</span><span style=\"background-color: #a50026; border-radius: 3px; padding: 0 2px;\"> you</span><span style=\"background-color: #a50026; border-radius: 3px; padding: 0 2px;\"> have</span><span style=\"background-color: #a50026; border-radius: 3px; padding: 0 2px;\"> resumed</span><span style=\"background-color: #a50026; border-radius: 3px; padding: 0 2px;\"> your</span><span style=\"background-color: #a50026; border-radius: 3px; padding: 0 2px;\"> former</span><span style=\"background-color: #a50026; border-radius: 3px; padding: 0 2px;\">\n",
              "</span><span style=\"background-color: #fdc272; border-radius: 3px; padding: 0 2px;\">ple</span><span style=\"background-color: #a50026; border-radius: 3px; padding: 0 2px;\">asures</span><span style=\"background-color: #a50026; border-radius: 3px; padding: 0 2px;\"> and</span><span style=\"background-color: #a50026; border-radius: 3px; padding: 0 2px;\"> seem</span><span style=\"background-color: #ba1426; border-radius: 3px; padding: 0 2px;\"> to</span><span style=\"background-color: #de3f2e; border-radius: 3px; padding: 0 2px;\"> be</span><span style=\"background-color: #a50026; border-radius: 3px; padding: 0 2px;\"> returning</span><span style=\"background-color: #006837; border-radius: 3px; padding: 0 2px;\"> to</span><span style=\"background-color: #a50026; border-radius: 3px; padding: 0 2px;\"> yourself</span><span style=\"background-color: #a50026; border-radius: 3px; padding: 0 2px;\">.</span></div>"
            ]
          },
          "metadata": {}
        },
        {
          "output_type": "stream",
          "name": "stdout",
          "text": [
            "------------------------------\n"
          ]
        },
        {
          "output_type": "display_data",
          "data": {
            "text/plain": [
              "<IPython.core.display.HTML object>"
            ],
            "text/html": [
              "<div style=\"font-size: 16px; line-height: 1.6; padding: 10px;\"><span style=\"background-color: #a50026; border-radius: 3px; padding: 0 2px;\"><|endoftext|></span><span style=\"background-color: #a50026; border-radius: 3px; padding: 0 2px;\">Al</span><span style=\"background-color: #a50026; border-radius: 3px; padding: 0 2px;\">as</span><span style=\"background-color: #a50026; border-radius: 3px; padding: 0 2px;\">!</span></div>"
            ]
          },
          "metadata": {}
        },
        {
          "output_type": "stream",
          "name": "stdout",
          "text": [
            "------------------------------\n"
          ]
        },
        {
          "output_type": "display_data",
          "data": {
            "text/plain": [
              "<IPython.core.display.HTML object>"
            ],
            "text/html": [
              "<div style=\"font-size: 16px; line-height: 1.6; padding: 10px;\"><span style=\"background-color: #a50026; border-radius: 3px; padding: 0 2px;\"><|endoftext|></span><span style=\"background-color: #a50026; border-radius: 3px; padding: 0 2px;\">They</span><span style=\"background-color: #a50026; border-radius: 3px; padding: 0 2px;\"> know</span><span style=\"background-color: #a50026; border-radius: 3px; padding: 0 2px;\"> our</span><span style=\"background-color: #a50026; border-radius: 3px; padding: 0 2px;\">\n",
              "</span><span style=\"background-color: #a50026; border-radius: 3px; padding: 0 2px;\">inf</span><span style=\"background-color: #a50026; border-radius: 3px; padding: 0 2px;\">antine</span><span style=\"background-color: #a50026; border-radius: 3px; padding: 0 2px;\"> dispos</span><span style=\"background-color: #a50026; border-radius: 3px; padding: 0 2px;\">itions</span><span style=\"background-color: #a50026; border-radius: 3px; padding: 0 2px;\">,</span><span style=\"background-color: #a50026; border-radius: 3px; padding: 0 2px;\"> which</span><span style=\"background-color: #a50026; border-radius: 3px; padding: 0 2px;\">,</span><span style=\"background-color: #a50026; border-radius: 3px; padding: 0 2px;\"> however</span><span style=\"background-color: #a50026; border-radius: 3px; padding: 0 2px;\"> they</span><span style=\"background-color: #a50026; border-radius: 3px; padding: 0 2px;\"> may</span><span style=\"background-color: #a50026; border-radius: 3px; padding: 0 2px;\"> be</span><span style=\"background-color: #a50026; border-radius: 3px; padding: 0 2px;\"> afterwards</span><span style=\"background-color: #a50026; border-radius: 3px; padding: 0 2px;\"> modified</span><span style=\"background-color: #a50026; border-radius: 3px; padding: 0 2px;\">,</span><span style=\"background-color: #a50026; border-radius: 3px; padding: 0 2px;\">\n",
              "</span><span style=\"background-color: #a50026; border-radius: 3px; padding: 0 2px;\">are</span><span style=\"background-color: #a50026; border-radius: 3px; padding: 0 2px;\"> never</span><span style=\"background-color: #006837; border-radius: 3px; padding: 0 2px;\"> erad</span><span style=\"background-color: #a50026; border-radius: 3px; padding: 0 2px;\">icated</span><span style=\"background-color: #a50026; border-radius: 3px; padding: 0 2px;\">;</span><span style=\"background-color: #a50026; border-radius: 3px; padding: 0 2px;\"> and</span><span style=\"background-color: #a50026; border-radius: 3px; padding: 0 2px;\"> they</span><span style=\"background-color: #a50026; border-radius: 3px; padding: 0 2px;\"> can</span><span style=\"background-color: #a50026; border-radius: 3px; padding: 0 2px;\"> judge</span><span style=\"background-color: #a50026; border-radius: 3px; padding: 0 2px;\"> of</span><span style=\"background-color: #a50026; border-radius: 3px; padding: 0 2px;\"> our</span><span style=\"background-color: #a50026; border-radius: 3px; padding: 0 2px;\"> actions</span><span style=\"background-color: #a50026; border-radius: 3px; padding: 0 2px;\"> with</span><span style=\"background-color: #a50026; border-radius: 3px; padding: 0 2px;\"> more</span><span style=\"background-color: #a50026; border-radius: 3px; padding: 0 2px;\">\n",
              "</span><span style=\"background-color: #a50026; border-radius: 3px; padding: 0 2px;\">certain</span><span style=\"background-color: #a50026; border-radius: 3px; padding: 0 2px;\"> conclusions</span><span style=\"background-color: #a50026; border-radius: 3px; padding: 0 2px;\"> as</span><span style=\"background-color: #a50026; border-radius: 3px; padding: 0 2px;\"> to</span><span style=\"background-color: #fdba6b; border-radius: 3px; padding: 0 2px;\"> the</span><span style=\"background-color: #a50026; border-radius: 3px; padding: 0 2px;\"> integrity</span><span style=\"background-color: #a50026; border-radius: 3px; padding: 0 2px;\"> of</span><span style=\"background-color: #a50026; border-radius: 3px; padding: 0 2px;\"> our</span><span style=\"background-color: #a50026; border-radius: 3px; padding: 0 2px;\"> motives</span><span style=\"background-color: #a50026; border-radius: 3px; padding: 0 2px;\">.</span></div>"
            ]
          },
          "metadata": {}
        },
        {
          "output_type": "stream",
          "name": "stdout",
          "text": [
            "------------------------------\n"
          ]
        },
        {
          "output_type": "display_data",
          "data": {
            "text/plain": [
              "<IPython.core.display.HTML object>"
            ],
            "text/html": [
              "<div style=\"font-size: 16px; line-height: 1.6; padding: 10px;\"><span style=\"background-color: #a50026; border-radius: 3px; padding: 0 2px;\"><|endoftext|></span><span style=\"background-color: #a50026; border-radius: 3px; padding: 0 2px;\">�</span><span style=\"background-color: #a50026; border-radius: 3px; padding: 0 2px;\">�</span><span style=\"background-color: #a50026; border-radius: 3px; padding: 0 2px;\">The</span><span style=\"background-color: #a50026; border-radius: 3px; padding: 0 2px;\"> hour</span><span style=\"background-color: #a50026; border-radius: 3px; padding: 0 2px;\"> of</span><span style=\"background-color: #a50026; border-radius: 3px; padding: 0 2px;\"> my</span><span style=\"background-color: #a50026; border-radius: 3px; padding: 0 2px;\"> ir</span><span style=\"background-color: #a50026; border-radius: 3px; padding: 0 2px;\">resolution</span><span style=\"background-color: #a50026; border-radius: 3px; padding: 0 2px;\"> is</span><span style=\"background-color: #a50026; border-radius: 3px; padding: 0 2px;\"> past</span><span style=\"background-color: #a50026; border-radius: 3px; padding: 0 2px;\">,</span><span style=\"background-color: #a50026; border-radius: 3px; padding: 0 2px;\"> and</span><span style=\"background-color: #a50026; border-radius: 3px; padding: 0 2px;\"> the</span><span style=\"background-color: #a50026; border-radius: 3px; padding: 0 2px;\"> period</span><span style=\"background-color: #a50026; border-radius: 3px; padding: 0 2px;\"> of</span><span style=\"background-color: #a50026; border-radius: 3px; padding: 0 2px;\"> your</span><span style=\"background-color: #a50026; border-radius: 3px; padding: 0 2px;\"> power</span><span style=\"background-color: #a50026; border-radius: 3px; padding: 0 2px;\"> is</span><span style=\"background-color: #a50026; border-radius: 3px; padding: 0 2px;\">\n",
              "</span><span style=\"background-color: #a50026; border-radius: 3px; padding: 0 2px;\">ar</span><span style=\"background-color: #a50026; border-radius: 3px; padding: 0 2px;\">rived</span><span style=\"background-color: #a50026; border-radius: 3px; padding: 0 2px;\">.</span></div>"
            ]
          },
          "metadata": {}
        },
        {
          "output_type": "stream",
          "name": "stdout",
          "text": [
            "------------------------------\n"
          ]
        },
        {
          "output_type": "display_data",
          "data": {
            "text/plain": [
              "<IPython.core.display.HTML object>"
            ],
            "text/html": [
              "<div style=\"font-size: 16px; line-height: 1.6; padding: 10px;\"><span style=\"background-color: #a50026; border-radius: 3px; padding: 0 2px;\"><|endoftext|></span><span style=\"background-color: #a50026; border-radius: 3px; padding: 0 2px;\">I</span><span style=\"background-color: #a50026; border-radius: 3px; padding: 0 2px;\"> will</span><span style=\"background-color: #a50026; border-radius: 3px; padding: 0 2px;\"> melt</span><span style=\"background-color: #a50026; border-radius: 3px; padding: 0 2px;\"> the</span><span style=\"background-color: #a50026; border-radius: 3px; padding: 0 2px;\"> st</span><span style=\"background-color: #a50026; border-radius: 3px; padding: 0 2px;\">ony</span><span style=\"background-color: #a50026; border-radius: 3px; padding: 0 2px;\">\n",
              "</span><span style=\"background-color: #a50026; border-radius: 3px; padding: 0 2px;\">he</span><span style=\"background-color: #a50026; border-radius: 3px; padding: 0 2px;\">arts</span><span style=\"background-color: #a50026; border-radius: 3px; padding: 0 2px;\"> of</span><span style=\"background-color: #a50026; border-radius: 3px; padding: 0 2px;\"> your</span><span style=\"background-color: #a50026; border-radius: 3px; padding: 0 2px;\"> enemies</span><span style=\"background-color: #a50026; border-radius: 3px; padding: 0 2px;\"> by</span><span style=\"background-color: #a50026; border-radius: 3px; padding: 0 2px;\"> my</span><span style=\"background-color: #a50026; border-radius: 3px; padding: 0 2px;\"> tears</span><span style=\"background-color: #a50026; border-radius: 3px; padding: 0 2px;\"> and</span><span style=\"background-color: #a50026; border-radius: 3px; padding: 0 2px;\"> prayers</span><span style=\"background-color: #a50026; border-radius: 3px; padding: 0 2px;\">.</span></div>"
            ]
          },
          "metadata": {}
        },
        {
          "output_type": "stream",
          "name": "stdout",
          "text": [
            "------------------------------\n"
          ]
        },
        {
          "output_type": "display_data",
          "data": {
            "text/plain": [
              "<IPython.core.display.HTML object>"
            ],
            "text/html": [
              "<div style=\"font-size: 16px; line-height: 1.6; padding: 10px;\"><span style=\"background-color: #a50026; border-radius: 3px; padding: 0 2px;\"><|endoftext|></span><span style=\"background-color: #a50026; border-radius: 3px; padding: 0 2px;\">I</span><span style=\"background-color: #a50026; border-radius: 3px; padding: 0 2px;\"> arrived</span><span style=\"background-color: #a50026; border-radius: 3px; padding: 0 2px;\"> at</span><span style=\"background-color: #a50026; border-radius: 3px; padding: 0 2px;\"> Geneva</span><span style=\"background-color: #a50026; border-radius: 3px; padding: 0 2px;\">.</span></div>"
            ]
          },
          "metadata": {}
        },
        {
          "output_type": "stream",
          "name": "stdout",
          "text": [
            "------------------------------\n"
          ]
        },
        {
          "output_type": "display_data",
          "data": {
            "text/plain": [
              "<IPython.core.display.HTML object>"
            ],
            "text/html": [
              "<div style=\"font-size: 16px; line-height: 1.6; padding: 10px;\"><span style=\"background-color: #a50026; border-radius: 3px; padding: 0 2px;\"><|endoftext|></span><span style=\"background-color: #a50026; border-radius: 3px; padding: 0 2px;\">I</span><span style=\"background-color: #a50026; border-radius: 3px; padding: 0 2px;\"> feel</span><span style=\"background-color: #a50026; border-radius: 3px; padding: 0 2px;\"> exquisite</span><span style=\"background-color: #a50026; border-radius: 3px; padding: 0 2px;\"> pleasure</span><span style=\"background-color: #a50026; border-radius: 3px; padding: 0 2px;\"> in</span><span style=\"background-color: #a50026; border-radius: 3px; padding: 0 2px;\"> dwelling</span><span style=\"background-color: #a50026; border-radius: 3px; padding: 0 2px;\"> on</span><span style=\"background-color: #a50026; border-radius: 3px; padding: 0 2px;\"> the</span><span style=\"background-color: #a50026; border-radius: 3px; padding: 0 2px;\"> recol</span><span style=\"background-color: #a50026; border-radius: 3px; padding: 0 2px;\">lections</span><span style=\"background-color: #a50026; border-radius: 3px; padding: 0 2px;\"> of</span><span style=\"background-color: #a50026; border-radius: 3px; padding: 0 2px;\"> childhood</span><span style=\"background-color: #a50026; border-radius: 3px; padding: 0 2px;\">,</span><span style=\"background-color: #a50026; border-radius: 3px; padding: 0 2px;\">\n",
              "</span><span style=\"background-color: #a50026; border-radius: 3px; padding: 0 2px;\">before</span><span style=\"background-color: #a50026; border-radius: 3px; padding: 0 2px;\"> misfortune</span><span style=\"background-color: #a50026; border-radius: 3px; padding: 0 2px;\"> had</span><span style=\"background-color: #a50026; border-radius: 3px; padding: 0 2px;\"> tainted</span><span style=\"background-color: #fee08b; border-radius: 3px; padding: 0 2px;\"> my</span><span style=\"background-color: #a50026; border-radius: 3px; padding: 0 2px;\"> mind</span><span style=\"background-color: #a50026; border-radius: 3px; padding: 0 2px;\"> and</span><span style=\"background-color: #a50026; border-radius: 3px; padding: 0 2px;\"> changed</span><span style=\"background-color: #a50026; border-radius: 3px; padding: 0 2px;\"> its</span><span style=\"background-color: #006837; border-radius: 3px; padding: 0 2px;\"> bright</span><span style=\"background-color: #a50026; border-radius: 3px; padding: 0 2px;\"> visions</span><span style=\"background-color: #a50026; border-radius: 3px; padding: 0 2px;\"> of</span><span style=\"background-color: #fcfebb; border-radius: 3px; padding: 0 2px;\">\n",
              "</span><span style=\"background-color: #a50026; border-radius: 3px; padding: 0 2px;\">ext</span><span style=\"background-color: #feefa5; border-radius: 3px; padding: 0 2px;\">ensive</span><span style=\"background-color: #a50026; border-radius: 3px; padding: 0 2px;\"> usefulness</span><span style=\"background-color: #a50026; border-radius: 3px; padding: 0 2px;\"> into</span><span style=\"background-color: #a50026; border-radius: 3px; padding: 0 2px;\"> gloomy</span><span style=\"background-color: #a50026; border-radius: 3px; padding: 0 2px;\"> and</span><span style=\"background-color: #e7f59f; border-radius: 3px; padding: 0 2px;\"> narrow</span><span style=\"background-color: #a50026; border-radius: 3px; padding: 0 2px;\"> reflections</span><span style=\"background-color: #a50026; border-radius: 3px; padding: 0 2px;\"> upon</span><span style=\"background-color: #a50026; border-radius: 3px; padding: 0 2px;\"> self</span><span style=\"background-color: #a50026; border-radius: 3px; padding: 0 2px;\">.</span></div>"
            ]
          },
          "metadata": {}
        },
        {
          "output_type": "stream",
          "name": "stdout",
          "text": [
            "------------------------------\n"
          ]
        },
        {
          "output_type": "display_data",
          "data": {
            "text/plain": [
              "<IPython.core.display.HTML object>"
            ],
            "text/html": [
              "<div style=\"font-size: 16px; line-height: 1.6; padding: 10px;\"><span style=\"background-color: #a50026; border-radius: 3px; padding: 0 2px;\"><|endoftext|></span><span style=\"background-color: #a50026; border-radius: 3px; padding: 0 2px;\">The</span><span style=\"background-color: #a50026; border-radius: 3px; padding: 0 2px;\"> very</span><span style=\"background-color: #a50026; border-radius: 3px; padding: 0 2px;\"> winds</span><span style=\"background-color: #a50026; border-radius: 3px; padding: 0 2px;\"> whispered</span><span style=\"background-color: #a50026; border-radius: 3px; padding: 0 2px;\"> in</span><span style=\"background-color: #a50026; border-radius: 3px; padding: 0 2px;\"> soothing</span><span style=\"background-color: #a50026; border-radius: 3px; padding: 0 2px;\">\n",
              "</span><span style=\"background-color: #a50026; border-radius: 3px; padding: 0 2px;\">acc</span><span style=\"background-color: #a50026; border-radius: 3px; padding: 0 2px;\">ents</span><span style=\"background-color: #a50026; border-radius: 3px; padding: 0 2px;\">,</span><span style=\"background-color: #a50026; border-radius: 3px; padding: 0 2px;\"> and</span><span style=\"background-color: #a50026; border-radius: 3px; padding: 0 2px;\"> maternal</span><span style=\"background-color: #a50026; border-radius: 3px; padding: 0 2px;\"> Nature</span><span style=\"background-color: #a50026; border-radius: 3px; padding: 0 2px;\"> b</span><span style=\"background-color: #a50026; border-radius: 3px; padding: 0 2px;\">ade</span><span style=\"background-color: #a50026; border-radius: 3px; padding: 0 2px;\"> me</span><span style=\"background-color: #a50026; border-radius: 3px; padding: 0 2px;\"> weep</span><span style=\"background-color: #006837; border-radius: 3px; padding: 0 2px;\"> no</span><span style=\"background-color: #a50026; border-radius: 3px; padding: 0 2px;\"> more</span><span style=\"background-color: #a50026; border-radius: 3px; padding: 0 2px;\">.</span></div>"
            ]
          },
          "metadata": {}
        },
        {
          "output_type": "stream",
          "name": "stdout",
          "text": [
            "------------------------------\n"
          ]
        },
        {
          "output_type": "display_data",
          "data": {
            "text/plain": [
              "<IPython.core.display.HTML object>"
            ],
            "text/html": [
              "<div style=\"font-size: 16px; line-height: 1.6; padding: 10px;\"><span style=\"background-color: #a50026; border-radius: 3px; padding: 0 2px;\"><|endoftext|></span><span style=\"background-color: #a50026; border-radius: 3px; padding: 0 2px;\">It</span><span style=\"background-color: #a50026; border-radius: 3px; padding: 0 2px;\"> was</span><span style=\"background-color: #a50026; border-radius: 3px; padding: 0 2px;\"> after</span><span style=\"background-color: #a50026; border-radius: 3px; padding: 0 2px;\"> my</span><span style=\"background-color: #a50026; border-radius: 3px; padding: 0 2px;\"> return</span><span style=\"background-color: #a50026; border-radius: 3px; padding: 0 2px;\"> from</span><span style=\"background-color: #a50026; border-radius: 3px; padding: 0 2px;\"> one</span><span style=\"background-color: #a50026; border-radius: 3px; padding: 0 2px;\"> of</span><span style=\"background-color: #a50026; border-radius: 3px; padding: 0 2px;\"> these</span><span style=\"background-color: #a50026; border-radius: 3px; padding: 0 2px;\"> r</span><span style=\"background-color: #a50026; border-radius: 3px; padding: 0 2px;\">amb</span><span style=\"background-color: #a50026; border-radius: 3px; padding: 0 2px;\">les</span><span style=\"background-color: #a50026; border-radius: 3px; padding: 0 2px;\"> that</span><span style=\"background-color: #a50026; border-radius: 3px; padding: 0 2px;\"> my</span><span style=\"background-color: #a50026; border-radius: 3px; padding: 0 2px;\"> father</span><span style=\"background-color: #a50026; border-radius: 3px; padding: 0 2px;\">,</span><span style=\"background-color: #a50026; border-radius: 3px; padding: 0 2px;\">\n",
              "</span><span style=\"background-color: #a50026; border-radius: 3px; padding: 0 2px;\">calling</span><span style=\"background-color: #006837; border-radius: 3px; padding: 0 2px;\"> me</span><span style=\"background-color: #a50026; border-radius: 3px; padding: 0 2px;\"> aside</span><span style=\"background-color: #a50026; border-radius: 3px; padding: 0 2px;\">,</span><span style=\"background-color: #a50026; border-radius: 3px; padding: 0 2px;\"> thus</span><span style=\"background-color: #fa9856; border-radius: 3px; padding: 0 2px;\"> addressed</span><span style=\"background-color: #a50026; border-radius: 3px; padding: 0 2px;\"> me</span><span style=\"background-color: #a50026; border-radius: 3px; padding: 0 2px;\">,</span><span style=\"background-color: #a50026; border-radius: 3px; padding: 0 2px;\">\n",
              "</span></div>"
            ]
          },
          "metadata": {}
        },
        {
          "output_type": "stream",
          "name": "stdout",
          "text": [
            "------------------------------\n"
          ]
        },
        {
          "output_type": "display_data",
          "data": {
            "text/plain": [
              "<IPython.core.display.HTML object>"
            ],
            "text/html": [
              "<div style=\"font-size: 16px; line-height: 1.6; padding: 10px;\"><span style=\"background-color: #a50026; border-radius: 3px; padding: 0 2px;\"><|endoftext|></span><span style=\"background-color: #a50026; border-radius: 3px; padding: 0 2px;\">According</span><span style=\"background-color: #a50026; border-radius: 3px; padding: 0 2px;\">ly</span><span style=\"background-color: #a50026; border-radius: 3px; padding: 0 2px;\">,</span><span style=\"background-color: #a50026; border-radius: 3px; padding: 0 2px;\"> a</span><span style=\"background-color: #a50026; border-radius: 3px; padding: 0 2px;\"> few</span><span style=\"background-color: #a50026; border-radius: 3px; padding: 0 2px;\"> months</span><span style=\"background-color: #a50026; border-radius: 3px; padding: 0 2px;\">\n",
              "</span><span style=\"background-color: #a50026; border-radius: 3px; padding: 0 2px;\">after</span><span style=\"background-color: #a50026; border-radius: 3px; padding: 0 2px;\"> your</span><span style=\"background-color: #a50026; border-radius: 3px; padding: 0 2px;\"> departure</span><span style=\"background-color: #a50026; border-radius: 3px; padding: 0 2px;\"> for</span><span style=\"background-color: #a50026; border-radius: 3px; padding: 0 2px;\"> Ing</span><span style=\"background-color: #a50026; border-radius: 3px; padding: 0 2px;\">ol</span><span style=\"background-color: #a50026; border-radius: 3px; padding: 0 2px;\">stadt</span><span style=\"background-color: #a50026; border-radius: 3px; padding: 0 2px;\">,</span><span style=\"background-color: #a50026; border-radius: 3px; padding: 0 2px;\"> Just</span><span style=\"background-color: #a50026; border-radius: 3px; padding: 0 2px;\">ine</span><span style=\"background-color: #a50026; border-radius: 3px; padding: 0 2px;\"> was</span><span style=\"background-color: #006837; border-radius: 3px; padding: 0 2px;\"> called</span><span style=\"background-color: #a50026; border-radius: 3px; padding: 0 2px;\"> home</span><span style=\"background-color: #a50026; border-radius: 3px; padding: 0 2px;\"> by</span><span style=\"background-color: #a50026; border-radius: 3px; padding: 0 2px;\"> her</span><span style=\"background-color: #a50026; border-radius: 3px; padding: 0 2px;\">\n",
              "</span><span style=\"background-color: #a80326; border-radius: 3px; padding: 0 2px;\">rep</span><span style=\"background-color: #a50026; border-radius: 3px; padding: 0 2px;\">ent</span><span style=\"background-color: #a50026; border-radius: 3px; padding: 0 2px;\">ant</span><span style=\"background-color: #a50026; border-radius: 3px; padding: 0 2px;\"> mother</span><span style=\"background-color: #a50026; border-radius: 3px; padding: 0 2px;\">.</span></div>"
            ]
          },
          "metadata": {}
        },
        {
          "output_type": "stream",
          "name": "stdout",
          "text": [
            "------------------------------\n"
          ]
        },
        {
          "output_type": "display_data",
          "data": {
            "text/plain": [
              "<IPython.core.display.HTML object>"
            ],
            "text/html": [
              "<div style=\"font-size: 16px; line-height: 1.6; padding: 10px;\"><span style=\"background-color: #a50026; border-radius: 3px; padding: 0 2px;\"><|endoftext|></span><span style=\"background-color: #a50026; border-radius: 3px; padding: 0 2px;\">I</span><span style=\"background-color: #a50026; border-radius: 3px; padding: 0 2px;\"> am</span><span style=\"background-color: #a50026; border-radius: 3px; padding: 0 2px;\"> interrupted</span><span style=\"background-color: #a50026; border-radius: 3px; padding: 0 2px;\">.</span></div>"
            ]
          },
          "metadata": {}
        },
        {
          "output_type": "stream",
          "name": "stdout",
          "text": [
            "------------------------------\n"
          ]
        },
        {
          "output_type": "display_data",
          "data": {
            "text/plain": [
              "<IPython.core.display.HTML object>"
            ],
            "text/html": [
              "<div style=\"font-size: 16px; line-height: 1.6; padding: 10px;\"><span style=\"background-color: #a50026; border-radius: 3px; padding: 0 2px;\"><|endoftext|></span><span style=\"background-color: #a50026; border-radius: 3px; padding: 0 2px;\">�</span><span style=\"background-color: #a50026; border-radius: 3px; padding: 0 2px;\">�</span><span style=\"background-color: #a50026; border-radius: 3px; padding: 0 2px;\">My</span><span style=\"background-color: #a50026; border-radius: 3px; padding: 0 2px;\"> dear</span><span style=\"background-color: #a50026; border-radius: 3px; padding: 0 2px;\"> father</span><span style=\"background-color: #a50026; border-radius: 3px; padding: 0 2px;\">,</span><span style=\"background-color: #a50026; border-radius: 3px; padding: 0 2px;\"> you</span><span style=\"background-color: #a50026; border-radius: 3px; padding: 0 2px;\"> are</span><span style=\"background-color: #a50026; border-radius: 3px; padding: 0 2px;\"> mistaken</span><span style=\"background-color: #a50026; border-radius: 3px; padding: 0 2px;\">;</span><span style=\"background-color: #a50026; border-radius: 3px; padding: 0 2px;\"> Just</span><span style=\"background-color: #a50026; border-radius: 3px; padding: 0 2px;\">ine</span><span style=\"background-color: #a50026; border-radius: 3px; padding: 0 2px;\"> is</span><span style=\"background-color: #a50026; border-radius: 3px; padding: 0 2px;\"> innocent</span><span style=\"background-color: #a50026; border-radius: 3px; padding: 0 2px;\">.</span><span style=\"background-color: #a50026; border-radius: 3px; padding: 0 2px;\">�</span><span style=\"background-color: #a50026; border-radius: 3px; padding: 0 2px;\">�</span><span style=\"background-color: #a50026; border-radius: 3px; padding: 0 2px;\">\n",
              "</span></div>"
            ]
          },
          "metadata": {}
        },
        {
          "output_type": "stream",
          "name": "stdout",
          "text": [
            "------------------------------\n"
          ]
        },
        {
          "output_type": "display_data",
          "data": {
            "text/plain": [
              "<IPython.core.display.HTML object>"
            ],
            "text/html": [
              "<div style=\"font-size: 16px; line-height: 1.6; padding: 10px;\"><span style=\"background-color: #a50026; border-radius: 3px; padding: 0 2px;\"><|endoftext|></span><span style=\"background-color: #a50026; border-radius: 3px; padding: 0 2px;\">I</span><span style=\"background-color: #a50026; border-radius: 3px; padding: 0 2px;\"> swear</span><span style=\"background-color: #a50026; border-radius: 3px; padding: 0 2px;\"> to</span><span style=\"background-color: #a50026; border-radius: 3px; padding: 0 2px;\"> you</span><span style=\"background-color: #a50026; border-radius: 3px; padding: 0 2px;\">,</span><span style=\"background-color: #a50026; border-radius: 3px; padding: 0 2px;\"> by</span><span style=\"background-color: #a50026; border-radius: 3px; padding: 0 2px;\"> the</span><span style=\"background-color: #a50026; border-radius: 3px; padding: 0 2px;\"> earth</span><span style=\"background-color: #a50026; border-radius: 3px; padding: 0 2px;\"> which</span><span style=\"background-color: #a50026; border-radius: 3px; padding: 0 2px;\"> I</span><span style=\"background-color: #a50026; border-radius: 3px; padding: 0 2px;\"> inhabit</span><span style=\"background-color: #a50026; border-radius: 3px; padding: 0 2px;\">,</span><span style=\"background-color: #a50026; border-radius: 3px; padding: 0 2px;\"> and</span><span style=\"background-color: #a50026; border-radius: 3px; padding: 0 2px;\"> by</span><span style=\"background-color: #a50026; border-radius: 3px; padding: 0 2px;\"> you</span><span style=\"background-color: #a50026; border-radius: 3px; padding: 0 2px;\"> that</span><span style=\"background-color: #a50026; border-radius: 3px; padding: 0 2px;\"> made</span><span style=\"background-color: #a50026; border-radius: 3px; padding: 0 2px;\"> me</span><span style=\"background-color: #a50026; border-radius: 3px; padding: 0 2px;\">,</span><span style=\"background-color: #a50026; border-radius: 3px; padding: 0 2px;\"> that</span><span style=\"background-color: #a50026; border-radius: 3px; padding: 0 2px;\">\n",
              "</span><span style=\"background-color: #a50026; border-radius: 3px; padding: 0 2px;\">with</span><span style=\"background-color: #a50026; border-radius: 3px; padding: 0 2px;\"> the</span><span style=\"background-color: #a50026; border-radius: 3px; padding: 0 2px;\"> companion</span><span style=\"background-color: #a50026; border-radius: 3px; padding: 0 2px;\"> you</span><span style=\"background-color: #a50026; border-radius: 3px; padding: 0 2px;\"> best</span><span style=\"background-color: #a50026; border-radius: 3px; padding: 0 2px;\">ow</span><span style=\"background-color: #a50026; border-radius: 3px; padding: 0 2px;\">,</span><span style=\"background-color: #a50026; border-radius: 3px; padding: 0 2px;\"> I</span><span style=\"background-color: #a50026; border-radius: 3px; padding: 0 2px;\"> will</span><span style=\"background-color: #a50026; border-radius: 3px; padding: 0 2px;\"> quit</span><span style=\"background-color: #a50026; border-radius: 3px; padding: 0 2px;\"> the</span><span style=\"background-color: #a50026; border-radius: 3px; padding: 0 2px;\"> neighbourhood</span><span style=\"background-color: #e1f297; border-radius: 3px; padding: 0 2px;\"> of</span><span style=\"background-color: #a50026; border-radius: 3px; padding: 0 2px;\"> man</span><span style=\"background-color: #a50026; border-radius: 3px; padding: 0 2px;\"> and</span><span style=\"background-color: #a50026; border-radius: 3px; padding: 0 2px;\">\n",
              "</span><span style=\"background-color: #a50026; border-radius: 3px; padding: 0 2px;\">d</span><span style=\"background-color: #a50026; border-radius: 3px; padding: 0 2px;\">well</span><span style=\"background-color: #a50026; border-radius: 3px; padding: 0 2px;\">,</span><span style=\"background-color: #a50026; border-radius: 3px; padding: 0 2px;\"> as</span><span style=\"background-color: #a50026; border-radius: 3px; padding: 0 2px;\"> it</span><span style=\"background-color: #a50026; border-radius: 3px; padding: 0 2px;\"> may</span><span style=\"background-color: #fdcc7a; border-radius: 3px; padding: 0 2px;\"> chance</span><span style=\"background-color: #006837; border-radius: 3px; padding: 0 2px;\">,</span><span style=\"background-color: #a50026; border-radius: 3px; padding: 0 2px;\"> in</span><span style=\"background-color: #a50026; border-radius: 3px; padding: 0 2px;\"> the</span><span style=\"background-color: #a50026; border-radius: 3px; padding: 0 2px;\"> most</span><span style=\"background-color: #a50026; border-radius: 3px; padding: 0 2px;\"> savage</span><span style=\"background-color: #a50026; border-radius: 3px; padding: 0 2px;\"> of</span><span style=\"background-color: #a50026; border-radius: 3px; padding: 0 2px;\"> places</span><span style=\"background-color: #a50026; border-radius: 3px; padding: 0 2px;\">.</span></div>"
            ]
          },
          "metadata": {}
        },
        {
          "output_type": "stream",
          "name": "stdout",
          "text": [
            "------------------------------\n"
          ]
        },
        {
          "output_type": "display_data",
          "data": {
            "text/plain": [
              "<IPython.core.display.HTML object>"
            ],
            "text/html": [
              "<div style=\"font-size: 16px; line-height: 1.6; padding: 10px;\"><span style=\"background-color: #a50026; border-radius: 3px; padding: 0 2px;\"><|endoftext|></span><span style=\"background-color: #a50026; border-radius: 3px; padding: 0 2px;\">Yet</span><span style=\"background-color: #a50026; border-radius: 3px; padding: 0 2px;\"> a</span><span style=\"background-color: #a50026; border-radius: 3px; padding: 0 2px;\"> second</span><span style=\"background-color: #a50026; border-radius: 3px; padding: 0 2px;\"> step</span><span style=\"background-color: #a50026; border-radius: 3px; padding: 0 2px;\"> is</span><span style=\"background-color: #a50026; border-radius: 3px; padding: 0 2px;\"> taken</span><span style=\"background-color: #a50026; border-radius: 3px; padding: 0 2px;\"> towards</span><span style=\"background-color: #a50026; border-radius: 3px; padding: 0 2px;\"> my</span><span style=\"background-color: #a50026; border-radius: 3px; padding: 0 2px;\"> enterprise</span><span style=\"background-color: #a50026; border-radius: 3px; padding: 0 2px;\">.</span></div>"
            ]
          },
          "metadata": {}
        },
        {
          "output_type": "stream",
          "name": "stdout",
          "text": [
            "------------------------------\n"
          ]
        },
        {
          "output_type": "display_data",
          "data": {
            "text/plain": [
              "<IPython.core.display.HTML object>"
            ],
            "text/html": [
              "<div style=\"font-size: 16px; line-height: 1.6; padding: 10px;\"><span style=\"background-color: #a50026; border-radius: 3px; padding: 0 2px;\"><|endoftext|></span><span style=\"background-color: #a50026; border-radius: 3px; padding: 0 2px;\">I</span><span style=\"background-color: #a50026; border-radius: 3px; padding: 0 2px;\"> was</span><span style=\"background-color: #a50026; border-radius: 3px; padding: 0 2px;\"> anxious</span><span style=\"background-color: #a50026; border-radius: 3px; padding: 0 2px;\">\n",
              "</span><span style=\"background-color: #a50026; border-radius: 3px; padding: 0 2px;\">and</span><span style=\"background-color: #a50026; border-radius: 3px; padding: 0 2px;\"> watch</span><span style=\"background-color: #a50026; border-radius: 3px; padding: 0 2px;\">ful</span><span style=\"background-color: #a50026; border-radius: 3px; padding: 0 2px;\">,</span><span style=\"background-color: #a50026; border-radius: 3px; padding: 0 2px;\"> while</span><span style=\"background-color: #a50026; border-radius: 3px; padding: 0 2px;\"> my</span><span style=\"background-color: #a50026; border-radius: 3px; padding: 0 2px;\"> right</span><span style=\"background-color: #a50026; border-radius: 3px; padding: 0 2px;\"> hand</span><span style=\"background-color: #a50026; border-radius: 3px; padding: 0 2px;\"> grasped</span><span style=\"background-color: #a50026; border-radius: 3px; padding: 0 2px;\"> a</span><span style=\"background-color: #a50026; border-radius: 3px; padding: 0 2px;\"> pistol</span><span style=\"background-color: #a50026; border-radius: 3px; padding: 0 2px;\"> which</span><span style=\"background-color: #a50026; border-radius: 3px; padding: 0 2px;\"> was</span><span style=\"background-color: #a50026; border-radius: 3px; padding: 0 2px;\"> hidden</span><span style=\"background-color: #a50026; border-radius: 3px; padding: 0 2px;\"> in</span><span style=\"background-color: #a50026; border-radius: 3px; padding: 0 2px;\">\n",
              "</span><span style=\"background-color: #a50026; border-radius: 3px; padding: 0 2px;\">my</span><span style=\"background-color: #a50026; border-radius: 3px; padding: 0 2px;\"> bos</span><span style=\"background-color: #a50026; border-radius: 3px; padding: 0 2px;\">om</span><span style=\"background-color: #a50026; border-radius: 3px; padding: 0 2px;\">;</span><span style=\"background-color: #a50026; border-radius: 3px; padding: 0 2px;\"> every</span><span style=\"background-color: #a50026; border-radius: 3px; padding: 0 2px;\"> sound</span><span style=\"background-color: #a50026; border-radius: 3px; padding: 0 2px;\"> terrified</span><span style=\"background-color: #a50026; border-radius: 3px; padding: 0 2px;\"> me</span><span style=\"background-color: #a50026; border-radius: 3px; padding: 0 2px;\">,</span><span style=\"background-color: #a50026; border-radius: 3px; padding: 0 2px;\"> but</span><span style=\"background-color: #a50026; border-radius: 3px; padding: 0 2px;\"> I</span><span style=\"background-color: #a50026; border-radius: 3px; padding: 0 2px;\"> resolved</span><span style=\"background-color: #a50026; border-radius: 3px; padding: 0 2px;\"> that</span><span style=\"background-color: #a50026; border-radius: 3px; padding: 0 2px;\"> I</span><span style=\"background-color: #a50026; border-radius: 3px; padding: 0 2px;\"> would</span><span style=\"background-color: #a50026; border-radius: 3px; padding: 0 2px;\"> sell</span><span style=\"background-color: #a50026; border-radius: 3px; padding: 0 2px;\"> my</span><span style=\"background-color: #fdc675; border-radius: 3px; padding: 0 2px;\">\n",
              "</span><span style=\"background-color: #c1e47b; border-radius: 3px; padding: 0 2px;\">life</span><span style=\"background-color: #a50026; border-radius: 3px; padding: 0 2px;\"> dearly</span><span style=\"background-color: #a50026; border-radius: 3px; padding: 0 2px;\"> and</span><span style=\"background-color: #a50026; border-radius: 3px; padding: 0 2px;\"> not</span><span style=\"background-color: #a50026; border-radius: 3px; padding: 0 2px;\"> shrink</span><span style=\"background-color: #a50026; border-radius: 3px; padding: 0 2px;\"> from</span><span style=\"background-color: #a50026; border-radius: 3px; padding: 0 2px;\"> the</span><span style=\"background-color: #a50026; border-radius: 3px; padding: 0 2px;\"> conflict</span><span style=\"background-color: #a50026; border-radius: 3px; padding: 0 2px;\"> until</span><span style=\"background-color: #a50026; border-radius: 3px; padding: 0 2px;\"> my</span><span style=\"background-color: #a50026; border-radius: 3px; padding: 0 2px;\"> own</span><span style=\"background-color: #a50026; border-radius: 3px; padding: 0 2px;\"> life</span><span style=\"background-color: #006837; border-radius: 3px; padding: 0 2px;\"> or</span><span style=\"background-color: #a50026; border-radius: 3px; padding: 0 2px;\"> that</span><span style=\"background-color: #a50026; border-radius: 3px; padding: 0 2px;\">\n",
              "</span><span style=\"background-color: #a50026; border-radius: 3px; padding: 0 2px;\">of</span><span style=\"background-color: #a50026; border-radius: 3px; padding: 0 2px;\"> my</span><span style=\"background-color: #a50026; border-radius: 3px; padding: 0 2px;\"> adversary</span><span style=\"background-color: #bbe277; border-radius: 3px; padding: 0 2px;\"> was</span><span style=\"background-color: #a50026; border-radius: 3px; padding: 0 2px;\"> extinguished</span><span style=\"background-color: #a50026; border-radius: 3px; padding: 0 2px;\">.</span></div>"
            ]
          },
          "metadata": {}
        },
        {
          "output_type": "stream",
          "name": "stdout",
          "text": [
            "------------------------------\n"
          ]
        },
        {
          "output_type": "display_data",
          "data": {
            "text/plain": [
              "<IPython.core.display.HTML object>"
            ],
            "text/html": [
              "<div style=\"font-size: 16px; line-height: 1.6; padding: 10px;\"><span style=\"background-color: #a50026; border-radius: 3px; padding: 0 2px;\"><|endoftext|></span><span style=\"background-color: #a50026; border-radius: 3px; padding: 0 2px;\">But</span><span style=\"background-color: #a50026; border-radius: 3px; padding: 0 2px;\"> to</span><span style=\"background-color: #a50026; border-radius: 3px; padding: 0 2px;\"> me</span><span style=\"background-color: #a50026; border-radius: 3px; padding: 0 2px;\"> the</span><span style=\"background-color: #a50026; border-radius: 3px; padding: 0 2px;\"> remembrance</span><span style=\"background-color: #a50026; border-radius: 3px; padding: 0 2px;\"> of</span><span style=\"background-color: #a50026; border-radius: 3px; padding: 0 2px;\"> the</span><span style=\"background-color: #a50026; border-radius: 3px; padding: 0 2px;\">\n",
              "</span><span style=\"background-color: #a50026; border-radius: 3px; padding: 0 2px;\">threat</span><span style=\"background-color: #a50026; border-radius: 3px; padding: 0 2px;\"> returned</span><span style=\"background-color: #a50026; border-radius: 3px; padding: 0 2px;\">;</span><span style=\"background-color: #a50026; border-radius: 3px; padding: 0 2px;\"> nor</span><span style=\"background-color: #a50026; border-radius: 3px; padding: 0 2px;\"> can</span><span style=\"background-color: #a50026; border-radius: 3px; padding: 0 2px;\"> you</span><span style=\"background-color: #a50026; border-radius: 3px; padding: 0 2px;\"> wonder</span><span style=\"background-color: #a50026; border-radius: 3px; padding: 0 2px;\"> that</span><span style=\"background-color: #a50026; border-radius: 3px; padding: 0 2px;\">,</span><span style=\"background-color: #a50026; border-radius: 3px; padding: 0 2px;\"> omnip</span><span style=\"background-color: #a50026; border-radius: 3px; padding: 0 2px;\">otent</span><span style=\"background-color: #a50026; border-radius: 3px; padding: 0 2px;\"> as</span><span style=\"background-color: #a50026; border-radius: 3px; padding: 0 2px;\"> the</span><span style=\"background-color: #a50026; border-radius: 3px; padding: 0 2px;\"> fi</span><span style=\"background-color: #a50026; border-radius: 3px; padding: 0 2px;\">end</span><span style=\"background-color: #a50026; border-radius: 3px; padding: 0 2px;\"> had</span><span style=\"background-color: #a50026; border-radius: 3px; padding: 0 2px;\">\n",
              "</span><span style=\"background-color: #c5e67e; border-radius: 3px; padding: 0 2px;\">yet</span><span style=\"background-color: #a50026; border-radius: 3px; padding: 0 2px;\"> been</span><span style=\"background-color: #a50026; border-radius: 3px; padding: 0 2px;\"> in</span><span style=\"background-color: #a50026; border-radius: 3px; padding: 0 2px;\"> his</span><span style=\"background-color: #a50026; border-radius: 3px; padding: 0 2px;\"> deeds</span><span style=\"background-color: #a50026; border-radius: 3px; padding: 0 2px;\"> of</span><span style=\"background-color: #a50026; border-radius: 3px; padding: 0 2px;\"> blood</span><span style=\"background-color: #a50026; border-radius: 3px; padding: 0 2px;\">,</span><span style=\"background-color: #a50026; border-radius: 3px; padding: 0 2px;\"> I</span><span style=\"background-color: #a50026; border-radius: 3px; padding: 0 2px;\"> should</span><span style=\"background-color: #a50026; border-radius: 3px; padding: 0 2px;\"> almost</span><span style=\"background-color: #a50026; border-radius: 3px; padding: 0 2px;\"> regard</span><span style=\"background-color: #a50026; border-radius: 3px; padding: 0 2px;\"> him</span><span style=\"background-color: #a50026; border-radius: 3px; padding: 0 2px;\"> as</span><span style=\"background-color: #a50026; border-radius: 3px; padding: 0 2px;\">\n",
              "</span><span style=\"background-color: #a50026; border-radius: 3px; padding: 0 2px;\">inv</span><span style=\"background-color: #a50026; border-radius: 3px; padding: 0 2px;\">incible</span><span style=\"background-color: #a50026; border-radius: 3px; padding: 0 2px;\">,</span><span style=\"background-color: #a50026; border-radius: 3px; padding: 0 2px;\"> and</span><span style=\"background-color: #a50026; border-radius: 3px; padding: 0 2px;\"> that</span><span style=\"background-color: #a50026; border-radius: 3px; padding: 0 2px;\"> when</span><span style=\"background-color: #a50026; border-radius: 3px; padding: 0 2px;\"> he</span><span style=\"background-color: #a50026; border-radius: 3px; padding: 0 2px;\"> had</span><span style=\"background-color: #a50026; border-radius: 3px; padding: 0 2px;\"> pronounced</span><span style=\"background-color: #a50026; border-radius: 3px; padding: 0 2px;\"> the</span><span style=\"background-color: #a50026; border-radius: 3px; padding: 0 2px;\"> words</span><span style=\"background-color: #a50026; border-radius: 3px; padding: 0 2px;\"> �</span><span style=\"background-color: #a50026; border-radius: 3px; padding: 0 2px;\">�</span><span style=\"background-color: #a50026; border-radius: 3px; padding: 0 2px;\">_</span><span style=\"background-color: #a50026; border-radius: 3px; padding: 0 2px;\">I</span><span style=\"background-color: #a50026; border-radius: 3px; padding: 0 2px;\"> shall</span><span style=\"background-color: #a50026; border-radius: 3px; padding: 0 2px;\"> be</span><span style=\"background-color: #a50026; border-radius: 3px; padding: 0 2px;\"> with</span><span style=\"background-color: #fdb063; border-radius: 3px; padding: 0 2px;\">\n",
              "</span><span style=\"background-color: #a50026; border-radius: 3px; padding: 0 2px;\">you</span><span style=\"background-color: #a50026; border-radius: 3px; padding: 0 2px;\"> on</span><span style=\"background-color: #a50026; border-radius: 3px; padding: 0 2px;\"> your</span><span style=\"background-color: #a50026; border-radius: 3px; padding: 0 2px;\"> wedding</span><span style=\"background-color: #a50026; border-radius: 3px; padding: 0 2px;\">-</span><span style=\"background-color: #a50026; border-radius: 3px; padding: 0 2px;\">night</span><span style=\"background-color: #a50026; border-radius: 3px; padding: 0 2px;\">_</span><span style=\"background-color: #a50026; border-radius: 3px; padding: 0 2px;\">,</span><span style=\"background-color: #a50026; border-radius: 3px; padding: 0 2px;\">�</span><span style=\"background-color: #a50026; border-radius: 3px; padding: 0 2px;\">�</span><span style=\"background-color: #a50026; border-radius: 3px; padding: 0 2px;\"> I</span><span style=\"background-color: #a50026; border-radius: 3px; padding: 0 2px;\"> should</span><span style=\"background-color: #a50026; border-radius: 3px; padding: 0 2px;\"> regard</span><span style=\"background-color: #a50026; border-radius: 3px; padding: 0 2px;\"> the</span><span style=\"background-color: #006837; border-radius: 3px; padding: 0 2px;\"> threatened</span><span style=\"background-color: #a50026; border-radius: 3px; padding: 0 2px;\"> fate</span><span style=\"background-color: #d73127; border-radius: 3px; padding: 0 2px;\"> as</span><span style=\"background-color: #afdc6f; border-radius: 3px; padding: 0 2px;\">\n",
              "</span><span style=\"background-color: #a50026; border-radius: 3px; padding: 0 2px;\">un</span><span style=\"background-color: #a50026; border-radius: 3px; padding: 0 2px;\">avoid</span><span style=\"background-color: #a50026; border-radius: 3px; padding: 0 2px;\">able</span><span style=\"background-color: #a50026; border-radius: 3px; padding: 0 2px;\">.</span></div>"
            ]
          },
          "metadata": {}
        },
        {
          "output_type": "stream",
          "name": "stdout",
          "text": [
            "------------------------------\n"
          ]
        },
        {
          "output_type": "display_data",
          "data": {
            "text/plain": [
              "<IPython.core.display.HTML object>"
            ],
            "text/html": [
              "<div style=\"font-size: 16px; line-height: 1.6; padding: 10px;\"><span style=\"background-color: #a50026; border-radius: 3px; padding: 0 2px;\"><|endoftext|></span><span style=\"background-color: #a50026; border-radius: 3px; padding: 0 2px;\">However</span><span style=\"background-color: #a50026; border-radius: 3px; padding: 0 2px;\">,</span><span style=\"background-color: #a50026; border-radius: 3px; padding: 0 2px;\"> it</span><span style=\"background-color: #a50026; border-radius: 3px; padding: 0 2px;\"> was</span><span style=\"background-color: #a50026; border-radius: 3px; padding: 0 2px;\">\n",
              "</span><span style=\"background-color: #a50026; border-radius: 3px; padding: 0 2px;\">hard</span><span style=\"background-color: #a50026; border-radius: 3px; padding: 0 2px;\">ly</span><span style=\"background-color: #a50026; border-radius: 3px; padding: 0 2px;\"> morning</span><span style=\"background-color: #a50026; border-radius: 3px; padding: 0 2px;\">,</span><span style=\"background-color: #a50026; border-radius: 3px; padding: 0 2px;\"> and</span><span style=\"background-color: #a50026; border-radius: 3px; padding: 0 2px;\"> I</span><span style=\"background-color: #a50026; border-radius: 3px; padding: 0 2px;\"> might</span><span style=\"background-color: #a50026; border-radius: 3px; padding: 0 2px;\"> reasonably</span><span style=\"background-color: #a50026; border-radius: 3px; padding: 0 2px;\"> hope</span><span style=\"background-color: #006837; border-radius: 3px; padding: 0 2px;\"> to</span><span style=\"background-color: #a50026; border-radius: 3px; padding: 0 2px;\"> arrive</span><span style=\"background-color: #77c464; border-radius: 3px; padding: 0 2px;\"> by</span><span style=\"background-color: #a50026; border-radius: 3px; padding: 0 2px;\"> night</span><span style=\"background-color: #a50026; border-radius: 3px; padding: 0 2px;\">.</span></div>"
            ]
          },
          "metadata": {}
        },
        {
          "output_type": "stream",
          "name": "stdout",
          "text": [
            "------------------------------\n"
          ]
        },
        {
          "output_type": "display_data",
          "data": {
            "text/plain": [
              "<IPython.core.display.HTML object>"
            ],
            "text/html": [
              "<div style=\"font-size: 16px; line-height: 1.6; padding: 10px;\"><span style=\"background-color: #a50026; border-radius: 3px; padding: 0 2px;\"><|endoftext|></span><span style=\"background-color: #a50026; border-radius: 3px; padding: 0 2px;\">Never</span><span style=\"background-color: #a50026; border-radius: 3px; padding: 0 2px;\"> will</span><span style=\"background-color: #a50026; border-radius: 3px; padding: 0 2px;\"> I</span><span style=\"background-color: #68be63; border-radius: 3px; padding: 0 2px;\"> give</span><span style=\"background-color: #a50026; border-radius: 3px; padding: 0 2px;\"> up</span><span style=\"background-color: #a50026; border-radius: 3px; padding: 0 2px;\"> my</span><span style=\"background-color: #a50026; border-radius: 3px; padding: 0 2px;\"> search</span><span style=\"background-color: #a50026; border-radius: 3px; padding: 0 2px;\">\n",
              "</span><span style=\"background-color: #a50026; border-radius: 3px; padding: 0 2px;\">until</span><span style=\"background-color: #a50026; border-radius: 3px; padding: 0 2px;\"> he</span><span style=\"background-color: #a50026; border-radius: 3px; padding: 0 2px;\"> or</span><span style=\"background-color: #006837; border-radius: 3px; padding: 0 2px;\"> I</span><span style=\"background-color: #a50026; border-radius: 3px; padding: 0 2px;\"> perish</span><span style=\"background-color: #a50026; border-radius: 3px; padding: 0 2px;\">;</span><span style=\"background-color: #a50026; border-radius: 3px; padding: 0 2px;\"> and</span><span style=\"background-color: #a50026; border-radius: 3px; padding: 0 2px;\"> then</span><span style=\"background-color: #a50026; border-radius: 3px; padding: 0 2px;\"> with</span><span style=\"background-color: #a50026; border-radius: 3px; padding: 0 2px;\"> what</span><span style=\"background-color: #a50026; border-radius: 3px; padding: 0 2px;\"> ecstasy</span><span style=\"background-color: #a50026; border-radius: 3px; padding: 0 2px;\"> shall</span><span style=\"background-color: #a50026; border-radius: 3px; padding: 0 2px;\"> I</span><span style=\"background-color: #a50026; border-radius: 3px; padding: 0 2px;\"> join</span><span style=\"background-color: #a50026; border-radius: 3px; padding: 0 2px;\"> my</span><span style=\"background-color: #a50026; border-radius: 3px; padding: 0 2px;\">\n",
              "</span><span style=\"background-color: #a50026; border-radius: 3px; padding: 0 2px;\">Elizabeth</span><span style=\"background-color: #a50026; border-radius: 3px; padding: 0 2px;\"> and</span><span style=\"background-color: #a50026; border-radius: 3px; padding: 0 2px;\"> my</span><span style=\"background-color: #a50026; border-radius: 3px; padding: 0 2px;\"> departed</span><span style=\"background-color: #a50026; border-radius: 3px; padding: 0 2px;\"> friends</span><span style=\"background-color: #a50026; border-radius: 3px; padding: 0 2px;\">,</span><span style=\"background-color: #a50026; border-radius: 3px; padding: 0 2px;\"> who</span><span style=\"background-color: #a50026; border-radius: 3px; padding: 0 2px;\"> even</span><span style=\"background-color: #a50026; border-radius: 3px; padding: 0 2px;\"> now</span><span style=\"background-color: #a50026; border-radius: 3px; padding: 0 2px;\"> prepare</span><span style=\"background-color: #e0f295; border-radius: 3px; padding: 0 2px;\"> for</span><span style=\"background-color: #a50026; border-radius: 3px; padding: 0 2px;\"> me</span><span style=\"background-color: #a50026; border-radius: 3px; padding: 0 2px;\"> the</span><span style=\"background-color: #a50026; border-radius: 3px; padding: 0 2px;\">\n",
              "</span><span style=\"background-color: #77c464; border-radius: 3px; padding: 0 2px;\">re</span><span style=\"background-color: #a50026; border-radius: 3px; padding: 0 2px;\">ward</span><span style=\"background-color: #a50026; border-radius: 3px; padding: 0 2px;\"> of</span><span style=\"background-color: #a50026; border-radius: 3px; padding: 0 2px;\"> my</span><span style=\"background-color: #a50026; border-radius: 3px; padding: 0 2px;\"> tedious</span><span style=\"background-color: #a50026; border-radius: 3px; padding: 0 2px;\"> to</span><span style=\"background-color: #a50026; border-radius: 3px; padding: 0 2px;\">il</span><span style=\"background-color: #a50026; border-radius: 3px; padding: 0 2px;\"> and</span><span style=\"background-color: #a50026; border-radius: 3px; padding: 0 2px;\"> horrible</span><span style=\"background-color: #a50026; border-radius: 3px; padding: 0 2px;\"> pilgrimage</span><span style=\"background-color: #a50026; border-radius: 3px; padding: 0 2px;\">!</span></div>"
            ]
          },
          "metadata": {}
        },
        {
          "output_type": "stream",
          "name": "stdout",
          "text": [
            "------------------------------\n"
          ]
        },
        {
          "output_type": "display_data",
          "data": {
            "text/plain": [
              "<IPython.core.display.HTML object>"
            ],
            "text/html": [
              "<div style=\"font-size: 16px; line-height: 1.6; padding: 10px;\"><span style=\"background-color: #a50026; border-radius: 3px; padding: 0 2px;\"><|endoftext|></span><span style=\"background-color: #a50026; border-radius: 3px; padding: 0 2px;\">Chapter</span><span style=\"background-color: #a50026; border-radius: 3px; padding: 0 2px;\"> 19</span><span style=\"background-color: #a50026; border-radius: 3px; padding: 0 2px;\">\n",
              "</span></div>"
            ]
          },
          "metadata": {}
        },
        {
          "output_type": "stream",
          "name": "stdout",
          "text": [
            "------------------------------\n"
          ]
        },
        {
          "output_type": "display_data",
          "data": {
            "text/plain": [
              "<IPython.core.display.HTML object>"
            ],
            "text/html": [
              "<div style=\"font-size: 16px; line-height: 1.6; padding: 10px;\"><span style=\"background-color: #a50026; border-radius: 3px; padding: 0 2px;\"><|endoftext|></span><span style=\"background-color: #a50026; border-radius: 3px; padding: 0 2px;\">Six</span><span style=\"background-color: #a50026; border-radius: 3px; padding: 0 2px;\"> years</span><span style=\"background-color: #a50026; border-radius: 3px; padding: 0 2px;\"> have</span><span style=\"background-color: #a50026; border-radius: 3px; padding: 0 2px;\"> passed</span><span style=\"background-color: #a50026; border-radius: 3px; padding: 0 2px;\"> since</span><span style=\"background-color: #a50026; border-radius: 3px; padding: 0 2px;\"> I</span><span style=\"background-color: #a50026; border-radius: 3px; padding: 0 2px;\"> resolved</span><span style=\"background-color: #a50026; border-radius: 3px; padding: 0 2px;\"> on</span><span style=\"background-color: #a50026; border-radius: 3px; padding: 0 2px;\"> my</span><span style=\"background-color: #a50026; border-radius: 3px; padding: 0 2px;\"> present</span><span style=\"background-color: #a50026; border-radius: 3px; padding: 0 2px;\"> undertaking</span><span style=\"background-color: #a50026; border-radius: 3px; padding: 0 2px;\">.</span></div>"
            ]
          },
          "metadata": {}
        },
        {
          "output_type": "stream",
          "name": "stdout",
          "text": [
            "------------------------------\n"
          ]
        },
        {
          "output_type": "display_data",
          "data": {
            "text/plain": [
              "<IPython.core.display.HTML object>"
            ],
            "text/html": [
              "<div style=\"font-size: 16px; line-height: 1.6; padding: 10px;\"><span style=\"background-color: #a50026; border-radius: 3px; padding: 0 2px;\"><|endoftext|></span><span style=\"background-color: #a50026; border-radius: 3px; padding: 0 2px;\">Here</span><span style=\"background-color: #a50026; border-radius: 3px; padding: 0 2px;\"> I</span><span style=\"background-color: #a50026; border-radius: 3px; padding: 0 2px;\"> paused</span><span style=\"background-color: #a50026; border-radius: 3px; padding: 0 2px;\">,</span><span style=\"background-color: #a50026; border-radius: 3px; padding: 0 2px;\"> I</span><span style=\"background-color: #df412f; border-radius: 3px; padding: 0 2px;\"> knew</span><span style=\"background-color: #a50026; border-radius: 3px; padding: 0 2px;\"> not</span><span style=\"background-color: #a50026; border-radius: 3px; padding: 0 2px;\"> why</span><span style=\"background-color: #a50026; border-radius: 3px; padding: 0 2px;\">;</span><span style=\"background-color: #a50026; border-radius: 3px; padding: 0 2px;\">\n",
              "</span><span style=\"background-color: #a50026; border-radius: 3px; padding: 0 2px;\">but</span><span style=\"background-color: #a50026; border-radius: 3px; padding: 0 2px;\"> I</span><span style=\"background-color: #a50026; border-radius: 3px; padding: 0 2px;\"> remained</span><span style=\"background-color: #a50026; border-radius: 3px; padding: 0 2px;\"> some</span><span style=\"background-color: #a50026; border-radius: 3px; padding: 0 2px;\"> minutes</span><span style=\"background-color: #a50026; border-radius: 3px; padding: 0 2px;\"> with</span><span style=\"background-color: #a50026; border-radius: 3px; padding: 0 2px;\"> my</span><span style=\"background-color: #a50026; border-radius: 3px; padding: 0 2px;\"> eyes</span><span style=\"background-color: #a50026; border-radius: 3px; padding: 0 2px;\"> fixed</span><span style=\"background-color: #a50026; border-radius: 3px; padding: 0 2px;\"> on</span><span style=\"background-color: #a50026; border-radius: 3px; padding: 0 2px;\"> a</span><span style=\"background-color: #a50026; border-radius: 3px; padding: 0 2px;\"> coach</span><span style=\"background-color: #a50026; border-radius: 3px; padding: 0 2px;\"> that</span><span style=\"background-color: #a50026; border-radius: 3px; padding: 0 2px;\"> was</span><span style=\"background-color: #a50026; border-radius: 3px; padding: 0 2px;\"> coming</span><span style=\"background-color: #a50026; border-radius: 3px; padding: 0 2px;\">\n",
              "</span><span style=\"background-color: #a50026; border-radius: 3px; padding: 0 2px;\">t</span><span style=\"background-color: #a50026; border-radius: 3px; padding: 0 2px;\">ow</span><span style=\"background-color: #a50026; border-radius: 3px; padding: 0 2px;\">ards</span><span style=\"background-color: #a50026; border-radius: 3px; padding: 0 2px;\"> me</span><span style=\"background-color: #a50026; border-radius: 3px; padding: 0 2px;\"> from</span><span style=\"background-color: #a50026; border-radius: 3px; padding: 0 2px;\"> the</span><span style=\"background-color: #006837; border-radius: 3px; padding: 0 2px;\"> other</span><span style=\"background-color: #a50026; border-radius: 3px; padding: 0 2px;\"> end</span><span style=\"background-color: #a50026; border-radius: 3px; padding: 0 2px;\"> of</span><span style=\"background-color: #a50026; border-radius: 3px; padding: 0 2px;\"> the</span><span style=\"background-color: #a50026; border-radius: 3px; padding: 0 2px;\"> street</span><span style=\"background-color: #a50026; border-radius: 3px; padding: 0 2px;\">.</span></div>"
            ]
          },
          "metadata": {}
        },
        {
          "output_type": "stream",
          "name": "stdout",
          "text": [
            "------------------------------\n"
          ]
        },
        {
          "output_type": "display_data",
          "data": {
            "text/plain": [
              "<IPython.core.display.HTML object>"
            ],
            "text/html": [
              "<div style=\"font-size: 16px; line-height: 1.6; padding: 10px;\"><span style=\"background-color: #a50026; border-radius: 3px; padding: 0 2px;\"><|endoftext|></span><span style=\"background-color: #a50026; border-radius: 3px; padding: 0 2px;\">Letter</span><span style=\"background-color: #a50026; border-radius: 3px; padding: 0 2px;\"> 4</span><span style=\"background-color: #a50026; border-radius: 3px; padding: 0 2px;\">\n",
              "</span></div>"
            ]
          },
          "metadata": {}
        },
        {
          "output_type": "stream",
          "name": "stdout",
          "text": [
            "------------------------------\n"
          ]
        },
        {
          "output_type": "display_data",
          "data": {
            "text/plain": [
              "<IPython.core.display.HTML object>"
            ],
            "text/html": [
              "<div style=\"font-size: 16px; line-height: 1.6; padding: 10px;\"><span style=\"background-color: #a50026; border-radius: 3px; padding: 0 2px;\"><|endoftext|></span><span style=\"background-color: #a50026; border-radius: 3px; padding: 0 2px;\">Chapter</span><span style=\"background-color: #a50026; border-radius: 3px; padding: 0 2px;\"> 18</span><span style=\"background-color: #a50026; border-radius: 3px; padding: 0 2px;\">\n",
              "</span></div>"
            ]
          },
          "metadata": {}
        },
        {
          "output_type": "stream",
          "name": "stdout",
          "text": [
            "------------------------------\n"
          ]
        },
        {
          "output_type": "display_data",
          "data": {
            "text/plain": [
              "<IPython.core.display.HTML object>"
            ],
            "text/html": [
              "<div style=\"font-size: 16px; line-height: 1.6; padding: 10px;\"><span style=\"background-color: #a50026; border-radius: 3px; padding: 0 2px;\"><|endoftext|></span><span style=\"background-color: #a50026; border-radius: 3px; padding: 0 2px;\">London</span><span style=\"background-color: #a50026; border-radius: 3px; padding: 0 2px;\"> was</span><span style=\"background-color: #a50026; border-radius: 3px; padding: 0 2px;\"> our</span><span style=\"background-color: #006837; border-radius: 3px; padding: 0 2px;\"> present</span><span style=\"background-color: #a50026; border-radius: 3px; padding: 0 2px;\"> point</span><span style=\"background-color: #d42d26; border-radius: 3px; padding: 0 2px;\"> of</span><span style=\"background-color: #a50026; border-radius: 3px; padding: 0 2px;\"> rest</span><span style=\"background-color: #a50026; border-radius: 3px; padding: 0 2px;\">;</span><span style=\"background-color: #a50026; border-radius: 3px; padding: 0 2px;\"> we</span><span style=\"background-color: #a50026; border-radius: 3px; padding: 0 2px;\"> determined</span><span style=\"background-color: #a50026; border-radius: 3px; padding: 0 2px;\"> to</span><span style=\"background-color: #a50026; border-radius: 3px; padding: 0 2px;\"> remain</span><span style=\"background-color: #a50026; border-radius: 3px; padding: 0 2px;\"> several</span><span style=\"background-color: #a50026; border-radius: 3px; padding: 0 2px;\">\n",
              "</span><span style=\"background-color: #a50026; border-radius: 3px; padding: 0 2px;\">months</span><span style=\"background-color: #a50026; border-radius: 3px; padding: 0 2px;\"> in</span><span style=\"background-color: #a50026; border-radius: 3px; padding: 0 2px;\"> this</span><span style=\"background-color: #a50026; border-radius: 3px; padding: 0 2px;\"> wonderful</span><span style=\"background-color: #a50026; border-radius: 3px; padding: 0 2px;\"> and</span><span style=\"background-color: #a50026; border-radius: 3px; padding: 0 2px;\"> celebrated</span><span style=\"background-color: #a50026; border-radius: 3px; padding: 0 2px;\"> city</span><span style=\"background-color: #a50026; border-radius: 3px; padding: 0 2px;\">.</span></div>"
            ]
          },
          "metadata": {}
        },
        {
          "output_type": "stream",
          "name": "stdout",
          "text": [
            "------------------------------\n"
          ]
        },
        {
          "output_type": "display_data",
          "data": {
            "text/plain": [
              "<IPython.core.display.HTML object>"
            ],
            "text/html": [
              "<div style=\"font-size: 16px; line-height: 1.6; padding: 10px;\"><span style=\"background-color: #a50026; border-radius: 3px; padding: 0 2px;\"><|endoftext|></span><span style=\"background-color: #a50026; border-radius: 3px; padding: 0 2px;\">�</span><span style=\"background-color: #a50026; border-radius: 3px; padding: 0 2px;\">�</span><span style=\"background-color: #006837; border-radius: 3px; padding: 0 2px;\">Come</span><span style=\"background-color: #a50026; border-radius: 3px; padding: 0 2px;\"> in</span><span style=\"background-color: #a50026; border-radius: 3px; padding: 0 2px;\">.</span><span style=\"background-color: #a50026; border-radius: 3px; padding: 0 2px;\">�</span><span style=\"background-color: #a50026; border-radius: 3px; padding: 0 2px;\">�</span><span style=\"background-color: #a50026; border-radius: 3px; padding: 0 2px;\">\n",
              "</span></div>"
            ]
          },
          "metadata": {}
        },
        {
          "output_type": "stream",
          "name": "stdout",
          "text": [
            "------------------------------\n"
          ]
        },
        {
          "output_type": "display_data",
          "data": {
            "text/plain": [
              "<IPython.core.display.HTML object>"
            ],
            "text/html": [
              "<div style=\"font-size: 16px; line-height: 1.6; padding: 10px;\"><span style=\"background-color: #a50026; border-radius: 3px; padding: 0 2px;\"><|endoftext|></span><span style=\"background-color: #a50026; border-radius: 3px; padding: 0 2px;\">He</span><span style=\"background-color: #a50026; border-radius: 3px; padding: 0 2px;\"> is</span><span style=\"background-color: #a50026; border-radius: 3px; padding: 0 2px;\">\n",
              "</span><span style=\"background-color: #a50026; border-radius: 3px; padding: 0 2px;\">so</span><span style=\"background-color: #a50026; border-radius: 3px; padding: 0 2px;\">;</span><span style=\"background-color: #a50026; border-radius: 3px; padding: 0 2px;\"> but</span><span style=\"background-color: #a50026; border-radius: 3px; padding: 0 2px;\"> then</span><span style=\"background-color: #a50026; border-radius: 3px; padding: 0 2px;\"> he</span><span style=\"background-color: #a50026; border-radius: 3px; padding: 0 2px;\"> is</span><span style=\"background-color: #42ab5a; border-radius: 3px; padding: 0 2px;\"> wholly</span><span style=\"background-color: #a50026; border-radius: 3px; padding: 0 2px;\"> un</span><span style=\"background-color: #a50026; border-radius: 3px; padding: 0 2px;\">educated</span><span style=\"background-color: #a50026; border-radius: 3px; padding: 0 2px;\">:</span><span style=\"background-color: #a50026; border-radius: 3px; padding: 0 2px;\"> he</span><span style=\"background-color: #a50026; border-radius: 3px; padding: 0 2px;\"> is</span><span style=\"background-color: #a50026; border-radius: 3px; padding: 0 2px;\"> as</span><span style=\"background-color: #a50026; border-radius: 3px; padding: 0 2px;\"> silent</span><span style=\"background-color: #a50026; border-radius: 3px; padding: 0 2px;\"> as</span><span style=\"background-color: #a50026; border-radius: 3px; padding: 0 2px;\"> a</span><span style=\"background-color: #a50026; border-radius: 3px; padding: 0 2px;\"> Turk</span><span style=\"background-color: #a50026; border-radius: 3px; padding: 0 2px;\">,</span><span style=\"background-color: #a50026; border-radius: 3px; padding: 0 2px;\"> and</span><span style=\"background-color: #a50026; border-radius: 3px; padding: 0 2px;\"> a</span><span style=\"background-color: #a50026; border-radius: 3px; padding: 0 2px;\"> kind</span><span style=\"background-color: #a50026; border-radius: 3px; padding: 0 2px;\">\n",
              "</span><span style=\"background-color: #a50026; border-radius: 3px; padding: 0 2px;\">of</span><span style=\"background-color: #006837; border-radius: 3px; padding: 0 2px;\"> ignorant</span><span style=\"background-color: #a50026; border-radius: 3px; padding: 0 2px;\"> care</span><span style=\"background-color: #a50026; border-radius: 3px; padding: 0 2px;\">lessness</span><span style=\"background-color: #a50026; border-radius: 3px; padding: 0 2px;\"> attends</span><span style=\"background-color: #a50026; border-radius: 3px; padding: 0 2px;\"> him</span><span style=\"background-color: #a50026; border-radius: 3px; padding: 0 2px;\">,</span><span style=\"background-color: #a50026; border-radius: 3px; padding: 0 2px;\"> which</span><span style=\"background-color: #a50026; border-radius: 3px; padding: 0 2px;\">,</span><span style=\"background-color: #a50026; border-radius: 3px; padding: 0 2px;\"> while</span><span style=\"background-color: #a50026; border-radius: 3px; padding: 0 2px;\"> it</span><span style=\"background-color: #a50026; border-radius: 3px; padding: 0 2px;\"> renders</span><span style=\"background-color: #a50026; border-radius: 3px; padding: 0 2px;\"> his</span><span style=\"background-color: #a50026; border-radius: 3px; padding: 0 2px;\"> conduct</span><span style=\"background-color: #a50026; border-radius: 3px; padding: 0 2px;\">\n",
              "</span><span style=\"background-color: #a50026; border-radius: 3px; padding: 0 2px;\">the</span><span style=\"background-color: #a50026; border-radius: 3px; padding: 0 2px;\"> more</span><span style=\"background-color: #a50026; border-radius: 3px; padding: 0 2px;\"> astonishing</span><span style=\"background-color: #a50026; border-radius: 3px; padding: 0 2px;\">,</span><span style=\"background-color: #a50026; border-radius: 3px; padding: 0 2px;\"> detract</span><span style=\"background-color: #a50026; border-radius: 3px; padding: 0 2px;\">s</span><span style=\"background-color: #a50026; border-radius: 3px; padding: 0 2px;\"> from</span><span style=\"background-color: #a50026; border-radius: 3px; padding: 0 2px;\"> the</span><span style=\"background-color: #a50026; border-radius: 3px; padding: 0 2px;\"> interest</span><span style=\"background-color: #a50026; border-radius: 3px; padding: 0 2px;\"> and</span><span style=\"background-color: #a50026; border-radius: 3px; padding: 0 2px;\"> sympathy</span><span style=\"background-color: #a50026; border-radius: 3px; padding: 0 2px;\"> which</span><span style=\"background-color: #a50026; border-radius: 3px; padding: 0 2px;\">\n",
              "</span><span style=\"background-color: #a50026; border-radius: 3px; padding: 0 2px;\">other</span><span style=\"background-color: #a50026; border-radius: 3px; padding: 0 2px;\">wise</span><span style=\"background-color: #a50026; border-radius: 3px; padding: 0 2px;\"> he</span><span style=\"background-color: #a50026; border-radius: 3px; padding: 0 2px;\"> would</span><span style=\"background-color: #a50026; border-radius: 3px; padding: 0 2px;\"> command</span><span style=\"background-color: #a50026; border-radius: 3px; padding: 0 2px;\">.</span></div>"
            ]
          },
          "metadata": {}
        },
        {
          "output_type": "stream",
          "name": "stdout",
          "text": [
            "------------------------------\n"
          ]
        },
        {
          "output_type": "display_data",
          "data": {
            "text/plain": [
              "<IPython.core.display.HTML object>"
            ],
            "text/html": [
              "<div style=\"font-size: 16px; line-height: 1.6; padding: 10px;\"><span style=\"background-color: #a50026; border-radius: 3px; padding: 0 2px;\"><|endoftext|></span><span style=\"background-color: #a50026; border-radius: 3px; padding: 0 2px;\">Pres</span><span style=\"background-color: #a50026; border-radius: 3px; padding: 0 2px;\">ently</span><span style=\"background-color: #a50026; border-radius: 3px; padding: 0 2px;\"> I</span><span style=\"background-color: #a50026; border-radius: 3px; padding: 0 2px;\">\n",
              "</span><span style=\"background-color: #a50026; border-radius: 3px; padding: 0 2px;\">found</span><span style=\"background-color: #a50026; border-radius: 3px; padding: 0 2px;\">,</span><span style=\"background-color: #a50026; border-radius: 3px; padding: 0 2px;\"> by</span><span style=\"background-color: #a50026; border-radius: 3px; padding: 0 2px;\"> the</span><span style=\"background-color: #a50026; border-radius: 3px; padding: 0 2px;\"> frequent</span><span style=\"background-color: #fb9f5a; border-radius: 3px; padding: 0 2px;\"> rec</span><span style=\"background-color: #a50026; border-radius: 3px; padding: 0 2px;\">urrence</span><span style=\"background-color: #a50026; border-radius: 3px; padding: 0 2px;\"> of</span><span style=\"background-color: #a50026; border-radius: 3px; padding: 0 2px;\"> some</span><span style=\"background-color: #a50026; border-radius: 3px; padding: 0 2px;\"> sound</span><span style=\"background-color: #a50026; border-radius: 3px; padding: 0 2px;\"> which</span><span style=\"background-color: #a50026; border-radius: 3px; padding: 0 2px;\"> the</span><span style=\"background-color: #a50026; border-radius: 3px; padding: 0 2px;\"> stranger</span><span style=\"background-color: #a50026; border-radius: 3px; padding: 0 2px;\">\n",
              "</span><span style=\"background-color: #a50026; border-radius: 3px; padding: 0 2px;\">repe</span><span style=\"background-color: #a50026; border-radius: 3px; padding: 0 2px;\">ated</span><span style=\"background-color: #a50026; border-radius: 3px; padding: 0 2px;\"> after</span><span style=\"background-color: #a50026; border-radius: 3px; padding: 0 2px;\"> them</span><span style=\"background-color: #a50026; border-radius: 3px; padding: 0 2px;\">,</span><span style=\"background-color: #a50026; border-radius: 3px; padding: 0 2px;\"> that</span><span style=\"background-color: #a50026; border-radius: 3px; padding: 0 2px;\"> she</span><span style=\"background-color: #a50026; border-radius: 3px; padding: 0 2px;\"> was</span><span style=\"background-color: #a50026; border-radius: 3px; padding: 0 2px;\"> endeav</span><span style=\"background-color: #a50026; border-radius: 3px; padding: 0 2px;\">ouring</span><span style=\"background-color: #a50026; border-radius: 3px; padding: 0 2px;\"> to</span><span style=\"background-color: #a50026; border-radius: 3px; padding: 0 2px;\"> learn</span><span style=\"background-color: #a50026; border-radius: 3px; padding: 0 2px;\"> their</span><span style=\"background-color: #a50026; border-radius: 3px; padding: 0 2px;\"> language</span><span style=\"background-color: #a50026; border-radius: 3px; padding: 0 2px;\">;</span><span style=\"background-color: #a50026; border-radius: 3px; padding: 0 2px;\">\n",
              "</span><span style=\"background-color: #a50026; border-radius: 3px; padding: 0 2px;\">and</span><span style=\"background-color: #a50026; border-radius: 3px; padding: 0 2px;\"> the</span><span style=\"background-color: #a50026; border-radius: 3px; padding: 0 2px;\"> idea</span><span style=\"background-color: #a50026; border-radius: 3px; padding: 0 2px;\"> instantly</span><span style=\"background-color: #a50026; border-radius: 3px; padding: 0 2px;\"> occurred</span><span style=\"background-color: #fdb668; border-radius: 3px; padding: 0 2px;\"> to</span><span style=\"background-color: #a50026; border-radius: 3px; padding: 0 2px;\"> me</span><span style=\"background-color: #a50026; border-radius: 3px; padding: 0 2px;\"> that</span><span style=\"background-color: #a50026; border-radius: 3px; padding: 0 2px;\"> I</span><span style=\"background-color: #a50026; border-radius: 3px; padding: 0 2px;\"> should</span><span style=\"background-color: #7cc665; border-radius: 3px; padding: 0 2px;\"> make</span><span style=\"background-color: #a50026; border-radius: 3px; padding: 0 2px;\"> use</span><span style=\"background-color: #a50026; border-radius: 3px; padding: 0 2px;\"> of</span><span style=\"background-color: #a50026; border-radius: 3px; padding: 0 2px;\"> the</span><span style=\"background-color: #a50026; border-radius: 3px; padding: 0 2px;\">\n",
              "</span><span style=\"background-color: #a50026; border-radius: 3px; padding: 0 2px;\">same</span><span style=\"background-color: #a50026; border-radius: 3px; padding: 0 2px;\"> instructions</span><span style=\"background-color: #a50026; border-radius: 3px; padding: 0 2px;\"> to</span><span style=\"background-color: #a50026; border-radius: 3px; padding: 0 2px;\"> the</span><span style=\"background-color: #006837; border-radius: 3px; padding: 0 2px;\"> same</span><span style=\"background-color: #a50026; border-radius: 3px; padding: 0 2px;\"> end</span><span style=\"background-color: #a50026; border-radius: 3px; padding: 0 2px;\">.</span></div>"
            ]
          },
          "metadata": {}
        },
        {
          "output_type": "stream",
          "name": "stdout",
          "text": [
            "------------------------------\n"
          ]
        },
        {
          "output_type": "display_data",
          "data": {
            "text/plain": [
              "<IPython.core.display.HTML object>"
            ],
            "text/html": [
              "<div style=\"font-size: 16px; line-height: 1.6; padding: 10px;\"><span style=\"background-color: #a50026; border-radius: 3px; padding: 0 2px;\"><|endoftext|></span><span style=\"background-color: #a50026; border-radius: 3px; padding: 0 2px;\">My</span><span style=\"background-color: #a50026; border-radius: 3px; padding: 0 2px;\"> father</span><span style=\"background-color: #a50026; border-radius: 3px; padding: 0 2px;\"> observed</span><span style=\"background-color: #a50026; border-radius: 3px; padding: 0 2px;\"> with</span><span style=\"background-color: #a50026; border-radius: 3px; padding: 0 2px;\"> pain</span><span style=\"background-color: #a50026; border-radius: 3px; padding: 0 2px;\"> the</span><span style=\"background-color: #a50026; border-radius: 3px; padding: 0 2px;\"> alteration</span><span style=\"background-color: #a50026; border-radius: 3px; padding: 0 2px;\"> percept</span><span style=\"background-color: #a50026; border-radius: 3px; padding: 0 2px;\">ible</span><span style=\"background-color: #a50026; border-radius: 3px; padding: 0 2px;\"> in</span><span style=\"background-color: #a50026; border-radius: 3px; padding: 0 2px;\"> my</span><span style=\"background-color: #a50026; border-radius: 3px; padding: 0 2px;\"> disposition</span><span style=\"background-color: #a50026; border-radius: 3px; padding: 0 2px;\">\n",
              "</span><span style=\"background-color: #a50026; border-radius: 3px; padding: 0 2px;\">and</span><span style=\"background-color: #a50026; border-radius: 3px; padding: 0 2px;\"> habits</span><span style=\"background-color: #a50026; border-radius: 3px; padding: 0 2px;\"> and</span><span style=\"background-color: #a50026; border-radius: 3px; padding: 0 2px;\"> endeav</span><span style=\"background-color: #a50026; border-radius: 3px; padding: 0 2px;\">oured</span><span style=\"background-color: #a50026; border-radius: 3px; padding: 0 2px;\"> by</span><span style=\"background-color: #a50026; border-radius: 3px; padding: 0 2px;\"> arguments</span><span style=\"background-color: #a50026; border-radius: 3px; padding: 0 2px;\"> ded</span><span style=\"background-color: #a50026; border-radius: 3px; padding: 0 2px;\">uced</span><span style=\"background-color: #a50026; border-radius: 3px; padding: 0 2px;\"> from</span><span style=\"background-color: #a50026; border-radius: 3px; padding: 0 2px;\"> the</span><span style=\"background-color: #a50026; border-radius: 3px; padding: 0 2px;\"> feelings</span><span style=\"background-color: #a50026; border-radius: 3px; padding: 0 2px;\"> of</span><span style=\"background-color: #a50026; border-radius: 3px; padding: 0 2px;\"> his</span><span style=\"background-color: #a50026; border-radius: 3px; padding: 0 2px;\">\n",
              "</span><span style=\"background-color: #a50026; border-radius: 3px; padding: 0 2px;\">se</span><span style=\"background-color: #a50026; border-radius: 3px; padding: 0 2px;\">rene</span><span style=\"background-color: #a50026; border-radius: 3px; padding: 0 2px;\"> conscience</span><span style=\"background-color: #a50026; border-radius: 3px; padding: 0 2px;\"> and</span><span style=\"background-color: #a50026; border-radius: 3px; padding: 0 2px;\"> guilt</span><span style=\"background-color: #a50026; border-radius: 3px; padding: 0 2px;\">less</span><span style=\"background-color: #a50026; border-radius: 3px; padding: 0 2px;\"> life</span><span style=\"background-color: #a50026; border-radius: 3px; padding: 0 2px;\"> to</span><span style=\"background-color: #fee797; border-radius: 3px; padding: 0 2px;\"> inspire</span><span style=\"background-color: #a50026; border-radius: 3px; padding: 0 2px;\"> me</span><span style=\"background-color: #a50026; border-radius: 3px; padding: 0 2px;\"> with</span><span style=\"background-color: #a50026; border-radius: 3px; padding: 0 2px;\"> fort</span><span style=\"background-color: #a50026; border-radius: 3px; padding: 0 2px;\">itude</span><span style=\"background-color: #a50026; border-radius: 3px; padding: 0 2px;\"> and</span><span style=\"background-color: #a50026; border-radius: 3px; padding: 0 2px;\">\n",
              "</span><span style=\"background-color: #a50026; border-radius: 3px; padding: 0 2px;\">aw</span><span style=\"background-color: #a50026; border-radius: 3px; padding: 0 2px;\">aken</span><span style=\"background-color: #95d168; border-radius: 3px; padding: 0 2px;\"> in</span><span style=\"background-color: #a50026; border-radius: 3px; padding: 0 2px;\"> me</span><span style=\"background-color: #a50026; border-radius: 3px; padding: 0 2px;\"> the</span><span style=\"background-color: #a50026; border-radius: 3px; padding: 0 2px;\"> courage</span><span style=\"background-color: #a50026; border-radius: 3px; padding: 0 2px;\"> to</span><span style=\"background-color: #a50026; border-radius: 3px; padding: 0 2px;\"> dispel</span><span style=\"background-color: #a50026; border-radius: 3px; padding: 0 2px;\"> the</span><span style=\"background-color: #fa9a58; border-radius: 3px; padding: 0 2px;\"> dark</span><span style=\"background-color: #a50026; border-radius: 3px; padding: 0 2px;\"> cloud</span><span style=\"background-color: #a50026; border-radius: 3px; padding: 0 2px;\"> which</span><span style=\"background-color: #a50026; border-radius: 3px; padding: 0 2px;\"> bro</span><span style=\"background-color: #a50026; border-radius: 3px; padding: 0 2px;\">oded</span><span style=\"background-color: #006837; border-radius: 3px; padding: 0 2px;\"> over</span><span style=\"background-color: #a50026; border-radius: 3px; padding: 0 2px;\"> me</span><span style=\"background-color: #a50026; border-radius: 3px; padding: 0 2px;\">.</span></div>"
            ]
          },
          "metadata": {}
        },
        {
          "output_type": "stream",
          "name": "stdout",
          "text": [
            "------------------------------\n"
          ]
        },
        {
          "output_type": "display_data",
          "data": {
            "text/plain": [
              "<IPython.core.display.HTML object>"
            ],
            "text/html": [
              "<div style=\"font-size: 16px; line-height: 1.6; padding: 10px;\"><span style=\"background-color: #a50026; border-radius: 3px; padding: 0 2px;\"><|endoftext|></span><span style=\"background-color: #a50026; border-radius: 3px; padding: 0 2px;\">�</span><span style=\"background-color: #a50026; border-radius: 3px; padding: 0 2px;\">�</span><span style=\"background-color: #a50026; border-radius: 3px; padding: 0 2px;\">For</span><span style=\"background-color: #a50026; border-radius: 3px; padding: 0 2px;\"> that</span><span style=\"background-color: #a50026; border-radius: 3px; padding: 0 2px;\"> matter</span><span style=\"background-color: #a50026; border-radius: 3px; padding: 0 2px;\">,</span><span style=\"background-color: #a50026; border-radius: 3px; padding: 0 2px;\">�</span><span style=\"background-color: #a50026; border-radius: 3px; padding: 0 2px;\">�</span><span style=\"background-color: #a50026; border-radius: 3px; padding: 0 2px;\"> replied</span><span style=\"background-color: #a50026; border-radius: 3px; padding: 0 2px;\"> the</span><span style=\"background-color: #a50026; border-radius: 3px; padding: 0 2px;\"> old</span><span style=\"background-color: #a50026; border-radius: 3px; padding: 0 2px;\"> woman</span><span style=\"background-color: #a50026; border-radius: 3px; padding: 0 2px;\">,</span><span style=\"background-color: #a50026; border-radius: 3px; padding: 0 2px;\"> �</span><span style=\"background-color: #a50026; border-radius: 3px; padding: 0 2px;\">�</span><span style=\"background-color: #a50026; border-radius: 3px; padding: 0 2px;\">if</span><span style=\"background-color: #a50026; border-radius: 3px; padding: 0 2px;\"> you</span><span style=\"background-color: #a50026; border-radius: 3px; padding: 0 2px;\"> mean</span><span style=\"background-color: #a50026; border-radius: 3px; padding: 0 2px;\"> about</span><span style=\"background-color: #a50026; border-radius: 3px; padding: 0 2px;\"> the</span><span style=\"background-color: #a50026; border-radius: 3px; padding: 0 2px;\">\n",
              "</span><span style=\"background-color: #a50026; border-radius: 3px; padding: 0 2px;\">gent</span><span style=\"background-color: #a50026; border-radius: 3px; padding: 0 2px;\">le</span><span style=\"background-color: #a50026; border-radius: 3px; padding: 0 2px;\">man</span><span style=\"background-color: #a50026; border-radius: 3px; padding: 0 2px;\"> you</span><span style=\"background-color: #a50026; border-radius: 3px; padding: 0 2px;\"> murdered</span><span style=\"background-color: #a50026; border-radius: 3px; padding: 0 2px;\">,</span><span style=\"background-color: #a50026; border-radius: 3px; padding: 0 2px;\"> I</span><span style=\"background-color: #a50026; border-radius: 3px; padding: 0 2px;\"> believe</span><span style=\"background-color: #a50026; border-radius: 3px; padding: 0 2px;\"> that</span><span style=\"background-color: #a50026; border-radius: 3px; padding: 0 2px;\"> it</span><span style=\"background-color: #a50026; border-radius: 3px; padding: 0 2px;\"> were</span><span style=\"background-color: #a50026; border-radius: 3px; padding: 0 2px;\"> better</span><span style=\"background-color: #a50026; border-radius: 3px; padding: 0 2px;\"> for</span><span style=\"background-color: #a50026; border-radius: 3px; padding: 0 2px;\"> you</span><span style=\"background-color: #a50026; border-radius: 3px; padding: 0 2px;\"> if</span><span style=\"background-color: #a50026; border-radius: 3px; padding: 0 2px;\"> you</span><span style=\"background-color: #a50026; border-radius: 3px; padding: 0 2px;\">\n",
              "</span><span style=\"background-color: #006837; border-radius: 3px; padding: 0 2px;\">were</span><span style=\"background-color: #a50026; border-radius: 3px; padding: 0 2px;\"> dead</span><span style=\"background-color: #a50026; border-radius: 3px; padding: 0 2px;\">,</span><span style=\"background-color: #a50026; border-radius: 3px; padding: 0 2px;\"> for</span><span style=\"background-color: #a50026; border-radius: 3px; padding: 0 2px;\"> I</span><span style=\"background-color: #a50026; border-radius: 3px; padding: 0 2px;\"> fancy</span><span style=\"background-color: #a50026; border-radius: 3px; padding: 0 2px;\"> it</span><span style=\"background-color: #fee18d; border-radius: 3px; padding: 0 2px;\"> will</span><span style=\"background-color: #fef8b3; border-radius: 3px; padding: 0 2px;\"> go</span><span style=\"background-color: #a50026; border-radius: 3px; padding: 0 2px;\"> hard</span><span style=\"background-color: #a50026; border-radius: 3px; padding: 0 2px;\"> with</span><span style=\"background-color: #a50026; border-radius: 3px; padding: 0 2px;\"> you</span><span style=\"background-color: #a50026; border-radius: 3px; padding: 0 2px;\">!</span></div>"
            ]
          },
          "metadata": {}
        },
        {
          "output_type": "stream",
          "name": "stdout",
          "text": [
            "------------------------------\n"
          ]
        },
        {
          "output_type": "display_data",
          "data": {
            "text/plain": [
              "<IPython.core.display.HTML object>"
            ],
            "text/html": [
              "<div style=\"font-size: 16px; line-height: 1.6; padding: 10px;\"><span style=\"background-color: #a50026; border-radius: 3px; padding: 0 2px;\"><|endoftext|></span><span style=\"background-color: #a50026; border-radius: 3px; padding: 0 2px;\">Yet</span><span style=\"background-color: #a50026; border-radius: 3px; padding: 0 2px;\"> at</span><span style=\"background-color: #a50026; border-radius: 3px; padding: 0 2px;\"> the</span><span style=\"background-color: #a50026; border-radius: 3px; padding: 0 2px;\"> idea</span><span style=\"background-color: #a50026; border-radius: 3px; padding: 0 2px;\">\n",
              "</span><span style=\"background-color: #a50026; border-radius: 3px; padding: 0 2px;\">that</span><span style=\"background-color: #a50026; border-radius: 3px; padding: 0 2px;\"> the</span><span style=\"background-color: #a50026; border-radius: 3px; padding: 0 2px;\"> fi</span><span style=\"background-color: #a50026; border-radius: 3px; padding: 0 2px;\">end</span><span style=\"background-color: #a50026; border-radius: 3px; padding: 0 2px;\"> should</span><span style=\"background-color: #a50026; border-radius: 3px; padding: 0 2px;\"> live</span><span style=\"background-color: #d93529; border-radius: 3px; padding: 0 2px;\"> and</span><span style=\"background-color: #a50026; border-radius: 3px; padding: 0 2px;\"> be</span><span style=\"background-color: #a50026; border-radius: 3px; padding: 0 2px;\"> triumphant</span><span style=\"background-color: #a50026; border-radius: 3px; padding: 0 2px;\">,</span><span style=\"background-color: #a50026; border-radius: 3px; padding: 0 2px;\"> my</span><span style=\"background-color: #a50026; border-radius: 3px; padding: 0 2px;\"> rage</span><span style=\"background-color: #a50026; border-radius: 3px; padding: 0 2px;\"> and</span><span style=\"background-color: #a50026; border-radius: 3px; padding: 0 2px;\"> vengeance</span><span style=\"background-color: #006837; border-radius: 3px; padding: 0 2px;\">\n",
              "</span><span style=\"background-color: #a50026; border-radius: 3px; padding: 0 2px;\">return</span><span style=\"background-color: #a50026; border-radius: 3px; padding: 0 2px;\">ed</span><span style=\"background-color: #a50026; border-radius: 3px; padding: 0 2px;\">,</span><span style=\"background-color: #a50026; border-radius: 3px; padding: 0 2px;\"> and</span><span style=\"background-color: #a50026; border-radius: 3px; padding: 0 2px;\"> like</span><span style=\"background-color: #a50026; border-radius: 3px; padding: 0 2px;\"> a</span><span style=\"background-color: #a50026; border-radius: 3px; padding: 0 2px;\"> mighty</span><span style=\"background-color: #a50026; border-radius: 3px; padding: 0 2px;\"> tide</span><span style=\"background-color: #a50026; border-radius: 3px; padding: 0 2px;\">,</span><span style=\"background-color: #a50026; border-radius: 3px; padding: 0 2px;\"> overwhelmed</span><span style=\"background-color: #a50026; border-radius: 3px; padding: 0 2px;\"> every</span><span style=\"background-color: #a50026; border-radius: 3px; padding: 0 2px;\"> other</span><span style=\"background-color: #a50026; border-radius: 3px; padding: 0 2px;\"> feeling</span><span style=\"background-color: #a50026; border-radius: 3px; padding: 0 2px;\">.</span></div>"
            ]
          },
          "metadata": {}
        },
        {
          "output_type": "stream",
          "name": "stdout",
          "text": [
            "------------------------------\n"
          ]
        },
        {
          "output_type": "display_data",
          "data": {
            "text/plain": [
              "<IPython.core.display.HTML object>"
            ],
            "text/html": [
              "<div style=\"font-size: 16px; line-height: 1.6; padding: 10px;\"><span style=\"background-color: #a50026; border-radius: 3px; padding: 0 2px;\"><|endoftext|></span><span style=\"background-color: #a50026; border-radius: 3px; padding: 0 2px;\">R</span><span style=\"background-color: #a50026; border-radius: 3px; padding: 0 2px;\">.</span></div>"
            ]
          },
          "metadata": {}
        },
        {
          "output_type": "stream",
          "name": "stdout",
          "text": [
            "------------------------------\n"
          ]
        },
        {
          "output_type": "display_data",
          "data": {
            "text/plain": [
              "<IPython.core.display.HTML object>"
            ],
            "text/html": [
              "<div style=\"font-size: 16px; line-height: 1.6; padding: 10px;\"><span style=\"background-color: #a50026; border-radius: 3px; padding: 0 2px;\"><|endoftext|></span><span style=\"background-color: #a50026; border-radius: 3px; padding: 0 2px;\">I</span><span style=\"background-color: #a50026; border-radius: 3px; padding: 0 2px;\"> remained</span><span style=\"background-color: #a50026; border-radius: 3px; padding: 0 2px;\"> two</span><span style=\"background-color: #a50026; border-radius: 3px; padding: 0 2px;\"> days</span><span style=\"background-color: #a50026; border-radius: 3px; padding: 0 2px;\"> at</span><span style=\"background-color: #a50026; border-radius: 3px; padding: 0 2px;\"> La</span><span style=\"background-color: #a50026; border-radius: 3px; padding: 0 2px;\">us</span><span style=\"background-color: #a50026; border-radius: 3px; padding: 0 2px;\">anne</span><span style=\"background-color: #a50026; border-radius: 3px; padding: 0 2px;\">,</span><span style=\"background-color: #a50026; border-radius: 3px; padding: 0 2px;\"> in</span><span style=\"background-color: #a50026; border-radius: 3px; padding: 0 2px;\"> this</span><span style=\"background-color: #70c164; border-radius: 3px; padding: 0 2px;\"> painful</span><span style=\"background-color: #a50026; border-radius: 3px; padding: 0 2px;\"> state</span><span style=\"background-color: #a50026; border-radius: 3px; padding: 0 2px;\"> of</span><span style=\"background-color: #a50026; border-radius: 3px; padding: 0 2px;\"> mind</span><span style=\"background-color: #a50026; border-radius: 3px; padding: 0 2px;\">.</span></div>"
            ]
          },
          "metadata": {}
        },
        {
          "output_type": "stream",
          "name": "stdout",
          "text": [
            "------------------------------\n"
          ]
        }
      ]
    },
    {
      "cell_type": "code",
      "source": [],
      "metadata": {
        "id": "HvSQBcOT73SH"
      },
      "execution_count": null,
      "outputs": []
    }
  ]
}