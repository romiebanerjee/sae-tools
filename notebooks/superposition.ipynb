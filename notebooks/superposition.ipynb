{
  "cells": [
    {
      "cell_type": "markdown",
      "metadata": {
        "id": "view-in-github",
        "colab_type": "text"
      },
      "source": [
        "<a href=\"https://colab.research.google.com/github/romiebanerjee/sae-tools/blob/master/notebooks/superposition.ipynb\" target=\"_parent\"><img src=\"https://colab.research.google.com/assets/colab-badge.svg\" alt=\"Open In Colab\"/></a>"
      ]
    },
    {
      "cell_type": "code",
      "source": [
        "# !pip install transformer_lens"
      ],
      "metadata": {
        "collapsed": true,
        "id": "HhnrAylUv4DY"
      },
      "id": "HhnrAylUv4DY",
      "execution_count": null,
      "outputs": []
    },
    {
      "cell_type": "code",
      "source": [
        "import numpy as np\n",
        "import matplotlib.pyplot as plt\n",
        "import torch\n",
        "from tqdm import tqdm\n",
        "\n",
        "device = torch.device(\"cuda\" if torch.cuda.is_available() else \"cpu\")\n",
        "print(\"Using device: \", device)"
      ],
      "metadata": {
        "colab": {
          "base_uri": "https://localhost:8080/"
        },
        "id": "AmwC5_rK4nmL",
        "outputId": "eefc86f8-d278-448b-aa18-0c6abd274463"
      },
      "id": "AmwC5_rK4nmL",
      "execution_count": null,
      "outputs": [
        {
          "output_type": "stream",
          "name": "stdout",
          "text": [
            "Using device:  cpu\n"
          ]
        }
      ]
    },
    {
      "cell_type": "code",
      "source": [
        "import transformer_lens\n",
        "!git clone https://github.com/romiebanerjee/sae-tools.git\n",
        "%cd sae-tools\n",
        "import sparse_autoencoder as sae"
      ],
      "metadata": {
        "colab": {
          "base_uri": "https://localhost:8080/"
        },
        "id": "MWA4aTAQv9xm",
        "outputId": "f0760fc4-c2b7-40e3-90c2-c986af0f2f6b"
      },
      "id": "MWA4aTAQv9xm",
      "execution_count": null,
      "outputs": [
        {
          "output_type": "stream",
          "name": "stdout",
          "text": [
            "Cloning into 'sae-tools'...\n",
            "remote: Enumerating objects: 33, done.\u001b[K\n",
            "remote: Counting objects: 100% (33/33), done.\u001b[K\n",
            "remote: Compressing objects: 100% (27/27), done.\u001b[K\n",
            "remote: Total 33 (delta 1), reused 21 (delta 0), pack-reused 0 (from 0)\u001b[K\n",
            "Receiving objects: 100% (33/33), 228.06 KiB | 4.39 MiB/s, done.\n",
            "Resolving deltas: 100% (1/1), done.\n",
            "/content/sae-tools\n"
          ]
        }
      ]
    },
    {
      "cell_type": "markdown",
      "source": [
        "# Linear Representation Hypothesis & Superposition\n",
        "\n",
        "### Linear Representation Hypothesis  \n",
        "Let $\\mathbf{h} \\in \\mathbb{R}^d $ be an activation vector in a neural network layer. The hypothesis states that **features** $f$ correspond to **linear (or affine) directions** in this space:  \n",
        "\n",
        "$$\n",
        "f(\\mathbf{x}) \\approx \\mathbf{v}_f^\\top \\mathbf{h}(\\mathbf{x}) + b_f\n",
        "$$\n",
        "\n",
        "where:  \n",
        "- $\\mathbf{v}_f \\in \\mathbb{R}^d$ is the **feature direction**,  \n",
        "- $b_f \\in \\mathbb{R}$ is a bias term.  \n",
        "\n",
        "This implies **linear separability** of features in activation space, enabling methods like **probing** and **dictionary learning**.\n",
        "\n",
        "---\n",
        "\n",
        "### Superposition Principle  \n",
        "Networks often represent **more features than dimensions** $N \\gg d $ by exploiting:  \n",
        "\n",
        "1. **Sparsity**: For a given input, only a small subset of features $ \\{f_k\\} $ are active.  \n",
        "2. **Approximate Orthogonality**: Feature directions $\\mathbf{v}_{f_i} $ are quasi-orthogonal $\\mathbf{v}_{f_i}^\\top \\mathbf{v}_{f_j} \\approx 0 $ when semantically unrelated.  \n",
        "\n",
        "The activation vector thus decomposes as:  \n",
        "\n",
        "$$\n",
        "\\mathbf{h} = \\sum_{k=1}^N a_k \\mathbf{v}_{f_k} + \\boldsymbol{\\epsilon}\n",
        "$$\n",
        "\n",
        "where:  \n",
        "- $a_k$ are sparse coefficients $\\| \\mathbf{a} \\|_0 \\ll N $,  \n",
        "- $\\boldsymbol{\\epsilon}$ is residual noise.  \n",
        "\n",
        "This resembles **sparse coding** or an **overcomplete basis**, where interference is minimized via geometric constraints.\n",
        "\n",
        "---\n",
        "\n",
        "### Key Implications  \n",
        "- **Polysemanticity**: Neurons may encode multiple features (non-orthogonal $\\mathbf{v}_{f_i} $.  \n",
        "- **Capacity-Efficiency Tradeoff**: More features $N$) → higher interference $\\mathbb{E}[\\mathbf{v}_i^\\top \\mathbf{v}_j] > 0 $.  \n",
        "- **Mechanistic Interpretability**: Reverse-engineering reduces to identifying $\\mathbf{v}_f $ and their nonlinear interactions."
      ],
      "metadata": {
        "id": "_ZtmLhs8xodI"
      },
      "id": "_ZtmLhs8xodI"
    },
    {
      "cell_type": "markdown",
      "source": [
        "## Mathematical Foundations of Superposition: Johnson-Lindenstrauss and Random Vectors\n",
        "\n",
        "A key mathematical principle enabling the superposition of many near-orthogonal features in neural networks is the Johnson-Lindenstrauss (JL) Lemma, which guarantees that a set of vectors in high-dimensional space can be randomly projected into a lower-dimensional space while approximately preserving their pairwise distances (and thus angles between them).\n",
        "\n",
        "**Johnson-Lindenstrauss Flattening Lemma:**\n",
        "For any $0 < \\epsilon < 1$ and any integer $N$, let $d$ be a positive integer satisfying:\n",
        "$$\n",
        "d \\geq \\frac{4\\ln N}{\\epsilon^2/2 - \\epsilon^3/3}$$\n",
        "\n",
        "Then for any set $V$ of $N$ points in $\\mathbb{R}^D$, there exists a map $f: \\mathbb{R}^D \\to \\mathbb{R}^d$ such that for all $\\mathbf{u}, \\mathbf{v} \\in V$:\n",
        "$$\n",
        "(1-\\epsilon)\\|\\mathbf{u}-\\mathbf{v}\\|^2 \\leq \\|f(\\mathbf{u})-f(\\mathbf{v})\\|^2 \\leq (1+\\epsilon)\\|\\mathbf{u}-\\mathbf{v}\\|^2\n",
        "$$\n",
        "\n",
        "## Implications for Superposition\n",
        "\n",
        "- **Quasi-Orthogonality**: In high dimensions ($d \\gg \\ln N$), random vectors are likely to be nearly orthogonal:\n",
        "$$\n",
        "\\mathbb{E}[\\langle \\mathbf{v}_i, \\mathbf{v}_j \\rangle] \\approx 0 \\quad \\text{for} \\quad i \\neq j\n",
        "$$\n",
        "    \n",
        "- **Capacity Scaling**: The maximum number $N$ of $\\epsilon$-orthogonal vectors grows exponentially with dimension $d$:\n",
        "$$\n",
        "N \\sim \\exp(c_\\epsilon d)\n",
        "$$\n",
        "where $c_\\epsilon$ is a constant depending on the orthogonality tolerance $\\epsilon$.\n",
        "\n"
      ],
      "metadata": {
        "id": "z4YE74Ix1OoB"
      },
      "id": "z4YE74Ix1OoB"
    },
    {
      "cell_type": "markdown",
      "source": [
        "## Simple Experiment Setup\n",
        "\n",
        "To empirically verify this phenomenon, we can:\n",
        "\n",
        "- Generate $N=10000$ random unit vectors in $\\mathbb{R}^d$ for varying $d$ (e.g., $d \\in \\{2,10,100,1000, 10000\\}$)\n",
        "    \n",
        "- Compute the pairwise cosine similarities:\n",
        "$$\n",
        "\\cos \\theta_{ij} = \\frac{\\mathbf{v}_i^\\top \\mathbf{v}_j}{\\|\\mathbf{v}_i\\|\\|\\mathbf{v}_j\\|}\n",
        "$$\n",
        "    \n",
        "- Observe that as $d$ increases:\n",
        "  - The histogram of $\\cos \\theta_{ij}$ concentrates around 0\n",
        "  - The maximum absolute inner product $\\max_{i \\neq j} |\\cos \\theta_{ij}|$ decreases as $O\\left(\\sqrt{\\frac{\\ln N}{d}}\\right)$\n",
        "\n",
        "This demonstrates why neural networks can pack many weakly interfering features in high-dimensional activation spaces - the geometry naturally supports near-orthogonal representations.\n",
        "  "
      ],
      "metadata": {
        "id": "wvXaugjo4HYj"
      },
      "id": "wvXaugjo4HYj"
    },
    {
      "cell_type": "markdown",
      "source": [],
      "metadata": {
        "id": "VrPyirQK4xFO"
      },
      "id": "VrPyirQK4xFO"
    },
    {
      "cell_type": "code",
      "execution_count": null,
      "metadata": {
        "id": "49vlahth48CZ"
      },
      "outputs": [],
      "source": [
        "\n",
        "dim_list  = [2, 10, 100, 1000, 10000]\n",
        "num_vecs = 10000\n",
        "cos_sims = []\n",
        "for dim in dim_list:\n",
        "    big_matrix_random = torch.randn(num_vecs, dim)\n",
        "    dot_products = big_matrix_random @ big_matrix_random.T\n",
        "    norms = torch.sqrt(torch.diag(dot_products))\n",
        "    cos_sim = dot_products/ torch.outer(norms, norms)\n",
        "    self_orthogonality_mask =  ~(torch.eye(num_vecs, num_vecs).bool())\n",
        "    cos_sim = cos_sim[self_orthogonality_mask]\n",
        "    cos_sims.append(cos_sim)"
      ],
      "id": "49vlahth48CZ"
    },
    {
      "cell_type": "code",
      "execution_count": null,
      "metadata": {
        "outputId": "e8938799-1bcc-4cf8-be46-c238556d0514",
        "colab": {
          "base_uri": "https://localhost:8080/",
          "height": 872
        },
        "id": "Qq7BcbX7DP6K"
      },
      "outputs": [
        {
          "output_type": "display_data",
          "data": {
            "text/plain": [
              "<Figure size 1000x1000 with 2 Axes>"
            ],
            "image/png": "[encoded data removed]"
          },
          "metadata": {}
        }
      ],
      "source": [
        "fig, axes = plt.subplots(2, figsize = (10,10))\n",
        "for cos_sim, dim in zip(cos_sims, dim_list):\n",
        "  axes[0].hist(cos_sim.numpy().ravel(), bins = 1000, range = (-1,1), alpha = 0.5, label = f\"dim = {dim}\" )\n",
        "axes[0].grid(1)\n",
        "axes[0].legend()\n",
        "axes[0].set_xlabel(\"Cosine Similarity\")\n",
        "axes[0].set_ylabel(\"Frequency\")\n",
        "axes[0].set_title(\"Cosine Similarity Distribution\")\n",
        "\n",
        "axes[1].plot([torch.max(torch.abs(cos_sim)) for cos_sim in cos_sims], label = 'max cos sim')\n",
        "axes[1].plot([torch.mean(torch.abs(cos_sim)) for cos_sim in cos_sims], label = 'mean cos sim')\n",
        "axes[1].set_xlabel('log_10(dim)')\n",
        "axes[1].set_xticks([np.log10(dim) for dim in dim_list])\n",
        "axes[1].set_ylabel('cos sim')\n",
        "# axes[1].set_title(\"Mean cosine similarity\")\n",
        "axes[1].grid(1)\n",
        "axes[1].legend()\n",
        "plt.show()"
      ],
      "id": "Qq7BcbX7DP6K"
    },
    {
      "cell_type": "markdown",
      "source": [],
      "metadata": {
        "id": "gsmao_99Fm2h"
      },
      "id": "gsmao_99Fm2h"
    },
    {
      "cell_type": "markdown",
      "source": [
        "# Experimental Setup with OpenAI's GPT2-small SAE\n",
        "\n",
        "For this investigation, we'll analyze feature orthogonality using the **OpenAI Sparse Autoencoder (SAE)** trained on GPT-2 Small's activations. Key specifications from their implementation:\n",
        "\n",
        "*Scaling and evaluating sparse autoencoders, OPENAI* [paper](https://arxiv.org/pdf/2406.04093v1)  [repo](https://arxiv.org/pdf/2406.04093v1)\n",
        "\n",
        "- **Input**: Residual stream of GPT-2 small, training context length  = 64\n",
        "- **Baseline ReLU autoencoder**: For an input vector $x\\in \\mathbb{R}^d$, the encoder and decoder are defined by:\n",
        "$$z = ReLU(Wenc(x − b_{pre}) + b_{enc})$$\n",
        "$$ˆx = W_{dec}z + b_{pre}$$ with $W_{enc} ∈ \\mathbb{R}^{n\\times d}, b_{enc} \\in \\mathbb{R^n}, W_{dec} \\in \\mathbb{R}^{d \\times n},$ and $b_{pre} ∈ \\mathbb{R}^d$. The training loss is defined by\n",
        "$$L = ||x − \\hat{x}||^2 + λ||z||_1,$$ where $||x − \\hat{x}||^2$\n",
        " is the reconstruction MSE, $||z||_1$ is an L1 penalty promoting\n",
        "sparsity in latent activations $z$, and $\\lambda$ is a hyperparameter that needs to be tuned\n",
        "- **TopK** K-sparse autoencoder defined usig TopK activation function: The ecoder is modified as $$z = TopK(W_{enc}(x − b_{pre}).$$ removing the need for $L_1$ penalty from the loss functions\n",
        "- **Expansion Factor**: ~42× (768  → 32,768 dimensional latent space)\n",
        "- **Sparsity**: k = 32"
      ],
      "metadata": {
        "id": "ix-Wkr5Wh91z"
      },
      "id": "ix-Wkr5Wh91z"
    },
    {
      "cell_type": "code",
      "execution_count": null,
      "id": "f5f208fb",
      "metadata": {
        "colab": {
          "base_uri": "https://localhost:8080/",
          "height": 384,
          "referenced_widgets": [
            "b7b8641ef7b9449a97815fe95bd5a3ea",
            "936376ca25644a14833677b932272b0f",
            "fdfbb40bde0e4d7eac7e84bd88979843",
            "07c5cf87fe9741acba12b03d121dd213",
            "276c72979c0047d9ba5065f37e22c1fa",
            "3990f1597b434e1693c5e92ac81e1229",
            "e4562ce349c743b1a802ce173db84dee",
            "b2724e74348448a38b2d34d38f29dd65",
            "4d578179f03d4b448240be97acdd80ae",
            "19d67959254347a9874eba78ddf58154",
            "d17861fc0aa94e6dae95011f9aafa984",
            "50d713e6b0744ea480c514d7f4ef4496",
            "fbbd5f4617e344a0a008d951c251419b",
            "c741c32994f04c2f85322a3698c2a361",
            "5505afeaa09a4675b5984ff19d6201ba",
            "164186bebc9745dea07583e322d2dde4",
            "92397ffc5b4641d2b1731f943a32751b",
            "aa93d737b3794787be079c9cf757b220",
            "c68b8c9e7f8f4313bcc171e1260ea487",
            "2aa08d04bdf64c27854ec9dd0903ff73",
            "2c7f7408c8ee402b8a8033a5e35b471e",
            "cbdf541ce76d4486aa4bcf205eaf1901",
            "fb64c20e2b50481d990b6566b02ffe2c",
            "fc14d811bc494b8a8d97c10b1538fa64",
            "aed272d6f2594dc196939111d8ed7d00",
            "96f6f9bd79fd417585f2bbf146c3b408",
            "2bd83b9d9ccc4cec9d7048bc1cb32f27",
            "6c59783db1ec4c748f00f8c7223b492a",
            "26e657ea3d784543909e1ad92b63fbe6",
            "730fbc38d6dc4806b25730bba8e36806",
            "3f374d5d01e844e99e4f90e5fa1a1fe6",
            "a825b50df30e440486d7da1b7191537d",
            "ce6b234b51874885b8a1b7141eae8b7b",
            "983be340b65d461f93f42e3d8e7ee6af",
            "70366a7675a3411dba27cbdbd6e1cc85",
            "92e88f159c2141f2bf28c3844637c0b7",
            "896f1f945819449c9edd0d784b5405d9",
            "84600c7a81504d9088f69afabde2980f",
            "99435e04916d4f4bb6fc00a1a45946e9",
            "43e16bcb940e461ca93242864b44fd77",
            "f5a045d042524cc8bf82faeac4101748",
            "c8cd62d338c54213be0a5d5a33a04cf1",
            "ec53c0ba67a64b26ae280095892c070c",
            "8489f4223e474038aec8db7e04b29bdf",
            "09c96be4ced24830aafc49e13689782f",
            "3c59ce71750341099c009f6d7c6631f3",
            "88c4db232db3417e96c6a08ee933dd37",
            "a15314e4baea413687cfbfdd8258ecdd",
            "510913311cf14fc9998b3d70f3294cd8",
            "903404d353094aafad20e9c1af46ef1f",
            "7a2472547fbd40c2be927fc39983d125",
            "ffcd79800f7d45748815fd2ba469f4d3",
            "0322194c468b414f86e4fd7321d361c1",
            "23170d1ff1114e6c989df1d4daa692f5",
            "c66ca106414746659031871119bef6c6",
            "6dca3a490f34426abff40e74d7b19fa3",
            "ad1405c46e20420dbac4ab805cdadbd9",
            "ee62d490d9b44a2b9da674153183ac6e",
            "9b996f96072a45a299be5b2274153384",
            "ba26e0a341f84b16a7af6ea25f1c27cc",
            "5f5082249360460c8003c00330108995",
            "1113778e4eee499299b4900faeb5bf7d",
            "39d2a95f316043ac8358011a7beb755d",
            "6f53d7910b4e4250954686112024df40",
            "89a0796b8fb24d14ac0560084d5f0735",
            "3ecc0bfc45054729ad903fdc1f786c59",
            "1911800db2ff4e2888bcd75d5a383a42",
            "55220793d39f4f75ab15e02e56ab8eb5",
            "9f3bd88cd1cd4aaea18b79cf63687769",
            "030bc4377a9847ac84b90144a0092051",
            "80f13e8653b7414eab051b44bbdc4cc4",
            "18ac6e85e05c407897fbb0e3ed8bf0cf",
            "95cf48f570964e769acf50f4cbe2b6d3",
            "21a2db6bb3134e25b3b49ac1aaca63af",
            "f73f381d91b848e2af059f671b3a8854",
            "c78b512b30aa49d2b41f7db9f240ea3d",
            "0df4f9b2f9b14ac9880438c1935f4807"
          ]
        },
        "id": "f5f208fb",
        "outputId": "69669fee-c487-4b06-d55d-daaa55560ed5"
      },
      "outputs": [
        {
          "output_type": "stream",
          "name": "stderr",
          "text": [
            "/usr/local/lib/python3.11/dist-packages/huggingface_hub/utils/_auth.py:94: UserWarning: \n",
            "The secret `HF_TOKEN` does not exist in your Colab secrets.\n",
            "To authenticate with the Hugging Face Hub, create a token in your settings tab (https://huggingface.co/settings/tokens), set it as secret in your Google Colab and restart your session.\n",
            "You will be able to reuse this secret in all of your notebooks.\n",
            "Please note that authentication is recommended but still optional to access public models or datasets.\n",
            "  warnings.warn(\n"
          ]
        },
        {
          "output_type": "display_data",
          "data": {
            "text/plain": [
              "config.json:   0%|          | 0.00/665 [00:00<?, ?B/s]"
            ],
            "application/vnd.jupyter.widget-view+json": {
              "version_major": 2,
              "version_minor": 0,
              "model_id": "b7b8641ef7b9449a97815fe95bd5a3ea"
            }
          },
          "metadata": {}
        },
        {
          "output_type": "display_data",
          "data": {
            "text/plain": [
              "model.safetensors:   0%|          | 0.00/548M [00:00<?, ?B/s]"
            ],
            "application/vnd.jupyter.widget-view+json": {
              "version_major": 2,
              "version_minor": 0,
              "model_id": "50d713e6b0744ea480c514d7f4ef4496"
            }
          },
          "metadata": {}
        },
        {
          "output_type": "display_data",
          "data": {
            "text/plain": [
              "generation_config.json:   0%|          | 0.00/124 [00:00<?, ?B/s]"
            ],
            "application/vnd.jupyter.widget-view+json": {
              "version_major": 2,
              "version_minor": 0,
              "model_id": "fb64c20e2b50481d990b6566b02ffe2c"
            }
          },
          "metadata": {}
        },
        {
          "output_type": "display_data",
          "data": {
            "text/plain": [
              "tokenizer_config.json:   0%|          | 0.00/26.0 [00:00<?, ?B/s]"
            ],
            "application/vnd.jupyter.widget-view+json": {
              "version_major": 2,
              "version_minor": 0,
              "model_id": "983be340b65d461f93f42e3d8e7ee6af"
            }
          },
          "metadata": {}
        },
        {
          "output_type": "display_data",
          "data": {
            "text/plain": [
              "vocab.json:   0%|          | 0.00/1.04M [00:00<?, ?B/s]"
            ],
            "application/vnd.jupyter.widget-view+json": {
              "version_major": 2,
              "version_minor": 0,
              "model_id": "09c96be4ced24830aafc49e13689782f"
            }
          },
          "metadata": {}
        },
        {
          "output_type": "display_data",
          "data": {
            "text/plain": [
              "merges.txt:   0%|          | 0.00/456k [00:00<?, ?B/s]"
            ],
            "application/vnd.jupyter.widget-view+json": {
              "version_major": 2,
              "version_minor": 0,
              "model_id": "6dca3a490f34426abff40e74d7b19fa3"
            }
          },
          "metadata": {}
        },
        {
          "output_type": "display_data",
          "data": {
            "text/plain": [
              "tokenizer.json:   0%|          | 0.00/1.36M [00:00<?, ?B/s]"
            ],
            "application/vnd.jupyter.widget-view+json": {
              "version_major": 2,
              "version_minor": 0,
              "model_id": "1911800db2ff4e2888bcd75d5a383a42"
            }
          },
          "metadata": {}
        },
        {
          "output_type": "stream",
          "name": "stdout",
          "text": [
            "Loaded pretrained model gpt2 into HookedTransformer\n",
            "Moving model to device:  cpu\n"
          ]
        }
      ],
      "source": [
        "model = transformer_lens.HookedTransformer.from_pretrained(\"gpt2\", center_writing_weights=False).to(device)"
      ]
    },
    {
      "cell_type": "code",
      "execution_count": null,
      "id": "68d33ed3",
      "metadata": {
        "id": "68d33ed3"
      },
      "outputs": [],
      "source": [
        "def get_layer_name(location: str, layer_index:int):\n",
        "    transformer_lens_loc = {\n",
        "        \"mlp_post_act\": f\"blocks.{layer_index}.mlp.hook_post\",\n",
        "        \"resid_delta_attn\": f\"blocks.{layer_index}.hook_attn_out\",\n",
        "        \"resid_post_attn\": f\"blocks.{layer_index}.hook_resid_mid\",\n",
        "        \"resid_delta_mlp\": f\"blocks.{layer_index}.hook_mlp_out\",\n",
        "        \"resid_post_mlp\": f\"blocks.{layer_index}.hook_resid_post\",\n",
        "    }[location]\n",
        "\n",
        "    return transformer_lens_loc"
      ]
    },
    {
      "cell_type": "code",
      "source": [
        "from IPython.display import Image\n",
        "img_url = \"https://transformerlensorg.github.io/TransformerLens/_downloads/ee2d5f417d3b64d0f61ec8a9ede5f15b/TransformerLens_Diagram.svg\"\n",
        "display(Image(url=img_url))"
      ],
      "metadata": {
        "colab": {
          "base_uri": "https://localhost:8080/",
          "height": 1000
        },
        "id": "FcMRa-_8PYZQ",
        "outputId": "95a66d44-478d-40ba-bd8d-4b528c84b611"
      },
      "id": "FcMRa-_8PYZQ",
      "execution_count": null,
      "outputs": [
        {
          "output_type": "display_data",
          "data": {
            "text/html": [
              "<img src=\"https://transformerlensorg.github.io/TransformerLens/_downloads/ee2d5f417d3b64d0f61ec8a9ede5f15b/TransformerLens_Diagram.svg\"/>"
            ],
            "text/plain": [
              "<IPython.core.display.Image object>"
            ]
          },
          "metadata": {}
        }
      ]
    },
    {
      "cell_type": "code",
      "source": [
        "input = \"You will rejoice to hear that no disaster has accompanied the commencement of an enterprise which you have regarded with such evil forebodings.\"\n",
        "input_2 =  \"I arrived here yesterday, and my first task is to assure my dear sister of my welfare and increasing confidence in the success of my undertaking. \"\n",
        "tokens = model.to_tokens(input)  # (1, n_tokens)\n",
        "with torch.no_grad():\n",
        "    logits, activation_cache = model.run_with_cache(tokens, remove_batch_dim=False)\n"
      ],
      "metadata": {
        "id": "pXRpxS1UwnDD"
      },
      "id": "pXRpxS1UwnDD",
      "execution_count": null,
      "outputs": []
    },
    {
      "cell_type": "code",
      "execution_count": null,
      "id": "15bf011d",
      "metadata": {
        "colab": {
          "base_uri": "https://localhost:8080/"
        },
        "id": "15bf011d",
        "outputId": "ea36210d-8358-4b6b-9f90-c1098d0b29a9"
      },
      "outputs": [
        {
          "output_type": "stream",
          "name": "stdout",
          "text": [
            "location = resid_post_mlp, layer_index = 10\n",
            "fetching weights for SAE at layer: ('blocks.10.hook_resid_post',) from:  az://openaipublic/sparse-autoencoder/gpt2-small/resid_post_mlp_v5_32k/autoencoders/10.pt\n"
          ]
        }
      ],
      "source": [
        "'''download SAE weights'''\n",
        "import blobfile as bf\n",
        "layer_index = 10\n",
        "location = \"resid_post_mlp\"\n",
        "\n",
        "with bf.BlobFile(sae.paths.v5_32k(location, layer_index), mode=\"rb\") as f:\n",
        "    print(f\"location = {location}, layer_index = {layer_index}\")\n",
        "    print(f\"fetching weights for SAE at layer: {get_layer_name(location, layer_index),} from:  {sae.paths.v5_32k(location, layer_index)}\")\n",
        "    state_dict = torch.load(f)\n"
      ]
    },
    {
      "cell_type": "code",
      "source": [
        "autoencoder = sae.Autoencoder.from_state_dict(state_dict).to(device)\n",
        "\n",
        "layer_name = get_layer_name(location, layer_index)\n",
        "input_tensor = activation_cache[layer_name]\n",
        "\n",
        "with torch.no_grad():\n",
        "    latent_activations, info = autoencoder.encode(input_tensor)\n",
        "    reconstructed_activations = autoencoder.decode(latent_activations, info)\n",
        "\n",
        "print(f'input tensor: {input_tensor.shape}')\n",
        "print(f'latent activations: {latent_activations.shape}')\n",
        "print(f'reconstructed activations: {reconstructed_activations.shape}')"
      ],
      "metadata": {
        "colab": {
          "base_uri": "https://localhost:8080/"
        },
        "id": "cTzCktpawn5P",
        "outputId": "90aa7b5c-4ba3-4636-dc25-e0348f95a728"
      },
      "id": "cTzCktpawn5P",
      "execution_count": null,
      "outputs": [
        {
          "output_type": "stream",
          "name": "stdout",
          "text": [
            "input tensor: torch.Size([1, 28, 768])\n",
            "latent activations: torch.Size([1, 28, 32768])\n",
            "reconstructed activations: torch.Size([1, 28, 768])\n"
          ]
        }
      ]
    },
    {
      "cell_type": "code",
      "execution_count": null,
      "id": "059dd822",
      "metadata": {
        "id": "059dd822"
      },
      "outputs": [],
      "source": [
        "def random_row_subset(tensor, r):\n",
        "    R = tensor.size(0)\n",
        "    # Generate random indices without replacement\n",
        "    rand_indices = torch.randperm(R)[:r]\n",
        "    # Select the rows\n",
        "    subset = tensor[rand_indices]\n",
        "    return subset"
      ]
    },
    {
      "cell_type": "markdown",
      "source": [
        "Here are the key expected differences between SAE-learned features and random vectors:\n"
      ],
      "metadata": {
        "id": "jnD6s_xuznqk"
      },
      "id": "jnD6s_xuznqk"
    },
    {
      "cell_type": "markdown",
      "source": [
        "## Almost Orthogonality\n"
      ],
      "metadata": {
        "id": "2EKTIiid4kku"
      },
      "id": "2EKTIiid4kku"
    },
    {
      "cell_type": "code",
      "execution_count": null,
      "id": "160a6830",
      "metadata": {
        "colab": {
          "base_uri": "https://localhost:8080/",
          "height": 490
        },
        "id": "160a6830",
        "outputId": "31b56f8b-29bc-4433-a049-86b654160b09"
      },
      "outputs": [
        {
          "output_type": "stream",
          "name": "stdout",
          "text": [
            "decoder weights shape: torch.Size([768, 32768])\n"
          ]
        },
        {
          "output_type": "display_data",
          "data": {
            "text/plain": [
              "<Figure size 640x480 with 1 Axes>"
            ],
            "image/png": "[encoded data removed]"
          },
          "metadata": {}
        }
      ],
      "source": [
        "\n",
        "# encoder_weights = state_dict['encoder.weight']\n",
        "# decoder_weights = state_dict['decoder.weight']\n",
        "\n",
        "# print(encoder_weights.size())\n",
        "# print(decoder_weights.size())\n",
        "\n",
        "autoencoder.eval()\n",
        "\n",
        "decoder_weights = autoencoder.decoder.weight\n",
        "res_dim, sae_dim = decoder_weights.shape\n",
        "print(f'decoder weights shape: {decoder_weights.shape}')\n",
        "\n",
        "\n",
        "big_matrix = decoder_weights.T\n",
        "big_matrix = random_row_subset(big_matrix, r = 10000)\n",
        "\n",
        "num_vecs, dim = big_matrix.shape\n",
        "dot_products = big_matrix@big_matrix.T\n",
        "norms = torch.sqrt(torch.diag(dot_products))\n",
        "\n",
        "outer_norms =  torch.outer(norms, norms)\n",
        "\n",
        "cos_sim = dot_products/outer_norms\n",
        "self_orthogonality_mask =  ~(torch.eye(num_vecs, num_vecs).bool())\n",
        "cos_sim = cos_sim[self_orthogonality_mask]\n",
        "plt.hist(cos_sim.detach().cpu().ravel(), bins = 1000, range = (-1,1), alpha = 0.7, label = 'SAE features')\n",
        "\n",
        "#------random SAE weights------\n",
        "big_matrix_random = torch.randn(num_vecs, dim)\n",
        "dot_products_random = big_matrix_random @ big_matrix_random.T\n",
        "norms_random = torch.sqrt(torch.diag(dot_products_random))\n",
        "cos_sim_random = dot_products_random/ torch.outer(norms_random, norms_random)\n",
        "cos_sim_random = cos_sim_random[self_orthogonality_mask]\n",
        "\n",
        "plt.hist(cos_sim_random.detach().cpu().ravel(), bins = 1000, range = (-1,1), alpha = 0.7, label = 'random features')\n",
        "plt.title(\"Cosine Similarity Distribution\")\n",
        "plt.xlabel(\"Cosine Similarity\")\n",
        "plt.ylabel(\"Frequency\")\n",
        "plt.legend()\n",
        "plt.grid(1)\n",
        "plt.show()"
      ]
    },
    {
      "cell_type": "markdown",
      "source": [
        "# Sparsity Structure\n",
        "\n",
        "- Random features: Bernoulli-like activation patterns\n",
        "\n",
        "- SAE features: Only ~300/30k features active per token\n"
      ],
      "metadata": {
        "id": "Nb6oi8-m38C9"
      },
      "id": "Nb6oi8-m38C9"
    },
    {
      "cell_type": "code",
      "execution_count": null,
      "id": "1a0168f3",
      "metadata": {
        "colab": {
          "base_uri": "https://localhost:8080/",
          "height": 921
        },
        "id": "1a0168f3",
        "outputId": "48ffef2b-8b76-448a-98f0-119a8d6ea994"
      },
      "outputs": [
        {
          "output_type": "stream",
          "name": "stdout",
          "text": [
            "token activation shape: torch.Size([768])\n",
            "SAE active features = 302/32768\n",
            "sparsity = 0.00921630859375\n",
            "random active features = 16136/32768\n"
          ]
        },
        {
          "output_type": "display_data",
          "data": {
            "text/plain": [
              "<Figure size 2000x1000 with 2 Axes>"
            ],
            "image/png": "[encoded data removed]"
          },
          "metadata": {}
        }
      ],
      "source": [
        "#Activation for the final token in the input text\n",
        "act = activation_cache[layer_name][0, -1, :]\n",
        "print(f\"token activation shape: {act.shape}\")\n",
        "\n",
        "\n",
        "fig, axes = plt.subplots(2, figsize = (20,10))\n",
        "# x = np.linspace(0, dim, dim)\n",
        "\n",
        "#dot product of token activation with all SAE features\n",
        "act_dots = act @ decoder_weights\n",
        "acts_norm = act.norm(p=2, dim=-1)\n",
        "decoder_norm = decoder_weights.norm(p=2, dim = 0)\n",
        "#cosine similarity of activation with all the SAE features\n",
        "act_cos_sim = (act_dots)/acts_norm*decoder_norm\n",
        "\n",
        "mask = act_cos_sim > 0.\n",
        "\n",
        "print(f'SAE active features = {torch.sum(mask)}/{sae_dim}')\n",
        "sparsity = torch.sum(mask)/sae_dim\n",
        "print(f'sparsity = {sparsity}')\n",
        "\n",
        "decoder_weights_random = torch.randn(decoder_weights.shape).to(device)\n",
        "act_dots_random = act @ decoder_weights_random\n",
        "decoder_random_norm = decoder_weights_random.norm(p=2, dim=0)\n",
        "act_cos_sim_random = act_dots_random/acts_norm*decoder_random_norm\n",
        "\n",
        "mask = act_cos_sim_random > 0.\n",
        "print(f'random active features = {torch.sum(mask)}/{sae_dim}')\n",
        "\n",
        "\n",
        "axes[0].hist(act_cos_sim.detach().cpu(), bins = 1000, range = (-1,1), label = 'SAE features')\n",
        "axes[1].hist(act_cos_sim_random.detach().cpu(), bins = 1000, range = (-1,1), label = 'random features')\n",
        "\n",
        "axes[0].axvline(x=0., color='r', linestyle='--')\n",
        "axes[1].axvline(x=0., color='r', linestyle='--')\n",
        "plt.grid(True)\n",
        "axes[0].grid(True)\n",
        "axes[1].grid(True)\n",
        "axes[0].legend()\n",
        "axes[1].legend()\n",
        "axes[0].set_xlabel(\"cosine similarity with SAE features\")\n",
        "axes[1].set_xlabel(\"cosine similarity with random features\")\n",
        "plt.ylabel(\"Frequency\")\n",
        "fig.show()\n"
      ]
    },
    {
      "cell_type": "code",
      "source": [
        "fig, axes = plt.subplots(2, figsize = (20,10))\n",
        "axes[0].hist(act_dots.detach().cpu(), bins = 1000, label = 'SAE features')\n",
        "axes[1].hist(act_dots_random.detach().cpu(), bins = 1000, label = 'random features')\n",
        "\n",
        "axes[0].axvline(x=0., color='r', linestyle='--')\n",
        "axes[1].axvline(x=0., color='r', linestyle='--')\n",
        "\n",
        "axes[0].grid(True)\n",
        "axes[1].grid(True)\n",
        "axes[0].legend()\n",
        "axes[1].legend()\n",
        "axes[0].set_xlabel(\"activations with SAE features\")\n",
        "axes[1].set_xlabel(\"activations with random features\")\n",
        "axes[0].set_ylabel(\"Frequency\")\n",
        "axes[1].set_ylabel(\"Frequency\")\n",
        "fig.show()"
      ],
      "metadata": {
        "colab": {
          "base_uri": "https://localhost:8080/",
          "height": 850
        },
        "id": "kGs227GE91KM",
        "outputId": "703fe614-698b-41ca-955a-9bcddd57b949"
      },
      "id": "kGs227GE91KM",
      "execution_count": null,
      "outputs": [
        {
          "output_type": "display_data",
          "data": {
            "text/plain": [
              "<Figure size 2000x1000 with 2 Axes>"
            ],
            "image/png": "[encoded data removed]"
          },
          "metadata": {}
        }
      ]
    },
    {
      "cell_type": "code",
      "execution_count": null,
      "id": "42a7a50f",
      "metadata": {
        "id": "42a7a50f"
      },
      "outputs": [],
      "source": [
        "#Find the SAE latent with top activation\n",
        "top_feature = decoder_weights[:, torch.argmax(act_dots)]"
      ]
    },
    {
      "cell_type": "markdown",
      "source": [
        "## Summarize sparsity over all layers"
      ],
      "metadata": {
        "id": "xFasj4P0eLIv"
      },
      "id": "xFasj4P0eLIv"
    },
    {
      "cell_type": "markdown",
      "source": [
        "## SAE version `v5_32k` (TopK sparsity)\n",
        "- Number of autoencoder latents: 2**15 = 32768\n",
        "- Number of training tokens:  TODO\n",
        "- Activation function: **TopK(32)**\n",
        "- L1 regularization strength: n/a\n",
        "- Layer normed inputs: true"
      ],
      "metadata": {
        "id": "jHOCCC5QFmZk"
      },
      "id": "jHOCCC5QFmZk"
    },
    {
      "cell_type": "code",
      "source": [
        "\n",
        "layers = range(12)\n",
        "# locations = [\"resid_delta_attn\", \"resid_post_attn\", \"resid_delta_mlp\", \"resid_post_mlp\"]\n",
        "locations = [\"resid_post_mlp\"]\n",
        "\n",
        "state_dicts_v5_32k = dict()\n",
        "for layer in layers:\n",
        "  for location in locations:\n",
        "    with bf.BlobFile(sae.paths.v5_32k(location, layer), mode=\"rb\") as f:\n",
        "        print(f\"fetching weights for SAE at layer: {get_layer_name(location, layer),} from:  {sae.paths.v5_32k(location, layer)}\")\n",
        "        state_dict = torch.load(f)\n",
        "        state_dicts_v5_32k[get_layer_name(location, layer)] = state_dict"
      ],
      "metadata": {
        "colab": {
          "base_uri": "https://localhost:8080/"
        },
        "collapsed": true,
        "id": "JfPBnz1SeO9h",
        "outputId": "ae077e5b-1a7f-4f49-cd72-c1a7f1b389ef"
      },
      "id": "JfPBnz1SeO9h",
      "execution_count": null,
      "outputs": [
        {
          "output_type": "stream",
          "name": "stdout",
          "text": [
            "fetching weights for SAE at layer: ('blocks.0.hook_resid_post',) from:  az://openaipublic/sparse-autoencoder/gpt2-small/resid_post_mlp_v5_32k/autoencoders/0.pt\n",
            "fetching weights for SAE at layer: ('blocks.1.hook_resid_post',) from:  az://openaipublic/sparse-autoencoder/gpt2-small/resid_post_mlp_v5_32k/autoencoders/1.pt\n",
            "fetching weights for SAE at layer: ('blocks.2.hook_resid_post',) from:  az://openaipublic/sparse-autoencoder/gpt2-small/resid_post_mlp_v5_32k/autoencoders/2.pt\n",
            "fetching weights for SAE at layer: ('blocks.3.hook_resid_post',) from:  az://openaipublic/sparse-autoencoder/gpt2-small/resid_post_mlp_v5_32k/autoencoders/3.pt\n",
            "fetching weights for SAE at layer: ('blocks.4.hook_resid_post',) from:  az://openaipublic/sparse-autoencoder/gpt2-small/resid_post_mlp_v5_32k/autoencoders/4.pt\n",
            "fetching weights for SAE at layer: ('blocks.5.hook_resid_post',) from:  az://openaipublic/sparse-autoencoder/gpt2-small/resid_post_mlp_v5_32k/autoencoders/5.pt\n",
            "fetching weights for SAE at layer: ('blocks.6.hook_resid_post',) from:  az://openaipublic/sparse-autoencoder/gpt2-small/resid_post_mlp_v5_32k/autoencoders/6.pt\n",
            "fetching weights for SAE at layer: ('blocks.7.hook_resid_post',) from:  az://openaipublic/sparse-autoencoder/gpt2-small/resid_post_mlp_v5_32k/autoencoders/7.pt\n",
            "fetching weights for SAE at layer: ('blocks.8.hook_resid_post',) from:  az://openaipublic/sparse-autoencoder/gpt2-small/resid_post_mlp_v5_32k/autoencoders/8.pt\n",
            "fetching weights for SAE at layer: ('blocks.9.hook_resid_post',) from:  az://openaipublic/sparse-autoencoder/gpt2-small/resid_post_mlp_v5_32k/autoencoders/9.pt\n",
            "fetching weights for SAE at layer: ('blocks.10.hook_resid_post',) from:  az://openaipublic/sparse-autoencoder/gpt2-small/resid_post_mlp_v5_32k/autoencoders/10.pt\n",
            "fetching weights for SAE at layer: ('blocks.11.hook_resid_post',) from:  az://openaipublic/sparse-autoencoder/gpt2-small/resid_post_mlp_v5_32k/autoencoders/11.pt\n"
          ]
        }
      ]
    },
    {
      "cell_type": "code",
      "source": [
        "from tqdm import tqdm\n",
        "\n",
        "def get_scores(state_dict_version: dict) -> dict:\n",
        "  scores = {'layer_names': [], 'reconstruction_losses': [], 'sparsity_scores': []}\n",
        "\n",
        "  for layer_name, state_dict in tqdm(state_dict_version.items()):\n",
        "    scores['layer_names'].append(layer_name)\n",
        "\n",
        "    input_tensor = activation_cache[layer_name]\n",
        "    act = activation_cache[layer_name][0, -1, :]\n",
        "\n",
        "    try:\n",
        "      autoencoder = sae.Autoencoder.from_state_dict(state_dict).to(device)\n",
        "      input_tensor = activation_cache[layer_name]\n",
        "\n",
        "      with torch.no_grad():\n",
        "          latent_activations, info = autoencoder.encode(input_tensor)\n",
        "          reconstructed_activations = autoencoder.decode(latent_activations, info)\n",
        "\n",
        "      reconstruction_loss = (reconstructed_activations[0,-1,:] - input_tensor[0,-1,:]).norm(p=2)\n",
        "      # print(f'reconstruction loss: {reconstruction_loss}')\n",
        "      scores['reconstruction_losses'].append(reconstruction_loss)\n",
        "\n",
        "      decoder_weights = autoencoder.decoder.weight\n",
        "\n",
        "    except Exception as err:\n",
        "      print(f'Exception in layer {layer_name}, Error: {err}')\n",
        "\n",
        "      scores['reconstruction_losses'].append(torch.tensor(np.nan))\n",
        "\n",
        "      decoder_weights = state_dict['decoder.weight'].to(device)\n",
        "\n",
        "    res_dim, sae_dim = decoder_weights.shape\n",
        "\n",
        "    act_dots = act @ decoder_weights\n",
        "    mask  = act_dots > 0.\n",
        "    sparsity = torch.sum(mask)\n",
        "    # print(f'sparsity = {sparsity}')\n",
        "    scores['sparsity_scores'].append(sparsity)\n",
        "\n",
        "  return scores\n"
      ],
      "metadata": {
        "collapsed": true,
        "id": "O7sxt2I1lAnE"
      },
      "id": "O7sxt2I1lAnE",
      "execution_count": null,
      "outputs": []
    },
    {
      "cell_type": "code",
      "source": [
        "v5_32k_scores = get_scores(state_dicts_v5_32k)"
      ],
      "metadata": {
        "colab": {
          "base_uri": "https://localhost:8080/"
        },
        "id": "HkmSiRwYx6OC",
        "outputId": "21dcfc2b-3786-4949-916b-0f2f73a06262"
      },
      "id": "HkmSiRwYx6OC",
      "execution_count": null,
      "outputs": [
        {
          "output_type": "stream",
          "name": "stderr",
          "text": [
            "100%|██████████| 12/12 [00:04<00:00,  2.77it/s]\n"
          ]
        }
      ]
    },
    {
      "cell_type": "code",
      "source": [
        "sparsity_sores = v5_32k_scores['sparsity_scores']\n",
        "layer_names = v5_32k_scores['layer_names']\n",
        "reconstruction_losses = v5_32k_scores['reconstruction_losses']\n",
        "\n",
        "fig, axes = plt.subplots(2, figsize = (10,10))\n",
        "x = range(len(layer_names))\n",
        "axes[0].plot(x, [r.detach().cpu() for r in reconstruction_losses], label = 'reconstruction loss', c  ='r')\n",
        "axes[1].plot(x , [ss.detach().cpu() for ss in sparsity_sores], label = 'L0 sparsity')\n",
        "axes[0].grid(1)\n",
        "axes[1].grid(1)\n",
        "axes[0].legend()\n",
        "axes[1].legend()\n",
        "axes[1].set_xticks(x)\n",
        "axes[1].set_xticks(x)\n",
        "axes[1].set_xticklabels(layer_names, rotation = 90)\n",
        "plt.show()"
      ],
      "metadata": {
        "colab": {
          "base_uri": "https://localhost:8080/",
          "height": 999
        },
        "id": "6kBNxH1voVBD",
        "outputId": "10b6391a-63c1-47ec-ef6c-6f4eeb269f88"
      },
      "id": "6kBNxH1voVBD",
      "execution_count": null,
      "outputs": [
        {
          "output_type": "display_data",
          "data": {
            "text/plain": [
              "<Figure size 1000x1000 with 2 Axes>"
            ],
            "image/png": "[encoded data removed]"
          },
          "metadata": {}
        }
      ]
    },
    {
      "cell_type": "code",
      "source": [
        "plt.scatter(y = [r.detach().cpu() for r in reconstruction_losses], x = [ss.detach().cpu() for ss in sparsity_sores], c= 'g')\n",
        "plt.ylabel('reconstruction loss')\n",
        "plt.xlabel('L0 sparsity')\n",
        "plt.grid(1)"
      ],
      "metadata": {
        "colab": {
          "base_uri": "https://localhost:8080/",
          "height": 449
        },
        "id": "1foVZZl4o8-7",
        "outputId": "cb2d61be-5100-4da3-f5e4-0cf8d93334b6"
      },
      "id": "1foVZZl4o8-7",
      "execution_count": null,
      "outputs": [
        {
          "output_type": "display_data",
          "data": {
            "text/plain": [
              "<Figure size 640x480 with 1 Axes>"
            ],
            "image/png": "[encoded data removed]"
          },
          "metadata": {}
        }
      ]
    },
    {
      "cell_type": "code",
      "source": [
        "del state_dicts_v5_32k"
      ],
      "metadata": {
        "id": "_XZlzrrUIHTF"
      },
      "id": "_XZlzrrUIHTF",
      "execution_count": null,
      "outputs": []
    },
    {
      "cell_type": "markdown",
      "source": [
        "## SAE version `v1` (L1 sparsity)\n",
        "- autoencoder latents: 2*815 = 32768\n",
        "- number of training tokens: ~64M\n",
        "- Activation function ReLU\n",
        "- L1 reg strength: 0.01\n",
        "\n",
        "\n"
      ],
      "metadata": {
        "id": "OIyYGtsQtcPg"
      },
      "id": "OIyYGtsQtcPg"
    },
    {
      "cell_type": "code",
      "source": [
        "layers = range(12)\n",
        "locations = [\"resid_delta_mlp\"]\n",
        "\n",
        "state_dicts_v1 = dict()\n",
        "for layer in layers:\n",
        "  for location in locations:\n",
        "    with bf.BlobFile(sae.paths.v1(location, layer), mode=\"rb\") as f:\n",
        "        print(f\"fetching weights for SAE at layer: {get_layer_name(location, layer)} from:  {sae.paths.v1(location, layer)}\")\n",
        "        state_dict = torch.load(f)\n",
        "        state_dicts_v1[get_layer_name(location, layer)] = state_dict"
      ],
      "metadata": {
        "colab": {
          "base_uri": "https://localhost:8080/"
        },
        "collapsed": true,
        "id": "5qxm7TpSsEuv",
        "outputId": "65798fe4-9609-416f-dc6b-855073f5dac3"
      },
      "id": "5qxm7TpSsEuv",
      "execution_count": null,
      "outputs": [
        {
          "output_type": "stream",
          "name": "stdout",
          "text": [
            "fetching weights for SAE at layer: ('blocks.0.hook_mlp_out',) from:  az://openaipublic/sparse-autoencoder/gpt2-small/resid_delta_mlp/autoencoders/0.pt\n",
            "fetching weights for SAE at layer: ('blocks.1.hook_mlp_out',) from:  az://openaipublic/sparse-autoencoder/gpt2-small/resid_delta_mlp/autoencoders/1.pt\n",
            "fetching weights for SAE at layer: ('blocks.2.hook_mlp_out',) from:  az://openaipublic/sparse-autoencoder/gpt2-small/resid_delta_mlp/autoencoders/2.pt\n",
            "fetching weights for SAE at layer: ('blocks.3.hook_mlp_out',) from:  az://openaipublic/sparse-autoencoder/gpt2-small/resid_delta_mlp/autoencoders/3.pt\n",
            "fetching weights for SAE at layer: ('blocks.4.hook_mlp_out',) from:  az://openaipublic/sparse-autoencoder/gpt2-small/resid_delta_mlp/autoencoders/4.pt\n",
            "fetching weights for SAE at layer: ('blocks.5.hook_mlp_out',) from:  az://openaipublic/sparse-autoencoder/gpt2-small/resid_delta_mlp/autoencoders/5.pt\n",
            "fetching weights for SAE at layer: ('blocks.6.hook_mlp_out',) from:  az://openaipublic/sparse-autoencoder/gpt2-small/resid_delta_mlp/autoencoders/6.pt\n",
            "fetching weights for SAE at layer: ('blocks.7.hook_mlp_out',) from:  az://openaipublic/sparse-autoencoder/gpt2-small/resid_delta_mlp/autoencoders/7.pt\n",
            "fetching weights for SAE at layer: ('blocks.8.hook_mlp_out',) from:  az://openaipublic/sparse-autoencoder/gpt2-small/resid_delta_mlp/autoencoders/8.pt\n",
            "fetching weights for SAE at layer: ('blocks.9.hook_mlp_out',) from:  az://openaipublic/sparse-autoencoder/gpt2-small/resid_delta_mlp/autoencoders/9.pt\n",
            "fetching weights for SAE at layer: ('blocks.10.hook_mlp_out',) from:  az://openaipublic/sparse-autoencoder/gpt2-small/resid_delta_mlp/autoencoders/10.pt\n",
            "fetching weights for SAE at layer: ('blocks.11.hook_mlp_out',) from:  az://openaipublic/sparse-autoencoder/gpt2-small/resid_delta_mlp/autoencoders/11.pt\n"
          ]
        }
      ]
    },
    {
      "cell_type": "code",
      "source": [
        "v1_scores  = get_scores(state_dicts_v1)"
      ],
      "metadata": {
        "colab": {
          "base_uri": "https://localhost:8080/"
        },
        "collapsed": true,
        "id": "djwzlJU4v9Sq",
        "outputId": "1237f66b-52bf-45a5-a310-02e4c2666197"
      },
      "id": "djwzlJU4v9Sq",
      "execution_count": null,
      "outputs": [
        {
          "output_type": "stream",
          "name": "stderr",
          "text": [
            "  8%|▊         | 1/12 [00:00<00:09,  1.11it/s]"
          ]
        },
        {
          "output_type": "stream",
          "name": "stdout",
          "text": [
            "Exception in layer blocks.0.hook_mlp_out, Error: Error(s) in loading state_dict for Autoencoder:\n",
            "\tMissing key(s) in state_dict: \"latents_activation_frequency\", \"latents_mean_square\". \n"
          ]
        },
        {
          "output_type": "stream",
          "name": "stderr",
          "text": [
            "\r 17%|█▋        | 2/12 [00:01<00:05,  1.68it/s]"
          ]
        },
        {
          "output_type": "stream",
          "name": "stdout",
          "text": [
            "Exception in layer blocks.1.hook_mlp_out, Error: Error(s) in loading state_dict for Autoencoder:\n",
            "\tMissing key(s) in state_dict: \"latents_activation_frequency\", \"latents_mean_square\". \n"
          ]
        },
        {
          "output_type": "stream",
          "name": "stderr",
          "text": [
            "\r 25%|██▌       | 3/12 [00:01<00:04,  2.10it/s]"
          ]
        },
        {
          "output_type": "stream",
          "name": "stdout",
          "text": [
            "Exception in layer blocks.2.hook_mlp_out, Error: Error(s) in loading state_dict for Autoencoder:\n",
            "\tMissing key(s) in state_dict: \"latents_activation_frequency\", \"latents_mean_square\". \n"
          ]
        },
        {
          "output_type": "stream",
          "name": "stderr",
          "text": [
            "\r 33%|███▎      | 4/12 [00:01<00:03,  2.39it/s]"
          ]
        },
        {
          "output_type": "stream",
          "name": "stdout",
          "text": [
            "Exception in layer blocks.3.hook_mlp_out, Error: Error(s) in loading state_dict for Autoencoder:\n",
            "\tMissing key(s) in state_dict: \"latents_activation_frequency\", \"latents_mean_square\". \n"
          ]
        },
        {
          "output_type": "stream",
          "name": "stderr",
          "text": [
            "\r 42%|████▏     | 5/12 [00:02<00:02,  2.51it/s]"
          ]
        },
        {
          "output_type": "stream",
          "name": "stdout",
          "text": [
            "Exception in layer blocks.4.hook_mlp_out, Error: Error(s) in loading state_dict for Autoencoder:\n",
            "\tMissing key(s) in state_dict: \"latents_activation_frequency\", \"latents_mean_square\". \n"
          ]
        },
        {
          "output_type": "stream",
          "name": "stderr",
          "text": [
            "\r 50%|█████     | 6/12 [00:02<00:02,  2.60it/s]"
          ]
        },
        {
          "output_type": "stream",
          "name": "stdout",
          "text": [
            "Exception in layer blocks.5.hook_mlp_out, Error: Error(s) in loading state_dict for Autoencoder:\n",
            "\tMissing key(s) in state_dict: \"latents_activation_frequency\", \"latents_mean_square\". \n"
          ]
        },
        {
          "output_type": "stream",
          "name": "stderr",
          "text": [
            "\r 58%|█████▊    | 7/12 [00:03<00:01,  2.71it/s]"
          ]
        },
        {
          "output_type": "stream",
          "name": "stdout",
          "text": [
            "Exception in layer blocks.6.hook_mlp_out, Error: Error(s) in loading state_dict for Autoencoder:\n",
            "\tMissing key(s) in state_dict: \"latents_activation_frequency\", \"latents_mean_square\". \n"
          ]
        },
        {
          "output_type": "stream",
          "name": "stderr",
          "text": [
            "\r 67%|██████▋   | 8/12 [00:03<00:01,  2.78it/s]"
          ]
        },
        {
          "output_type": "stream",
          "name": "stdout",
          "text": [
            "Exception in layer blocks.7.hook_mlp_out, Error: Error(s) in loading state_dict for Autoencoder:\n",
            "\tMissing key(s) in state_dict: \"latents_activation_frequency\", \"latents_mean_square\". \n"
          ]
        },
        {
          "output_type": "stream",
          "name": "stderr",
          "text": [
            "\r 75%|███████▌  | 9/12 [00:03<00:01,  2.82it/s]"
          ]
        },
        {
          "output_type": "stream",
          "name": "stdout",
          "text": [
            "Exception in layer blocks.8.hook_mlp_out, Error: Error(s) in loading state_dict for Autoencoder:\n",
            "\tMissing key(s) in state_dict: \"latents_activation_frequency\", \"latents_mean_square\". \n"
          ]
        },
        {
          "output_type": "stream",
          "name": "stderr",
          "text": [
            "\r 83%|████████▎ | 10/12 [00:04<00:00,  2.89it/s]"
          ]
        },
        {
          "output_type": "stream",
          "name": "stdout",
          "text": [
            "Exception in layer blocks.9.hook_mlp_out, Error: Error(s) in loading state_dict for Autoencoder:\n",
            "\tMissing key(s) in state_dict: \"latents_activation_frequency\", \"latents_mean_square\". \n"
          ]
        },
        {
          "output_type": "stream",
          "name": "stderr",
          "text": [
            "\r 92%|█████████▏| 11/12 [00:04<00:00,  2.95it/s]"
          ]
        },
        {
          "output_type": "stream",
          "name": "stdout",
          "text": [
            "Exception in layer blocks.10.hook_mlp_out, Error: Error(s) in loading state_dict for Autoencoder:\n",
            "\tMissing key(s) in state_dict: \"latents_activation_frequency\", \"latents_mean_square\". \n"
          ]
        },
        {
          "output_type": "stream",
          "name": "stderr",
          "text": [
            "100%|██████████| 12/12 [00:04<00:00,  2.58it/s]"
          ]
        },
        {
          "output_type": "stream",
          "name": "stdout",
          "text": [
            "Exception in layer blocks.11.hook_mlp_out, Error: Error(s) in loading state_dict for Autoencoder:\n",
            "\tMissing key(s) in state_dict: \"latents_activation_frequency\", \"latents_mean_square\". \n"
          ]
        },
        {
          "output_type": "stream",
          "name": "stderr",
          "text": [
            "\n"
          ]
        }
      ]
    },
    {
      "cell_type": "code",
      "source": [
        "sparsity_sores = v1_scores['sparsity_scores']\n",
        "layer_names = v1_scores['layer_names']\n",
        "reconstruction_losses = v1_scores['reconstruction_losses']\n",
        "\n",
        "fig, axes = plt.subplots(2, figsize = (10,10))\n",
        "x = range(len(layer_names))\n",
        "# axes[0].plot(x, [r.detach().cpu() for r in reconstruction_losses], label = 'reconstruction loss', c  ='r')\n",
        "axes[1].plot(x , [ss.detach().cpu() for ss in sparsity_sores], label = 'L0 sparsity')\n",
        "axes[0].grid(1)\n",
        "axes[1].grid(1)\n",
        "axes[0].legend()\n",
        "axes[1].legend()\n",
        "axes[1].set_xticks(x)\n",
        "axes[1].set_xticks(x)\n",
        "axes[1].set_xticklabels(layer_names, rotation = 90)\n",
        "plt.show()"
      ],
      "metadata": {
        "colab": {
          "base_uri": "https://localhost:8080/",
          "height": 1000
        },
        "id": "G52TGUnHwNl7",
        "outputId": "9a4333f9-e6d7-4f0a-8c06-49ed2f802b6d"
      },
      "id": "G52TGUnHwNl7",
      "execution_count": null,
      "outputs": [
        {
          "output_type": "stream",
          "name": "stderr",
          "text": [
            "/tmp/ipython-input-4066570740.py:11: UserWarning: No artists with labels found to put in legend.  Note that artists whose label start with an underscore are ignored when legend() is called with no argument.\n",
            "  axes[0].legend()\n"
          ]
        },
        {
          "output_type": "display_data",
          "data": {
            "text/plain": [
              "<Figure size 1000x1000 with 2 Axes>"
            ],
            "image/png": "[encoded data removed]"
          },
          "metadata": {}
        }
      ]
    },
    {
      "cell_type": "code",
      "source": [
        "plt.scatter(y = [r.detach().cpu() for r in reconstruction_losses], x = [ss.detach().cpu() for ss in sparsity_sores], c= 'g')\n",
        "plt.ylabel('reconstruction loss')\n",
        "plt.xlabel('sparsity')\n",
        "plt.grid(1)"
      ],
      "metadata": {
        "colab": {
          "base_uri": "https://localhost:8080/",
          "height": 449
        },
        "outputId": "e16aac6c-ffc1-4fd7-a9a0-ea56154bb55c",
        "id": "THKMft8MwVno"
      },
      "execution_count": null,
      "outputs": [
        {
          "output_type": "display_data",
          "data": {
            "text/plain": [
              "<Figure size 640x480 with 1 Axes>"
            ],
            "image/png": "[encoded data removed]"
          },
          "metadata": {}
        }
      ],
      "id": "THKMft8MwVno"
    },
    {
      "cell_type": "code",
      "source": [
        "del state_dicts_v1"
      ],
      "metadata": {
        "id": "t3J7dXRxIOtg"
      },
      "id": "t3J7dXRxIOtg",
      "execution_count": null,
      "outputs": []
    },
    {
      "cell_type": "markdown",
      "source": [
        "## SAE version `v5_128k`\n",
        "- no. of autoencoder latents: 2**17 = 131072\n",
        "- TopK(32)"
      ],
      "metadata": {
        "id": "W2MN4ewF3krg"
      },
      "id": "W2MN4ewF3krg"
    },
    {
      "cell_type": "code",
      "source": [
        "layers = range(12)\n",
        "# locations = [\"resid_delta_attn\", \"resid_delta_mlp\", \"resid_post_attn\", \"resid_post_mlp\"]\n",
        "locations = [\"resid_post_mlp\"]\n",
        "state_dicts_v5_128k = dict()\n",
        "for layer in layers:\n",
        "  for location in locations:\n",
        "    with bf.BlobFile(sae.paths.v5_128k(location, layer), mode=\"rb\") as f:\n",
        "        print(f\"fetching weights for SAE at layer: {get_layer_name(location, layer),} from:  {sae.paths.v5_128k(location, layer)}\")\n",
        "        state_dict = torch.load(f)\n",
        "        state_dicts_v5_128k[get_layer_name(location, layer)] = state_dict"
      ],
      "metadata": {
        "colab": {
          "base_uri": "https://localhost:8080/"
        },
        "id": "CGrUdA_k3iqx",
        "outputId": "5fd82b49-fd15-4e09-9274-54fd5c818640"
      },
      "id": "CGrUdA_k3iqx",
      "execution_count": null,
      "outputs": [
        {
          "output_type": "stream",
          "name": "stdout",
          "text": [
            "fetching weights for SAE at layer: ('blocks.0.hook_resid_post',) from:  az://openaipublic/sparse-autoencoder/gpt2-small/resid_post_mlp_v5_128k/autoencoders/0.pt\n",
            "fetching weights for SAE at layer: ('blocks.1.hook_resid_post',) from:  az://openaipublic/sparse-autoencoder/gpt2-small/resid_post_mlp_v5_128k/autoencoders/1.pt\n",
            "fetching weights for SAE at layer: ('blocks.2.hook_resid_post',) from:  az://openaipublic/sparse-autoencoder/gpt2-small/resid_post_mlp_v5_128k/autoencoders/2.pt\n",
            "fetching weights for SAE at layer: ('blocks.3.hook_resid_post',) from:  az://openaipublic/sparse-autoencoder/gpt2-small/resid_post_mlp_v5_128k/autoencoders/3.pt\n",
            "fetching weights for SAE at layer: ('blocks.4.hook_resid_post',) from:  az://openaipublic/sparse-autoencoder/gpt2-small/resid_post_mlp_v5_128k/autoencoders/4.pt\n",
            "fetching weights for SAE at layer: ('blocks.5.hook_resid_post',) from:  az://openaipublic/sparse-autoencoder/gpt2-small/resid_post_mlp_v5_128k/autoencoders/5.pt\n",
            "fetching weights for SAE at layer: ('blocks.6.hook_resid_post',) from:  az://openaipublic/sparse-autoencoder/gpt2-small/resid_post_mlp_v5_128k/autoencoders/6.pt\n",
            "fetching weights for SAE at layer: ('blocks.7.hook_resid_post',) from:  az://openaipublic/sparse-autoencoder/gpt2-small/resid_post_mlp_v5_128k/autoencoders/7.pt\n",
            "fetching weights for SAE at layer: ('blocks.8.hook_resid_post',) from:  az://openaipublic/sparse-autoencoder/gpt2-small/resid_post_mlp_v5_128k/autoencoders/8.pt\n",
            "fetching weights for SAE at layer: ('blocks.9.hook_resid_post',) from:  az://openaipublic/sparse-autoencoder/gpt2-small/resid_post_mlp_v5_128k/autoencoders/9.pt\n",
            "fetching weights for SAE at layer: ('blocks.10.hook_resid_post',) from:  az://openaipublic/sparse-autoencoder/gpt2-small/resid_post_mlp_v5_128k/autoencoders/10.pt\n",
            "fetching weights for SAE at layer: ('blocks.11.hook_resid_post',) from:  az://openaipublic/sparse-autoencoder/gpt2-small/resid_post_mlp_v5_128k/autoencoders/11.pt\n"
          ]
        }
      ]
    },
    {
      "cell_type": "code",
      "source": [
        "v5_128k_scores = get_scores(state_dicts_v5_128k)"
      ],
      "metadata": {
        "colab": {
          "base_uri": "https://localhost:8080/"
        },
        "outputId": "ed32ed9a-aa35-4a71-e65d-b0560edbd624",
        "id": "zPQsAEQYCfyw"
      },
      "execution_count": null,
      "outputs": [
        {
          "output_type": "stream",
          "name": "stderr",
          "text": [
            "100%|██████████| 12/12 [00:16<00:00,  1.38s/it]\n"
          ]
        }
      ],
      "id": "zPQsAEQYCfyw"
    },
    {
      "cell_type": "code",
      "source": [
        "sparsity_sores = v5_128k_scores['sparsity_scores']\n",
        "layer_names = v5_128k_scores['layer_names']\n",
        "reconstruction_losses = v5_128k_scores['reconstruction_losses']\n",
        "\n",
        "fig, axes = plt.subplots(2, figsize = (10,10))\n",
        "x = range(len(layer_names))\n",
        "axes[0].plot(x, [r.detach().cpu() for r in reconstruction_losses], label = 'reconstruction loss', c  ='r')\n",
        "axes[1].plot(x , [ss.detach().cpu() for ss in sparsity_sores], label = 'L0 sparsity')\n",
        "axes[0].grid(1)\n",
        "axes[1].grid(1)\n",
        "axes[0].legend()\n",
        "axes[1].legend()\n",
        "axes[1].set_xticks(x)\n",
        "axes[1].set_xticks(x)\n",
        "axes[1].set_xticklabels(layer_names, rotation = 90)\n",
        "plt.show()"
      ],
      "metadata": {
        "colab": {
          "base_uri": "https://localhost:8080/",
          "height": 999
        },
        "id": "W-WzW6SiCkJy",
        "outputId": "3899a75e-13f9-40ea-b7a9-cf8c9993467c"
      },
      "id": "W-WzW6SiCkJy",
      "execution_count": null,
      "outputs": [
        {
          "output_type": "display_data",
          "data": {
            "text/plain": [
              "<Figure size 1000x1000 with 2 Axes>"
            ],
            "image/png": "[encoded data removed]"
          },
          "metadata": {}
        }
      ]
    },
    {
      "cell_type": "code",
      "source": [
        "plt.scatter(y = [r.detach().cpu() for r in reconstruction_losses], x = [ss.detach().cpu() for ss in sparsity_sores], c= 'g')\n",
        "plt.ylabel('reconstruction loss')\n",
        "plt.xlabel('sparsity')\n",
        "plt.grid(1)"
      ],
      "metadata": {
        "colab": {
          "base_uri": "https://localhost:8080/",
          "height": 449
        },
        "id": "bXUBxSh1FqLi",
        "outputId": "64f9741d-ddd9-4951-ee46-612088cc51d2"
      },
      "id": "bXUBxSh1FqLi",
      "execution_count": null,
      "outputs": [
        {
          "output_type": "display_data",
          "data": {
            "text/plain": [
              "<Figure size 640x480 with 1 Axes>"
            ],
            "image/png": "[encoded data removed]"
          },
          "metadata": {}
        }
      ]
    },
    {
      "cell_type": "code",
      "source": [
        "from google.colab import drive\n",
        "drive.mount('/content/drive', force_remount=True)\n",
        "torch.save(state_dicts_v5_128k, '/content/drive/MyDrive/models/sae/state_dicts_v5_128k.pt')"
      ],
      "metadata": {
        "colab": {
          "base_uri": "https://localhost:8080/"
        },
        "id": "cmi9LLiFeXm7",
        "outputId": "1353ab05-380b-453c-830f-790dfdc90432"
      },
      "id": "cmi9LLiFeXm7",
      "execution_count": null,
      "outputs": [
        {
          "output_type": "stream",
          "name": "stdout",
          "text": [
            "Mounted at /content/drive\n"
          ]
        }
      ]
    },
    {
      "cell_type": "code",
      "source": [],
      "metadata": {
        "id": "mG4qM4nMevS_"
      },
      "id": "mG4qM4nMevS_",
      "execution_count": null,
      "outputs": []
    }
  ],
  "metadata": {
    "kernelspec": {
      "display_name": "Python 3",
      "name": "python3"
    },
    "language_info": {
      "codemirror_mode": {
        "name": "ipython",
        "version": 3
      },
      "file_extension": ".py",
      "mimetype": "text/x-python",
      "name": "python",
      "nbconvert_exporter": "python",
      "pygments_lexer": "ipython3",
      "version": "3.11.0"
    },
    "colab": {
      "provenance": [],
      "machine_shape": "hm",
      "include_colab_link": true
    },
    "widgets": {
      "application/vnd.jupyter.widget-state+json": {
        "b7b8641ef7b9449a97815fe95bd5a3ea": {
          "model_module": "@jupyter-widgets/controls",
          "model_name": "HBoxModel",
          "model_module_version": "1.5.0",
          "state": {
            "_dom_classes": [],
            "_model_module": "@jupyter-widgets/controls",
            "_model_module_version": "1.5.0",
            "_model_name": "HBoxModel",
            "_view_count": null,
            "_view_module": "@jupyter-widgets/controls",
            "_view_module_version": "1.5.0",
            "_view_name": "HBoxView",
            "box_style": "",
            "children": [
              "IPY_MODEL_936376ca25644a14833677b932272b0f",
              "IPY_MODEL_fdfbb40bde0e4d7eac7e84bd88979843",
              "IPY_MODEL_07c5cf87fe9741acba12b03d121dd213"
            ],
            "layout": "IPY_MODEL_276c72979c0047d9ba5065f37e22c1fa"
          }
        },
        "936376ca25644a14833677b932272b0f": {
          "model_module": "@jupyter-widgets/controls",
          "model_name": "HTMLModel",
          "model_module_version": "1.5.0",
          "state": {
            "_dom_classes": [],
            "_model_module": "@jupyter-widgets/controls",
            "_model_module_version": "1.5.0",
            "_model_name": "HTMLModel",
            "_view_count": null,
            "_view_module": "@jupyter-widgets/controls",
            "_view_module_version": "1.5.0",
            "_view_name": "HTMLView",
            "description": "",
            "description_tooltip": null,
            "layout": "IPY_MODEL_3990f1597b434e1693c5e92ac81e1229",
            "placeholder": "​",
            "style": "IPY_MODEL_e4562ce349c743b1a802ce173db84dee",
            "value": "config.json: 100%"
          }
        },
        "fdfbb40bde0e4d7eac7e84bd88979843": {
          "model_module": "@jupyter-widgets/controls",
          "model_name": "FloatProgressModel",
          "model_module_version": "1.5.0",
          "state": {
            "_dom_classes": [],
            "_model_module": "@jupyter-widgets/controls",
            "_model_module_version": "1.5.0",
            "_model_name": "FloatProgressModel",
            "_view_count": null,
            "_view_module": "@jupyter-widgets/controls",
            "_view_module_version": "1.5.0",
            "_view_name": "ProgressView",
            "bar_style": "success",
            "description": "",
            "description_tooltip": null,
            "layout": "IPY_MODEL_b2724e74348448a38b2d34d38f29dd65",
            "max": 665,
            "min": 0,
            "orientation": "horizontal",
            "style": "IPY_MODEL_4d578179f03d4b448240be97acdd80ae",
            "value": 665
          }
        },
        "07c5cf87fe9741acba12b03d121dd213": {
          "model_module": "@jupyter-widgets/controls",
          "model_name": "HTMLModel",
          "model_module_version": "1.5.0",
          "state": {
            "_dom_classes": [],
            "_model_module": "@jupyter-widgets/controls",
            "_model_module_version": "1.5.0",
            "_model_name": "HTMLModel",
            "_view_count": null,
            "_view_module": "@jupyter-widgets/controls",
            "_view_module_version": "1.5.0",
            "_view_name": "HTMLView",
            "description": "",
            "description_tooltip": null,
            "layout": "IPY_MODEL_19d67959254347a9874eba78ddf58154",
            "placeholder": "​",
            "style": "IPY_MODEL_d17861fc0aa94e6dae95011f9aafa984",
            "value": " 665/665 [00:00&lt;00:00, 80.4kB/s]"
          }
        },
        "276c72979c0047d9ba5065f37e22c1fa": {
          "model_module": "@jupyter-widgets/base",
          "model_name": "LayoutModel",
          "model_module_version": "1.2.0",
          "state": {
            "_model_module": "@jupyter-widgets/base",
            "_model_module_version": "1.2.0",
            "_model_name": "LayoutModel",
            "_view_count": null,
            "_view_module": "@jupyter-widgets/base",
            "_view_module_version": "1.2.0",
            "_view_name": "LayoutView",
            "align_content": null,
            "align_items": null,
            "align_self": null,
            "border": null,
            "bottom": null,
            "display": null,
            "flex": null,
            "flex_flow": null,
            "grid_area": null,
            "grid_auto_columns": null,
            "grid_auto_flow": null,
            "grid_auto_rows": null,
            "grid_column": null,
            "grid_gap": null,
            "grid_row": null,
            "grid_template_areas": null,
            "grid_template_columns": null,
            "grid_template_rows": null,
            "height": null,
            "justify_content": null,
            "justify_items": null,
            "left": null,
            "margin": null,
            "max_height": null,
            "max_width": null,
            "min_height": null,
            "min_width": null,
            "object_fit": null,
            "object_position": null,
            "order": null,
            "overflow": null,
            "overflow_x": null,
            "overflow_y": null,
            "padding": null,
            "right": null,
            "top": null,
            "visibility": null,
            "width": null
          }
        },
        "3990f1597b434e1693c5e92ac81e1229": {
          "model_module": "@jupyter-widgets/base",
          "model_name": "LayoutModel",
          "model_module_version": "1.2.0",
          "state": {
            "_model_module": "@jupyter-widgets/base",
            "_model_module_version": "1.2.0",
            "_model_name": "LayoutModel",
            "_view_count": null,
            "_view_module": "@jupyter-widgets/base",
            "_view_module_version": "1.2.0",
            "_view_name": "LayoutView",
            "align_content": null,
            "align_items": null,
            "align_self": null,
            "border": null,
            "bottom": null,
            "display": null,
            "flex": null,
            "flex_flow": null,
            "grid_area": null,
            "grid_auto_columns": null,
            "grid_auto_flow": null,
            "grid_auto_rows": null,
            "grid_column": null,
            "grid_gap": null,
            "grid_row": null,
            "grid_template_areas": null,
            "grid_template_columns": null,
            "grid_template_rows": null,
            "height": null,
            "justify_content": null,
            "justify_items": null,
            "left": null,
            "margin": null,
            "max_height": null,
            "max_width": null,
            "min_height": null,
            "min_width": null,
            "object_fit": null,
            "object_position": null,
            "order": null,
            "overflow": null,
            "overflow_x": null,
            "overflow_y": null,
            "padding": null,
            "right": null,
            "top": null,
            "visibility": null,
            "width": null
          }
        },
        "e4562ce349c743b1a802ce173db84dee": {
          "model_module": "@jupyter-widgets/controls",
          "model_name": "DescriptionStyleModel",
          "model_module_version": "1.5.0",
          "state": {
            "_model_module": "@jupyter-widgets/controls",
            "_model_module_version": "1.5.0",
            "_model_name": "DescriptionStyleModel",
            "_view_count": null,
            "_view_module": "@jupyter-widgets/base",
            "_view_module_version": "1.2.0",
            "_view_name": "StyleView",
            "description_width": ""
          }
        },
        "b2724e74348448a38b2d34d38f29dd65": {
          "model_module": "@jupyter-widgets/base",
          "model_name": "LayoutModel",
          "model_module_version": "1.2.0",
          "state": {
            "_model_module": "@jupyter-widgets/base",
            "_model_module_version": "1.2.0",
            "_model_name": "LayoutModel",
            "_view_count": null,
            "_view_module": "@jupyter-widgets/base",
            "_view_module_version": "1.2.0",
            "_view_name": "LayoutView",
            "align_content": null,
            "align_items": null,
            "align_self": null,
            "border": null,
            "bottom": null,
            "display": null,
            "flex": null,
            "flex_flow": null,
            "grid_area": null,
            "grid_auto_columns": null,
            "grid_auto_flow": null,
            "grid_auto_rows": null,
            "grid_column": null,
            "grid_gap": null,
            "grid_row": null,
            "grid_template_areas": null,
            "grid_template_columns": null,
            "grid_template_rows": null,
            "height": null,
            "justify_content": null,
            "justify_items": null,
            "left": null,
            "margin": null,
            "max_height": null,
            "max_width": null,
            "min_height": null,
            "min_width": null,
            "object_fit": null,
            "object_position": null,
            "order": null,
            "overflow": null,
            "overflow_x": null,
            "overflow_y": null,
            "padding": null,
            "right": null,
            "top": null,
            "visibility": null,
            "width": null
          }
        },
        "4d578179f03d4b448240be97acdd80ae": {
          "model_module": "@jupyter-widgets/controls",
          "model_name": "ProgressStyleModel",
          "model_module_version": "1.5.0",
          "state": {
            "_model_module": "@jupyter-widgets/controls",
            "_model_module_version": "1.5.0",
            "_model_name": "ProgressStyleModel",
            "_view_count": null,
            "_view_module": "@jupyter-widgets/base",
            "_view_module_version": "1.2.0",
            "_view_name": "StyleView",
            "bar_color": null,
            "description_width": ""
          }
        },
        "19d67959254347a9874eba78ddf58154": {
          "model_module": "@jupyter-widgets/base",
          "model_name": "LayoutModel",
          "model_module_version": "1.2.0",
          "state": {
            "_model_module": "@jupyter-widgets/base",
            "_model_module_version": "1.2.0",
            "_model_name": "LayoutModel",
            "_view_count": null,
            "_view_module": "@jupyter-widgets/base",
            "_view_module_version": "1.2.0",
            "_view_name": "LayoutView",
            "align_content": null,
            "align_items": null,
            "align_self": null,
            "border": null,
            "bottom": null,
            "display": null,
            "flex": null,
            "flex_flow": null,
            "grid_area": null,
            "grid_auto_columns": null,
            "grid_auto_flow": null,
            "grid_auto_rows": null,
            "grid_column": null,
            "grid_gap": null,
            "grid_row": null,
            "grid_template_areas": null,
            "grid_template_columns": null,
            "grid_template_rows": null,
            "height": null,
            "justify_content": null,
            "justify_items": null,
            "left": null,
            "margin": null,
            "max_height": null,
            "max_width": null,
            "min_height": null,
            "min_width": null,
            "object_fit": null,
            "object_position": null,
            "order": null,
            "overflow": null,
            "overflow_x": null,
            "overflow_y": null,
            "padding": null,
            "right": null,
            "top": null,
            "visibility": null,
            "width": null
          }
        },
        "d17861fc0aa94e6dae95011f9aafa984": {
          "model_module": "@jupyter-widgets/controls",
          "model_name": "DescriptionStyleModel",
          "model_module_version": "1.5.0",
          "state": {
            "_model_module": "@jupyter-widgets/controls",
            "_model_module_version": "1.5.0",
            "_model_name": "DescriptionStyleModel",
            "_view_count": null,
            "_view_module": "@jupyter-widgets/base",
            "_view_module_version": "1.2.0",
            "_view_name": "StyleView",
            "description_width": ""
          }
        },
        "50d713e6b0744ea480c514d7f4ef4496": {
          "model_module": "@jupyter-widgets/controls",
          "model_name": "HBoxModel",
          "model_module_version": "1.5.0",
          "state": {
            "_dom_classes": [],
            "_model_module": "@jupyter-widgets/controls",
            "_model_module_version": "1.5.0",
            "_model_name": "HBoxModel",
            "_view_count": null,
            "_view_module": "@jupyter-widgets/controls",
            "_view_module_version": "1.5.0",
            "_view_name": "HBoxView",
            "box_style": "",
            "children": [
              "IPY_MODEL_fbbd5f4617e344a0a008d951c251419b",
              "IPY_MODEL_c741c32994f04c2f85322a3698c2a361",
              "IPY_MODEL_5505afeaa09a4675b5984ff19d6201ba"
            ],
            "layout": "IPY_MODEL_164186bebc9745dea07583e322d2dde4"
          }
        },
        "fbbd5f4617e344a0a008d951c251419b": {
          "model_module": "@jupyter-widgets/controls",
          "model_name": "HTMLModel",
          "model_module_version": "1.5.0",
          "state": {
            "_dom_classes": [],
            "_model_module": "@jupyter-widgets/controls",
            "_model_module_version": "1.5.0",
            "_model_name": "HTMLModel",
            "_view_count": null,
            "_view_module": "@jupyter-widgets/controls",
            "_view_module_version": "1.5.0",
            "_view_name": "HTMLView",
            "description": "",
            "description_tooltip": null,
            "layout": "IPY_MODEL_92397ffc5b4641d2b1731f943a32751b",
            "placeholder": "​",
            "style": "IPY_MODEL_aa93d737b3794787be079c9cf757b220",
            "value": "model.safetensors: 100%"
          }
        },
        "c741c32994f04c2f85322a3698c2a361": {
          "model_module": "@jupyter-widgets/controls",
          "model_name": "FloatProgressModel",
          "model_module_version": "1.5.0",
          "state": {
            "_dom_classes": [],
            "_model_module": "@jupyter-widgets/controls",
            "_model_module_version": "1.5.0",
            "_model_name": "FloatProgressModel",
            "_view_count": null,
            "_view_module": "@jupyter-widgets/controls",
            "_view_module_version": "1.5.0",
            "_view_name": "ProgressView",
            "bar_style": "success",
            "description": "",
            "description_tooltip": null,
            "layout": "IPY_MODEL_c68b8c9e7f8f4313bcc171e1260ea487",
            "max": 548105171,
            "min": 0,
            "orientation": "horizontal",
            "style": "IPY_MODEL_2aa08d04bdf64c27854ec9dd0903ff73",
            "value": 548105171
          }
        },
        "5505afeaa09a4675b5984ff19d6201ba": {
          "model_module": "@jupyter-widgets/controls",
          "model_name": "HTMLModel",
          "model_module_version": "1.5.0",
          "state": {
            "_dom_classes": [],
            "_model_module": "@jupyter-widgets/controls",
            "_model_module_version": "1.5.0",
            "_model_name": "HTMLModel",
            "_view_count": null,
            "_view_module": "@jupyter-widgets/controls",
            "_view_module_version": "1.5.0",
            "_view_name": "HTMLView",
            "description": "",
            "description_tooltip": null,
            "layout": "IPY_MODEL_2c7f7408c8ee402b8a8033a5e35b471e",
            "placeholder": "​",
            "style": "IPY_MODEL_cbdf541ce76d4486aa4bcf205eaf1901",
            "value": " 548M/548M [00:01&lt;00:00, 708MB/s]"
          }
        },
        "164186bebc9745dea07583e322d2dde4": {
          "model_module": "@jupyter-widgets/base",
          "model_name": "LayoutModel",
          "model_module_version": "1.2.0",
          "state": {
            "_model_module": "@jupyter-widgets/base",
            "_model_module_version": "1.2.0",
            "_model_name": "LayoutModel",
            "_view_count": null,
            "_view_module": "@jupyter-widgets/base",
            "_view_module_version": "1.2.0",
            "_view_name": "LayoutView",
            "align_content": null,
            "align_items": null,
            "align_self": null,
            "border": null,
            "bottom": null,
            "display": null,
            "flex": null,
            "flex_flow": null,
            "grid_area": null,
            "grid_auto_columns": null,
            "grid_auto_flow": null,
            "grid_auto_rows": null,
            "grid_column": null,
            "grid_gap": null,
            "grid_row": null,
            "grid_template_areas": null,
            "grid_template_columns": null,
            "grid_template_rows": null,
            "height": null,
            "justify_content": null,
            "justify_items": null,
            "left": null,
            "margin": null,
            "max_height": null,
            "max_width": null,
            "min_height": null,
            "min_width": null,
            "object_fit": null,
            "object_position": null,
            "order": null,
            "overflow": null,
            "overflow_x": null,
            "overflow_y": null,
            "padding": null,
            "right": null,
            "top": null,
            "visibility": null,
            "width": null
          }
        },
        "92397ffc5b4641d2b1731f943a32751b": {
          "model_module": "@jupyter-widgets/base",
          "model_name": "LayoutModel",
          "model_module_version": "1.2.0",
          "state": {
            "_model_module": "@jupyter-widgets/base",
            "_model_module_version": "1.2.0",
            "_model_name": "LayoutModel",
            "_view_count": null,
            "_view_module": "@jupyter-widgets/base",
            "_view_module_version": "1.2.0",
            "_view_name": "LayoutView",
            "align_content": null,
            "align_items": null,
            "align_self": null,
            "border": null,
            "bottom": null,
            "display": null,
            "flex": null,
            "flex_flow": null,
            "grid_area": null,
            "grid_auto_columns": null,
            "grid_auto_flow": null,
            "grid_auto_rows": null,
            "grid_column": null,
            "grid_gap": null,
            "grid_row": null,
            "grid_template_areas": null,
            "grid_template_columns": null,
            "grid_template_rows": null,
            "height": null,
            "justify_content": null,
            "justify_items": null,
            "left": null,
            "margin": null,
            "max_height": null,
            "max_width": null,
            "min_height": null,
            "min_width": null,
            "object_fit": null,
            "object_position": null,
            "order": null,
            "overflow": null,
            "overflow_x": null,
            "overflow_y": null,
            "padding": null,
            "right": null,
            "top": null,
            "visibility": null,
            "width": null
          }
        },
        "aa93d737b3794787be079c9cf757b220": {
          "model_module": "@jupyter-widgets/controls",
          "model_name": "DescriptionStyleModel",
          "model_module_version": "1.5.0",
          "state": {
            "_model_module": "@jupyter-widgets/controls",
            "_model_module_version": "1.5.0",
            "_model_name": "DescriptionStyleModel",
            "_view_count": null,
            "_view_module": "@jupyter-widgets/base",
            "_view_module_version": "1.2.0",
            "_view_name": "StyleView",
            "description_width": ""
          }
        },
        "c68b8c9e7f8f4313bcc171e1260ea487": {
          "model_module": "@jupyter-widgets/base",
          "model_name": "LayoutModel",
          "model_module_version": "1.2.0",
          "state": {
            "_model_module": "@jupyter-widgets/base",
            "_model_module_version": "1.2.0",
            "_model_name": "LayoutModel",
            "_view_count": null,
            "_view_module": "@jupyter-widgets/base",
            "_view_module_version": "1.2.0",
            "_view_name": "LayoutView",
            "align_content": null,
            "align_items": null,
            "align_self": null,
            "border": null,
            "bottom": null,
            "display": null,
            "flex": null,
            "flex_flow": null,
            "grid_area": null,
            "grid_auto_columns": null,
            "grid_auto_flow": null,
            "grid_auto_rows": null,
            "grid_column": null,
            "grid_gap": null,
            "grid_row": null,
            "grid_template_areas": null,
            "grid_template_columns": null,
            "grid_template_rows": null,
            "height": null,
            "justify_content": null,
            "justify_items": null,
            "left": null,
            "margin": null,
            "max_height": null,
            "max_width": null,
            "min_height": null,
            "min_width": null,
            "object_fit": null,
            "object_position": null,
            "order": null,
            "overflow": null,
            "overflow_x": null,
            "overflow_y": null,
            "padding": null,
            "right": null,
            "top": null,
            "visibility": null,
            "width": null
          }
        },
        "2aa08d04bdf64c27854ec9dd0903ff73": {
          "model_module": "@jupyter-widgets/controls",
          "model_name": "ProgressStyleModel",
          "model_module_version": "1.5.0",
          "state": {
            "_model_module": "@jupyter-widgets/controls",
            "_model_module_version": "1.5.0",
            "_model_name": "ProgressStyleModel",
            "_view_count": null,
            "_view_module": "@jupyter-widgets/base",
            "_view_module_version": "1.2.0",
            "_view_name": "StyleView",
            "bar_color": null,
            "description_width": ""
          }
        },
        "2c7f7408c8ee402b8a8033a5e35b471e": {
          "model_module": "@jupyter-widgets/base",
          "model_name": "LayoutModel",
          "model_module_version": "1.2.0",
          "state": {
            "_model_module": "@jupyter-widgets/base",
            "_model_module_version": "1.2.0",
            "_model_name": "LayoutModel",
            "_view_count": null,
            "_view_module": "@jupyter-widgets/base",
            "_view_module_version": "1.2.0",
            "_view_name": "LayoutView",
            "align_content": null,
            "align_items": null,
            "align_self": null,
            "border": null,
            "bottom": null,
            "display": null,
            "flex": null,
            "flex_flow": null,
            "grid_area": null,
            "grid_auto_columns": null,
            "grid_auto_flow": null,
            "grid_auto_rows": null,
            "grid_column": null,
            "grid_gap": null,
            "grid_row": null,
            "grid_template_areas": null,
            "grid_template_columns": null,
            "grid_template_rows": null,
            "height": null,
            "justify_content": null,
            "justify_items": null,
            "left": null,
            "margin": null,
            "max_height": null,
            "max_width": null,
            "min_height": null,
            "min_width": null,
            "object_fit": null,
            "object_position": null,
            "order": null,
            "overflow": null,
            "overflow_x": null,
            "overflow_y": null,
            "padding": null,
            "right": null,
            "top": null,
            "visibility": null,
            "width": null
          }
        },
        "cbdf541ce76d4486aa4bcf205eaf1901": {
          "model_module": "@jupyter-widgets/controls",
          "model_name": "DescriptionStyleModel",
          "model_module_version": "1.5.0",
          "state": {
            "_model_module": "@jupyter-widgets/controls",
            "_model_module_version": "1.5.0",
            "_model_name": "DescriptionStyleModel",
            "_view_count": null,
            "_view_module": "@jupyter-widgets/base",
            "_view_module_version": "1.2.0",
            "_view_name": "StyleView",
            "description_width": ""
          }
        },
        "fb64c20e2b50481d990b6566b02ffe2c": {
          "model_module": "@jupyter-widgets/controls",
          "model_name": "HBoxModel",
          "model_module_version": "1.5.0",
          "state": {
            "_dom_classes": [],
            "_model_module": "@jupyter-widgets/controls",
            "_model_module_version": "1.5.0",
            "_model_name": "HBoxModel",
            "_view_count": null,
            "_view_module": "@jupyter-widgets/controls",
            "_view_module_version": "1.5.0",
            "_view_name": "HBoxView",
            "box_style": "",
            "children": [
              "IPY_MODEL_fc14d811bc494b8a8d97c10b1538fa64",
              "IPY_MODEL_aed272d6f2594dc196939111d8ed7d00",
              "IPY_MODEL_96f6f9bd79fd417585f2bbf146c3b408"
            ],
            "layout": "IPY_MODEL_2bd83b9d9ccc4cec9d7048bc1cb32f27"
          }
        },
        "fc14d811bc494b8a8d97c10b1538fa64": {
          "model_module": "@jupyter-widgets/controls",
          "model_name": "HTMLModel",
          "model_module_version": "1.5.0",
          "state": {
            "_dom_classes": [],
            "_model_module": "@jupyter-widgets/controls",
            "_model_module_version": "1.5.0",
            "_model_name": "HTMLModel",
            "_view_count": null,
            "_view_module": "@jupyter-widgets/controls",
            "_view_module_version": "1.5.0",
            "_view_name": "HTMLView",
            "description": "",
            "description_tooltip": null,
            "layout": "IPY_MODEL_6c59783db1ec4c748f00f8c7223b492a",
            "placeholder": "​",
            "style": "IPY_MODEL_26e657ea3d784543909e1ad92b63fbe6",
            "value": "generation_config.json: 100%"
          }
        },
        "aed272d6f2594dc196939111d8ed7d00": {
          "model_module": "@jupyter-widgets/controls",
          "model_name": "FloatProgressModel",
          "model_module_version": "1.5.0",
          "state": {
            "_dom_classes": [],
            "_model_module": "@jupyter-widgets/controls",
            "_model_module_version": "1.5.0",
            "_model_name": "FloatProgressModel",
            "_view_count": null,
            "_view_module": "@jupyter-widgets/controls",
            "_view_module_version": "1.5.0",
            "_view_name": "ProgressView",
            "bar_style": "success",
            "description": "",
            "description_tooltip": null,
            "layout": "IPY_MODEL_730fbc38d6dc4806b25730bba8e36806",
            "max": 124,
            "min": 0,
            "orientation": "horizontal",
            "style": "IPY_MODEL_3f374d5d01e844e99e4f90e5fa1a1fe6",
            "value": 124
          }
        },
        "96f6f9bd79fd417585f2bbf146c3b408": {
          "model_module": "@jupyter-widgets/controls",
          "model_name": "HTMLModel",
          "model_module_version": "1.5.0",
          "state": {
            "_dom_classes": [],
            "_model_module": "@jupyter-widgets/controls",
            "_model_module_version": "1.5.0",
            "_model_name": "HTMLModel",
            "_view_count": null,
            "_view_module": "@jupyter-widgets/controls",
            "_view_module_version": "1.5.0",
            "_view_name": "HTMLView",
            "description": "",
            "description_tooltip": null,
            "layout": "IPY_MODEL_a825b50df30e440486d7da1b7191537d",
            "placeholder": "​",
            "style": "IPY_MODEL_ce6b234b51874885b8a1b7141eae8b7b",
            "value": " 124/124 [00:00&lt;00:00, 13.9kB/s]"
          }
        },
        "2bd83b9d9ccc4cec9d7048bc1cb32f27": {
          "model_module": "@jupyter-widgets/base",
          "model_name": "LayoutModel",
          "model_module_version": "1.2.0",
          "state": {
            "_model_module": "@jupyter-widgets/base",
            "_model_module_version": "1.2.0",
            "_model_name": "LayoutModel",
            "_view_count": null,
            "_view_module": "@jupyter-widgets/base",
            "_view_module_version": "1.2.0",
            "_view_name": "LayoutView",
            "align_content": null,
            "align_items": null,
            "align_self": null,
            "border": null,
            "bottom": null,
            "display": null,
            "flex": null,
            "flex_flow": null,
            "grid_area": null,
            "grid_auto_columns": null,
            "grid_auto_flow": null,
            "grid_auto_rows": null,
            "grid_column": null,
            "grid_gap": null,
            "grid_row": null,
            "grid_template_areas": null,
            "grid_template_columns": null,
            "grid_template_rows": null,
            "height": null,
            "justify_content": null,
            "justify_items": null,
            "left": null,
            "margin": null,
            "max_height": null,
            "max_width": null,
            "min_height": null,
            "min_width": null,
            "object_fit": null,
            "object_position": null,
            "order": null,
            "overflow": null,
            "overflow_x": null,
            "overflow_y": null,
            "padding": null,
            "right": null,
            "top": null,
            "visibility": null,
            "width": null
          }
        },
        "6c59783db1ec4c748f00f8c7223b492a": {
          "model_module": "@jupyter-widgets/base",
          "model_name": "LayoutModel",
          "model_module_version": "1.2.0",
          "state": {
            "_model_module": "@jupyter-widgets/base",
            "_model_module_version": "1.2.0",
            "_model_name": "LayoutModel",
            "_view_count": null,
            "_view_module": "@jupyter-widgets/base",
            "_view_module_version": "1.2.0",
            "_view_name": "LayoutView",
            "align_content": null,
            "align_items": null,
            "align_self": null,
            "border": null,
            "bottom": null,
            "display": null,
            "flex": null,
            "flex_flow": null,
            "grid_area": null,
            "grid_auto_columns": null,
            "grid_auto_flow": null,
            "grid_auto_rows": null,
            "grid_column": null,
            "grid_gap": null,
            "grid_row": null,
            "grid_template_areas": null,
            "grid_template_columns": null,
            "grid_template_rows": null,
            "height": null,
            "justify_content": null,
            "justify_items": null,
            "left": null,
            "margin": null,
            "max_height": null,
            "max_width": null,
            "min_height": null,
            "min_width": null,
            "object_fit": null,
            "object_position": null,
            "order": null,
            "overflow": null,
            "overflow_x": null,
            "overflow_y": null,
            "padding": null,
            "right": null,
            "top": null,
            "visibility": null,
            "width": null
          }
        },
        "26e657ea3d784543909e1ad92b63fbe6": {
          "model_module": "@jupyter-widgets/controls",
          "model_name": "DescriptionStyleModel",
          "model_module_version": "1.5.0",
          "state": {
            "_model_module": "@jupyter-widgets/controls",
            "_model_module_version": "1.5.0",
            "_model_name": "DescriptionStyleModel",
            "_view_count": null,
            "_view_module": "@jupyter-widgets/base",
            "_view_module_version": "1.2.0",
            "_view_name": "StyleView",
            "description_width": ""
          }
        },
        "730fbc38d6dc4806b25730bba8e36806": {
          "model_module": "@jupyter-widgets/base",
          "model_name": "LayoutModel",
          "model_module_version": "1.2.0",
          "state": {
            "_model_module": "@jupyter-widgets/base",
            "_model_module_version": "1.2.0",
            "_model_name": "LayoutModel",
            "_view_count": null,
            "_view_module": "@jupyter-widgets/base",
            "_view_module_version": "1.2.0",
            "_view_name": "LayoutView",
            "align_content": null,
            "align_items": null,
            "align_self": null,
            "border": null,
            "bottom": null,
            "display": null,
            "flex": null,
            "flex_flow": null,
            "grid_area": null,
            "grid_auto_columns": null,
            "grid_auto_flow": null,
            "grid_auto_rows": null,
            "grid_column": null,
            "grid_gap": null,
            "grid_row": null,
            "grid_template_areas": null,
            "grid_template_columns": null,
            "grid_template_rows": null,
            "height": null,
            "justify_content": null,
            "justify_items": null,
            "left": null,
            "margin": null,
            "max_height": null,
            "max_width": null,
            "min_height": null,
            "min_width": null,
            "object_fit": null,
            "object_position": null,
            "order": null,
            "overflow": null,
            "overflow_x": null,
            "overflow_y": null,
            "padding": null,
            "right": null,
            "top": null,
            "visibility": null,
            "width": null
          }
        },
        "3f374d5d01e844e99e4f90e5fa1a1fe6": {
          "model_module": "@jupyter-widgets/controls",
          "model_name": "ProgressStyleModel",
          "model_module_version": "1.5.0",
          "state": {
            "_model_module": "@jupyter-widgets/controls",
            "_model_module_version": "1.5.0",
            "_model_name": "ProgressStyleModel",
            "_view_count": null,
            "_view_module": "@jupyter-widgets/base",
            "_view_module_version": "1.2.0",
            "_view_name": "StyleView",
            "bar_color": null,
            "description_width": ""
          }
        },
        "a825b50df30e440486d7da1b7191537d": {
          "model_module": "@jupyter-widgets/base",
          "model_name": "LayoutModel",
          "model_module_version": "1.2.0",
          "state": {
            "_model_module": "@jupyter-widgets/base",
            "_model_module_version": "1.2.0",
            "_model_name": "LayoutModel",
            "_view_count": null,
            "_view_module": "@jupyter-widgets/base",
            "_view_module_version": "1.2.0",
            "_view_name": "LayoutView",
            "align_content": null,
            "align_items": null,
            "align_self": null,
            "border": null,
            "bottom": null,
            "display": null,
            "flex": null,
            "flex_flow": null,
            "grid_area": null,
            "grid_auto_columns": null,
            "grid_auto_flow": null,
            "grid_auto_rows": null,
            "grid_column": null,
            "grid_gap": null,
            "grid_row": null,
            "grid_template_areas": null,
            "grid_template_columns": null,
            "grid_template_rows": null,
            "height": null,
            "justify_content": null,
            "justify_items": null,
            "left": null,
            "margin": null,
            "max_height": null,
            "max_width": null,
            "min_height": null,
            "min_width": null,
            "object_fit": null,
            "object_position": null,
            "order": null,
            "overflow": null,
            "overflow_x": null,
            "overflow_y": null,
            "padding": null,
            "right": null,
            "top": null,
            "visibility": null,
            "width": null
          }
        },
        "ce6b234b51874885b8a1b7141eae8b7b": {
          "model_module": "@jupyter-widgets/controls",
          "model_name": "DescriptionStyleModel",
          "model_module_version": "1.5.0",
          "state": {
            "_model_module": "@jupyter-widgets/controls",
            "_model_module_version": "1.5.0",
            "_model_name": "DescriptionStyleModel",
            "_view_count": null,
            "_view_module": "@jupyter-widgets/base",
            "_view_module_version": "1.2.0",
            "_view_name": "StyleView",
            "description_width": ""
          }
        },
        "983be340b65d461f93f42e3d8e7ee6af": {
          "model_module": "@jupyter-widgets/controls",
          "model_name": "HBoxModel",
          "model_module_version": "1.5.0",
          "state": {
            "_dom_classes": [],
            "_model_module": "@jupyter-widgets/controls",
            "_model_module_version": "1.5.0",
            "_model_name": "HBoxModel",
            "_view_count": null,
            "_view_module": "@jupyter-widgets/controls",
            "_view_module_version": "1.5.0",
            "_view_name": "HBoxView",
            "box_style": "",
            "children": [
              "IPY_MODEL_70366a7675a3411dba27cbdbd6e1cc85",
              "IPY_MODEL_92e88f159c2141f2bf28c3844637c0b7",
              "IPY_MODEL_896f1f945819449c9edd0d784b5405d9"
            ],
            "layout": "IPY_MODEL_84600c7a81504d9088f69afabde2980f"
          }
        },
        "70366a7675a3411dba27cbdbd6e1cc85": {
          "model_module": "@jupyter-widgets/controls",
          "model_name": "HTMLModel",
          "model_module_version": "1.5.0",
          "state": {
            "_dom_classes": [],
            "_model_module": "@jupyter-widgets/controls",
            "_model_module_version": "1.5.0",
            "_model_name": "HTMLModel",
            "_view_count": null,
            "_view_module": "@jupyter-widgets/controls",
            "_view_module_version": "1.5.0",
            "_view_name": "HTMLView",
            "description": "",
            "description_tooltip": null,
            "layout": "IPY_MODEL_99435e04916d4f4bb6fc00a1a45946e9",
            "placeholder": "​",
            "style": "IPY_MODEL_43e16bcb940e461ca93242864b44fd77",
            "value": "tokenizer_config.json: 100%"
          }
        },
        "92e88f159c2141f2bf28c3844637c0b7": {
          "model_module": "@jupyter-widgets/controls",
          "model_name": "FloatProgressModel",
          "model_module_version": "1.5.0",
          "state": {
            "_dom_classes": [],
            "_model_module": "@jupyter-widgets/controls",
            "_model_module_version": "1.5.0",
            "_model_name": "FloatProgressModel",
            "_view_count": null,
            "_view_module": "@jupyter-widgets/controls",
            "_view_module_version": "1.5.0",
            "_view_name": "ProgressView",
            "bar_style": "success",
            "description": "",
            "description_tooltip": null,
            "layout": "IPY_MODEL_f5a045d042524cc8bf82faeac4101748",
            "max": 26,
            "min": 0,
            "orientation": "horizontal",
            "style": "IPY_MODEL_c8cd62d338c54213be0a5d5a33a04cf1",
            "value": 26
          }
        },
        "896f1f945819449c9edd0d784b5405d9": {
          "model_module": "@jupyter-widgets/controls",
          "model_name": "HTMLModel",
          "model_module_version": "1.5.0",
          "state": {
            "_dom_classes": [],
            "_model_module": "@jupyter-widgets/controls",
            "_model_module_version": "1.5.0",
            "_model_name": "HTMLModel",
            "_view_count": null,
            "_view_module": "@jupyter-widgets/controls",
            "_view_module_version": "1.5.0",
            "_view_name": "HTMLView",
            "description": "",
            "description_tooltip": null,
            "layout": "IPY_MODEL_ec53c0ba67a64b26ae280095892c070c",
            "placeholder": "​",
            "style": "IPY_MODEL_8489f4223e474038aec8db7e04b29bdf",
            "value": " 26.0/26.0 [00:00&lt;00:00, 3.26kB/s]"
          }
        },
        "84600c7a81504d9088f69afabde2980f": {
          "model_module": "@jupyter-widgets/base",
          "model_name": "LayoutModel",
          "model_module_version": "1.2.0",
          "state": {
            "_model_module": "@jupyter-widgets/base",
            "_model_module_version": "1.2.0",
            "_model_name": "LayoutModel",
            "_view_count": null,
            "_view_module": "@jupyter-widgets/base",
            "_view_module_version": "1.2.0",
            "_view_name": "LayoutView",
            "align_content": null,
            "align_items": null,
            "align_self": null,
            "border": null,
            "bottom": null,
            "display": null,
            "flex": null,
            "flex_flow": null,
            "grid_area": null,
            "grid_auto_columns": null,
            "grid_auto_flow": null,
            "grid_auto_rows": null,
            "grid_column": null,
            "grid_gap": null,
            "grid_row": null,
            "grid_template_areas": null,
            "grid_template_columns": null,
            "grid_template_rows": null,
            "height": null,
            "justify_content": null,
            "justify_items": null,
            "left": null,
            "margin": null,
            "max_height": null,
            "max_width": null,
            "min_height": null,
            "min_width": null,
            "object_fit": null,
            "object_position": null,
            "order": null,
            "overflow": null,
            "overflow_x": null,
            "overflow_y": null,
            "padding": null,
            "right": null,
            "top": null,
            "visibility": null,
            "width": null
          }
        },
        "99435e04916d4f4bb6fc00a1a45946e9": {
          "model_module": "@jupyter-widgets/base",
          "model_name": "LayoutModel",
          "model_module_version": "1.2.0",
          "state": {
            "_model_module": "@jupyter-widgets/base",
            "_model_module_version": "1.2.0",
            "_model_name": "LayoutModel",
            "_view_count": null,
            "_view_module": "@jupyter-widgets/base",
            "_view_module_version": "1.2.0",
            "_view_name": "LayoutView",
            "align_content": null,
            "align_items": null,
            "align_self": null,
            "border": null,
            "bottom": null,
            "display": null,
            "flex": null,
            "flex_flow": null,
            "grid_area": null,
            "grid_auto_columns": null,
            "grid_auto_flow": null,
            "grid_auto_rows": null,
            "grid_column": null,
            "grid_gap": null,
            "grid_row": null,
            "grid_template_areas": null,
            "grid_template_columns": null,
            "grid_template_rows": null,
            "height": null,
            "justify_content": null,
            "justify_items": null,
            "left": null,
            "margin": null,
            "max_height": null,
            "max_width": null,
            "min_height": null,
            "min_width": null,
            "object_fit": null,
            "object_position": null,
            "order": null,
            "overflow": null,
            "overflow_x": null,
            "overflow_y": null,
            "padding": null,
            "right": null,
            "top": null,
            "visibility": null,
            "width": null
          }
        },
        "43e16bcb940e461ca93242864b44fd77": {
          "model_module": "@jupyter-widgets/controls",
          "model_name": "DescriptionStyleModel",
          "model_module_version": "1.5.0",
          "state": {
            "_model_module": "@jupyter-widgets/controls",
            "_model_module_version": "1.5.0",
            "_model_name": "DescriptionStyleModel",
            "_view_count": null,
            "_view_module": "@jupyter-widgets/base",
            "_view_module_version": "1.2.0",
            "_view_name": "StyleView",
            "description_width": ""
          }
        },
        "f5a045d042524cc8bf82faeac4101748": {
          "model_module": "@jupyter-widgets/base",
          "model_name": "LayoutModel",
          "model_module_version": "1.2.0",
          "state": {
            "_model_module": "@jupyter-widgets/base",
            "_model_module_version": "1.2.0",
            "_model_name": "LayoutModel",
            "_view_count": null,
            "_view_module": "@jupyter-widgets/base",
            "_view_module_version": "1.2.0",
            "_view_name": "LayoutView",
            "align_content": null,
            "align_items": null,
            "align_self": null,
            "border": null,
            "bottom": null,
            "display": null,
            "flex": null,
            "flex_flow": null,
            "grid_area": null,
            "grid_auto_columns": null,
            "grid_auto_flow": null,
            "grid_auto_rows": null,
            "grid_column": null,
            "grid_gap": null,
            "grid_row": null,
            "grid_template_areas": null,
            "grid_template_columns": null,
            "grid_template_rows": null,
            "height": null,
            "justify_content": null,
            "justify_items": null,
            "left": null,
            "margin": null,
            "max_height": null,
            "max_width": null,
            "min_height": null,
            "min_width": null,
            "object_fit": null,
            "object_position": null,
            "order": null,
            "overflow": null,
            "overflow_x": null,
            "overflow_y": null,
            "padding": null,
            "right": null,
            "top": null,
            "visibility": null,
            "width": null
          }
        },
        "c8cd62d338c54213be0a5d5a33a04cf1": {
          "model_module": "@jupyter-widgets/controls",
          "model_name": "ProgressStyleModel",
          "model_module_version": "1.5.0",
          "state": {
            "_model_module": "@jupyter-widgets/controls",
            "_model_module_version": "1.5.0",
            "_model_name": "ProgressStyleModel",
            "_view_count": null,
            "_view_module": "@jupyter-widgets/base",
            "_view_module_version": "1.2.0",
            "_view_name": "StyleView",
            "bar_color": null,
            "description_width": ""
          }
        },
        "ec53c0ba67a64b26ae280095892c070c": {
          "model_module": "@jupyter-widgets/base",
          "model_name": "LayoutModel",
          "model_module_version": "1.2.0",
          "state": {
            "_model_module": "@jupyter-widgets/base",
            "_model_module_version": "1.2.0",
            "_model_name": "LayoutModel",
            "_view_count": null,
            "_view_module": "@jupyter-widgets/base",
            "_view_module_version": "1.2.0",
            "_view_name": "LayoutView",
            "align_content": null,
            "align_items": null,
            "align_self": null,
            "border": null,
            "bottom": null,
            "display": null,
            "flex": null,
            "flex_flow": null,
            "grid_area": null,
            "grid_auto_columns": null,
            "grid_auto_flow": null,
            "grid_auto_rows": null,
            "grid_column": null,
            "grid_gap": null,
            "grid_row": null,
            "grid_template_areas": null,
            "grid_template_columns": null,
            "grid_template_rows": null,
            "height": null,
            "justify_content": null,
            "justify_items": null,
            "left": null,
            "margin": null,
            "max_height": null,
            "max_width": null,
            "min_height": null,
            "min_width": null,
            "object_fit": null,
            "object_position": null,
            "order": null,
            "overflow": null,
            "overflow_x": null,
            "overflow_y": null,
            "padding": null,
            "right": null,
            "top": null,
            "visibility": null,
            "width": null
          }
        },
        "8489f4223e474038aec8db7e04b29bdf": {
          "model_module": "@jupyter-widgets/controls",
          "model_name": "DescriptionStyleModel",
          "model_module_version": "1.5.0",
          "state": {
            "_model_module": "@jupyter-widgets/controls",
            "_model_module_version": "1.5.0",
            "_model_name": "DescriptionStyleModel",
            "_view_count": null,
            "_view_module": "@jupyter-widgets/base",
            "_view_module_version": "1.2.0",
            "_view_name": "StyleView",
            "description_width": ""
          }
        },
        "09c96be4ced24830aafc49e13689782f": {
          "model_module": "@jupyter-widgets/controls",
          "model_name": "HBoxModel",
          "model_module_version": "1.5.0",
          "state": {
            "_dom_classes": [],
            "_model_module": "@jupyter-widgets/controls",
            "_model_module_version": "1.5.0",
            "_model_name": "HBoxModel",
            "_view_count": null,
            "_view_module": "@jupyter-widgets/controls",
            "_view_module_version": "1.5.0",
            "_view_name": "HBoxView",
            "box_style": "",
            "children": [
              "IPY_MODEL_3c59ce71750341099c009f6d7c6631f3",
              "IPY_MODEL_88c4db232db3417e96c6a08ee933dd37",
              "IPY_MODEL_a15314e4baea413687cfbfdd8258ecdd"
            ],
            "layout": "IPY_MODEL_510913311cf14fc9998b3d70f3294cd8"
          }
        },
        "3c59ce71750341099c009f6d7c6631f3": {
          "model_module": "@jupyter-widgets/controls",
          "model_name": "HTMLModel",
          "model_module_version": "1.5.0",
          "state": {
            "_dom_classes": [],
            "_model_module": "@jupyter-widgets/controls",
            "_model_module_version": "1.5.0",
            "_model_name": "HTMLModel",
            "_view_count": null,
            "_view_module": "@jupyter-widgets/controls",
            "_view_module_version": "1.5.0",
            "_view_name": "HTMLView",
            "description": "",
            "description_tooltip": null,
            "layout": "IPY_MODEL_903404d353094aafad20e9c1af46ef1f",
            "placeholder": "​",
            "style": "IPY_MODEL_7a2472547fbd40c2be927fc39983d125",
            "value": "vocab.json: 100%"
          }
        },
        "88c4db232db3417e96c6a08ee933dd37": {
          "model_module": "@jupyter-widgets/controls",
          "model_name": "FloatProgressModel",
          "model_module_version": "1.5.0",
          "state": {
            "_dom_classes": [],
            "_model_module": "@jupyter-widgets/controls",
            "_model_module_version": "1.5.0",
            "_model_name": "FloatProgressModel",
            "_view_count": null,
            "_view_module": "@jupyter-widgets/controls",
            "_view_module_version": "1.5.0",
            "_view_name": "ProgressView",
            "bar_style": "success",
            "description": "",
            "description_tooltip": null,
            "layout": "IPY_MODEL_ffcd79800f7d45748815fd2ba469f4d3",
            "max": 1042301,
            "min": 0,
            "orientation": "horizontal",
            "style": "IPY_MODEL_0322194c468b414f86e4fd7321d361c1",
            "value": 1042301
          }
        },
        "a15314e4baea413687cfbfdd8258ecdd": {
          "model_module": "@jupyter-widgets/controls",
          "model_name": "HTMLModel",
          "model_module_version": "1.5.0",
          "state": {
            "_dom_classes": [],
            "_model_module": "@jupyter-widgets/controls",
            "_model_module_version": "1.5.0",
            "_model_name": "HTMLModel",
            "_view_count": null,
            "_view_module": "@jupyter-widgets/controls",
            "_view_module_version": "1.5.0",
            "_view_name": "HTMLView",
            "description": "",
            "description_tooltip": null,
            "layout": "IPY_MODEL_23170d1ff1114e6c989df1d4daa692f5",
            "placeholder": "​",
            "style": "IPY_MODEL_c66ca106414746659031871119bef6c6",
            "value": " 1.04M/1.04M [00:00&lt;00:00, 12.5MB/s]"
          }
        },
        "510913311cf14fc9998b3d70f3294cd8": {
          "model_module": "@jupyter-widgets/base",
          "model_name": "LayoutModel",
          "model_module_version": "1.2.0",
          "state": {
            "_model_module": "@jupyter-widgets/base",
            "_model_module_version": "1.2.0",
            "_model_name": "LayoutModel",
            "_view_count": null,
            "_view_module": "@jupyter-widgets/base",
            "_view_module_version": "1.2.0",
            "_view_name": "LayoutView",
            "align_content": null,
            "align_items": null,
            "align_self": null,
            "border": null,
            "bottom": null,
            "display": null,
            "flex": null,
            "flex_flow": null,
            "grid_area": null,
            "grid_auto_columns": null,
            "grid_auto_flow": null,
            "grid_auto_rows": null,
            "grid_column": null,
            "grid_gap": null,
            "grid_row": null,
            "grid_template_areas": null,
            "grid_template_columns": null,
            "grid_template_rows": null,
            "height": null,
            "justify_content": null,
            "justify_items": null,
            "left": null,
            "margin": null,
            "max_height": null,
            "max_width": null,
            "min_height": null,
            "min_width": null,
            "object_fit": null,
            "object_position": null,
            "order": null,
            "overflow": null,
            "overflow_x": null,
            "overflow_y": null,
            "padding": null,
            "right": null,
            "top": null,
            "visibility": null,
            "width": null
          }
        },
        "903404d353094aafad20e9c1af46ef1f": {
          "model_module": "@jupyter-widgets/base",
          "model_name": "LayoutModel",
          "model_module_version": "1.2.0",
          "state": {
            "_model_module": "@jupyter-widgets/base",
            "_model_module_version": "1.2.0",
            "_model_name": "LayoutModel",
            "_view_count": null,
            "_view_module": "@jupyter-widgets/base",
            "_view_module_version": "1.2.0",
            "_view_name": "LayoutView",
            "align_content": null,
            "align_items": null,
            "align_self": null,
            "border": null,
            "bottom": null,
            "display": null,
            "flex": null,
            "flex_flow": null,
            "grid_area": null,
            "grid_auto_columns": null,
            "grid_auto_flow": null,
            "grid_auto_rows": null,
            "grid_column": null,
            "grid_gap": null,
            "grid_row": null,
            "grid_template_areas": null,
            "grid_template_columns": null,
            "grid_template_rows": null,
            "height": null,
            "justify_content": null,
            "justify_items": null,
            "left": null,
            "margin": null,
            "max_height": null,
            "max_width": null,
            "min_height": null,
            "min_width": null,
            "object_fit": null,
            "object_position": null,
            "order": null,
            "overflow": null,
            "overflow_x": null,
            "overflow_y": null,
            "padding": null,
            "right": null,
            "top": null,
            "visibility": null,
            "width": null
          }
        },
        "7a2472547fbd40c2be927fc39983d125": {
          "model_module": "@jupyter-widgets/controls",
          "model_name": "DescriptionStyleModel",
          "model_module_version": "1.5.0",
          "state": {
            "_model_module": "@jupyter-widgets/controls",
            "_model_module_version": "1.5.0",
            "_model_name": "DescriptionStyleModel",
            "_view_count": null,
            "_view_module": "@jupyter-widgets/base",
            "_view_module_version": "1.2.0",
            "_view_name": "StyleView",
            "description_width": ""
          }
        },
        "ffcd79800f7d45748815fd2ba469f4d3": {
          "model_module": "@jupyter-widgets/base",
          "model_name": "LayoutModel",
          "model_module_version": "1.2.0",
          "state": {
            "_model_module": "@jupyter-widgets/base",
            "_model_module_version": "1.2.0",
            "_model_name": "LayoutModel",
            "_view_count": null,
            "_view_module": "@jupyter-widgets/base",
            "_view_module_version": "1.2.0",
            "_view_name": "LayoutView",
            "align_content": null,
            "align_items": null,
            "align_self": null,
            "border": null,
            "bottom": null,
            "display": null,
            "flex": null,
            "flex_flow": null,
            "grid_area": null,
            "grid_auto_columns": null,
            "grid_auto_flow": null,
            "grid_auto_rows": null,
            "grid_column": null,
            "grid_gap": null,
            "grid_row": null,
            "grid_template_areas": null,
            "grid_template_columns": null,
            "grid_template_rows": null,
            "height": null,
            "justify_content": null,
            "justify_items": null,
            "left": null,
            "margin": null,
            "max_height": null,
            "max_width": null,
            "min_height": null,
            "min_width": null,
            "object_fit": null,
            "object_position": null,
            "order": null,
            "overflow": null,
            "overflow_x": null,
            "overflow_y": null,
            "padding": null,
            "right": null,
            "top": null,
            "visibility": null,
            "width": null
          }
        },
        "0322194c468b414f86e4fd7321d361c1": {
          "model_module": "@jupyter-widgets/controls",
          "model_name": "ProgressStyleModel",
          "model_module_version": "1.5.0",
          "state": {
            "_model_module": "@jupyter-widgets/controls",
            "_model_module_version": "1.5.0",
            "_model_name": "ProgressStyleModel",
            "_view_count": null,
            "_view_module": "@jupyter-widgets/base",
            "_view_module_version": "1.2.0",
            "_view_name": "StyleView",
            "bar_color": null,
            "description_width": ""
          }
        },
        "23170d1ff1114e6c989df1d4daa692f5": {
          "model_module": "@jupyter-widgets/base",
          "model_name": "LayoutModel",
          "model_module_version": "1.2.0",
          "state": {
            "_model_module": "@jupyter-widgets/base",
            "_model_module_version": "1.2.0",
            "_model_name": "LayoutModel",
            "_view_count": null,
            "_view_module": "@jupyter-widgets/base",
            "_view_module_version": "1.2.0",
            "_view_name": "LayoutView",
            "align_content": null,
            "align_items": null,
            "align_self": null,
            "border": null,
            "bottom": null,
            "display": null,
            "flex": null,
            "flex_flow": null,
            "grid_area": null,
            "grid_auto_columns": null,
            "grid_auto_flow": null,
            "grid_auto_rows": null,
            "grid_column": null,
            "grid_gap": null,
            "grid_row": null,
            "grid_template_areas": null,
            "grid_template_columns": null,
            "grid_template_rows": null,
            "height": null,
            "justify_content": null,
            "justify_items": null,
            "left": null,
            "margin": null,
            "max_height": null,
            "max_width": null,
            "min_height": null,
            "min_width": null,
            "object_fit": null,
            "object_position": null,
            "order": null,
            "overflow": null,
            "overflow_x": null,
            "overflow_y": null,
            "padding": null,
            "right": null,
            "top": null,
            "visibility": null,
            "width": null
          }
        },
        "c66ca106414746659031871119bef6c6": {
          "model_module": "@jupyter-widgets/controls",
          "model_name": "DescriptionStyleModel",
          "model_module_version": "1.5.0",
          "state": {
            "_model_module": "@jupyter-widgets/controls",
            "_model_module_version": "1.5.0",
            "_model_name": "DescriptionStyleModel",
            "_view_count": null,
            "_view_module": "@jupyter-widgets/base",
            "_view_module_version": "1.2.0",
            "_view_name": "StyleView",
            "description_width": ""
          }
        },
        "6dca3a490f34426abff40e74d7b19fa3": {
          "model_module": "@jupyter-widgets/controls",
          "model_name": "HBoxModel",
          "model_module_version": "1.5.0",
          "state": {
            "_dom_classes": [],
            "_model_module": "@jupyter-widgets/controls",
            "_model_module_version": "1.5.0",
            "_model_name": "HBoxModel",
            "_view_count": null,
            "_view_module": "@jupyter-widgets/controls",
            "_view_module_version": "1.5.0",
            "_view_name": "HBoxView",
            "box_style": "",
            "children": [
              "IPY_MODEL_ad1405c46e20420dbac4ab805cdadbd9",
              "IPY_MODEL_ee62d490d9b44a2b9da674153183ac6e",
              "IPY_MODEL_9b996f96072a45a299be5b2274153384"
            ],
            "layout": "IPY_MODEL_ba26e0a341f84b16a7af6ea25f1c27cc"
          }
        },
        "ad1405c46e20420dbac4ab805cdadbd9": {
          "model_module": "@jupyter-widgets/controls",
          "model_name": "HTMLModel",
          "model_module_version": "1.5.0",
          "state": {
            "_dom_classes": [],
            "_model_module": "@jupyter-widgets/controls",
            "_model_module_version": "1.5.0",
            "_model_name": "HTMLModel",
            "_view_count": null,
            "_view_module": "@jupyter-widgets/controls",
            "_view_module_version": "1.5.0",
            "_view_name": "HTMLView",
            "description": "",
            "description_tooltip": null,
            "layout": "IPY_MODEL_5f5082249360460c8003c00330108995",
            "placeholder": "​",
            "style": "IPY_MODEL_1113778e4eee499299b4900faeb5bf7d",
            "value": "merges.txt: 100%"
          }
        },
        "ee62d490d9b44a2b9da674153183ac6e": {
          "model_module": "@jupyter-widgets/controls",
          "model_name": "FloatProgressModel",
          "model_module_version": "1.5.0",
          "state": {
            "_dom_classes": [],
            "_model_module": "@jupyter-widgets/controls",
            "_model_module_version": "1.5.0",
            "_model_name": "FloatProgressModel",
            "_view_count": null,
            "_view_module": "@jupyter-widgets/controls",
            "_view_module_version": "1.5.0",
            "_view_name": "ProgressView",
            "bar_style": "success",
            "description": "",
            "description_tooltip": null,
            "layout": "IPY_MODEL_39d2a95f316043ac8358011a7beb755d",
            "max": 456318,
            "min": 0,
            "orientation": "horizontal",
            "style": "IPY_MODEL_6f53d7910b4e4250954686112024df40",
            "value": 456318
          }
        },
        "9b996f96072a45a299be5b2274153384": {
          "model_module": "@jupyter-widgets/controls",
          "model_name": "HTMLModel",
          "model_module_version": "1.5.0",
          "state": {
            "_dom_classes": [],
            "_model_module": "@jupyter-widgets/controls",
            "_model_module_version": "1.5.0",
            "_model_name": "HTMLModel",
            "_view_count": null,
            "_view_module": "@jupyter-widgets/controls",
            "_view_module_version": "1.5.0",
            "_view_name": "HTMLView",
            "description": "",
            "description_tooltip": null,
            "layout": "IPY_MODEL_89a0796b8fb24d14ac0560084d5f0735",
            "placeholder": "​",
            "style": "IPY_MODEL_3ecc0bfc45054729ad903fdc1f786c59",
            "value": " 456k/456k [00:00&lt;00:00, 19.5MB/s]"
          }
        },
        "ba26e0a341f84b16a7af6ea25f1c27cc": {
          "model_module": "@jupyter-widgets/base",
          "model_name": "LayoutModel",
          "model_module_version": "1.2.0",
          "state": {
            "_model_module": "@jupyter-widgets/base",
            "_model_module_version": "1.2.0",
            "_model_name": "LayoutModel",
            "_view_count": null,
            "_view_module": "@jupyter-widgets/base",
            "_view_module_version": "1.2.0",
            "_view_name": "LayoutView",
            "align_content": null,
            "align_items": null,
            "align_self": null,
            "border": null,
            "bottom": null,
            "display": null,
            "flex": null,
            "flex_flow": null,
            "grid_area": null,
            "grid_auto_columns": null,
            "grid_auto_flow": null,
            "grid_auto_rows": null,
            "grid_column": null,
            "grid_gap": null,
            "grid_row": null,
            "grid_template_areas": null,
            "grid_template_columns": null,
            "grid_template_rows": null,
            "height": null,
            "justify_content": null,
            "justify_items": null,
            "left": null,
            "margin": null,
            "max_height": null,
            "max_width": null,
            "min_height": null,
            "min_width": null,
            "object_fit": null,
            "object_position": null,
            "order": null,
            "overflow": null,
            "overflow_x": null,
            "overflow_y": null,
            "padding": null,
            "right": null,
            "top": null,
            "visibility": null,
            "width": null
          }
        },
        "5f5082249360460c8003c00330108995": {
          "model_module": "@jupyter-widgets/base",
          "model_name": "LayoutModel",
          "model_module_version": "1.2.0",
          "state": {
            "_model_module": "@jupyter-widgets/base",
            "_model_module_version": "1.2.0",
            "_model_name": "LayoutModel",
            "_view_count": null,
            "_view_module": "@jupyter-widgets/base",
            "_view_module_version": "1.2.0",
            "_view_name": "LayoutView",
            "align_content": null,
            "align_items": null,
            "align_self": null,
            "border": null,
            "bottom": null,
            "display": null,
            "flex": null,
            "flex_flow": null,
            "grid_area": null,
            "grid_auto_columns": null,
            "grid_auto_flow": null,
            "grid_auto_rows": null,
            "grid_column": null,
            "grid_gap": null,
            "grid_row": null,
            "grid_template_areas": null,
            "grid_template_columns": null,
            "grid_template_rows": null,
            "height": null,
            "justify_content": null,
            "justify_items": null,
            "left": null,
            "margin": null,
            "max_height": null,
            "max_width": null,
            "min_height": null,
            "min_width": null,
            "object_fit": null,
            "object_position": null,
            "order": null,
            "overflow": null,
            "overflow_x": null,
            "overflow_y": null,
            "padding": null,
            "right": null,
            "top": null,
            "visibility": null,
            "width": null
          }
        },
        "1113778e4eee499299b4900faeb5bf7d": {
          "model_module": "@jupyter-widgets/controls",
          "model_name": "DescriptionStyleModel",
          "model_module_version": "1.5.0",
          "state": {
            "_model_module": "@jupyter-widgets/controls",
            "_model_module_version": "1.5.0",
            "_model_name": "DescriptionStyleModel",
            "_view_count": null,
            "_view_module": "@jupyter-widgets/base",
            "_view_module_version": "1.2.0",
            "_view_name": "StyleView",
            "description_width": ""
          }
        },
        "39d2a95f316043ac8358011a7beb755d": {
          "model_module": "@jupyter-widgets/base",
          "model_name": "LayoutModel",
          "model_module_version": "1.2.0",
          "state": {
            "_model_module": "@jupyter-widgets/base",
            "_model_module_version": "1.2.0",
            "_model_name": "LayoutModel",
            "_view_count": null,
            "_view_module": "@jupyter-widgets/base",
            "_view_module_version": "1.2.0",
            "_view_name": "LayoutView",
            "align_content": null,
            "align_items": null,
            "align_self": null,
            "border": null,
            "bottom": null,
            "display": null,
            "flex": null,
            "flex_flow": null,
            "grid_area": null,
            "grid_auto_columns": null,
            "grid_auto_flow": null,
            "grid_auto_rows": null,
            "grid_column": null,
            "grid_gap": null,
            "grid_row": null,
            "grid_template_areas": null,
            "grid_template_columns": null,
            "grid_template_rows": null,
            "height": null,
            "justify_content": null,
            "justify_items": null,
            "left": null,
            "margin": null,
            "max_height": null,
            "max_width": null,
            "min_height": null,
            "min_width": null,
            "object_fit": null,
            "object_position": null,
            "order": null,
            "overflow": null,
            "overflow_x": null,
            "overflow_y": null,
            "padding": null,
            "right": null,
            "top": null,
            "visibility": null,
            "width": null
          }
        },
        "6f53d7910b4e4250954686112024df40": {
          "model_module": "@jupyter-widgets/controls",
          "model_name": "ProgressStyleModel",
          "model_module_version": "1.5.0",
          "state": {
            "_model_module": "@jupyter-widgets/controls",
            "_model_module_version": "1.5.0",
            "_model_name": "ProgressStyleModel",
            "_view_count": null,
            "_view_module": "@jupyter-widgets/base",
            "_view_module_version": "1.2.0",
            "_view_name": "StyleView",
            "bar_color": null,
            "description_width": ""
          }
        },
        "89a0796b8fb24d14ac0560084d5f0735": {
          "model_module": "@jupyter-widgets/base",
          "model_name": "LayoutModel",
          "model_module_version": "1.2.0",
          "state": {
            "_model_module": "@jupyter-widgets/base",
            "_model_module_version": "1.2.0",
            "_model_name": "LayoutModel",
            "_view_count": null,
            "_view_module": "@jupyter-widgets/base",
            "_view_module_version": "1.2.0",
            "_view_name": "LayoutView",
            "align_content": null,
            "align_items": null,
            "align_self": null,
            "border": null,
            "bottom": null,
            "display": null,
            "flex": null,
            "flex_flow": null,
            "grid_area": null,
            "grid_auto_columns": null,
            "grid_auto_flow": null,
            "grid_auto_rows": null,
            "grid_column": null,
            "grid_gap": null,
            "grid_row": null,
            "grid_template_areas": null,
            "grid_template_columns": null,
            "grid_template_rows": null,
            "height": null,
            "justify_content": null,
            "justify_items": null,
            "left": null,
            "margin": null,
            "max_height": null,
            "max_width": null,
            "min_height": null,
            "min_width": null,
            "object_fit": null,
            "object_position": null,
            "order": null,
            "overflow": null,
            "overflow_x": null,
            "overflow_y": null,
            "padding": null,
            "right": null,
            "top": null,
            "visibility": null,
            "width": null
          }
        },
        "3ecc0bfc45054729ad903fdc1f786c59": {
          "model_module": "@jupyter-widgets/controls",
          "model_name": "DescriptionStyleModel",
          "model_module_version": "1.5.0",
          "state": {
            "_model_module": "@jupyter-widgets/controls",
            "_model_module_version": "1.5.0",
            "_model_name": "DescriptionStyleModel",
            "_view_count": null,
            "_view_module": "@jupyter-widgets/base",
            "_view_module_version": "1.2.0",
            "_view_name": "StyleView",
            "description_width": ""
          }
        },
        "1911800db2ff4e2888bcd75d5a383a42": {
          "model_module": "@jupyter-widgets/controls",
          "model_name": "HBoxModel",
          "model_module_version": "1.5.0",
          "state": {
            "_dom_classes": [],
            "_model_module": "@jupyter-widgets/controls",
            "_model_module_version": "1.5.0",
            "_model_name": "HBoxModel",
            "_view_count": null,
            "_view_module": "@jupyter-widgets/controls",
            "_view_module_version": "1.5.0",
            "_view_name": "HBoxView",
            "box_style": "",
            "children": [
              "IPY_MODEL_55220793d39f4f75ab15e02e56ab8eb5",
              "IPY_MODEL_9f3bd88cd1cd4aaea18b79cf63687769",
              "IPY_MODEL_030bc4377a9847ac84b90144a0092051"
            ],
            "layout": "IPY_MODEL_80f13e8653b7414eab051b44bbdc4cc4"
          }
        },
        "55220793d39f4f75ab15e02e56ab8eb5": {
          "model_module": "@jupyter-widgets/controls",
          "model_name": "HTMLModel",
          "model_module_version": "1.5.0",
          "state": {
            "_dom_classes": [],
            "_model_module": "@jupyter-widgets/controls",
            "_model_module_version": "1.5.0",
            "_model_name": "HTMLModel",
            "_view_count": null,
            "_view_module": "@jupyter-widgets/controls",
            "_view_module_version": "1.5.0",
            "_view_name": "HTMLView",
            "description": "",
            "description_tooltip": null,
            "layout": "IPY_MODEL_18ac6e85e05c407897fbb0e3ed8bf0cf",
            "placeholder": "​",
            "style": "IPY_MODEL_95cf48f570964e769acf50f4cbe2b6d3",
            "value": "tokenizer.json: 100%"
          }
        },
        "9f3bd88cd1cd4aaea18b79cf63687769": {
          "model_module": "@jupyter-widgets/controls",
          "model_name": "FloatProgressModel",
          "model_module_version": "1.5.0",
          "state": {
            "_dom_classes": [],
            "_model_module": "@jupyter-widgets/controls",
            "_model_module_version": "1.5.0",
            "_model_name": "FloatProgressModel",
            "_view_count": null,
            "_view_module": "@jupyter-widgets/controls",
            "_view_module_version": "1.5.0",
            "_view_name": "ProgressView",
            "bar_style": "success",
            "description": "",
            "description_tooltip": null,
            "layout": "IPY_MODEL_21a2db6bb3134e25b3b49ac1aaca63af",
            "max": 1355256,
            "min": 0,
            "orientation": "horizontal",
            "style": "IPY_MODEL_f73f381d91b848e2af059f671b3a8854",
            "value": 1355256
          }
        },
        "030bc4377a9847ac84b90144a0092051": {
          "model_module": "@jupyter-widgets/controls",
          "model_name": "HTMLModel",
          "model_module_version": "1.5.0",
          "state": {
            "_dom_classes": [],
            "_model_module": "@jupyter-widgets/controls",
            "_model_module_version": "1.5.0",
            "_model_name": "HTMLModel",
            "_view_count": null,
            "_view_module": "@jupyter-widgets/controls",
            "_view_module_version": "1.5.0",
            "_view_name": "HTMLView",
            "description": "",
            "description_tooltip": null,
            "layout": "IPY_MODEL_c78b512b30aa49d2b41f7db9f240ea3d",
            "placeholder": "​",
            "style": "IPY_MODEL_0df4f9b2f9b14ac9880438c1935f4807",
            "value": " 1.36M/1.36M [00:00&lt;00:00, 21.0MB/s]"
          }
        },
        "80f13e8653b7414eab051b44bbdc4cc4": {
          "model_module": "@jupyter-widgets/base",
          "model_name": "LayoutModel",
          "model_module_version": "1.2.0",
          "state": {
            "_model_module": "@jupyter-widgets/base",
            "_model_module_version": "1.2.0",
            "_model_name": "LayoutModel",
            "_view_count": null,
            "_view_module": "@jupyter-widgets/base",
            "_view_module_version": "1.2.0",
            "_view_name": "LayoutView",
            "align_content": null,
            "align_items": null,
            "align_self": null,
            "border": null,
            "bottom": null,
            "display": null,
            "flex": null,
            "flex_flow": null,
            "grid_area": null,
            "grid_auto_columns": null,
            "grid_auto_flow": null,
            "grid_auto_rows": null,
            "grid_column": null,
            "grid_gap": null,
            "grid_row": null,
            "grid_template_areas": null,
            "grid_template_columns": null,
            "grid_template_rows": null,
            "height": null,
            "justify_content": null,
            "justify_items": null,
            "left": null,
            "margin": null,
            "max_height": null,
            "max_width": null,
            "min_height": null,
            "min_width": null,
            "object_fit": null,
            "object_position": null,
            "order": null,
            "overflow": null,
            "overflow_x": null,
            "overflow_y": null,
            "padding": null,
            "right": null,
            "top": null,
            "visibility": null,
            "width": null
          }
        },
        "18ac6e85e05c407897fbb0e3ed8bf0cf": {
          "model_module": "@jupyter-widgets/base",
          "model_name": "LayoutModel",
          "model_module_version": "1.2.0",
          "state": {
            "_model_module": "@jupyter-widgets/base",
            "_model_module_version": "1.2.0",
            "_model_name": "LayoutModel",
            "_view_count": null,
            "_view_module": "@jupyter-widgets/base",
            "_view_module_version": "1.2.0",
            "_view_name": "LayoutView",
            "align_content": null,
            "align_items": null,
            "align_self": null,
            "border": null,
            "bottom": null,
            "display": null,
            "flex": null,
            "flex_flow": null,
            "grid_area": null,
            "grid_auto_columns": null,
            "grid_auto_flow": null,
            "grid_auto_rows": null,
            "grid_column": null,
            "grid_gap": null,
            "grid_row": null,
            "grid_template_areas": null,
            "grid_template_columns": null,
            "grid_template_rows": null,
            "height": null,
            "justify_content": null,
            "justify_items": null,
            "left": null,
            "margin": null,
            "max_height": null,
            "max_width": null,
            "min_height": null,
            "min_width": null,
            "object_fit": null,
            "object_position": null,
            "order": null,
            "overflow": null,
            "overflow_x": null,
            "overflow_y": null,
            "padding": null,
            "right": null,
            "top": null,
            "visibility": null,
            "width": null
          }
        },
        "95cf48f570964e769acf50f4cbe2b6d3": {
          "model_module": "@jupyter-widgets/controls",
          "model_name": "DescriptionStyleModel",
          "model_module_version": "1.5.0",
          "state": {
            "_model_module": "@jupyter-widgets/controls",
            "_model_module_version": "1.5.0",
            "_model_name": "DescriptionStyleModel",
            "_view_count": null,
            "_view_module": "@jupyter-widgets/base",
            "_view_module_version": "1.2.0",
            "_view_name": "StyleView",
            "description_width": ""
          }
        },
        "21a2db6bb3134e25b3b49ac1aaca63af": {
          "model_module": "@jupyter-widgets/base",
          "model_name": "LayoutModel",
          "model_module_version": "1.2.0",
          "state": {
            "_model_module": "@jupyter-widgets/base",
            "_model_module_version": "1.2.0",
            "_model_name": "LayoutModel",
            "_view_count": null,
            "_view_module": "@jupyter-widgets/base",
            "_view_module_version": "1.2.0",
            "_view_name": "LayoutView",
            "align_content": null,
            "align_items": null,
            "align_self": null,
            "border": null,
            "bottom": null,
            "display": null,
            "flex": null,
            "flex_flow": null,
            "grid_area": null,
            "grid_auto_columns": null,
            "grid_auto_flow": null,
            "grid_auto_rows": null,
            "grid_column": null,
            "grid_gap": null,
            "grid_row": null,
            "grid_template_areas": null,
            "grid_template_columns": null,
            "grid_template_rows": null,
            "height": null,
            "justify_content": null,
            "justify_items": null,
            "left": null,
            "margin": null,
            "max_height": null,
            "max_width": null,
            "min_height": null,
            "min_width": null,
            "object_fit": null,
            "object_position": null,
            "order": null,
            "overflow": null,
            "overflow_x": null,
            "overflow_y": null,
            "padding": null,
            "right": null,
            "top": null,
            "visibility": null,
            "width": null
          }
        },
        "f73f381d91b848e2af059f671b3a8854": {
          "model_module": "@jupyter-widgets/controls",
          "model_name": "ProgressStyleModel",
          "model_module_version": "1.5.0",
          "state": {
            "_model_module": "@jupyter-widgets/controls",
            "_model_module_version": "1.5.0",
            "_model_name": "ProgressStyleModel",
            "_view_count": null,
            "_view_module": "@jupyter-widgets/base",
            "_view_module_version": "1.2.0",
            "_view_name": "StyleView",
            "bar_color": null,
            "description_width": ""
          }
        },
        "c78b512b30aa49d2b41f7db9f240ea3d": {
          "model_module": "@jupyter-widgets/base",
          "model_name": "LayoutModel",
          "model_module_version": "1.2.0",
          "state": {
            "_model_module": "@jupyter-widgets/base",
            "_model_module_version": "1.2.0",
            "_model_name": "LayoutModel",
            "_view_count": null,
            "_view_module": "@jupyter-widgets/base",
            "_view_module_version": "1.2.0",
            "_view_name": "LayoutView",
            "align_content": null,
            "align_items": null,
            "align_self": null,
            "border": null,
            "bottom": null,
            "display": null,
            "flex": null,
            "flex_flow": null,
            "grid_area": null,
            "grid_auto_columns": null,
            "grid_auto_flow": null,
            "grid_auto_rows": null,
            "grid_column": null,
            "grid_gap": null,
            "grid_row": null,
            "grid_template_areas": null,
            "grid_template_columns": null,
            "grid_template_rows": null,
            "height": null,
            "justify_content": null,
            "justify_items": null,
            "left": null,
            "margin": null,
            "max_height": null,
            "max_width": null,
            "min_height": null,
            "min_width": null,
            "object_fit": null,
            "object_position": null,
            "order": null,
            "overflow": null,
            "overflow_x": null,
            "overflow_y": null,
            "padding": null,
            "right": null,
            "top": null,
            "visibility": null,
            "width": null
          }
        },
        "0df4f9b2f9b14ac9880438c1935f4807": {
          "model_module": "@jupyter-widgets/controls",
          "model_name": "DescriptionStyleModel",
          "model_module_version": "1.5.0",
          "state": {
            "_model_module": "@jupyter-widgets/controls",
            "_model_module_version": "1.5.0",
            "_model_name": "DescriptionStyleModel",
            "_view_count": null,
            "_view_module": "@jupyter-widgets/base",
            "_view_module_version": "1.2.0",
            "_view_name": "StyleView",
            "description_width": ""
          }
        }
      }
    }
  },
  "nbformat": 4,
  "nbformat_minor": 5
}